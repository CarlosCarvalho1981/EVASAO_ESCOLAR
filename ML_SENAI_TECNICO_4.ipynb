{
 "cells": [
  {
   "cell_type": "markdown",
   "metadata": {},
   "source": [
    "# Machine Learning pra Previsão de Evasão Escolar\n",
    "\n",
    "Neste trabalho será feita uma análise exploratória, limpeza de dados e teste de diversos algoritmos de classificação para prever a evasão escolar.  A acurácia mínima de 90% será buscada."
   ]
  },
  {
   "cell_type": "code",
   "execution_count": 1,
   "metadata": {},
   "outputs": [],
   "source": [
    "# Importação dos pacotes\n",
    "import pandas as pd\n",
    "import numpy as np\n",
    "import matplotlib.pyplot as plt\n",
    "import seaborn as sns\n",
    "from sklearn.preprocessing import LabelEncoder\n",
    "from category_encoders import WOEEncoder\n",
    "from sklearn.model_selection import train_test_split\n",
    "from sklearn.metrics import accuracy_score\n",
    "from sklearn.linear_model import LogisticRegression\n",
    "from sklearn.preprocessing import StandardScaler\n",
    "from sklearn.neural_network import MLPClassifier\n",
    "from sklearn.neighbors import KNeighborsClassifier\n",
    "from sklearn.svm import SVC\n",
    "from sklearn.gaussian_process import GaussianProcessClassifier\n",
    "from sklearn.gaussian_process.kernels import RBF\n",
    "from sklearn.tree import DecisionTreeClassifier\n",
    "from sklearn.ensemble import RandomForestClassifier, AdaBoostClassifier\n",
    "from sklearn.naive_bayes import GaussianNB\n",
    "from sklearn.discriminant_analysis import QuadraticDiscriminantAnalysis\n",
    "from scipy.sparse import csr_matrix\n",
    "from scipy import sparse\n",
    "import pickle\n",
    "from imblearn.over_sampling import SMOTE"
   ]
  },
  {
   "cell_type": "markdown",
   "metadata": {},
   "source": [
    "## Limpeza e transformação dos dados.\n",
    "Observar, limpar e transformar os dados.\n",
    "Essa primeira limpeza deve ser feita para que quando o algoritmo receber as novas informações, ele receba apenas as colunas necessárias com os dados corretos."
   ]
  },
  {
   "cell_type": "code",
   "execution_count": 2,
   "metadata": {},
   "outputs": [],
   "source": [
    "# Carrega o arquivo em um dataset.  Apaga a coluna que vem com o dataset.\n",
    "tecnicoJoinville = pd.read_csv(\"TECNICOS_Joinville5.csv\", encoding = 'latin-1', low_memory = False)\n",
    "tecnicoJoinville.drop([\"Unnamed: 0\"], axis = 1, inplace = True)"
   ]
  },
  {
   "cell_type": "code",
   "execution_count": 3,
   "metadata": {},
   "outputs": [
    {
     "data": {
      "text/html": [
       "<div>\n",
       "<style scoped>\n",
       "    .dataframe tbody tr th:only-of-type {\n",
       "        vertical-align: middle;\n",
       "    }\n",
       "\n",
       "    .dataframe tbody tr th {\n",
       "        vertical-align: top;\n",
       "    }\n",
       "\n",
       "    .dataframe thead th {\n",
       "        text-align: right;\n",
       "    }\n",
       "</style>\n",
       "<table border=\"1\" class=\"dataframe\">\n",
       "  <thead>\n",
       "    <tr style=\"text-align: right;\">\n",
       "      <th></th>\n",
       "      <th>produto_educacao</th>\n",
       "      <th>carga_horaria</th>\n",
       "      <th>turno</th>\n",
       "      <th>gratuidade_turma</th>\n",
       "      <th>tipo</th>\n",
       "      <th>online</th>\n",
       "      <th>bairro</th>\n",
       "      <th>cidade</th>\n",
       "      <th>genero</th>\n",
       "      <th>escolaridade</th>\n",
       "      <th>situacao_ocupacional</th>\n",
       "      <th>situacao_matricula</th>\n",
       "      <th>IDADE</th>\n",
       "      <th>empresa</th>\n",
       "    </tr>\n",
       "  </thead>\n",
       "  <tbody>\n",
       "    <tr>\n",
       "      <th>0</th>\n",
       "      <td>AUTOMACAO</td>\n",
       "      <td>1200</td>\n",
       "      <td>Tarde</td>\n",
       "      <td>Mista</td>\n",
       "      <td>PF</td>\n",
       "      <td>Nao</td>\n",
       "      <td>Aventureiro</td>\n",
       "      <td>Joinville</td>\n",
       "      <td>M</td>\n",
       "      <td>Medio_C</td>\n",
       "      <td>Empregado</td>\n",
       "      <td>Concluinte</td>\n",
       "      <td>21</td>\n",
       "      <td>Schulz</td>\n",
       "    </tr>\n",
       "    <tr>\n",
       "      <th>1</th>\n",
       "      <td>FABRICACAO</td>\n",
       "      <td>1600</td>\n",
       "      <td>Noite</td>\n",
       "      <td>Mista</td>\n",
       "      <td>PF</td>\n",
       "      <td>Nao</td>\n",
       "      <td>Jardim_Paraiso</td>\n",
       "      <td>Joinville</td>\n",
       "      <td>M</td>\n",
       "      <td>Medio_C</td>\n",
       "      <td>Empregado</td>\n",
       "      <td>Concluinte</td>\n",
       "      <td>18</td>\n",
       "      <td>N_D</td>\n",
       "    </tr>\n",
       "    <tr>\n",
       "      <th>2</th>\n",
       "      <td>LOGISTICA</td>\n",
       "      <td>1300</td>\n",
       "      <td>Noite</td>\n",
       "      <td>Mista</td>\n",
       "      <td>PF</td>\n",
       "      <td>Nao</td>\n",
       "      <td>ForaJoinville</td>\n",
       "      <td>SaoFrancisco_Sul</td>\n",
       "      <td>M</td>\n",
       "      <td>Medio_C</td>\n",
       "      <td>Empregado</td>\n",
       "      <td>Concluinte</td>\n",
       "      <td>18</td>\n",
       "      <td>SENAI/SC</td>\n",
       "    </tr>\n",
       "    <tr>\n",
       "      <th>3</th>\n",
       "      <td>AUTOMACAO</td>\n",
       "      <td>1600</td>\n",
       "      <td>Tarde</td>\n",
       "      <td>Mista</td>\n",
       "      <td>PF</td>\n",
       "      <td>Nao</td>\n",
       "      <td>Aventureiro</td>\n",
       "      <td>Joinville</td>\n",
       "      <td>M</td>\n",
       "      <td>Medio_C</td>\n",
       "      <td>Desempregado</td>\n",
       "      <td>Concluinte</td>\n",
       "      <td>16</td>\n",
       "      <td>N_D</td>\n",
       "    </tr>\n",
       "    <tr>\n",
       "      <th>4</th>\n",
       "      <td>MECANICA</td>\n",
       "      <td>1620</td>\n",
       "      <td>Tarde</td>\n",
       "      <td>Mista</td>\n",
       "      <td>PF</td>\n",
       "      <td>Nao</td>\n",
       "      <td>Ulysses_Guimaraes</td>\n",
       "      <td>Joinville</td>\n",
       "      <td>M</td>\n",
       "      <td>Medio_C</td>\n",
       "      <td>Empregado</td>\n",
       "      <td>Concluinte</td>\n",
       "      <td>17</td>\n",
       "      <td>Schulz</td>\n",
       "    </tr>\n",
       "  </tbody>\n",
       "</table>\n",
       "</div>"
      ],
      "text/plain": [
       "  produto_educacao carga_horaria  turno gratuidade_turma tipo online  \\\n",
       "0        AUTOMACAO          1200  Tarde            Mista   PF    Nao   \n",
       "1       FABRICACAO          1600  Noite            Mista   PF    Nao   \n",
       "2        LOGISTICA          1300  Noite            Mista   PF    Nao   \n",
       "3        AUTOMACAO          1600  Tarde            Mista   PF    Nao   \n",
       "4         MECANICA          1620  Tarde            Mista   PF    Nao   \n",
       "\n",
       "              bairro            cidade genero escolaridade  \\\n",
       "0        Aventureiro         Joinville      M      Medio_C   \n",
       "1     Jardim_Paraiso         Joinville      M      Medio_C   \n",
       "2      ForaJoinville  SaoFrancisco_Sul      M      Medio_C   \n",
       "3        Aventureiro         Joinville      M      Medio_C   \n",
       "4  Ulysses_Guimaraes         Joinville      M      Medio_C   \n",
       "\n",
       "  situacao_ocupacional situacao_matricula  IDADE   empresa  \n",
       "0            Empregado         Concluinte     21    Schulz  \n",
       "1            Empregado         Concluinte     18       N_D  \n",
       "2            Empregado         Concluinte     18  SENAI/SC  \n",
       "3         Desempregado         Concluinte     16       N_D  \n",
       "4            Empregado         Concluinte     17    Schulz  "
      ]
     },
     "execution_count": 3,
     "metadata": {},
     "output_type": "execute_result"
    }
   ],
   "source": [
    "# Observando as 5 primeiras linhas do dataset\n",
    "tecnicoJoinville.head()"
   ]
  },
  {
   "cell_type": "code",
   "execution_count": 4,
   "metadata": {},
   "outputs": [
    {
     "data": {
      "text/plain": [
       "(1704, 14)"
      ]
     },
     "execution_count": 4,
     "metadata": {},
     "output_type": "execute_result"
    }
   ],
   "source": [
    "tecnicoJoinville.shape"
   ]
  },
  {
   "cell_type": "code",
   "execution_count": 5,
   "metadata": {},
   "outputs": [
    {
     "data": {
      "text/plain": [
       "Desistente    949\n",
       "Concluinte    755\n",
       "Name: situacao_matricula, dtype: int64"
      ]
     },
     "execution_count": 5,
     "metadata": {},
     "output_type": "execute_result"
    }
   ],
   "source": [
    "# Verificando se o dataset está desbalanceado\n",
    "tecnicoJoinville['situacao_matricula'].value_counts()"
   ]
  },
  {
   "cell_type": "code",
   "execution_count": 6,
   "metadata": {},
   "outputs": [],
   "source": [
    "tecnicoJoinville = tecnicoJoinville.reset_index(drop = True)"
   ]
  },
  {
   "cell_type": "markdown",
   "metadata": {},
   "source": [
    "A variável target está desbalanceada. Para que o algoritmo aprenda corretamente é necessário que o dataset esteja balanceado."
   ]
  },
  {
   "cell_type": "markdown",
   "metadata": {},
   "source": [
    "## Teste dos algoritmos de classificação"
   ]
  },
  {
   "cell_type": "markdown",
   "metadata": {},
   "source": [
    "#### Antes de iniciar os testes para escolher o melhor algoritmo, é necessário transformar as variáveis categóricas em variáveis numéricas.\n",
    "#### Regressão Logística utilizando Ordinal Encoder"
   ]
  },
  {
   "cell_type": "code",
   "execution_count": 7,
   "metadata": {},
   "outputs": [],
   "source": [
    "# Criando uma lista de nomes dos algoritmos que serão testados. \n",
    "# Isso vai permitir criar um dataframe com os resultados de acurácia no final dos testes.\n",
    "Nomes = [\"Regressao\", \"Nearest Neighbors\", \"Linear SVM\", \"RBF SVM\", \"Gaussian Process\",\n",
    "         \"Decision Tree\", \"Random Forest\", \"Neural Net\", \"AdaBoost\",\n",
    "         \"Naive Bayes\", \"QDA\"]\n",
    "Acuracia = []"
   ]
  },
  {
   "cell_type": "code",
   "execution_count": 8,
   "metadata": {},
   "outputs": [],
   "source": [
    "# Pegando apenas os valores, sem o cabeçalho, em formato de array\n",
    "data = tecnicoJoinville.values"
   ]
  },
  {
   "cell_type": "code",
   "execution_count": 9,
   "metadata": {},
   "outputs": [
    {
     "data": {
      "text/plain": [
       "array([['AUTOMACAO', '1200', 'Tarde', ..., 'Concluinte', 21, 'Schulz'],\n",
       "       ['FABRICACAO', '1600', 'Noite', ..., 'Concluinte', 18, 'N_D'],\n",
       "       ['LOGISTICA', '1300', 'Noite', ..., 'Concluinte', 18, 'SENAI/SC'],\n",
       "       ...,\n",
       "       ['QUALIDADE', '800', 'Noite', ..., 'Desistente', 23, 'FIBRASCA'],\n",
       "       ['DESENVOLVIMENTO', '1000', 'Noite', ..., 'Desistente', 20, 'N_D'],\n",
       "       ['PLASTICO', '1250', 'Manha', ..., 'Desistente', 27, 'LINKPLAS']],\n",
       "      dtype=object)"
      ]
     },
     "execution_count": 9,
     "metadata": {},
     "output_type": "execute_result"
    }
   ],
   "source": [
    "# Visualizando os dados\n",
    "data"
   ]
  },
  {
   "cell_type": "code",
   "execution_count": 10,
   "metadata": {},
   "outputs": [],
   "source": [
    "# Separando a variável target do dataset:\n",
    "y = data[:,11]"
   ]
  },
  {
   "cell_type": "code",
   "execution_count": 11,
   "metadata": {},
   "outputs": [
    {
     "data": {
      "text/plain": [
       "(1704,)"
      ]
     },
     "execution_count": 11,
     "metadata": {},
     "output_type": "execute_result"
    }
   ],
   "source": [
    "# Tamanho da variável\n",
    "y.shape"
   ]
  },
  {
   "cell_type": "code",
   "execution_count": 12,
   "metadata": {},
   "outputs": [],
   "source": [
    "# Pegando todas as outras colunas\n",
    "X = data[:,[0,1,2,3,4,5,6,7,8,9,10,12,13]]"
   ]
  },
  {
   "cell_type": "code",
   "execution_count": 13,
   "metadata": {},
   "outputs": [
    {
     "data": {
      "text/plain": [
       "(1704, 13)"
      ]
     },
     "execution_count": 13,
     "metadata": {},
     "output_type": "execute_result"
    }
   ],
   "source": [
    "# Tamanho do array resultante.\n",
    "X.shape"
   ]
  },
  {
   "cell_type": "code",
   "execution_count": 14,
   "metadata": {},
   "outputs": [
    {
     "data": {
      "text/plain": [
       "array([['AUTOMACAO', '1200', 'Tarde', ..., 'Empregado', 21, 'Schulz'],\n",
       "       ['FABRICACAO', '1600', 'Noite', ..., 'Empregado', 18, 'N_D'],\n",
       "       ['LOGISTICA', '1300', 'Noite', ..., 'Empregado', 18, 'SENAI/SC'],\n",
       "       ...,\n",
       "       ['QUALIDADE', '800', 'Noite', ..., 'Empregado', 23, 'FIBRASCA'],\n",
       "       ['DESENVOLVIMENTO', '1000', 'Noite', ..., 'Empregado', 20, 'N_D'],\n",
       "       ['PLASTICO', '1250', 'Manha', ..., 'Empregado', 27, 'LINKPLAS']],\n",
       "      dtype=object)"
      ]
     },
     "execution_count": 14,
     "metadata": {},
     "output_type": "execute_result"
    }
   ],
   "source": [
    "# Visualizando o array\n",
    "X"
   ]
  },
  {
   "cell_type": "code",
   "execution_count": 15,
   "metadata": {},
   "outputs": [
    {
     "data": {
      "text/plain": [
       "array(['Concluinte', 'Concluinte', 'Concluinte', ..., 'Desistente',\n",
       "       'Desistente', 'Desistente'], dtype=object)"
      ]
     },
     "execution_count": 15,
     "metadata": {},
     "output_type": "execute_result"
    }
   ],
   "source": [
    "# Visualizando a variável target\n",
    "y"
   ]
  },
  {
   "cell_type": "code",
   "execution_count": 16,
   "metadata": {},
   "outputs": [],
   "source": [
    "# Aplicando Label Encoder aos dados de saída\n",
    "label_encoder = LabelEncoder()\n",
    "label_encoder.fit(y)\n",
    "y = label_encoder.transform(y)"
   ]
  },
  {
   "cell_type": "code",
   "execution_count": 17,
   "metadata": {},
   "outputs": [
    {
     "data": {
      "text/plain": [
       "array([0, 0, 0, ..., 1, 1, 1])"
      ]
     },
     "execution_count": 17,
     "metadata": {},
     "output_type": "execute_result"
    }
   ],
   "source": [
    "# Visualizando a variável target de treino após a aplicação do Label Encoder\n",
    "y"
   ]
  },
  {
   "cell_type": "code",
   "execution_count": 18,
   "metadata": {},
   "outputs": [
    {
     "data": {
      "text/plain": [
       "True"
      ]
     },
     "execution_count": 18,
     "metadata": {},
     "output_type": "execute_result"
    }
   ],
   "source": [
    "np.all(np.isfinite(y))"
   ]
  },
  {
   "cell_type": "markdown",
   "metadata": {},
   "source": [
    "### Weight of Evidence Encoder"
   ]
  },
  {
   "cell_type": "code",
   "execution_count": 19,
   "metadata": {},
   "outputs": [
    {
     "name": "stderr",
     "output_type": "stream",
     "text": [
      "D:\\ANACONDA\\lib\\site-packages\\category_encoders\\utils.py:21: FutureWarning: is_categorical is deprecated and will be removed in a future version.  Use is_categorical_dtype instead\n",
      "  elif pd.api.types.is_categorical(cols):\n",
      "D:\\ANACONDA\\lib\\site-packages\\pandas\\core\\arraylike.py:364: RuntimeWarning: divide by zero encountered in log\n",
      "  result = getattr(ufunc, method)(*inputs, **kwargs)\n"
     ]
    }
   ],
   "source": [
    "woe_encoder = WOEEncoder(sigma=0.0, regularization=0.0,)\n",
    "woe_encoder.fit_transform(X = X, y = y)\n",
    "X = woe_encoder.transform(X)"
   ]
  },
  {
   "cell_type": "code",
   "execution_count": 20,
   "metadata": {},
   "outputs": [
    {
     "data": {
      "text/html": [
       "<div>\n",
       "<style scoped>\n",
       "    .dataframe tbody tr th:only-of-type {\n",
       "        vertical-align: middle;\n",
       "    }\n",
       "\n",
       "    .dataframe tbody tr th {\n",
       "        vertical-align: top;\n",
       "    }\n",
       "\n",
       "    .dataframe thead th {\n",
       "        text-align: right;\n",
       "    }\n",
       "</style>\n",
       "<table border=\"1\" class=\"dataframe\">\n",
       "  <thead>\n",
       "    <tr style=\"text-align: right;\">\n",
       "      <th></th>\n",
       "      <th>0</th>\n",
       "      <th>1</th>\n",
       "      <th>2</th>\n",
       "      <th>3</th>\n",
       "      <th>4</th>\n",
       "      <th>5</th>\n",
       "      <th>6</th>\n",
       "      <th>7</th>\n",
       "      <th>8</th>\n",
       "      <th>9</th>\n",
       "      <th>10</th>\n",
       "      <th>11</th>\n",
       "      <th>12</th>\n",
       "    </tr>\n",
       "  </thead>\n",
       "  <tbody>\n",
       "    <tr>\n",
       "      <th>0</th>\n",
       "      <td>0.078794</td>\n",
       "      <td>-0.331220</td>\n",
       "      <td>-0.153890</td>\n",
       "      <td>-0.098879</td>\n",
       "      <td>0.102016</td>\n",
       "      <td>0.851967</td>\n",
       "      <td>0.054671</td>\n",
       "      <td>-0.027634</td>\n",
       "      <td>0.011112</td>\n",
       "      <td>-0.384401</td>\n",
       "      <td>0.016841</td>\n",
       "      <td>0.205347</td>\n",
       "      <td>1.514278</td>\n",
       "    </tr>\n",
       "    <tr>\n",
       "      <th>1</th>\n",
       "      <td>0.563547</td>\n",
       "      <td>1.311754</td>\n",
       "      <td>0.054671</td>\n",
       "      <td>-0.098879</td>\n",
       "      <td>0.102016</td>\n",
       "      <td>0.851967</td>\n",
       "      <td>-0.018971</td>\n",
       "      <td>-0.027634</td>\n",
       "      <td>0.011112</td>\n",
       "      <td>-0.384401</td>\n",
       "      <td>0.016841</td>\n",
       "      <td>-0.137719</td>\n",
       "      <td>0.171272</td>\n",
       "    </tr>\n",
       "    <tr>\n",
       "      <th>2</th>\n",
       "      <td>0.156971</td>\n",
       "      <td>-0.228691</td>\n",
       "      <td>0.054671</td>\n",
       "      <td>-0.098879</td>\n",
       "      <td>0.102016</td>\n",
       "      <td>0.851967</td>\n",
       "      <td>0.325194</td>\n",
       "      <td>-0.921838</td>\n",
       "      <td>0.011112</td>\n",
       "      <td>-0.384401</td>\n",
       "      <td>0.016841</td>\n",
       "      <td>-0.137719</td>\n",
       "      <td>-0.228691</td>\n",
       "    </tr>\n",
       "    <tr>\n",
       "      <th>3</th>\n",
       "      <td>0.078794</td>\n",
       "      <td>1.311754</td>\n",
       "      <td>-0.153890</td>\n",
       "      <td>-0.098879</td>\n",
       "      <td>0.102016</td>\n",
       "      <td>0.851967</td>\n",
       "      <td>0.054671</td>\n",
       "      <td>-0.027634</td>\n",
       "      <td>0.011112</td>\n",
       "      <td>-0.384401</td>\n",
       "      <td>-0.024456</td>\n",
       "      <td>-0.395745</td>\n",
       "      <td>0.171272</td>\n",
       "    </tr>\n",
       "    <tr>\n",
       "      <th>4</th>\n",
       "      <td>-0.166171</td>\n",
       "      <td>0.869921</td>\n",
       "      <td>-0.153890</td>\n",
       "      <td>-0.098879</td>\n",
       "      <td>0.102016</td>\n",
       "      <td>0.851967</td>\n",
       "      <td>0.282135</td>\n",
       "      <td>-0.027634</td>\n",
       "      <td>0.011112</td>\n",
       "      <td>-0.384401</td>\n",
       "      <td>0.016841</td>\n",
       "      <td>-0.075722</td>\n",
       "      <td>1.514278</td>\n",
       "    </tr>\n",
       "    <tr>\n",
       "      <th>...</th>\n",
       "      <td>...</td>\n",
       "      <td>...</td>\n",
       "      <td>...</td>\n",
       "      <td>...</td>\n",
       "      <td>...</td>\n",
       "      <td>...</td>\n",
       "      <td>...</td>\n",
       "      <td>...</td>\n",
       "      <td>...</td>\n",
       "      <td>...</td>\n",
       "      <td>...</td>\n",
       "      <td>...</td>\n",
       "      <td>...</td>\n",
       "    </tr>\n",
       "    <tr>\n",
       "      <th>1699</th>\n",
       "      <td>-2.479983</td>\n",
       "      <td>inf</td>\n",
       "      <td>0.054671</td>\n",
       "      <td>-0.098879</td>\n",
       "      <td>0.102016</td>\n",
       "      <td>0.851967</td>\n",
       "      <td>-0.451835</td>\n",
       "      <td>-0.027634</td>\n",
       "      <td>0.011112</td>\n",
       "      <td>-0.384401</td>\n",
       "      <td>0.016841</td>\n",
       "      <td>0.134214</td>\n",
       "      <td>inf</td>\n",
       "    </tr>\n",
       "    <tr>\n",
       "      <th>1700</th>\n",
       "      <td>inf</td>\n",
       "      <td>2.574669</td>\n",
       "      <td>0.054671</td>\n",
       "      <td>1.405883</td>\n",
       "      <td>0.102016</td>\n",
       "      <td>0.851967</td>\n",
       "      <td>-0.143169</td>\n",
       "      <td>-0.027634</td>\n",
       "      <td>0.011112</td>\n",
       "      <td>-0.384401</td>\n",
       "      <td>0.016841</td>\n",
       "      <td>0.464456</td>\n",
       "      <td>0.171272</td>\n",
       "    </tr>\n",
       "    <tr>\n",
       "      <th>1701</th>\n",
       "      <td>inf</td>\n",
       "      <td>2.574669</td>\n",
       "      <td>0.054671</td>\n",
       "      <td>1.405883</td>\n",
       "      <td>0.102016</td>\n",
       "      <td>0.851967</td>\n",
       "      <td>-0.015117</td>\n",
       "      <td>-0.027634</td>\n",
       "      <td>0.011112</td>\n",
       "      <td>-0.384401</td>\n",
       "      <td>0.016841</td>\n",
       "      <td>0.107781</td>\n",
       "      <td>inf</td>\n",
       "    </tr>\n",
       "    <tr>\n",
       "      <th>1702</th>\n",
       "      <td>0.955864</td>\n",
       "      <td>0.892394</td>\n",
       "      <td>0.054671</td>\n",
       "      <td>1.405883</td>\n",
       "      <td>0.102016</td>\n",
       "      <td>0.851967</td>\n",
       "      <td>-0.159698</td>\n",
       "      <td>-0.027634</td>\n",
       "      <td>-0.058540</td>\n",
       "      <td>-0.384401</td>\n",
       "      <td>0.016841</td>\n",
       "      <td>0.298329</td>\n",
       "      <td>0.171272</td>\n",
       "    </tr>\n",
       "    <tr>\n",
       "      <th>1703</th>\n",
       "      <td>-0.552478</td>\n",
       "      <td>inf</td>\n",
       "      <td>-0.471005</td>\n",
       "      <td>1.405883</td>\n",
       "      <td>0.102016</td>\n",
       "      <td>0.851967</td>\n",
       "      <td>0.513246</td>\n",
       "      <td>-0.027634</td>\n",
       "      <td>0.011112</td>\n",
       "      <td>-0.384401</td>\n",
       "      <td>0.016841</td>\n",
       "      <td>0.764561</td>\n",
       "      <td>0.176774</td>\n",
       "    </tr>\n",
       "  </tbody>\n",
       "</table>\n",
       "<p>1704 rows × 13 columns</p>\n",
       "</div>"
      ],
      "text/plain": [
       "            0         1         2         3         4         5         6   \\\n",
       "0     0.078794 -0.331220 -0.153890 -0.098879  0.102016  0.851967  0.054671   \n",
       "1     0.563547  1.311754  0.054671 -0.098879  0.102016  0.851967 -0.018971   \n",
       "2     0.156971 -0.228691  0.054671 -0.098879  0.102016  0.851967  0.325194   \n",
       "3     0.078794  1.311754 -0.153890 -0.098879  0.102016  0.851967  0.054671   \n",
       "4    -0.166171  0.869921 -0.153890 -0.098879  0.102016  0.851967  0.282135   \n",
       "...        ...       ...       ...       ...       ...       ...       ...   \n",
       "1699 -2.479983       inf  0.054671 -0.098879  0.102016  0.851967 -0.451835   \n",
       "1700       inf  2.574669  0.054671  1.405883  0.102016  0.851967 -0.143169   \n",
       "1701       inf  2.574669  0.054671  1.405883  0.102016  0.851967 -0.015117   \n",
       "1702  0.955864  0.892394  0.054671  1.405883  0.102016  0.851967 -0.159698   \n",
       "1703 -0.552478       inf -0.471005  1.405883  0.102016  0.851967  0.513246   \n",
       "\n",
       "            7         8         9         10        11        12  \n",
       "0    -0.027634  0.011112 -0.384401  0.016841  0.205347  1.514278  \n",
       "1    -0.027634  0.011112 -0.384401  0.016841 -0.137719  0.171272  \n",
       "2    -0.921838  0.011112 -0.384401  0.016841 -0.137719 -0.228691  \n",
       "3    -0.027634  0.011112 -0.384401 -0.024456 -0.395745  0.171272  \n",
       "4    -0.027634  0.011112 -0.384401  0.016841 -0.075722  1.514278  \n",
       "...        ...       ...       ...       ...       ...       ...  \n",
       "1699 -0.027634  0.011112 -0.384401  0.016841  0.134214       inf  \n",
       "1700 -0.027634  0.011112 -0.384401  0.016841  0.464456  0.171272  \n",
       "1701 -0.027634  0.011112 -0.384401  0.016841  0.107781       inf  \n",
       "1702 -0.027634 -0.058540 -0.384401  0.016841  0.298329  0.171272  \n",
       "1703 -0.027634  0.011112 -0.384401  0.016841  0.764561  0.176774  \n",
       "\n",
       "[1704 rows x 13 columns]"
      ]
     },
     "execution_count": 20,
     "metadata": {},
     "output_type": "execute_result"
    }
   ],
   "source": [
    "X"
   ]
  },
  {
   "cell_type": "code",
   "execution_count": 21,
   "metadata": {},
   "outputs": [
    {
     "data": {
      "text/plain": [
       "False"
      ]
     },
     "execution_count": 21,
     "metadata": {},
     "output_type": "execute_result"
    }
   ],
   "source": [
    "np.all(np.isfinite(X))"
   ]
  },
  {
   "cell_type": "code",
   "execution_count": 22,
   "metadata": {},
   "outputs": [],
   "source": [
    "X[np.isfinite(X) == False] = 0"
   ]
  },
  {
   "cell_type": "code",
   "execution_count": 23,
   "metadata": {},
   "outputs": [],
   "source": [
    "scaler = StandardScaler(with_mean=False) \n",
    "X = X.astype(np.float64)\n",
    "X = scaler.fit_transform(X)\n",
    "X = scaler.fit_transform(X)\n",
    "oversample = SMOTE()\n",
    "X, y = oversample.fit_resample(X, y)"
   ]
  },
  {
   "cell_type": "code",
   "execution_count": 24,
   "metadata": {},
   "outputs": [],
   "source": [
    "# Separando em conjunto de treino e teste\n",
    "X_train1, X_test1, y_train1, y_test1 = train_test_split(X, y, test_size=0.33, random_state = 0)"
   ]
  },
  {
   "cell_type": "code",
   "execution_count": 25,
   "metadata": {},
   "outputs": [
    {
     "data": {
      "text/plain": [
       "array([[ 0.83048915,  0.64207281,  0.14667652, ..., -1.19559229,\n",
       "         0.31705575,  0.25649438],\n",
       "       [-0.8141771 , -0.45788442, -1.26364703, ...,  0.82332947,\n",
       "         0.31705575, -1.38053128],\n",
       "       [-0.63881975,  1.23366222, -0.41286745, ..., -1.19559229,\n",
       "        -0.18758612,  0.25649438],\n",
       "       ...,\n",
       "       [ 0.83048915,  0.64207281,  0.14667652, ...,  0.82332947,\n",
       "         0.73905399,  0.25649438],\n",
       "       [-0.8141771 , -0.45788442,  0.14667652, ...,  0.82332947,\n",
       "        -0.30552793, -0.34248433],\n",
       "       [-0.19034292, -0.45788442,  0.14667652, ...,  0.82332947,\n",
       "         0.31705575,  0.25649438]])"
      ]
     },
     "execution_count": 25,
     "metadata": {},
     "output_type": "execute_result"
    }
   ],
   "source": [
    "X_train1"
   ]
  },
  {
   "cell_type": "code",
   "execution_count": 26,
   "metadata": {},
   "outputs": [],
   "source": [
    "#Definindo o modelo\n",
    "modelo5 = LogisticRegression(solver='saga', max_iter=10000)"
   ]
  },
  {
   "cell_type": "code",
   "execution_count": 27,
   "metadata": {},
   "outputs": [
    {
     "name": "stdout",
     "output_type": "stream",
     "text": [
      "Accuracy: 86.44\n"
     ]
    }
   ],
   "source": [
    "modelo5.fit(X_train1, y_train1)\n",
    "# Previsões nos dados de teste\n",
    "yhat = modelo5.predict(X_test1)\n",
    "# Avalia a previsão\n",
    "accuracy = accuracy_score(y_test1, yhat)\n",
    "print('Accuracy: %.2f' % (accuracy*100))\n",
    "\n",
    "# Salvando o resultado da regressão logística com Ordinal Encoder\n",
    "Acuracia.append(accuracy*100)  ##################################  1"
   ]
  },
  {
   "cell_type": "markdown",
   "metadata": {},
   "source": [
    "## Utilizar o K Nearest Neighbors com Weight of Evidence Encoder"
   ]
  },
  {
   "cell_type": "code",
   "execution_count": 28,
   "metadata": {},
   "outputs": [],
   "source": [
    "# Cria o modelo\n",
    "modeloK =  KNeighborsClassifier(30)"
   ]
  },
  {
   "cell_type": "code",
   "execution_count": 29,
   "metadata": {},
   "outputs": [
    {
     "name": "stdout",
     "output_type": "stream",
     "text": [
      "85.8054226475279\n"
     ]
    }
   ],
   "source": [
    "# Treina o modelo\n",
    "modeloK.fit(X_train1, y_train1)\n",
    "# Fazendo previsões\n",
    "yhat1 = modeloK.predict(X_test1)\n",
    "score = modeloK.score(X_test1, y_test1)\n",
    "# Avaliando as previsões\n",
    "accuracy = accuracy_score(y_test1, yhat1)\n",
    "print(score*100)\n",
    "\n",
    "Acuracia.append(score*100) ######################## 2"
   ]
  },
  {
   "cell_type": "markdown",
   "metadata": {},
   "source": [
    "## Utilizar o SVC com  Weight of Evidence Encoder"
   ]
  },
  {
   "cell_type": "code",
   "execution_count": 30,
   "metadata": {},
   "outputs": [
    {
     "name": "stdout",
     "output_type": "stream",
     "text": [
      "84.37001594896331\n"
     ]
    }
   ],
   "source": [
    "# Cria o modelo\n",
    "modeloSVC = SVC(kernel=\"linear\", C=0.025)\n",
    "\n",
    "# Treina o modelo\n",
    "modeloSVC.fit(X_train1, y_train1)\n",
    "# Fazendo previsões\n",
    "score = modeloSVC.score(X_test1, y_test1)\n",
    "\n",
    "# Avaliando as previsões\n",
    "print(score*100)\n",
    "\n",
    "Acuracia.append(score*100)   ######################## 3"
   ]
  },
  {
   "cell_type": "markdown",
   "metadata": {},
   "source": [
    "## Utilizar o SVC com outros parâmetros, Weight of Evidence Encoder"
   ]
  },
  {
   "cell_type": "code",
   "execution_count": 31,
   "metadata": {},
   "outputs": [
    {
     "name": "stdout",
     "output_type": "stream",
     "text": [
      "77.83094098883574\n"
     ]
    }
   ],
   "source": [
    "# Cria o modelo\n",
    "modeloSVC = SVC(gamma=2, C=1)\n",
    "\n",
    "# Treina o modelo\n",
    "modeloSVC.fit(X_train1, y_train1)\n",
    "# Fazendo previsões\n",
    "score = modeloSVC.score(X_test1, y_test1)\n",
    "\n",
    "# Avaliando as previsões\n",
    "print(score*100)\n",
    "\n",
    "Acuracia.append(score*100)   ######################## 4"
   ]
  },
  {
   "cell_type": "markdown",
   "metadata": {},
   "source": [
    "## Utilizar o classificador Gaussiano, Weight of Evidence Encoder"
   ]
  },
  {
   "cell_type": "code",
   "execution_count": 32,
   "metadata": {},
   "outputs": [
    {
     "name": "stdout",
     "output_type": "stream",
     "text": [
      "86.76236044657098\n"
     ]
    }
   ],
   "source": [
    "# Cria o modelo\n",
    "modeloGaus = GaussianProcessClassifier(1.0 * RBF(1.0))\n",
    "\n",
    "# Treina o modelo\n",
    "modeloGaus.fit(X_train1, y_train1)\n",
    "# Fazendo previsões\n",
    "score = modeloGaus.score(X_test1, y_test1)\n",
    "\n",
    "# Avaliando as previsões\n",
    "print(score*100)\n",
    "\n",
    "    \n",
    "Acuracia.append(score*100) ######################## 5"
   ]
  },
  {
   "cell_type": "markdown",
   "metadata": {},
   "source": [
    "## Utilizar o Decision Tree, Weight of Evidence Encoder"
   ]
  },
  {
   "cell_type": "code",
   "execution_count": 33,
   "metadata": {},
   "outputs": [
    {
     "name": "stdout",
     "output_type": "stream",
     "text": [
      "84.84848484848484\n"
     ]
    }
   ],
   "source": [
    "# Cria o modelo\n",
    "modeloDT = DecisionTreeClassifier(max_depth=5)\n",
    "\n",
    "# Treina o modelo\n",
    "modeloDT.fit(X_train1, y_train1)\n",
    "# Fazendo previsões\n",
    "score = modeloDT.score(X_test1, y_test1)\n",
    "\n",
    "# Avaliando as previsões\n",
    "print(score*100)\n",
    "\n",
    "Acuracia.append(score*100)  ######################## 6"
   ]
  },
  {
   "cell_type": "markdown",
   "metadata": {},
   "source": [
    "## Utilizar o Random Forest, Weight of Evidence Encoder"
   ]
  },
  {
   "cell_type": "code",
   "execution_count": 34,
   "metadata": {},
   "outputs": [
    {
     "name": "stdout",
     "output_type": "stream",
     "text": [
      "84.37001594896331\n"
     ]
    }
   ],
   "source": [
    "# Cria o modelo\n",
    "modeloRF = RandomForestClassifier(max_depth=50, n_estimators=100, max_features=13)\n",
    "\n",
    "# Treina o modelo\n",
    "modeloRF.fit(X_train1, y_train1)\n",
    "# Fazendo previsões\n",
    "score = modeloRF.score(X_test1, y_test1)\n",
    "\n",
    "# Avaliando as previsões\n",
    "print(score*100)\n",
    "previsoes = modeloRF.predict(X_test1)\n",
    "Acuracia.append(score*100)  ######################## 7"
   ]
  },
  {
   "cell_type": "markdown",
   "metadata": {},
   "source": [
    "## Utilizar uma rede neural, Weight of Evidence Encoder\n"
   ]
  },
  {
   "cell_type": "code",
   "execution_count": 35,
   "metadata": {},
   "outputs": [
    {
     "name": "stdout",
     "output_type": "stream",
     "text": [
      "86.92185007974481\n"
     ]
    }
   ],
   "source": [
    "\n",
    "# Cria o modelo\n",
    "modeloMLP = MLPClassifier(alpha=2, max_iter=2000)\n",
    "\n",
    "# Treina o modelo\n",
    "modeloMLP.fit(X_train1, y_train1)\n",
    "# Fazendo previsões\n",
    "score = modeloMLP.score(X_test1, y_test1)\n",
    "\n",
    "# Avaliando as previsões\n",
    "print(score*100)\n",
    "\n",
    "Acuracia.append(score*100)  ######################## 8"
   ]
  },
  {
   "cell_type": "markdown",
   "metadata": {},
   "source": [
    "## Utilizar o classificador ADA Boost, Weight of Evidence Encoder"
   ]
  },
  {
   "cell_type": "code",
   "execution_count": 36,
   "metadata": {},
   "outputs": [
    {
     "name": "stdout",
     "output_type": "stream",
     "text": [
      "85.64593301435407\n"
     ]
    }
   ],
   "source": [
    "# Cria o modelo\n",
    "modeloABC =  AdaBoostClassifier()\n",
    "\n",
    "# Treina o modelo\n",
    "modeloABC.fit(X_train1, y_train1)\n",
    "# Fazendo previsões\n",
    "score = modeloABC.score(X_test1, y_test1)\n",
    "\n",
    "# Avaliando as previsões\n",
    "print(score*100)\n",
    "\n",
    "Acuracia.append(score*100)  ######################## 9"
   ]
  },
  {
   "cell_type": "markdown",
   "metadata": {},
   "source": [
    "## Utilizar o classificador Naive Bayes, Weight of Evidence Encoder"
   ]
  },
  {
   "cell_type": "code",
   "execution_count": 37,
   "metadata": {},
   "outputs": [
    {
     "name": "stdout",
     "output_type": "stream",
     "text": [
      "76.71451355661883\n"
     ]
    }
   ],
   "source": [
    "# Cria o modelo\n",
    "modeloGNB =  GaussianNB()\n",
    "\n",
    "# Treina o modelo\n",
    "modeloGNB.fit(X_train1, y_train1)\n",
    "# Fazendo previsões\n",
    "score = modeloGNB.score(X_test1, y_test1)\n",
    "\n",
    "# Avaliando as previsões\n",
    "print(score*100)\n",
    "\n",
    "Acuracia.append(score*100)  ######################## 10"
   ]
  },
  {
   "cell_type": "markdown",
   "metadata": {},
   "source": [
    "## Utilizar o classificador Quadratic Discriminant Analysis, Weight of Evidence Encoder"
   ]
  },
  {
   "cell_type": "code",
   "execution_count": 38,
   "metadata": {},
   "outputs": [
    {
     "name": "stdout",
     "output_type": "stream",
     "text": [
      "77.19298245614034\n"
     ]
    }
   ],
   "source": [
    "# Cria o modelo\n",
    "modeloQDA =  QuadraticDiscriminantAnalysis()\n",
    "\n",
    "# Treina o modelo\n",
    "modeloQDA.fit(X_train1, y_train1)\n",
    "# Fazendo previsões\n",
    "score = modeloQDA.score(X_test1, y_test1)\n",
    "\n",
    "# Avaliando as previsões\n",
    "print(score*100)\n",
    "\n",
    "Acuracia.append(score*100) ######################## 11"
   ]
  },
  {
   "cell_type": "code",
   "execution_count": 39,
   "metadata": {},
   "outputs": [
    {
     "data": {
      "text/plain": [
       "[86.44338118022328,\n",
       " 85.8054226475279,\n",
       " 84.37001594896331,\n",
       " 77.83094098883574,\n",
       " 86.76236044657098,\n",
       " 84.84848484848484,\n",
       " 84.37001594896331,\n",
       " 86.92185007974481,\n",
       " 85.64593301435407,\n",
       " 76.71451355661883,\n",
       " 77.19298245614034]"
      ]
     },
     "execution_count": 39,
     "metadata": {},
     "output_type": "execute_result"
    }
   ],
   "source": [
    "Acuracia"
   ]
  },
  {
   "cell_type": "code",
   "execution_count": 40,
   "metadata": {},
   "outputs": [],
   "source": [
    "#Resultados = pd.DataFrame(Nomes, Acuracia)\n",
    "Resultados = pd.DataFrame(list(zip(Nomes, Acuracia)),columns =['Nomes', 'Acuracia'])"
   ]
  },
  {
   "cell_type": "code",
   "execution_count": 41,
   "metadata": {},
   "outputs": [
    {
     "data": {
      "text/html": [
       "<div>\n",
       "<style scoped>\n",
       "    .dataframe tbody tr th:only-of-type {\n",
       "        vertical-align: middle;\n",
       "    }\n",
       "\n",
       "    .dataframe tbody tr th {\n",
       "        vertical-align: top;\n",
       "    }\n",
       "\n",
       "    .dataframe thead th {\n",
       "        text-align: right;\n",
       "    }\n",
       "</style>\n",
       "<table border=\"1\" class=\"dataframe\">\n",
       "  <thead>\n",
       "    <tr style=\"text-align: right;\">\n",
       "      <th></th>\n",
       "      <th>Nomes</th>\n",
       "      <th>Acuracia</th>\n",
       "    </tr>\n",
       "  </thead>\n",
       "  <tbody>\n",
       "    <tr>\n",
       "      <th>0</th>\n",
       "      <td>Regressao</td>\n",
       "      <td>86.443381</td>\n",
       "    </tr>\n",
       "    <tr>\n",
       "      <th>1</th>\n",
       "      <td>Nearest Neighbors</td>\n",
       "      <td>85.805423</td>\n",
       "    </tr>\n",
       "    <tr>\n",
       "      <th>2</th>\n",
       "      <td>Linear SVM</td>\n",
       "      <td>84.370016</td>\n",
       "    </tr>\n",
       "    <tr>\n",
       "      <th>3</th>\n",
       "      <td>RBF SVM</td>\n",
       "      <td>77.830941</td>\n",
       "    </tr>\n",
       "    <tr>\n",
       "      <th>4</th>\n",
       "      <td>Gaussian Process</td>\n",
       "      <td>86.762360</td>\n",
       "    </tr>\n",
       "    <tr>\n",
       "      <th>5</th>\n",
       "      <td>Decision Tree</td>\n",
       "      <td>84.848485</td>\n",
       "    </tr>\n",
       "    <tr>\n",
       "      <th>6</th>\n",
       "      <td>Random Forest</td>\n",
       "      <td>84.370016</td>\n",
       "    </tr>\n",
       "    <tr>\n",
       "      <th>7</th>\n",
       "      <td>Neural Net</td>\n",
       "      <td>86.921850</td>\n",
       "    </tr>\n",
       "    <tr>\n",
       "      <th>8</th>\n",
       "      <td>AdaBoost</td>\n",
       "      <td>85.645933</td>\n",
       "    </tr>\n",
       "    <tr>\n",
       "      <th>9</th>\n",
       "      <td>Naive Bayes</td>\n",
       "      <td>76.714514</td>\n",
       "    </tr>\n",
       "    <tr>\n",
       "      <th>10</th>\n",
       "      <td>QDA</td>\n",
       "      <td>77.192982</td>\n",
       "    </tr>\n",
       "  </tbody>\n",
       "</table>\n",
       "</div>"
      ],
      "text/plain": [
       "                Nomes   Acuracia\n",
       "0           Regressao  86.443381\n",
       "1   Nearest Neighbors  85.805423\n",
       "2          Linear SVM  84.370016\n",
       "3             RBF SVM  77.830941\n",
       "4    Gaussian Process  86.762360\n",
       "5       Decision Tree  84.848485\n",
       "6       Random Forest  84.370016\n",
       "7          Neural Net  86.921850\n",
       "8            AdaBoost  85.645933\n",
       "9         Naive Bayes  76.714514\n",
       "10                QDA  77.192982"
      ]
     },
     "execution_count": 41,
     "metadata": {},
     "output_type": "execute_result"
    }
   ],
   "source": [
    "Resultados"
   ]
  },
  {
   "cell_type": "code",
   "execution_count": 42,
   "metadata": {},
   "outputs": [
    {
     "name": "stdout",
     "output_type": "stream",
     "text": [
      "Modelo escolhido: 86.92\n"
     ]
    }
   ],
   "source": [
    "\n",
    "print('Modelo escolhido: %.2f' % (Resultados['Acuracia'].max()))"
   ]
  },
  {
   "cell_type": "code",
   "execution_count": 43,
   "metadata": {},
   "outputs": [
    {
     "data": {
      "text/plain": [
       "MLPClassifier(alpha=2, max_iter=2000)"
      ]
     },
     "execution_count": 43,
     "metadata": {},
     "output_type": "execute_result"
    }
   ],
   "source": [
    "modeloMLP"
   ]
  },
  {
   "cell_type": "code",
   "execution_count": 44,
   "metadata": {},
   "outputs": [
    {
     "name": "stdout",
     "output_type": "stream",
     "text": [
      "[1 0 1 0 1 0 1 1 1 0 1 1 0 0 0 0 0 0 0 0 1 1 1 1 0 1 0 1 0 1 0 1 1 0 0 1 1\n",
      " 1 0 0 1 1 1 1 1 1 0 0 0 0 0 0 0 0 0 0 0 1 1 1 1 0 1 0 1 0 1 0 0 1 0 0 1 0\n",
      " 0 1 0 1 1 0 1 0 1 1 1 1 0 0 1 0 1 0 0 0 1 0 1 0 0 1 1 0 1 0 0 1 0 1 0 1 0\n",
      " 0 1 1 1 0 0 0 0 0 0 0 1 0 1 0 1 1 0 0 0 0 0 0 1 1 0 0 1 1 1 0 1 0 1 1 0 1\n",
      " 1 1 1 1 0 1 1 0 1 0 0 0 0 1 1 1 1 1 0 0 0 0 0 0 0 1 0 0 0 1 1 0 0 0 1 1 1\n",
      " 1 1 1 0 1 1 0 1 0 1 1 1 0 0 0 1 0 0 1 0 1 1 1 1 1 1 1 0 0 0 1 1 1 1 0 0 1\n",
      " 0 0 0 1 0 1 0 0 0 0 0 0 0 1 1 0 1 0 1 0 1 1 1 1 1 1 0 0 0 1 0 1 1 1 0 0 0\n",
      " 0 1 0 1 0 1 0 1 0 1 1 0 0 0 1 1 0 1 1 0 0 1 1 1 1 1 0 1 0 1 0 1 1 1 0 1 1\n",
      " 1 0 1 0 1 1 0 0 1 1 0 0 0 1 0 1 0 0 0 0 1 0 1 1 0 0 0 1 0 0 0 0 0 1 1 0 0\n",
      " 1 0 1 1 0 0 0 0 0 1 1 1 0 0 0 1 0 1 0 0 0 1 0 0 0 0 0 0 1 0 1 1 1 0 0 0 0\n",
      " 1 0 1 0 0 0 1 1 1 1 0 1 0 1 1 1 0 1 0 1 0 0 1 1 1 1 0 0 1 1 0 1 0 0 1 0 0\n",
      " 1 0 1 0 0 1 0 0 1 1 0 1 0 1 1 0 0 0 0 0 1 1 0 1 0 1 0 0 0 1 1 1 1 0 1 0 1\n",
      " 0 0 1 0 0 1 1 0 0 0 1 0 1 1 0 1 0 0 1 1 1 0 1 1 0 0 0 0 1 0 0 1 1 1 0 1 0\n",
      " 0 0 0 1 0 0 1 1 0 1 0 1 0 1 0 1 1 0 0 0 1 0 1 1 0 0 1 1 0 1 0 1 1 0 1 1 0\n",
      " 0 0 1 1 0 1 1 1 0 0 0 1 0 0 1 1 1 1 1 1 1 1 0 1 0 0 0 1 1 1 0 0 0 1 0 0 0\n",
      " 1 1 1 0 0 1 1 0 0 1 0 0 0 1 0 0 0 0 0 0 1 1 0 0 1 0 0 1 0 1 0 0 0 1 0 0 0\n",
      " 1 0 0 1 1 1 0 0 0 1 0 0 0 1 0 0 1 1 0 0 1 1 0 0 0 1 1 1 0 0 1 1 0 1 1]\n"
     ]
    }
   ],
   "source": [
    "# Desistente ==> 1\n",
    "# Concluinte ==> 0\n",
    "previsoes = modeloMLP.predict(X_test1)\n",
    "print(previsoes)"
   ]
  },
  {
   "cell_type": "code",
   "execution_count": 45,
   "metadata": {},
   "outputs": [
    {
     "data": {
      "text/plain": [
       "627"
      ]
     },
     "execution_count": 45,
     "metadata": {},
     "output_type": "execute_result"
    }
   ],
   "source": [
    "len(previsoes)"
   ]
  },
  {
   "cell_type": "code",
   "execution_count": 46,
   "metadata": {},
   "outputs": [
    {
     "data": {
      "text/plain": [
       "['Desistente',\n",
       " 'Concluinte',\n",
       " 'Desistente',\n",
       " 'Concluinte',\n",
       " 'Desistente',\n",
       " 'Concluinte',\n",
       " 'Desistente',\n",
       " 'Desistente',\n",
       " 'Desistente',\n",
       " 'Concluinte',\n",
       " 'Desistente',\n",
       " 'Desistente',\n",
       " 'Concluinte',\n",
       " 'Concluinte',\n",
       " 'Concluinte',\n",
       " 'Concluinte',\n",
       " 'Concluinte',\n",
       " 'Concluinte',\n",
       " 'Concluinte',\n",
       " 'Concluinte',\n",
       " 'Desistente',\n",
       " 'Desistente',\n",
       " 'Desistente',\n",
       " 'Desistente',\n",
       " 'Concluinte',\n",
       " 'Desistente',\n",
       " 'Concluinte',\n",
       " 'Desistente',\n",
       " 'Concluinte',\n",
       " 'Desistente',\n",
       " 'Concluinte',\n",
       " 'Desistente',\n",
       " 'Desistente',\n",
       " 'Concluinte',\n",
       " 'Concluinte',\n",
       " 'Desistente',\n",
       " 'Desistente',\n",
       " 'Desistente',\n",
       " 'Concluinte',\n",
       " 'Concluinte',\n",
       " 'Desistente',\n",
       " 'Desistente',\n",
       " 'Desistente',\n",
       " 'Desistente',\n",
       " 'Desistente',\n",
       " 'Desistente',\n",
       " 'Concluinte',\n",
       " 'Concluinte',\n",
       " 'Concluinte',\n",
       " 'Concluinte',\n",
       " 'Concluinte',\n",
       " 'Concluinte',\n",
       " 'Concluinte',\n",
       " 'Concluinte',\n",
       " 'Concluinte',\n",
       " 'Concluinte',\n",
       " 'Concluinte',\n",
       " 'Desistente',\n",
       " 'Desistente',\n",
       " 'Desistente',\n",
       " 'Desistente',\n",
       " 'Concluinte',\n",
       " 'Desistente',\n",
       " 'Concluinte',\n",
       " 'Desistente',\n",
       " 'Concluinte',\n",
       " 'Desistente',\n",
       " 'Concluinte',\n",
       " 'Concluinte',\n",
       " 'Desistente',\n",
       " 'Concluinte',\n",
       " 'Concluinte',\n",
       " 'Desistente',\n",
       " 'Concluinte',\n",
       " 'Concluinte',\n",
       " 'Desistente',\n",
       " 'Concluinte',\n",
       " 'Desistente',\n",
       " 'Desistente',\n",
       " 'Concluinte',\n",
       " 'Desistente',\n",
       " 'Concluinte',\n",
       " 'Desistente',\n",
       " 'Desistente',\n",
       " 'Desistente',\n",
       " 'Desistente',\n",
       " 'Concluinte',\n",
       " 'Concluinte',\n",
       " 'Desistente',\n",
       " 'Concluinte',\n",
       " 'Desistente',\n",
       " 'Concluinte',\n",
       " 'Concluinte',\n",
       " 'Concluinte',\n",
       " 'Desistente',\n",
       " 'Concluinte',\n",
       " 'Desistente',\n",
       " 'Concluinte',\n",
       " 'Concluinte',\n",
       " 'Desistente',\n",
       " 'Desistente',\n",
       " 'Concluinte',\n",
       " 'Desistente',\n",
       " 'Concluinte',\n",
       " 'Concluinte',\n",
       " 'Desistente',\n",
       " 'Concluinte',\n",
       " 'Desistente',\n",
       " 'Concluinte',\n",
       " 'Desistente',\n",
       " 'Concluinte',\n",
       " 'Concluinte',\n",
       " 'Desistente',\n",
       " 'Desistente',\n",
       " 'Desistente',\n",
       " 'Concluinte',\n",
       " 'Concluinte',\n",
       " 'Concluinte',\n",
       " 'Concluinte',\n",
       " 'Concluinte',\n",
       " 'Concluinte',\n",
       " 'Concluinte',\n",
       " 'Desistente',\n",
       " 'Concluinte',\n",
       " 'Desistente',\n",
       " 'Concluinte',\n",
       " 'Desistente',\n",
       " 'Desistente',\n",
       " 'Concluinte',\n",
       " 'Concluinte',\n",
       " 'Concluinte',\n",
       " 'Concluinte',\n",
       " 'Concluinte',\n",
       " 'Concluinte',\n",
       " 'Desistente',\n",
       " 'Desistente',\n",
       " 'Concluinte',\n",
       " 'Concluinte',\n",
       " 'Desistente',\n",
       " 'Desistente',\n",
       " 'Desistente',\n",
       " 'Concluinte',\n",
       " 'Desistente',\n",
       " 'Concluinte',\n",
       " 'Desistente',\n",
       " 'Desistente',\n",
       " 'Concluinte',\n",
       " 'Desistente',\n",
       " 'Desistente',\n",
       " 'Desistente',\n",
       " 'Desistente',\n",
       " 'Desistente',\n",
       " 'Concluinte',\n",
       " 'Desistente',\n",
       " 'Desistente',\n",
       " 'Concluinte',\n",
       " 'Desistente',\n",
       " 'Concluinte',\n",
       " 'Concluinte',\n",
       " 'Concluinte',\n",
       " 'Concluinte',\n",
       " 'Desistente',\n",
       " 'Desistente',\n",
       " 'Desistente',\n",
       " 'Desistente',\n",
       " 'Desistente',\n",
       " 'Concluinte',\n",
       " 'Concluinte',\n",
       " 'Concluinte',\n",
       " 'Concluinte',\n",
       " 'Concluinte',\n",
       " 'Concluinte',\n",
       " 'Concluinte',\n",
       " 'Desistente',\n",
       " 'Concluinte',\n",
       " 'Concluinte',\n",
       " 'Concluinte',\n",
       " 'Desistente',\n",
       " 'Desistente',\n",
       " 'Concluinte',\n",
       " 'Concluinte',\n",
       " 'Concluinte',\n",
       " 'Desistente',\n",
       " 'Desistente',\n",
       " 'Desistente',\n",
       " 'Desistente',\n",
       " 'Desistente',\n",
       " 'Desistente',\n",
       " 'Concluinte',\n",
       " 'Desistente',\n",
       " 'Desistente',\n",
       " 'Concluinte',\n",
       " 'Desistente',\n",
       " 'Concluinte',\n",
       " 'Desistente',\n",
       " 'Desistente',\n",
       " 'Desistente',\n",
       " 'Concluinte',\n",
       " 'Concluinte',\n",
       " 'Concluinte',\n",
       " 'Desistente',\n",
       " 'Concluinte',\n",
       " 'Concluinte',\n",
       " 'Desistente',\n",
       " 'Concluinte',\n",
       " 'Desistente',\n",
       " 'Desistente',\n",
       " 'Desistente',\n",
       " 'Desistente',\n",
       " 'Desistente',\n",
       " 'Desistente',\n",
       " 'Desistente',\n",
       " 'Concluinte',\n",
       " 'Concluinte',\n",
       " 'Concluinte',\n",
       " 'Desistente',\n",
       " 'Desistente',\n",
       " 'Desistente',\n",
       " 'Desistente',\n",
       " 'Concluinte',\n",
       " 'Concluinte',\n",
       " 'Desistente',\n",
       " 'Concluinte',\n",
       " 'Concluinte',\n",
       " 'Concluinte',\n",
       " 'Desistente',\n",
       " 'Concluinte',\n",
       " 'Desistente',\n",
       " 'Concluinte',\n",
       " 'Concluinte',\n",
       " 'Concluinte',\n",
       " 'Concluinte',\n",
       " 'Concluinte',\n",
       " 'Concluinte',\n",
       " 'Concluinte',\n",
       " 'Desistente',\n",
       " 'Desistente',\n",
       " 'Concluinte',\n",
       " 'Desistente',\n",
       " 'Concluinte',\n",
       " 'Desistente',\n",
       " 'Concluinte',\n",
       " 'Desistente',\n",
       " 'Desistente',\n",
       " 'Desistente',\n",
       " 'Desistente',\n",
       " 'Desistente',\n",
       " 'Desistente',\n",
       " 'Concluinte',\n",
       " 'Concluinte',\n",
       " 'Concluinte',\n",
       " 'Desistente',\n",
       " 'Concluinte',\n",
       " 'Desistente',\n",
       " 'Desistente',\n",
       " 'Desistente',\n",
       " 'Concluinte',\n",
       " 'Concluinte',\n",
       " 'Concluinte',\n",
       " 'Concluinte',\n",
       " 'Desistente',\n",
       " 'Concluinte',\n",
       " 'Desistente',\n",
       " 'Concluinte',\n",
       " 'Desistente',\n",
       " 'Concluinte',\n",
       " 'Desistente',\n",
       " 'Concluinte',\n",
       " 'Desistente',\n",
       " 'Desistente',\n",
       " 'Concluinte',\n",
       " 'Concluinte',\n",
       " 'Concluinte',\n",
       " 'Desistente',\n",
       " 'Desistente',\n",
       " 'Concluinte',\n",
       " 'Desistente',\n",
       " 'Desistente',\n",
       " 'Concluinte',\n",
       " 'Concluinte',\n",
       " 'Desistente',\n",
       " 'Desistente',\n",
       " 'Desistente',\n",
       " 'Desistente',\n",
       " 'Desistente',\n",
       " 'Concluinte',\n",
       " 'Desistente',\n",
       " 'Concluinte',\n",
       " 'Desistente',\n",
       " 'Concluinte',\n",
       " 'Desistente',\n",
       " 'Desistente',\n",
       " 'Desistente',\n",
       " 'Concluinte',\n",
       " 'Desistente',\n",
       " 'Desistente',\n",
       " 'Desistente',\n",
       " 'Concluinte',\n",
       " 'Desistente',\n",
       " 'Concluinte',\n",
       " 'Desistente',\n",
       " 'Desistente',\n",
       " 'Concluinte',\n",
       " 'Concluinte',\n",
       " 'Desistente',\n",
       " 'Desistente',\n",
       " 'Concluinte',\n",
       " 'Concluinte',\n",
       " 'Concluinte',\n",
       " 'Desistente',\n",
       " 'Concluinte',\n",
       " 'Desistente',\n",
       " 'Concluinte',\n",
       " 'Concluinte',\n",
       " 'Concluinte',\n",
       " 'Concluinte',\n",
       " 'Desistente',\n",
       " 'Concluinte',\n",
       " 'Desistente',\n",
       " 'Desistente',\n",
       " 'Concluinte',\n",
       " 'Concluinte',\n",
       " 'Concluinte',\n",
       " 'Desistente',\n",
       " 'Concluinte',\n",
       " 'Concluinte',\n",
       " 'Concluinte',\n",
       " 'Concluinte',\n",
       " 'Concluinte',\n",
       " 'Desistente',\n",
       " 'Desistente',\n",
       " 'Concluinte',\n",
       " 'Concluinte',\n",
       " 'Desistente',\n",
       " 'Concluinte',\n",
       " 'Desistente',\n",
       " 'Desistente',\n",
       " 'Concluinte',\n",
       " 'Concluinte',\n",
       " 'Concluinte',\n",
       " 'Concluinte',\n",
       " 'Concluinte',\n",
       " 'Desistente',\n",
       " 'Desistente',\n",
       " 'Desistente',\n",
       " 'Concluinte',\n",
       " 'Concluinte',\n",
       " 'Concluinte',\n",
       " 'Desistente',\n",
       " 'Concluinte',\n",
       " 'Desistente',\n",
       " 'Concluinte',\n",
       " 'Concluinte',\n",
       " 'Concluinte',\n",
       " 'Desistente',\n",
       " 'Concluinte',\n",
       " 'Concluinte',\n",
       " 'Concluinte',\n",
       " 'Concluinte',\n",
       " 'Concluinte',\n",
       " 'Concluinte',\n",
       " 'Desistente',\n",
       " 'Concluinte',\n",
       " 'Desistente',\n",
       " 'Desistente',\n",
       " 'Desistente',\n",
       " 'Concluinte',\n",
       " 'Concluinte',\n",
       " 'Concluinte',\n",
       " 'Concluinte',\n",
       " 'Desistente',\n",
       " 'Concluinte',\n",
       " 'Desistente',\n",
       " 'Concluinte',\n",
       " 'Concluinte',\n",
       " 'Concluinte',\n",
       " 'Desistente',\n",
       " 'Desistente',\n",
       " 'Desistente',\n",
       " 'Desistente',\n",
       " 'Concluinte',\n",
       " 'Desistente',\n",
       " 'Concluinte',\n",
       " 'Desistente',\n",
       " 'Desistente',\n",
       " 'Desistente',\n",
       " 'Concluinte',\n",
       " 'Desistente',\n",
       " 'Concluinte',\n",
       " 'Desistente',\n",
       " 'Concluinte',\n",
       " 'Concluinte',\n",
       " 'Desistente',\n",
       " 'Desistente',\n",
       " 'Desistente',\n",
       " 'Desistente',\n",
       " 'Concluinte',\n",
       " 'Concluinte',\n",
       " 'Desistente',\n",
       " 'Desistente',\n",
       " 'Concluinte',\n",
       " 'Desistente',\n",
       " 'Concluinte',\n",
       " 'Concluinte',\n",
       " 'Desistente',\n",
       " 'Concluinte',\n",
       " 'Concluinte',\n",
       " 'Desistente',\n",
       " 'Concluinte',\n",
       " 'Desistente',\n",
       " 'Concluinte',\n",
       " 'Concluinte',\n",
       " 'Desistente',\n",
       " 'Concluinte',\n",
       " 'Concluinte',\n",
       " 'Desistente',\n",
       " 'Desistente',\n",
       " 'Concluinte',\n",
       " 'Desistente',\n",
       " 'Concluinte',\n",
       " 'Desistente',\n",
       " 'Desistente',\n",
       " 'Concluinte',\n",
       " 'Concluinte',\n",
       " 'Concluinte',\n",
       " 'Concluinte',\n",
       " 'Concluinte',\n",
       " 'Desistente',\n",
       " 'Desistente',\n",
       " 'Concluinte',\n",
       " 'Desistente',\n",
       " 'Concluinte',\n",
       " 'Desistente',\n",
       " 'Concluinte',\n",
       " 'Concluinte',\n",
       " 'Concluinte',\n",
       " 'Desistente',\n",
       " 'Desistente',\n",
       " 'Desistente',\n",
       " 'Desistente',\n",
       " 'Concluinte',\n",
       " 'Desistente',\n",
       " 'Concluinte',\n",
       " 'Desistente',\n",
       " 'Concluinte',\n",
       " 'Concluinte',\n",
       " 'Desistente',\n",
       " 'Concluinte',\n",
       " 'Concluinte',\n",
       " 'Desistente',\n",
       " 'Desistente',\n",
       " 'Concluinte',\n",
       " 'Concluinte',\n",
       " 'Concluinte',\n",
       " 'Desistente',\n",
       " 'Concluinte',\n",
       " 'Desistente',\n",
       " 'Desistente',\n",
       " 'Concluinte',\n",
       " 'Desistente',\n",
       " 'Concluinte',\n",
       " 'Concluinte',\n",
       " 'Desistente',\n",
       " 'Desistente',\n",
       " 'Desistente',\n",
       " 'Concluinte',\n",
       " 'Desistente',\n",
       " 'Desistente',\n",
       " 'Concluinte',\n",
       " 'Concluinte',\n",
       " 'Concluinte',\n",
       " 'Concluinte',\n",
       " 'Desistente',\n",
       " 'Concluinte',\n",
       " 'Concluinte',\n",
       " 'Desistente',\n",
       " 'Desistente',\n",
       " 'Desistente',\n",
       " 'Concluinte',\n",
       " 'Desistente',\n",
       " 'Concluinte',\n",
       " 'Concluinte',\n",
       " 'Concluinte',\n",
       " 'Concluinte',\n",
       " 'Desistente',\n",
       " 'Concluinte',\n",
       " 'Concluinte',\n",
       " 'Desistente',\n",
       " 'Desistente',\n",
       " 'Concluinte',\n",
       " 'Desistente',\n",
       " 'Concluinte',\n",
       " 'Desistente',\n",
       " 'Concluinte',\n",
       " 'Desistente',\n",
       " 'Concluinte',\n",
       " 'Desistente',\n",
       " 'Desistente',\n",
       " 'Concluinte',\n",
       " 'Concluinte',\n",
       " 'Concluinte',\n",
       " 'Desistente',\n",
       " 'Concluinte',\n",
       " 'Desistente',\n",
       " 'Desistente',\n",
       " 'Concluinte',\n",
       " 'Concluinte',\n",
       " 'Desistente',\n",
       " 'Desistente',\n",
       " 'Concluinte',\n",
       " 'Desistente',\n",
       " 'Concluinte',\n",
       " 'Desistente',\n",
       " 'Desistente',\n",
       " 'Concluinte',\n",
       " 'Desistente',\n",
       " 'Desistente',\n",
       " 'Concluinte',\n",
       " 'Concluinte',\n",
       " 'Concluinte',\n",
       " 'Desistente',\n",
       " 'Desistente',\n",
       " 'Concluinte',\n",
       " 'Desistente',\n",
       " 'Desistente',\n",
       " 'Desistente',\n",
       " 'Concluinte',\n",
       " 'Concluinte',\n",
       " 'Concluinte',\n",
       " 'Desistente',\n",
       " 'Concluinte',\n",
       " 'Concluinte',\n",
       " 'Desistente',\n",
       " 'Desistente',\n",
       " 'Desistente',\n",
       " 'Desistente',\n",
       " 'Desistente',\n",
       " 'Desistente',\n",
       " 'Desistente',\n",
       " 'Desistente',\n",
       " 'Concluinte',\n",
       " 'Desistente',\n",
       " 'Concluinte',\n",
       " 'Concluinte',\n",
       " 'Concluinte',\n",
       " 'Desistente',\n",
       " 'Desistente',\n",
       " 'Desistente',\n",
       " 'Concluinte',\n",
       " 'Concluinte',\n",
       " 'Concluinte',\n",
       " 'Desistente',\n",
       " 'Concluinte',\n",
       " 'Concluinte',\n",
       " 'Concluinte',\n",
       " 'Desistente',\n",
       " 'Desistente',\n",
       " 'Desistente',\n",
       " 'Concluinte',\n",
       " 'Concluinte',\n",
       " 'Desistente',\n",
       " 'Desistente',\n",
       " 'Concluinte',\n",
       " 'Concluinte',\n",
       " 'Desistente',\n",
       " 'Concluinte',\n",
       " 'Concluinte',\n",
       " 'Concluinte',\n",
       " 'Desistente',\n",
       " 'Concluinte',\n",
       " 'Concluinte',\n",
       " 'Concluinte',\n",
       " 'Concluinte',\n",
       " 'Concluinte',\n",
       " 'Concluinte',\n",
       " 'Desistente',\n",
       " 'Desistente',\n",
       " 'Concluinte',\n",
       " 'Concluinte',\n",
       " 'Desistente',\n",
       " 'Concluinte',\n",
       " 'Concluinte',\n",
       " 'Desistente',\n",
       " 'Concluinte',\n",
       " 'Desistente',\n",
       " 'Concluinte',\n",
       " 'Concluinte',\n",
       " 'Concluinte',\n",
       " 'Desistente',\n",
       " 'Concluinte',\n",
       " 'Concluinte',\n",
       " 'Concluinte',\n",
       " 'Desistente',\n",
       " 'Concluinte',\n",
       " 'Concluinte',\n",
       " 'Desistente',\n",
       " 'Desistente',\n",
       " 'Desistente',\n",
       " 'Concluinte',\n",
       " 'Concluinte',\n",
       " 'Concluinte',\n",
       " 'Desistente',\n",
       " 'Concluinte',\n",
       " 'Concluinte',\n",
       " 'Concluinte',\n",
       " 'Desistente',\n",
       " 'Concluinte',\n",
       " 'Concluinte',\n",
       " 'Desistente',\n",
       " 'Desistente',\n",
       " 'Concluinte',\n",
       " 'Concluinte',\n",
       " 'Desistente',\n",
       " 'Desistente',\n",
       " 'Concluinte',\n",
       " 'Concluinte',\n",
       " 'Concluinte',\n",
       " 'Desistente',\n",
       " 'Desistente',\n",
       " 'Desistente',\n",
       " 'Concluinte',\n",
       " 'Concluinte',\n",
       " 'Desistente',\n",
       " 'Desistente',\n",
       " 'Concluinte',\n",
       " 'Desistente',\n",
       " 'Desistente']"
      ]
     },
     "execution_count": 46,
     "metadata": {},
     "output_type": "execute_result"
    }
   ],
   "source": [
    "respFinal = []\n",
    "for i in range(0,len(previsoes)):\n",
    "    if previsoes[i] == 1:\n",
    "        respFinal.append(\"Desistente\")\n",
    "    else:\n",
    "        respFinal.append(\"Concluinte\")\n",
    "respFinal\n",
    "    "
   ]
  },
  {
   "cell_type": "code",
   "execution_count": 47,
   "metadata": {},
   "outputs": [],
   "source": [
    "# save the model to disk\n",
    "filename = 'ModeloFinal.sav'\n",
    "pickle.dump(modeloMLP, open(filename, 'wb'))"
   ]
  },
  {
   "cell_type": "code",
   "execution_count": null,
   "metadata": {},
   "outputs": [],
   "source": []
  }
 ],
 "metadata": {
  "kernelspec": {
   "display_name": "Python 3 (ipykernel)",
   "language": "python",
   "name": "python3"
  },
  "language_info": {
   "codemirror_mode": {
    "name": "ipython",
    "version": 3
   },
   "file_extension": ".py",
   "mimetype": "text/x-python",
   "name": "python",
   "nbconvert_exporter": "python",
   "pygments_lexer": "ipython3",
   "version": "3.7.3"
  }
 },
 "nbformat": 4,
 "nbformat_minor": 4
}
