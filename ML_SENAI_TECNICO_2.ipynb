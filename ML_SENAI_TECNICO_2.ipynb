{
 "cells": [
  {
   "cell_type": "markdown",
   "metadata": {},
   "source": [
    "# Machine Learning pra Previsão de Evasão Escolar\n",
    "\n",
    "Neste trabalho será feita uma análise exploratória, limpeza de dados e teste de diversos algoritmos de classificação para prever a evasão escolar.  A acurácia mínima de 90% será buscada."
   ]
  },
  {
   "cell_type": "code",
   "execution_count": 1,
   "metadata": {},
   "outputs": [],
   "source": [
    "# Importação dos pacotes\n",
    "import pandas as pd\n",
    "import numpy as np\n",
    "import matplotlib.pyplot as plt\n",
    "import seaborn as sns\n",
    "from sklearn.preprocessing import LabelEncoder\n",
    "from category_encoders import JamesSteinEncoder\n",
    "from sklearn.model_selection import train_test_split\n",
    "import imblearn\n",
    "from sklearn.metrics import accuracy_score\n",
    "from sklearn.linear_model import LogisticRegression\n",
    "from sklearn.preprocessing import StandardScaler\n",
    "from sklearn.neural_network import MLPClassifier\n",
    "from sklearn.neighbors import KNeighborsClassifier\n",
    "from sklearn.svm import SVC\n",
    "from sklearn.gaussian_process import GaussianProcessClassifier\n",
    "from sklearn.gaussian_process.kernels import RBF\n",
    "from sklearn.tree import DecisionTreeClassifier\n",
    "from sklearn.ensemble import RandomForestClassifier, AdaBoostClassifier\n",
    "from sklearn.naive_bayes import GaussianNB\n",
    "from sklearn.discriminant_analysis import QuadraticDiscriminantAnalysis\n",
    "from scipy.sparse import csr_matrix\n",
    "from scipy import sparse\n",
    "import pickle\n",
    "from imblearn.over_sampling import SMOTE"
   ]
  },
  {
   "cell_type": "code",
   "execution_count": 2,
   "metadata": {},
   "outputs": [
    {
     "name": "stdout",
     "output_type": "stream",
     "text": [
      "0.8.0\n"
     ]
    }
   ],
   "source": [
    "print(imblearn.__version__)"
   ]
  },
  {
   "cell_type": "markdown",
   "metadata": {},
   "source": [
    "## Limpeza e transformação dos dados.\n",
    "Observar, limpar e transformar os dados.\n",
    "Essa primeira limpeza deve ser feita para que quando o algoritmo receber as novas informações, ele receba apenas as colunas necessárias com os dados corretos."
   ]
  },
  {
   "cell_type": "code",
   "execution_count": 3,
   "metadata": {},
   "outputs": [],
   "source": [
    "# Carrega o arquivo em um dataset.  Apaga a coluna que vem com o dataset.\n",
    "tecnicoJoinville = pd.read_csv(\"TECNICOS_Joinville5.csv\", encoding = 'latin-1', low_memory = False)\n",
    "tecnicoJoinville.drop([\"Unnamed: 0\"], axis = 1, inplace = True)"
   ]
  },
  {
   "cell_type": "code",
   "execution_count": 4,
   "metadata": {},
   "outputs": [
    {
     "data": {
      "text/html": [
       "<div>\n",
       "<style scoped>\n",
       "    .dataframe tbody tr th:only-of-type {\n",
       "        vertical-align: middle;\n",
       "    }\n",
       "\n",
       "    .dataframe tbody tr th {\n",
       "        vertical-align: top;\n",
       "    }\n",
       "\n",
       "    .dataframe thead th {\n",
       "        text-align: right;\n",
       "    }\n",
       "</style>\n",
       "<table border=\"1\" class=\"dataframe\">\n",
       "  <thead>\n",
       "    <tr style=\"text-align: right;\">\n",
       "      <th></th>\n",
       "      <th>produto_educacao</th>\n",
       "      <th>carga_horaria</th>\n",
       "      <th>turno</th>\n",
       "      <th>gratuidade_turma</th>\n",
       "      <th>tipo</th>\n",
       "      <th>online</th>\n",
       "      <th>bairro</th>\n",
       "      <th>cidade</th>\n",
       "      <th>genero</th>\n",
       "      <th>escolaridade</th>\n",
       "      <th>situacao_ocupacional</th>\n",
       "      <th>situacao_matricula</th>\n",
       "      <th>IDADE</th>\n",
       "      <th>empresa</th>\n",
       "    </tr>\n",
       "  </thead>\n",
       "  <tbody>\n",
       "    <tr>\n",
       "      <th>0</th>\n",
       "      <td>AUTOMACAO</td>\n",
       "      <td>1200</td>\n",
       "      <td>Tarde</td>\n",
       "      <td>Mista</td>\n",
       "      <td>PF</td>\n",
       "      <td>Nao</td>\n",
       "      <td>Aventureiro</td>\n",
       "      <td>Joinville</td>\n",
       "      <td>M</td>\n",
       "      <td>Medio_C</td>\n",
       "      <td>Empregado</td>\n",
       "      <td>Concluinte</td>\n",
       "      <td>21</td>\n",
       "      <td>Schulz</td>\n",
       "    </tr>\n",
       "    <tr>\n",
       "      <th>1</th>\n",
       "      <td>FABRICACAO</td>\n",
       "      <td>1600</td>\n",
       "      <td>Noite</td>\n",
       "      <td>Mista</td>\n",
       "      <td>PF</td>\n",
       "      <td>Nao</td>\n",
       "      <td>Jardim_Paraiso</td>\n",
       "      <td>Joinville</td>\n",
       "      <td>M</td>\n",
       "      <td>Medio_C</td>\n",
       "      <td>Empregado</td>\n",
       "      <td>Concluinte</td>\n",
       "      <td>18</td>\n",
       "      <td>N_D</td>\n",
       "    </tr>\n",
       "    <tr>\n",
       "      <th>2</th>\n",
       "      <td>LOGISTICA</td>\n",
       "      <td>1300</td>\n",
       "      <td>Noite</td>\n",
       "      <td>Mista</td>\n",
       "      <td>PF</td>\n",
       "      <td>Nao</td>\n",
       "      <td>ForaJoinville</td>\n",
       "      <td>SaoFrancisco_Sul</td>\n",
       "      <td>M</td>\n",
       "      <td>Medio_C</td>\n",
       "      <td>Empregado</td>\n",
       "      <td>Concluinte</td>\n",
       "      <td>18</td>\n",
       "      <td>SENAI/SC</td>\n",
       "    </tr>\n",
       "    <tr>\n",
       "      <th>3</th>\n",
       "      <td>AUTOMACAO</td>\n",
       "      <td>1600</td>\n",
       "      <td>Tarde</td>\n",
       "      <td>Mista</td>\n",
       "      <td>PF</td>\n",
       "      <td>Nao</td>\n",
       "      <td>Aventureiro</td>\n",
       "      <td>Joinville</td>\n",
       "      <td>M</td>\n",
       "      <td>Medio_C</td>\n",
       "      <td>Desempregado</td>\n",
       "      <td>Concluinte</td>\n",
       "      <td>16</td>\n",
       "      <td>N_D</td>\n",
       "    </tr>\n",
       "    <tr>\n",
       "      <th>4</th>\n",
       "      <td>MECANICA</td>\n",
       "      <td>1620</td>\n",
       "      <td>Tarde</td>\n",
       "      <td>Mista</td>\n",
       "      <td>PF</td>\n",
       "      <td>Nao</td>\n",
       "      <td>Ulysses_Guimaraes</td>\n",
       "      <td>Joinville</td>\n",
       "      <td>M</td>\n",
       "      <td>Medio_C</td>\n",
       "      <td>Empregado</td>\n",
       "      <td>Concluinte</td>\n",
       "      <td>17</td>\n",
       "      <td>Schulz</td>\n",
       "    </tr>\n",
       "  </tbody>\n",
       "</table>\n",
       "</div>"
      ],
      "text/plain": [
       "  produto_educacao carga_horaria  turno gratuidade_turma tipo online  \\\n",
       "0        AUTOMACAO          1200  Tarde            Mista   PF    Nao   \n",
       "1       FABRICACAO          1600  Noite            Mista   PF    Nao   \n",
       "2        LOGISTICA          1300  Noite            Mista   PF    Nao   \n",
       "3        AUTOMACAO          1600  Tarde            Mista   PF    Nao   \n",
       "4         MECANICA          1620  Tarde            Mista   PF    Nao   \n",
       "\n",
       "              bairro            cidade genero escolaridade  \\\n",
       "0        Aventureiro         Joinville      M      Medio_C   \n",
       "1     Jardim_Paraiso         Joinville      M      Medio_C   \n",
       "2      ForaJoinville  SaoFrancisco_Sul      M      Medio_C   \n",
       "3        Aventureiro         Joinville      M      Medio_C   \n",
       "4  Ulysses_Guimaraes         Joinville      M      Medio_C   \n",
       "\n",
       "  situacao_ocupacional situacao_matricula  IDADE   empresa  \n",
       "0            Empregado         Concluinte     21    Schulz  \n",
       "1            Empregado         Concluinte     18       N_D  \n",
       "2            Empregado         Concluinte     18  SENAI/SC  \n",
       "3         Desempregado         Concluinte     16       N_D  \n",
       "4            Empregado         Concluinte     17    Schulz  "
      ]
     },
     "execution_count": 4,
     "metadata": {},
     "output_type": "execute_result"
    }
   ],
   "source": [
    "# Observando as 5 primeiras linhas do dataset\n",
    "tecnicoJoinville.head()"
   ]
  },
  {
   "cell_type": "code",
   "execution_count": 5,
   "metadata": {},
   "outputs": [
    {
     "data": {
      "text/plain": [
       "(1926, 14)"
      ]
     },
     "execution_count": 5,
     "metadata": {},
     "output_type": "execute_result"
    }
   ],
   "source": [
    "tecnicoJoinville.shape"
   ]
  },
  {
   "cell_type": "code",
   "execution_count": 6,
   "metadata": {},
   "outputs": [
    {
     "data": {
      "text/plain": [
       "Desistente    1178\n",
       "Concluinte     748\n",
       "Name: situacao_matricula, dtype: int64"
      ]
     },
     "execution_count": 6,
     "metadata": {},
     "output_type": "execute_result"
    }
   ],
   "source": [
    "# Verificando se o dataset está desbalanceado\n",
    "tecnicoJoinville['situacao_matricula'].value_counts()"
   ]
  },
  {
   "cell_type": "markdown",
   "metadata": {},
   "source": [
    "A variável target está desbalanceada. Para que o algoritmo aprenda corretamente é necessário que o dataset esteja balanceado."
   ]
  },
  {
   "cell_type": "markdown",
   "metadata": {},
   "source": [
    "## Teste dos algoritmos de classificação"
   ]
  },
  {
   "cell_type": "markdown",
   "metadata": {},
   "source": [
    "#### Antes de iniciar os testes para escolher o melhor algoritmo, é necessário transformar as variáveis categóricas em variáveis numéricas.\n",
    "#### Regressão Logística utilizando Ordinal Encoder"
   ]
  },
  {
   "cell_type": "code",
   "execution_count": 7,
   "metadata": {},
   "outputs": [],
   "source": [
    "# Criando uma lista de nomes dos algoritmos que serão testados. \n",
    "# Isso vai permitir criar um dataframe com os resultados de acurácia no final dos testes.\n",
    "Nomes = [\"Regressao\", \"Nearest Neighbors\", \"Linear SVM\", \"RBF SVM\", \"Gaussian Process\",\n",
    "         \"Decision Tree\", \"Random Forest\", \"Neural Net\", \"AdaBoost\",\n",
    "         \"Naive Bayes\", \"QDA\"]\n",
    "Acuracia = []"
   ]
  },
  {
   "cell_type": "code",
   "execution_count": 8,
   "metadata": {},
   "outputs": [],
   "source": [
    "# Pegando apenas os valores, sem o cabeçalho, em formato de array\n",
    "data = tecnicoJoinville.values"
   ]
  },
  {
   "cell_type": "code",
   "execution_count": 9,
   "metadata": {},
   "outputs": [
    {
     "data": {
      "text/plain": [
       "array([['AUTOMACAO', '1200', 'Tarde', ..., 'Concluinte', 21, 'Schulz'],\n",
       "       ['FABRICACAO', '1600', 'Noite', ..., 'Concluinte', 18, 'N_D'],\n",
       "       ['LOGISTICA', '1300', 'Noite', ..., 'Concluinte', 18, 'SENAI/SC'],\n",
       "       ...,\n",
       "       ['DESENVOLVIMENTO', '1000', 'Noite', ..., 'Desistente', 20, 'N_D'],\n",
       "       ['PLASTICO', '1250', 'Noite', ..., 'Desistente', 27, 'N_D'],\n",
       "       ['PLASTICO', '1250', 'Manha', ..., 'Desistente', 27, 'LINKPLAS']],\n",
       "      dtype=object)"
      ]
     },
     "execution_count": 9,
     "metadata": {},
     "output_type": "execute_result"
    }
   ],
   "source": [
    "# Visualizando os dados\n",
    "data"
   ]
  },
  {
   "cell_type": "code",
   "execution_count": 10,
   "metadata": {},
   "outputs": [],
   "source": [
    "# Separando a variável target do dataset:\n",
    "y = data[:,11]"
   ]
  },
  {
   "cell_type": "code",
   "execution_count": 11,
   "metadata": {},
   "outputs": [
    {
     "data": {
      "text/plain": [
       "(1926,)"
      ]
     },
     "execution_count": 11,
     "metadata": {},
     "output_type": "execute_result"
    }
   ],
   "source": [
    "# Tamanho da variável\n",
    "y.shape"
   ]
  },
  {
   "cell_type": "code",
   "execution_count": 12,
   "metadata": {},
   "outputs": [],
   "source": [
    "# Pegando todas as outras colunas\n",
    "X = data[:,[0,1,2,3,4,5,6,7,8,9,10,12,13]]"
   ]
  },
  {
   "cell_type": "code",
   "execution_count": 13,
   "metadata": {},
   "outputs": [
    {
     "data": {
      "text/plain": [
       "(1926, 13)"
      ]
     },
     "execution_count": 13,
     "metadata": {},
     "output_type": "execute_result"
    }
   ],
   "source": [
    "# Tamanho do array resultante.\n",
    "X.shape"
   ]
  },
  {
   "cell_type": "code",
   "execution_count": 14,
   "metadata": {},
   "outputs": [
    {
     "data": {
      "text/plain": [
       "array([['AUTOMACAO', '1200', 'Tarde', ..., 'Empregado', 21, 'Schulz'],\n",
       "       ['FABRICACAO', '1600', 'Noite', ..., 'Empregado', 18, 'N_D'],\n",
       "       ['LOGISTICA', '1300', 'Noite', ..., 'Empregado', 18, 'SENAI/SC'],\n",
       "       ...,\n",
       "       ['DESENVOLVIMENTO', '1000', 'Noite', ..., 'Empregado', 20, 'N_D'],\n",
       "       ['PLASTICO', '1250', 'Noite', ..., 'Empregado', 27, 'N_D'],\n",
       "       ['PLASTICO', '1250', 'Manha', ..., 'Empregado', 27, 'LINKPLAS']],\n",
       "      dtype=object)"
      ]
     },
     "execution_count": 14,
     "metadata": {},
     "output_type": "execute_result"
    }
   ],
   "source": [
    "# Visualizando o array\n",
    "X"
   ]
  },
  {
   "cell_type": "code",
   "execution_count": 15,
   "metadata": {},
   "outputs": [
    {
     "data": {
      "text/plain": [
       "array(['Concluinte', 'Concluinte', 'Concluinte', ..., 'Desistente',\n",
       "       'Desistente', 'Desistente'], dtype=object)"
      ]
     },
     "execution_count": 15,
     "metadata": {},
     "output_type": "execute_result"
    }
   ],
   "source": [
    "# Visualizando a variável target\n",
    "y"
   ]
  },
  {
   "cell_type": "code",
   "execution_count": 16,
   "metadata": {},
   "outputs": [],
   "source": [
    "# Aplicando Label Encoder aos dados de saída\n",
    "label_encoder = LabelEncoder()\n",
    "label_encoder.fit(y)\n",
    "y = label_encoder.transform(y)"
   ]
  },
  {
   "cell_type": "code",
   "execution_count": 17,
   "metadata": {},
   "outputs": [
    {
     "data": {
      "text/plain": [
       "array([0, 0, 0, ..., 1, 1, 1])"
      ]
     },
     "execution_count": 17,
     "metadata": {},
     "output_type": "execute_result"
    }
   ],
   "source": [
    "# Visualizando a variável target de treino após a aplicação do Label Encoder\n",
    "y"
   ]
  },
  {
   "cell_type": "markdown",
   "metadata": {},
   "source": [
    "### James Stein Encoder"
   ]
  },
  {
   "cell_type": "code",
   "execution_count": 18,
   "metadata": {},
   "outputs": [
    {
     "name": "stderr",
     "output_type": "stream",
     "text": [
      "D:\\ANACONDA\\lib\\site-packages\\category_encoders\\utils.py:21: FutureWarning: is_categorical is deprecated and will be removed in a future version.  Use is_categorical_dtype instead\n",
      "  elif pd.api.types.is_categorical(cols):\n"
     ]
    }
   ],
   "source": [
    "js_encoder = JamesSteinEncoder()\n",
    "js_encoder.fit_transform(X=X, y=y)\n",
    "X = js_encoder.transform(X)"
   ]
  },
  {
   "cell_type": "code",
   "execution_count": 19,
   "metadata": {},
   "outputs": [],
   "source": [
    "X[np.isfinite(X) == False] = 0"
   ]
  },
  {
   "cell_type": "code",
   "execution_count": 20,
   "metadata": {},
   "outputs": [],
   "source": [
    "scaler = StandardScaler(with_mean=False) \n",
    "X = X.astype(np.float64)\n",
    "X = scaler.fit_transform(X)\n",
    "X = scaler.fit_transform(X)\n",
    "oversample = SMOTE()\n",
    "X, y = oversample.fit_resample(X, y)"
   ]
  },
  {
   "cell_type": "code",
   "execution_count": 21,
   "metadata": {},
   "outputs": [],
   "source": [
    "# Separando em conjunto de treino e teste\n",
    "X_train1, X_test1, y_train1, y_test1 = train_test_split(X, y, test_size=0.33, random_state = 0)"
   ]
  },
  {
   "cell_type": "code",
   "execution_count": 22,
   "metadata": {},
   "outputs": [],
   "source": [
    "#Definindo o modelo\n",
    "modelo5 = LogisticRegression(solver='saga', max_iter=10000)"
   ]
  },
  {
   "cell_type": "code",
   "execution_count": 23,
   "metadata": {},
   "outputs": [
    {
     "name": "stdout",
     "output_type": "stream",
     "text": [
      "Accuracy: 85.86\n"
     ]
    }
   ],
   "source": [
    "modelo5.fit(X_train1, y_train1)\n",
    "# Previsões nos dados de teste\n",
    "yhat = modelo5.predict(X_test1)\n",
    "# Avalia a previsão\n",
    "accuracy = accuracy_score(y_test1, yhat)\n",
    "print('Accuracy: %.2f' % (accuracy*100))\n",
    "\n",
    "# Salvando o resultado da regressão logística com Ordinal Encoder\n",
    "Acuracia.append(accuracy*100)  ##################################  1"
   ]
  },
  {
   "cell_type": "markdown",
   "metadata": {},
   "source": [
    "## Utilizar o K Nearest Neighbors com James Stein Encoder"
   ]
  },
  {
   "cell_type": "code",
   "execution_count": 24,
   "metadata": {},
   "outputs": [],
   "source": [
    "# Cria o modelo\n",
    "modeloK =  KNeighborsClassifier(30)"
   ]
  },
  {
   "cell_type": "code",
   "execution_count": 25,
   "metadata": {},
   "outputs": [
    {
     "name": "stdout",
     "output_type": "stream",
     "text": [
      "87.40359897172236\n"
     ]
    }
   ],
   "source": [
    "# Treina o modelo\n",
    "modeloK.fit(X_train1, y_train1)\n",
    "# Fazendo previsões\n",
    "yhat1 = modeloK.predict(X_test1)\n",
    "score = modeloK.score(X_test1, y_test1)\n",
    "# Avaliando as previsões\n",
    "accuracy = accuracy_score(y_test1, yhat1)\n",
    "print(score*100)\n",
    "\n",
    "Acuracia.append(score*100) ######################## 2"
   ]
  },
  {
   "cell_type": "markdown",
   "metadata": {},
   "source": [
    "## Utilizar o SVC com  James Stein Encoder"
   ]
  },
  {
   "cell_type": "code",
   "execution_count": 26,
   "metadata": {},
   "outputs": [
    {
     "name": "stdout",
     "output_type": "stream",
     "text": [
      "87.40359897172236\n"
     ]
    }
   ],
   "source": [
    "# Cria o modelo\n",
    "modeloSVC = SVC(kernel=\"linear\", C=0.025)\n",
    "\n",
    "# Treina o modelo\n",
    "modeloSVC.fit(X_train1, y_train1)\n",
    "# Fazendo previsões\n",
    "score = modeloSVC.score(X_test1, y_test1)\n",
    "\n",
    "# Avaliando as previsões\n",
    "print(score*100)\n",
    "\n",
    "Acuracia.append(score*100)   ######################## 3"
   ]
  },
  {
   "cell_type": "markdown",
   "metadata": {},
   "source": [
    "## Utilizar o SVC com outros parâmetros, James Stein Encoder"
   ]
  },
  {
   "cell_type": "code",
   "execution_count": 27,
   "metadata": {},
   "outputs": [
    {
     "name": "stdout",
     "output_type": "stream",
     "text": [
      "85.47557840616966\n"
     ]
    }
   ],
   "source": [
    "# Cria o modelo\n",
    "modeloSVC = SVC(gamma=2, C=1)\n",
    "\n",
    "# Treina o modelo\n",
    "modeloSVC.fit(X_train1, y_train1)\n",
    "# Fazendo previsões\n",
    "score = modeloSVC.score(X_test1, y_test1)\n",
    "\n",
    "# Avaliando as previsões\n",
    "print(score*100)\n",
    "\n",
    "Acuracia.append(score*100)   ######################## 4"
   ]
  },
  {
   "cell_type": "markdown",
   "metadata": {},
   "source": [
    "## Utilizar o classificador Gaussiano, James Stein Encoder"
   ]
  },
  {
   "cell_type": "code",
   "execution_count": 28,
   "metadata": {},
   "outputs": [
    {
     "name": "stdout",
     "output_type": "stream",
     "text": [
      "89.33161953727506\n"
     ]
    }
   ],
   "source": [
    "# Cria o modelo\n",
    "modeloGaus = GaussianProcessClassifier(1.0 * RBF(1.0))\n",
    "\n",
    "# Treina o modelo\n",
    "modeloGaus.fit(X_train1, y_train1)\n",
    "# Fazendo previsões\n",
    "score = modeloGaus.score(X_test1, y_test1)\n",
    "\n",
    "# Avaliando as previsões\n",
    "print(score*100)\n",
    "\n",
    "    \n",
    "Acuracia.append(score*100) ######################## 5"
   ]
  },
  {
   "cell_type": "markdown",
   "metadata": {},
   "source": [
    "## Utilizar o Decision Tree, James Stein Encoder"
   ]
  },
  {
   "cell_type": "code",
   "execution_count": 29,
   "metadata": {},
   "outputs": [
    {
     "name": "stdout",
     "output_type": "stream",
     "text": [
      "83.9331619537275\n"
     ]
    }
   ],
   "source": [
    "# Cria o modelo\n",
    "modeloDT = DecisionTreeClassifier(max_depth=5)\n",
    "\n",
    "# Treina o modelo\n",
    "modeloDT.fit(X_train1, y_train1)\n",
    "# Fazendo previsões\n",
    "score = modeloDT.score(X_test1, y_test1)\n",
    "\n",
    "# Avaliando as previsões\n",
    "print(score*100)\n",
    "\n",
    "Acuracia.append(score*100)  ######################## 6"
   ]
  },
  {
   "cell_type": "markdown",
   "metadata": {},
   "source": [
    "## Utilizar o Random Forest, James Stein Encoder"
   ]
  },
  {
   "cell_type": "code",
   "execution_count": 30,
   "metadata": {},
   "outputs": [
    {
     "name": "stdout",
     "output_type": "stream",
     "text": [
      "89.33161953727506\n"
     ]
    }
   ],
   "source": [
    "# Cria o modelo\n",
    "modeloRF = RandomForestClassifier(max_depth=50, n_estimators=100, max_features=13)\n",
    "\n",
    "# Treina o modelo\n",
    "modeloRF.fit(X_train1, y_train1)\n",
    "# Fazendo previsões\n",
    "score = modeloRF.score(X_test1, y_test1)\n",
    "\n",
    "# Avaliando as previsões\n",
    "print(score*100)\n",
    "previsoes = modeloRF.predict(X_test1)\n",
    "Acuracia.append(score*100)  ######################## 7"
   ]
  },
  {
   "cell_type": "markdown",
   "metadata": {},
   "source": [
    "## Utilizar uma rede neural, James Stein Encoder\n"
   ]
  },
  {
   "cell_type": "code",
   "execution_count": 31,
   "metadata": {},
   "outputs": [
    {
     "name": "stdout",
     "output_type": "stream",
     "text": [
      "84.31876606683805\n"
     ]
    }
   ],
   "source": [
    "\n",
    "# Cria o modelo\n",
    "modeloMLP = MLPClassifier(alpha=2, max_iter=2000)\n",
    "\n",
    "# Treina o modelo\n",
    "modeloMLP.fit(X_train1, y_train1)\n",
    "# Fazendo previsões\n",
    "score = modeloMLP.score(X_test1, y_test1)\n",
    "\n",
    "# Avaliando as previsões\n",
    "print(score*100)\n",
    "\n",
    "Acuracia.append(score*100)  ######################## 8"
   ]
  },
  {
   "cell_type": "markdown",
   "metadata": {},
   "source": [
    "## Utilizar o classificador ADA Boost, James Stein Encoder"
   ]
  },
  {
   "cell_type": "code",
   "execution_count": 32,
   "metadata": {},
   "outputs": [
    {
     "name": "stdout",
     "output_type": "stream",
     "text": [
      "87.91773778920309\n"
     ]
    }
   ],
   "source": [
    "# Cria o modelo\n",
    "modeloABC =  AdaBoostClassifier()\n",
    "\n",
    "# Treina o modelo\n",
    "modeloABC.fit(X_train1, y_train1)\n",
    "# Fazendo previsões\n",
    "score = modeloABC.score(X_test1, y_test1)\n",
    "\n",
    "# Avaliando as previsões\n",
    "print(score*100)\n",
    "\n",
    "Acuracia.append(score*100)  ######################## 9"
   ]
  },
  {
   "cell_type": "markdown",
   "metadata": {},
   "source": [
    "## Utilizar o classificador Naive Bayes, James Stein Encoder"
   ]
  },
  {
   "cell_type": "code",
   "execution_count": 33,
   "metadata": {},
   "outputs": [
    {
     "name": "stdout",
     "output_type": "stream",
     "text": [
      "80.20565552699229\n"
     ]
    }
   ],
   "source": [
    "# Cria o modelo\n",
    "modeloGNB =  GaussianNB()\n",
    "\n",
    "# Treina o modelo\n",
    "modeloGNB.fit(X_train1, y_train1)\n",
    "# Fazendo previsões\n",
    "score = modeloGNB.score(X_test1, y_test1)\n",
    "\n",
    "# Avaliando as previsões\n",
    "print(score*100)\n",
    "\n",
    "Acuracia.append(score*100)  ######################## 10"
   ]
  },
  {
   "cell_type": "markdown",
   "metadata": {},
   "source": [
    "## Utilizar o classificador Quadratic Discriminant Analysis, James Stein Encoder"
   ]
  },
  {
   "cell_type": "code",
   "execution_count": 34,
   "metadata": {},
   "outputs": [
    {
     "name": "stdout",
     "output_type": "stream",
     "text": [
      "81.61953727506427\n"
     ]
    }
   ],
   "source": [
    "# Cria o modelo\n",
    "modeloQDA =  QuadraticDiscriminantAnalysis()\n",
    "\n",
    "# Treina o modelo\n",
    "modeloQDA.fit(X_train1, y_train1)\n",
    "# Fazendo previsões\n",
    "score = modeloQDA.score(X_test1, y_test1)\n",
    "\n",
    "# Avaliando as previsões\n",
    "print(score*100)\n",
    "\n",
    "Acuracia.append(score*100) ######################## 11"
   ]
  },
  {
   "cell_type": "code",
   "execution_count": 35,
   "metadata": {},
   "outputs": [
    {
     "data": {
      "text/plain": [
       "[85.8611825192802,\n",
       " 87.40359897172236,\n",
       " 87.40359897172236,\n",
       " 85.47557840616966,\n",
       " 89.33161953727506,\n",
       " 83.9331619537275,\n",
       " 89.33161953727506,\n",
       " 84.31876606683805,\n",
       " 87.91773778920309,\n",
       " 80.20565552699229,\n",
       " 81.61953727506427]"
      ]
     },
     "execution_count": 35,
     "metadata": {},
     "output_type": "execute_result"
    }
   ],
   "source": [
    "Acuracia"
   ]
  },
  {
   "cell_type": "code",
   "execution_count": 36,
   "metadata": {},
   "outputs": [],
   "source": [
    "#Resultados = pd.DataFrame(Nomes, Acuracia)\n",
    "Resultados = pd.DataFrame(list(zip(Nomes, Acuracia)),columns =['Nomes', 'Acuracia'])"
   ]
  },
  {
   "cell_type": "code",
   "execution_count": 37,
   "metadata": {},
   "outputs": [
    {
     "data": {
      "text/html": [
       "<div>\n",
       "<style scoped>\n",
       "    .dataframe tbody tr th:only-of-type {\n",
       "        vertical-align: middle;\n",
       "    }\n",
       "\n",
       "    .dataframe tbody tr th {\n",
       "        vertical-align: top;\n",
       "    }\n",
       "\n",
       "    .dataframe thead th {\n",
       "        text-align: right;\n",
       "    }\n",
       "</style>\n",
       "<table border=\"1\" class=\"dataframe\">\n",
       "  <thead>\n",
       "    <tr style=\"text-align: right;\">\n",
       "      <th></th>\n",
       "      <th>Nomes</th>\n",
       "      <th>Acuracia</th>\n",
       "    </tr>\n",
       "  </thead>\n",
       "  <tbody>\n",
       "    <tr>\n",
       "      <th>0</th>\n",
       "      <td>Regressao</td>\n",
       "      <td>85.861183</td>\n",
       "    </tr>\n",
       "    <tr>\n",
       "      <th>1</th>\n",
       "      <td>Nearest Neighbors</td>\n",
       "      <td>87.403599</td>\n",
       "    </tr>\n",
       "    <tr>\n",
       "      <th>2</th>\n",
       "      <td>Linear SVM</td>\n",
       "      <td>87.403599</td>\n",
       "    </tr>\n",
       "    <tr>\n",
       "      <th>3</th>\n",
       "      <td>RBF SVM</td>\n",
       "      <td>85.475578</td>\n",
       "    </tr>\n",
       "    <tr>\n",
       "      <th>4</th>\n",
       "      <td>Gaussian Process</td>\n",
       "      <td>89.331620</td>\n",
       "    </tr>\n",
       "    <tr>\n",
       "      <th>5</th>\n",
       "      <td>Decision Tree</td>\n",
       "      <td>83.933162</td>\n",
       "    </tr>\n",
       "    <tr>\n",
       "      <th>6</th>\n",
       "      <td>Random Forest</td>\n",
       "      <td>89.331620</td>\n",
       "    </tr>\n",
       "    <tr>\n",
       "      <th>7</th>\n",
       "      <td>Neural Net</td>\n",
       "      <td>84.318766</td>\n",
       "    </tr>\n",
       "    <tr>\n",
       "      <th>8</th>\n",
       "      <td>AdaBoost</td>\n",
       "      <td>87.917738</td>\n",
       "    </tr>\n",
       "    <tr>\n",
       "      <th>9</th>\n",
       "      <td>Naive Bayes</td>\n",
       "      <td>80.205656</td>\n",
       "    </tr>\n",
       "    <tr>\n",
       "      <th>10</th>\n",
       "      <td>QDA</td>\n",
       "      <td>81.619537</td>\n",
       "    </tr>\n",
       "  </tbody>\n",
       "</table>\n",
       "</div>"
      ],
      "text/plain": [
       "                Nomes   Acuracia\n",
       "0           Regressao  85.861183\n",
       "1   Nearest Neighbors  87.403599\n",
       "2          Linear SVM  87.403599\n",
       "3             RBF SVM  85.475578\n",
       "4    Gaussian Process  89.331620\n",
       "5       Decision Tree  83.933162\n",
       "6       Random Forest  89.331620\n",
       "7          Neural Net  84.318766\n",
       "8            AdaBoost  87.917738\n",
       "9         Naive Bayes  80.205656\n",
       "10                QDA  81.619537"
      ]
     },
     "execution_count": 37,
     "metadata": {},
     "output_type": "execute_result"
    }
   ],
   "source": [
    "Resultados"
   ]
  },
  {
   "cell_type": "code",
   "execution_count": 38,
   "metadata": {},
   "outputs": [
    {
     "name": "stdout",
     "output_type": "stream",
     "text": [
      "Modelo escolhido: 89.33\n"
     ]
    }
   ],
   "source": [
    "\n",
    "print('Modelo escolhido: %.2f' % (Resultados['Acuracia'].max()))"
   ]
  },
  {
   "cell_type": "code",
   "execution_count": 39,
   "metadata": {},
   "outputs": [
    {
     "data": {
      "text/plain": [
       "RandomForestClassifier(max_depth=50, max_features=13)"
      ]
     },
     "execution_count": 39,
     "metadata": {},
     "output_type": "execute_result"
    }
   ],
   "source": [
    "modeloRF"
   ]
  },
  {
   "cell_type": "code",
   "execution_count": 40,
   "metadata": {},
   "outputs": [
    {
     "name": "stdout",
     "output_type": "stream",
     "text": [
      "[0 1 0 1 1 0 1 0 1 1 1 0 0 1 1 1 1 0 0 0 0 1 1 1 1 1 0 1 1 0 1 0 0 1 1 1 1\n",
      " 1 1 1 1 0 1 0 0 1 0 0 1 1 1 1 0 0 1 1 1 1 1 0 0 1 1 0 0 1 1 1 0 0 1 0 0 1\n",
      " 0 1 0 0 1 0 1 0 0 1 0 1 0 0 1 0 0 0 0 0 0 0 1 0 0 0 1 0 0 0 1 0 0 0 0 1 0\n",
      " 0 1 1 0 1 0 0 1 0 1 1 1 0 0 1 0 1 0 0 0 0 0 0 0 0 0 1 1 1 1 1 1 0 0 0 0 1\n",
      " 1 1 1 0 0 1 0 0 1 0 1 1 0 1 0 1 1 0 1 1 1 0 0 1 0 0 1 1 0 1 0 1 1 1 1 0 1\n",
      " 1 0 0 1 0 1 0 0 1 1 0 0 0 0 1 0 0 0 1 1 1 0 0 0 0 1 1 0 0 1 0 1 0 0 1 0 0\n",
      " 1 1 1 1 0 0 1 1 0 1 1 1 1 0 0 1 0 0 0 0 0 0 0 0 0 0 0 1 1 1 1 0 0 1 0 0 0\n",
      " 0 1 1 1 1 0 1 1 1 0 1 0 0 1 1 1 1 0 1 1 0 0 0 0 1 0 1 1 0 0 0 0 0 0 0 0 1\n",
      " 0 0 0 1 1 0 0 1 1 1 0 0 1 0 1 0 0 0 0 0 0 1 0 0 1 1 1 1 0 1 1 1 0 0 1 0 1\n",
      " 1 1 0 0 1 1 0 0 1 0 0 0 1 1 1 0 1 0 0 1 1 1 1 1 0 0 0 0 0 1 1 0 1 0 0 0 1\n",
      " 0 1 1 0 1 0 0 0 0 1 0 1 0 1 0 0 1 0 1 1 1 1 0 1 1 1 1 0 1 0 1 1 1 0 1 0 1\n",
      " 0 1 0 0 0 1 0 1 0 0 1 1 1 0 1 1 0 0 0 1 1 0 0 0 1 0 1 1 1 1 0 1 1 0 0 1 0\n",
      " 0 1 0 0 0 0 1 0 1 0 0 0 1 0 0 0 0 0 1 0 1 1 1 1 0 1 0 0 1 0 1 1 0 1 0 1 1\n",
      " 1 0 0 0 1 0 1 0 1 1 1 1 0 0 0 1 1 1 1 1 1 0 0 0 0 1 1 1 0 1 0 0 1 1 1 0 0\n",
      " 1 0 1 0 0 0 1 0 1 0 0 0 1 1 1 0 0 0 0 0 1 1 1 1 0 1 0 1 0 0 0 0 1 1 0 0 0\n",
      " 0 0 1 1 0 0 1 1 0 1 1 1 0 1 0 1 0 1 1 0 1 0 1 1 0 1 1 1 0 1 0 1 1 0 0 0 0\n",
      " 0 0 0 0 0 0 1 0 1 1 0 1 1 1 1 1 1 0 0 1 1 1 1 0 0 0 0 1 1 0 1 1 0 0 0 1 1\n",
      " 0 0 1 1 0 1 1 0 0 1 0 0 1 0 0 0 0 1 1 0 0 1 1 0 0 1 0 0 0 1 0 1 1 0 0 0 1\n",
      " 1 0 0 0 0 1 0 1 1 1 1 0 0 1 0 0 1 1 1 0 0 0 1 1 1 1 0 0 0 1 0 1 1 1 1 0 0\n",
      " 1 0 1 0 0 0 1 0 0 0 1 1 0 1 0 0 0 1 0 0 1 0 0 0 1 1 1 1 0 1 0 1 0 0 0 1 0\n",
      " 1 0 1 1 0 1 1 0 0 1 1 1 0 0 1 1 1 0 0 0 0 1 0 0 0 0 1 1 1 1 0 0 0 1 1 1 0\n",
      " 0]\n"
     ]
    }
   ],
   "source": [
    "# Desistente ==> 1\n",
    "# Concluinte ==> 0\n",
    "previsoes = modeloRF.predict(X_test1)\n",
    "print(previsoes)"
   ]
  },
  {
   "cell_type": "code",
   "execution_count": 41,
   "metadata": {},
   "outputs": [
    {
     "data": {
      "text/plain": [
       "778"
      ]
     },
     "execution_count": 41,
     "metadata": {},
     "output_type": "execute_result"
    }
   ],
   "source": [
    "len(previsoes)"
   ]
  },
  {
   "cell_type": "code",
   "execution_count": 42,
   "metadata": {},
   "outputs": [
    {
     "data": {
      "text/plain": [
       "['Concluinte',\n",
       " 'Desistente',\n",
       " 'Concluinte',\n",
       " 'Desistente',\n",
       " 'Desistente',\n",
       " 'Concluinte',\n",
       " 'Desistente',\n",
       " 'Concluinte',\n",
       " 'Desistente',\n",
       " 'Desistente',\n",
       " 'Desistente',\n",
       " 'Concluinte',\n",
       " 'Concluinte',\n",
       " 'Desistente',\n",
       " 'Desistente',\n",
       " 'Desistente',\n",
       " 'Desistente',\n",
       " 'Concluinte',\n",
       " 'Concluinte',\n",
       " 'Concluinte',\n",
       " 'Concluinte',\n",
       " 'Desistente',\n",
       " 'Desistente',\n",
       " 'Desistente',\n",
       " 'Desistente',\n",
       " 'Desistente',\n",
       " 'Concluinte',\n",
       " 'Desistente',\n",
       " 'Desistente',\n",
       " 'Concluinte',\n",
       " 'Desistente',\n",
       " 'Concluinte',\n",
       " 'Concluinte',\n",
       " 'Desistente',\n",
       " 'Desistente',\n",
       " 'Desistente',\n",
       " 'Desistente',\n",
       " 'Desistente',\n",
       " 'Desistente',\n",
       " 'Desistente',\n",
       " 'Desistente',\n",
       " 'Concluinte',\n",
       " 'Desistente',\n",
       " 'Concluinte',\n",
       " 'Concluinte',\n",
       " 'Desistente',\n",
       " 'Concluinte',\n",
       " 'Concluinte',\n",
       " 'Desistente',\n",
       " 'Desistente',\n",
       " 'Desistente',\n",
       " 'Desistente',\n",
       " 'Concluinte',\n",
       " 'Concluinte',\n",
       " 'Desistente',\n",
       " 'Desistente',\n",
       " 'Desistente',\n",
       " 'Desistente',\n",
       " 'Desistente',\n",
       " 'Concluinte',\n",
       " 'Concluinte',\n",
       " 'Desistente',\n",
       " 'Desistente',\n",
       " 'Concluinte',\n",
       " 'Concluinte',\n",
       " 'Desistente',\n",
       " 'Desistente',\n",
       " 'Desistente',\n",
       " 'Concluinte',\n",
       " 'Concluinte',\n",
       " 'Desistente',\n",
       " 'Concluinte',\n",
       " 'Concluinte',\n",
       " 'Desistente',\n",
       " 'Concluinte',\n",
       " 'Desistente',\n",
       " 'Concluinte',\n",
       " 'Concluinte',\n",
       " 'Desistente',\n",
       " 'Concluinte',\n",
       " 'Desistente',\n",
       " 'Concluinte',\n",
       " 'Concluinte',\n",
       " 'Desistente',\n",
       " 'Concluinte',\n",
       " 'Desistente',\n",
       " 'Concluinte',\n",
       " 'Concluinte',\n",
       " 'Desistente',\n",
       " 'Concluinte',\n",
       " 'Concluinte',\n",
       " 'Concluinte',\n",
       " 'Concluinte',\n",
       " 'Concluinte',\n",
       " 'Concluinte',\n",
       " 'Concluinte',\n",
       " 'Desistente',\n",
       " 'Concluinte',\n",
       " 'Concluinte',\n",
       " 'Concluinte',\n",
       " 'Desistente',\n",
       " 'Concluinte',\n",
       " 'Concluinte',\n",
       " 'Concluinte',\n",
       " 'Desistente',\n",
       " 'Concluinte',\n",
       " 'Concluinte',\n",
       " 'Concluinte',\n",
       " 'Concluinte',\n",
       " 'Desistente',\n",
       " 'Concluinte',\n",
       " 'Concluinte',\n",
       " 'Desistente',\n",
       " 'Desistente',\n",
       " 'Concluinte',\n",
       " 'Desistente',\n",
       " 'Concluinte',\n",
       " 'Concluinte',\n",
       " 'Desistente',\n",
       " 'Concluinte',\n",
       " 'Desistente',\n",
       " 'Desistente',\n",
       " 'Desistente',\n",
       " 'Concluinte',\n",
       " 'Concluinte',\n",
       " 'Desistente',\n",
       " 'Concluinte',\n",
       " 'Desistente',\n",
       " 'Concluinte',\n",
       " 'Concluinte',\n",
       " 'Concluinte',\n",
       " 'Concluinte',\n",
       " 'Concluinte',\n",
       " 'Concluinte',\n",
       " 'Concluinte',\n",
       " 'Concluinte',\n",
       " 'Concluinte',\n",
       " 'Desistente',\n",
       " 'Desistente',\n",
       " 'Desistente',\n",
       " 'Desistente',\n",
       " 'Desistente',\n",
       " 'Desistente',\n",
       " 'Concluinte',\n",
       " 'Concluinte',\n",
       " 'Concluinte',\n",
       " 'Concluinte',\n",
       " 'Desistente',\n",
       " 'Desistente',\n",
       " 'Desistente',\n",
       " 'Desistente',\n",
       " 'Concluinte',\n",
       " 'Concluinte',\n",
       " 'Desistente',\n",
       " 'Concluinte',\n",
       " 'Concluinte',\n",
       " 'Desistente',\n",
       " 'Concluinte',\n",
       " 'Desistente',\n",
       " 'Desistente',\n",
       " 'Concluinte',\n",
       " 'Desistente',\n",
       " 'Concluinte',\n",
       " 'Desistente',\n",
       " 'Desistente',\n",
       " 'Concluinte',\n",
       " 'Desistente',\n",
       " 'Desistente',\n",
       " 'Desistente',\n",
       " 'Concluinte',\n",
       " 'Concluinte',\n",
       " 'Desistente',\n",
       " 'Concluinte',\n",
       " 'Concluinte',\n",
       " 'Desistente',\n",
       " 'Desistente',\n",
       " 'Concluinte',\n",
       " 'Desistente',\n",
       " 'Concluinte',\n",
       " 'Desistente',\n",
       " 'Desistente',\n",
       " 'Desistente',\n",
       " 'Desistente',\n",
       " 'Concluinte',\n",
       " 'Desistente',\n",
       " 'Desistente',\n",
       " 'Concluinte',\n",
       " 'Concluinte',\n",
       " 'Desistente',\n",
       " 'Concluinte',\n",
       " 'Desistente',\n",
       " 'Concluinte',\n",
       " 'Concluinte',\n",
       " 'Desistente',\n",
       " 'Desistente',\n",
       " 'Concluinte',\n",
       " 'Concluinte',\n",
       " 'Concluinte',\n",
       " 'Concluinte',\n",
       " 'Desistente',\n",
       " 'Concluinte',\n",
       " 'Concluinte',\n",
       " 'Concluinte',\n",
       " 'Desistente',\n",
       " 'Desistente',\n",
       " 'Desistente',\n",
       " 'Concluinte',\n",
       " 'Concluinte',\n",
       " 'Concluinte',\n",
       " 'Concluinte',\n",
       " 'Desistente',\n",
       " 'Desistente',\n",
       " 'Concluinte',\n",
       " 'Concluinte',\n",
       " 'Desistente',\n",
       " 'Concluinte',\n",
       " 'Desistente',\n",
       " 'Concluinte',\n",
       " 'Concluinte',\n",
       " 'Desistente',\n",
       " 'Concluinte',\n",
       " 'Concluinte',\n",
       " 'Desistente',\n",
       " 'Desistente',\n",
       " 'Desistente',\n",
       " 'Desistente',\n",
       " 'Concluinte',\n",
       " 'Concluinte',\n",
       " 'Desistente',\n",
       " 'Desistente',\n",
       " 'Concluinte',\n",
       " 'Desistente',\n",
       " 'Desistente',\n",
       " 'Desistente',\n",
       " 'Desistente',\n",
       " 'Concluinte',\n",
       " 'Concluinte',\n",
       " 'Desistente',\n",
       " 'Concluinte',\n",
       " 'Concluinte',\n",
       " 'Concluinte',\n",
       " 'Concluinte',\n",
       " 'Concluinte',\n",
       " 'Concluinte',\n",
       " 'Concluinte',\n",
       " 'Concluinte',\n",
       " 'Concluinte',\n",
       " 'Concluinte',\n",
       " 'Concluinte',\n",
       " 'Desistente',\n",
       " 'Desistente',\n",
       " 'Desistente',\n",
       " 'Desistente',\n",
       " 'Concluinte',\n",
       " 'Concluinte',\n",
       " 'Desistente',\n",
       " 'Concluinte',\n",
       " 'Concluinte',\n",
       " 'Concluinte',\n",
       " 'Concluinte',\n",
       " 'Desistente',\n",
       " 'Desistente',\n",
       " 'Desistente',\n",
       " 'Desistente',\n",
       " 'Concluinte',\n",
       " 'Desistente',\n",
       " 'Desistente',\n",
       " 'Desistente',\n",
       " 'Concluinte',\n",
       " 'Desistente',\n",
       " 'Concluinte',\n",
       " 'Concluinte',\n",
       " 'Desistente',\n",
       " 'Desistente',\n",
       " 'Desistente',\n",
       " 'Desistente',\n",
       " 'Concluinte',\n",
       " 'Desistente',\n",
       " 'Desistente',\n",
       " 'Concluinte',\n",
       " 'Concluinte',\n",
       " 'Concluinte',\n",
       " 'Concluinte',\n",
       " 'Desistente',\n",
       " 'Concluinte',\n",
       " 'Desistente',\n",
       " 'Desistente',\n",
       " 'Concluinte',\n",
       " 'Concluinte',\n",
       " 'Concluinte',\n",
       " 'Concluinte',\n",
       " 'Concluinte',\n",
       " 'Concluinte',\n",
       " 'Concluinte',\n",
       " 'Concluinte',\n",
       " 'Desistente',\n",
       " 'Concluinte',\n",
       " 'Concluinte',\n",
       " 'Concluinte',\n",
       " 'Desistente',\n",
       " 'Desistente',\n",
       " 'Concluinte',\n",
       " 'Concluinte',\n",
       " 'Desistente',\n",
       " 'Desistente',\n",
       " 'Desistente',\n",
       " 'Concluinte',\n",
       " 'Concluinte',\n",
       " 'Desistente',\n",
       " 'Concluinte',\n",
       " 'Desistente',\n",
       " 'Concluinte',\n",
       " 'Concluinte',\n",
       " 'Concluinte',\n",
       " 'Concluinte',\n",
       " 'Concluinte',\n",
       " 'Concluinte',\n",
       " 'Desistente',\n",
       " 'Concluinte',\n",
       " 'Concluinte',\n",
       " 'Desistente',\n",
       " 'Desistente',\n",
       " 'Desistente',\n",
       " 'Desistente',\n",
       " 'Concluinte',\n",
       " 'Desistente',\n",
       " 'Desistente',\n",
       " 'Desistente',\n",
       " 'Concluinte',\n",
       " 'Concluinte',\n",
       " 'Desistente',\n",
       " 'Concluinte',\n",
       " 'Desistente',\n",
       " 'Desistente',\n",
       " 'Desistente',\n",
       " 'Concluinte',\n",
       " 'Concluinte',\n",
       " 'Desistente',\n",
       " 'Desistente',\n",
       " 'Concluinte',\n",
       " 'Concluinte',\n",
       " 'Desistente',\n",
       " 'Concluinte',\n",
       " 'Concluinte',\n",
       " 'Concluinte',\n",
       " 'Desistente',\n",
       " 'Desistente',\n",
       " 'Desistente',\n",
       " 'Concluinte',\n",
       " 'Desistente',\n",
       " 'Concluinte',\n",
       " 'Concluinte',\n",
       " 'Desistente',\n",
       " 'Desistente',\n",
       " 'Desistente',\n",
       " 'Desistente',\n",
       " 'Desistente',\n",
       " 'Concluinte',\n",
       " 'Concluinte',\n",
       " 'Concluinte',\n",
       " 'Concluinte',\n",
       " 'Concluinte',\n",
       " 'Desistente',\n",
       " 'Desistente',\n",
       " 'Concluinte',\n",
       " 'Desistente',\n",
       " 'Concluinte',\n",
       " 'Concluinte',\n",
       " 'Concluinte',\n",
       " 'Desistente',\n",
       " 'Concluinte',\n",
       " 'Desistente',\n",
       " 'Desistente',\n",
       " 'Concluinte',\n",
       " 'Desistente',\n",
       " 'Concluinte',\n",
       " 'Concluinte',\n",
       " 'Concluinte',\n",
       " 'Concluinte',\n",
       " 'Desistente',\n",
       " 'Concluinte',\n",
       " 'Desistente',\n",
       " 'Concluinte',\n",
       " 'Desistente',\n",
       " 'Concluinte',\n",
       " 'Concluinte',\n",
       " 'Desistente',\n",
       " 'Concluinte',\n",
       " 'Desistente',\n",
       " 'Desistente',\n",
       " 'Desistente',\n",
       " 'Desistente',\n",
       " 'Concluinte',\n",
       " 'Desistente',\n",
       " 'Desistente',\n",
       " 'Desistente',\n",
       " 'Desistente',\n",
       " 'Concluinte',\n",
       " 'Desistente',\n",
       " 'Concluinte',\n",
       " 'Desistente',\n",
       " 'Desistente',\n",
       " 'Desistente',\n",
       " 'Concluinte',\n",
       " 'Desistente',\n",
       " 'Concluinte',\n",
       " 'Desistente',\n",
       " 'Concluinte',\n",
       " 'Desistente',\n",
       " 'Concluinte',\n",
       " 'Concluinte',\n",
       " 'Concluinte',\n",
       " 'Desistente',\n",
       " 'Concluinte',\n",
       " 'Desistente',\n",
       " 'Concluinte',\n",
       " 'Concluinte',\n",
       " 'Desistente',\n",
       " 'Desistente',\n",
       " 'Desistente',\n",
       " 'Concluinte',\n",
       " 'Desistente',\n",
       " 'Desistente',\n",
       " 'Concluinte',\n",
       " 'Concluinte',\n",
       " 'Concluinte',\n",
       " 'Desistente',\n",
       " 'Desistente',\n",
       " 'Concluinte',\n",
       " 'Concluinte',\n",
       " 'Concluinte',\n",
       " 'Desistente',\n",
       " 'Concluinte',\n",
       " 'Desistente',\n",
       " 'Desistente',\n",
       " 'Desistente',\n",
       " 'Desistente',\n",
       " 'Concluinte',\n",
       " 'Desistente',\n",
       " 'Desistente',\n",
       " 'Concluinte',\n",
       " 'Concluinte',\n",
       " 'Desistente',\n",
       " 'Concluinte',\n",
       " 'Concluinte',\n",
       " 'Desistente',\n",
       " 'Concluinte',\n",
       " 'Concluinte',\n",
       " 'Concluinte',\n",
       " 'Concluinte',\n",
       " 'Desistente',\n",
       " 'Concluinte',\n",
       " 'Desistente',\n",
       " 'Concluinte',\n",
       " 'Concluinte',\n",
       " 'Concluinte',\n",
       " 'Desistente',\n",
       " 'Concluinte',\n",
       " 'Concluinte',\n",
       " 'Concluinte',\n",
       " 'Concluinte',\n",
       " 'Concluinte',\n",
       " 'Desistente',\n",
       " 'Concluinte',\n",
       " 'Desistente',\n",
       " 'Desistente',\n",
       " 'Desistente',\n",
       " 'Desistente',\n",
       " 'Concluinte',\n",
       " 'Desistente',\n",
       " 'Concluinte',\n",
       " 'Concluinte',\n",
       " 'Desistente',\n",
       " 'Concluinte',\n",
       " 'Desistente',\n",
       " 'Desistente',\n",
       " 'Concluinte',\n",
       " 'Desistente',\n",
       " 'Concluinte',\n",
       " 'Desistente',\n",
       " 'Desistente',\n",
       " 'Desistente',\n",
       " 'Concluinte',\n",
       " 'Concluinte',\n",
       " 'Concluinte',\n",
       " 'Desistente',\n",
       " 'Concluinte',\n",
       " 'Desistente',\n",
       " 'Concluinte',\n",
       " 'Desistente',\n",
       " 'Desistente',\n",
       " 'Desistente',\n",
       " 'Desistente',\n",
       " 'Concluinte',\n",
       " 'Concluinte',\n",
       " 'Concluinte',\n",
       " 'Desistente',\n",
       " 'Desistente',\n",
       " 'Desistente',\n",
       " 'Desistente',\n",
       " 'Desistente',\n",
       " 'Desistente',\n",
       " 'Concluinte',\n",
       " 'Concluinte',\n",
       " 'Concluinte',\n",
       " 'Concluinte',\n",
       " 'Desistente',\n",
       " 'Desistente',\n",
       " 'Desistente',\n",
       " 'Concluinte',\n",
       " 'Desistente',\n",
       " 'Concluinte',\n",
       " 'Concluinte',\n",
       " 'Desistente',\n",
       " 'Desistente',\n",
       " 'Desistente',\n",
       " 'Concluinte',\n",
       " 'Concluinte',\n",
       " 'Desistente',\n",
       " 'Concluinte',\n",
       " 'Desistente',\n",
       " 'Concluinte',\n",
       " 'Concluinte',\n",
       " 'Concluinte',\n",
       " 'Desistente',\n",
       " 'Concluinte',\n",
       " 'Desistente',\n",
       " 'Concluinte',\n",
       " 'Concluinte',\n",
       " 'Concluinte',\n",
       " 'Desistente',\n",
       " 'Desistente',\n",
       " 'Desistente',\n",
       " 'Concluinte',\n",
       " 'Concluinte',\n",
       " 'Concluinte',\n",
       " 'Concluinte',\n",
       " 'Concluinte',\n",
       " 'Desistente',\n",
       " 'Desistente',\n",
       " 'Desistente',\n",
       " 'Desistente',\n",
       " 'Concluinte',\n",
       " 'Desistente',\n",
       " 'Concluinte',\n",
       " 'Desistente',\n",
       " 'Concluinte',\n",
       " 'Concluinte',\n",
       " 'Concluinte',\n",
       " 'Concluinte',\n",
       " 'Desistente',\n",
       " 'Desistente',\n",
       " 'Concluinte',\n",
       " 'Concluinte',\n",
       " 'Concluinte',\n",
       " 'Concluinte',\n",
       " 'Concluinte',\n",
       " 'Desistente',\n",
       " 'Desistente',\n",
       " 'Concluinte',\n",
       " 'Concluinte',\n",
       " 'Desistente',\n",
       " 'Desistente',\n",
       " 'Concluinte',\n",
       " 'Desistente',\n",
       " 'Desistente',\n",
       " 'Desistente',\n",
       " 'Concluinte',\n",
       " 'Desistente',\n",
       " 'Concluinte',\n",
       " 'Desistente',\n",
       " 'Concluinte',\n",
       " 'Desistente',\n",
       " 'Desistente',\n",
       " 'Concluinte',\n",
       " 'Desistente',\n",
       " 'Concluinte',\n",
       " 'Desistente',\n",
       " 'Desistente',\n",
       " 'Concluinte',\n",
       " 'Desistente',\n",
       " 'Desistente',\n",
       " 'Desistente',\n",
       " 'Concluinte',\n",
       " 'Desistente',\n",
       " 'Concluinte',\n",
       " 'Desistente',\n",
       " 'Desistente',\n",
       " 'Concluinte',\n",
       " 'Concluinte',\n",
       " 'Concluinte',\n",
       " 'Concluinte',\n",
       " 'Concluinte',\n",
       " 'Concluinte',\n",
       " 'Concluinte',\n",
       " 'Concluinte',\n",
       " 'Concluinte',\n",
       " 'Concluinte',\n",
       " 'Desistente',\n",
       " 'Concluinte',\n",
       " 'Desistente',\n",
       " 'Desistente',\n",
       " 'Concluinte',\n",
       " 'Desistente',\n",
       " 'Desistente',\n",
       " 'Desistente',\n",
       " 'Desistente',\n",
       " 'Desistente',\n",
       " 'Desistente',\n",
       " 'Concluinte',\n",
       " 'Concluinte',\n",
       " 'Desistente',\n",
       " 'Desistente',\n",
       " 'Desistente',\n",
       " 'Desistente',\n",
       " 'Concluinte',\n",
       " 'Concluinte',\n",
       " 'Concluinte',\n",
       " 'Concluinte',\n",
       " 'Desistente',\n",
       " 'Desistente',\n",
       " 'Concluinte',\n",
       " 'Desistente',\n",
       " 'Desistente',\n",
       " 'Concluinte',\n",
       " 'Concluinte',\n",
       " 'Concluinte',\n",
       " 'Desistente',\n",
       " 'Desistente',\n",
       " 'Concluinte',\n",
       " 'Concluinte',\n",
       " 'Desistente',\n",
       " 'Desistente',\n",
       " 'Concluinte',\n",
       " 'Desistente',\n",
       " 'Desistente',\n",
       " 'Concluinte',\n",
       " 'Concluinte',\n",
       " 'Desistente',\n",
       " 'Concluinte',\n",
       " 'Concluinte',\n",
       " 'Desistente',\n",
       " 'Concluinte',\n",
       " 'Concluinte',\n",
       " 'Concluinte',\n",
       " 'Concluinte',\n",
       " 'Desistente',\n",
       " 'Desistente',\n",
       " 'Concluinte',\n",
       " 'Concluinte',\n",
       " 'Desistente',\n",
       " 'Desistente',\n",
       " 'Concluinte',\n",
       " 'Concluinte',\n",
       " 'Desistente',\n",
       " 'Concluinte',\n",
       " 'Concluinte',\n",
       " 'Concluinte',\n",
       " 'Desistente',\n",
       " 'Concluinte',\n",
       " 'Desistente',\n",
       " 'Desistente',\n",
       " 'Concluinte',\n",
       " 'Concluinte',\n",
       " 'Concluinte',\n",
       " 'Desistente',\n",
       " 'Desistente',\n",
       " 'Concluinte',\n",
       " 'Concluinte',\n",
       " 'Concluinte',\n",
       " 'Concluinte',\n",
       " 'Desistente',\n",
       " 'Concluinte',\n",
       " 'Desistente',\n",
       " 'Desistente',\n",
       " 'Desistente',\n",
       " 'Desistente',\n",
       " 'Concluinte',\n",
       " 'Concluinte',\n",
       " 'Desistente',\n",
       " 'Concluinte',\n",
       " 'Concluinte',\n",
       " 'Desistente',\n",
       " 'Desistente',\n",
       " 'Desistente',\n",
       " 'Concluinte',\n",
       " 'Concluinte',\n",
       " 'Concluinte',\n",
       " 'Desistente',\n",
       " 'Desistente',\n",
       " 'Desistente',\n",
       " 'Desistente',\n",
       " 'Concluinte',\n",
       " 'Concluinte',\n",
       " 'Concluinte',\n",
       " 'Desistente',\n",
       " 'Concluinte',\n",
       " 'Desistente',\n",
       " 'Desistente',\n",
       " 'Desistente',\n",
       " 'Desistente',\n",
       " 'Concluinte',\n",
       " 'Concluinte',\n",
       " 'Desistente',\n",
       " 'Concluinte',\n",
       " 'Desistente',\n",
       " 'Concluinte',\n",
       " 'Concluinte',\n",
       " 'Concluinte',\n",
       " 'Desistente',\n",
       " 'Concluinte',\n",
       " 'Concluinte',\n",
       " 'Concluinte',\n",
       " 'Desistente',\n",
       " 'Desistente',\n",
       " 'Concluinte',\n",
       " 'Desistente',\n",
       " 'Concluinte',\n",
       " 'Concluinte',\n",
       " 'Concluinte',\n",
       " 'Desistente',\n",
       " 'Concluinte',\n",
       " 'Concluinte',\n",
       " 'Desistente',\n",
       " 'Concluinte',\n",
       " 'Concluinte',\n",
       " 'Concluinte',\n",
       " 'Desistente',\n",
       " 'Desistente',\n",
       " 'Desistente',\n",
       " 'Desistente',\n",
       " 'Concluinte',\n",
       " 'Desistente',\n",
       " 'Concluinte',\n",
       " 'Desistente',\n",
       " 'Concluinte',\n",
       " 'Concluinte',\n",
       " 'Concluinte',\n",
       " 'Desistente',\n",
       " 'Concluinte',\n",
       " 'Desistente',\n",
       " 'Concluinte',\n",
       " 'Desistente',\n",
       " 'Desistente',\n",
       " 'Concluinte',\n",
       " 'Desistente',\n",
       " 'Desistente',\n",
       " 'Concluinte',\n",
       " 'Concluinte',\n",
       " 'Desistente',\n",
       " 'Desistente',\n",
       " 'Desistente',\n",
       " 'Concluinte',\n",
       " 'Concluinte',\n",
       " 'Desistente',\n",
       " 'Desistente',\n",
       " 'Desistente',\n",
       " 'Concluinte',\n",
       " 'Concluinte',\n",
       " 'Concluinte',\n",
       " 'Concluinte',\n",
       " 'Desistente',\n",
       " 'Concluinte',\n",
       " 'Concluinte',\n",
       " 'Concluinte',\n",
       " 'Concluinte',\n",
       " 'Desistente',\n",
       " 'Desistente',\n",
       " 'Desistente',\n",
       " 'Desistente',\n",
       " 'Concluinte',\n",
       " 'Concluinte',\n",
       " 'Concluinte',\n",
       " 'Desistente',\n",
       " 'Desistente',\n",
       " 'Desistente',\n",
       " 'Concluinte',\n",
       " 'Concluinte']"
      ]
     },
     "execution_count": 42,
     "metadata": {},
     "output_type": "execute_result"
    }
   ],
   "source": [
    "respFinal = []\n",
    "for i in range(0,len(previsoes)):\n",
    "    if previsoes[i] == 1:\n",
    "        respFinal.append(\"Desistente\")\n",
    "    else:\n",
    "        respFinal.append(\"Concluinte\")\n",
    "respFinal\n",
    "    "
   ]
  },
  {
   "cell_type": "code",
   "execution_count": 43,
   "metadata": {},
   "outputs": [],
   "source": [
    "# save the model to disk\n",
    "filename = 'modeloRF.sav'\n",
    "pickle.dump(modeloRF, open(filename, 'wb'))"
   ]
  },
  {
   "cell_type": "code",
   "execution_count": null,
   "metadata": {},
   "outputs": [],
   "source": []
  }
 ],
 "metadata": {
  "kernelspec": {
   "display_name": "Python 3 (ipykernel)",
   "language": "python",
   "name": "python3"
  },
  "language_info": {
   "codemirror_mode": {
    "name": "ipython",
    "version": 3
   },
   "file_extension": ".py",
   "mimetype": "text/x-python",
   "name": "python",
   "nbconvert_exporter": "python",
   "pygments_lexer": "ipython3",
   "version": "3.7.3"
  }
 },
 "nbformat": 4,
 "nbformat_minor": 4
}
