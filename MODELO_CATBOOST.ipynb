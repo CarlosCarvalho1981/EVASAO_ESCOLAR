{
 "cells": [
  {
   "cell_type": "markdown",
   "id": "77826fa8",
   "metadata": {},
   "source": [
    "# CATBOOST"
   ]
  },
  {
   "cell_type": "markdown",
   "id": "9075566c",
   "metadata": {},
   "source": [
    "## Utilização do classificador CatBoost para criar um modelo para previsão de evasão em escolas técnicas."
   ]
  },
  {
   "cell_type": "code",
   "execution_count": 1,
   "id": "73ffdc71",
   "metadata": {},
   "outputs": [],
   "source": [
    "# Importação dos pacotes\n",
    "import pandas as pd\n",
    "import numpy as np\n",
    "import matplotlib.pyplot as plt\n",
    "import seaborn as sns\n",
    "from catboost import CatBoostClassifier, Pool, metrics, cv\n",
    "from sklearn.model_selection import train_test_split\n",
    "import imblearn\n",
    "from sklearn.metrics import accuracy_score\n",
    "from scipy.sparse import csr_matrix\n",
    "from scipy import sparse\n",
    "import pickle\n",
    "from imblearn.over_sampling import SMOTE"
   ]
  },
  {
   "cell_type": "code",
   "execution_count": 2,
   "id": "2ddaf7bb",
   "metadata": {},
   "outputs": [],
   "source": [
    "# Carrega o arquivo em um dataset.  Apaga a coluna que vem com o dataset.\n",
    "tecnicoJoinville = pd.read_csv(\"TECNICOS_Joinville5.csv\", encoding = 'latin-1', low_memory = False)\n",
    "tecnicoJoinville.drop([\"Unnamed: 0\"], axis = 1, inplace = True)"
   ]
  },
  {
   "cell_type": "code",
   "execution_count": 3,
   "id": "a6a559d4",
   "metadata": {},
   "outputs": [
    {
     "data": {
      "text/html": [
       "<div>\n",
       "<style scoped>\n",
       "    .dataframe tbody tr th:only-of-type {\n",
       "        vertical-align: middle;\n",
       "    }\n",
       "\n",
       "    .dataframe tbody tr th {\n",
       "        vertical-align: top;\n",
       "    }\n",
       "\n",
       "    .dataframe thead th {\n",
       "        text-align: right;\n",
       "    }\n",
       "</style>\n",
       "<table border=\"1\" class=\"dataframe\">\n",
       "  <thead>\n",
       "    <tr style=\"text-align: right;\">\n",
       "      <th></th>\n",
       "      <th>produto_educacao</th>\n",
       "      <th>carga_horaria</th>\n",
       "      <th>turno</th>\n",
       "      <th>gratuidade_turma</th>\n",
       "      <th>tipo</th>\n",
       "      <th>online</th>\n",
       "      <th>bairro</th>\n",
       "      <th>cidade</th>\n",
       "      <th>genero</th>\n",
       "      <th>escolaridade</th>\n",
       "      <th>situacao_ocupacional</th>\n",
       "      <th>situacao_matricula</th>\n",
       "      <th>IDADE</th>\n",
       "      <th>empresa</th>\n",
       "    </tr>\n",
       "  </thead>\n",
       "  <tbody>\n",
       "    <tr>\n",
       "      <th>0</th>\n",
       "      <td>AUTOMACAO</td>\n",
       "      <td>1200</td>\n",
       "      <td>Tarde</td>\n",
       "      <td>Mista</td>\n",
       "      <td>PF</td>\n",
       "      <td>Nao</td>\n",
       "      <td>Aventureiro</td>\n",
       "      <td>Joinville</td>\n",
       "      <td>M</td>\n",
       "      <td>Medio_C</td>\n",
       "      <td>Empregado</td>\n",
       "      <td>Concluinte</td>\n",
       "      <td>21</td>\n",
       "      <td>Schulz</td>\n",
       "    </tr>\n",
       "    <tr>\n",
       "      <th>1</th>\n",
       "      <td>FABRICACAO</td>\n",
       "      <td>1600</td>\n",
       "      <td>Noite</td>\n",
       "      <td>Mista</td>\n",
       "      <td>PF</td>\n",
       "      <td>Nao</td>\n",
       "      <td>Jardim_Paraiso</td>\n",
       "      <td>Joinville</td>\n",
       "      <td>M</td>\n",
       "      <td>Medio_C</td>\n",
       "      <td>Empregado</td>\n",
       "      <td>Concluinte</td>\n",
       "      <td>18</td>\n",
       "      <td>N_D</td>\n",
       "    </tr>\n",
       "    <tr>\n",
       "      <th>2</th>\n",
       "      <td>LOGISTICA</td>\n",
       "      <td>1300</td>\n",
       "      <td>Noite</td>\n",
       "      <td>Mista</td>\n",
       "      <td>PF</td>\n",
       "      <td>Nao</td>\n",
       "      <td>ForaJoinville</td>\n",
       "      <td>SaoFrancisco_Sul</td>\n",
       "      <td>M</td>\n",
       "      <td>Medio_C</td>\n",
       "      <td>Empregado</td>\n",
       "      <td>Concluinte</td>\n",
       "      <td>18</td>\n",
       "      <td>SENAI/SC</td>\n",
       "    </tr>\n",
       "    <tr>\n",
       "      <th>3</th>\n",
       "      <td>AUTOMACAO</td>\n",
       "      <td>1600</td>\n",
       "      <td>Tarde</td>\n",
       "      <td>Mista</td>\n",
       "      <td>PF</td>\n",
       "      <td>Nao</td>\n",
       "      <td>Aventureiro</td>\n",
       "      <td>Joinville</td>\n",
       "      <td>M</td>\n",
       "      <td>Medio_C</td>\n",
       "      <td>Desempregado</td>\n",
       "      <td>Concluinte</td>\n",
       "      <td>16</td>\n",
       "      <td>N_D</td>\n",
       "    </tr>\n",
       "    <tr>\n",
       "      <th>4</th>\n",
       "      <td>MECANICA</td>\n",
       "      <td>1620</td>\n",
       "      <td>Tarde</td>\n",
       "      <td>Mista</td>\n",
       "      <td>PF</td>\n",
       "      <td>Nao</td>\n",
       "      <td>Ulysses_Guimaraes</td>\n",
       "      <td>Joinville</td>\n",
       "      <td>M</td>\n",
       "      <td>Medio_C</td>\n",
       "      <td>Empregado</td>\n",
       "      <td>Concluinte</td>\n",
       "      <td>17</td>\n",
       "      <td>Schulz</td>\n",
       "    </tr>\n",
       "  </tbody>\n",
       "</table>\n",
       "</div>"
      ],
      "text/plain": [
       "  produto_educacao carga_horaria  turno gratuidade_turma tipo online  \\\n",
       "0        AUTOMACAO          1200  Tarde            Mista   PF    Nao   \n",
       "1       FABRICACAO          1600  Noite            Mista   PF    Nao   \n",
       "2        LOGISTICA          1300  Noite            Mista   PF    Nao   \n",
       "3        AUTOMACAO          1600  Tarde            Mista   PF    Nao   \n",
       "4         MECANICA          1620  Tarde            Mista   PF    Nao   \n",
       "\n",
       "              bairro            cidade genero escolaridade  \\\n",
       "0        Aventureiro         Joinville      M      Medio_C   \n",
       "1     Jardim_Paraiso         Joinville      M      Medio_C   \n",
       "2      ForaJoinville  SaoFrancisco_Sul      M      Medio_C   \n",
       "3        Aventureiro         Joinville      M      Medio_C   \n",
       "4  Ulysses_Guimaraes         Joinville      M      Medio_C   \n",
       "\n",
       "  situacao_ocupacional situacao_matricula  IDADE   empresa  \n",
       "0            Empregado         Concluinte     21    Schulz  \n",
       "1            Empregado         Concluinte     18       N_D  \n",
       "2            Empregado         Concluinte     18  SENAI/SC  \n",
       "3         Desempregado         Concluinte     16       N_D  \n",
       "4            Empregado         Concluinte     17    Schulz  "
      ]
     },
     "execution_count": 3,
     "metadata": {},
     "output_type": "execute_result"
    }
   ],
   "source": [
    "# Observando as 5 primeiras linhas do dataset\n",
    "tecnicoJoinville.head()"
   ]
  },
  {
   "cell_type": "code",
   "execution_count": 4,
   "id": "8f778043",
   "metadata": {},
   "outputs": [
    {
     "data": {
      "text/plain": [
       "Series([], dtype: int64)"
      ]
     },
     "execution_count": 4,
     "metadata": {},
     "output_type": "execute_result"
    }
   ],
   "source": [
    "null_value_stats = tecnicoJoinville.isnull().sum(axis=0)\n",
    "null_value_stats[null_value_stats != 0]"
   ]
  },
  {
   "cell_type": "code",
   "execution_count": 5,
   "id": "a36900aa",
   "metadata": {},
   "outputs": [],
   "source": [
    "X = tecnicoJoinville.drop('situacao_matricula', axis=1)\n",
    "y = tecnicoJoinville.situacao_matricula"
   ]
  },
  {
   "cell_type": "code",
   "execution_count": 6,
   "id": "518dd268",
   "metadata": {},
   "outputs": [
    {
     "name": "stdout",
     "output_type": "stream",
     "text": [
      "produto_educacao        object\n",
      "carga_horaria           object\n",
      "turno                   object\n",
      "gratuidade_turma        object\n",
      "tipo                    object\n",
      "online                  object\n",
      "bairro                  object\n",
      "cidade                  object\n",
      "genero                  object\n",
      "escolaridade            object\n",
      "situacao_ocupacional    object\n",
      "IDADE                    int64\n",
      "empresa                 object\n",
      "dtype: object\n"
     ]
    }
   ],
   "source": [
    "print(X.dtypes)\n",
    "\n",
    "categorical_features_indices = np.where(X.dtypes != float)[0]"
   ]
  },
  {
   "cell_type": "code",
   "execution_count": 7,
   "id": "01456339",
   "metadata": {},
   "outputs": [
    {
     "data": {
      "text/plain": [
       "array([ 0,  1,  2,  3,  4,  5,  6,  7,  8,  9, 10, 11, 12], dtype=int64)"
      ]
     },
     "execution_count": 7,
     "metadata": {},
     "output_type": "execute_result"
    }
   ],
   "source": [
    "categorical_features_indices"
   ]
  },
  {
   "cell_type": "code",
   "execution_count": 8,
   "id": "965e0b93",
   "metadata": {},
   "outputs": [],
   "source": [
    "X_train, X_validation, y_train, y_validation = train_test_split(X, y, train_size=0.75, random_state=42)"
   ]
  },
  {
   "cell_type": "code",
   "execution_count": 10,
   "id": "58ff5649",
   "metadata": {},
   "outputs": [
    {
     "data": {
      "text/html": [
       "<div>\n",
       "<style scoped>\n",
       "    .dataframe tbody tr th:only-of-type {\n",
       "        vertical-align: middle;\n",
       "    }\n",
       "\n",
       "    .dataframe tbody tr th {\n",
       "        vertical-align: top;\n",
       "    }\n",
       "\n",
       "    .dataframe thead th {\n",
       "        text-align: right;\n",
       "    }\n",
       "</style>\n",
       "<table border=\"1\" class=\"dataframe\">\n",
       "  <thead>\n",
       "    <tr style=\"text-align: right;\">\n",
       "      <th></th>\n",
       "      <th>produto_educacao</th>\n",
       "      <th>carga_horaria</th>\n",
       "      <th>turno</th>\n",
       "      <th>gratuidade_turma</th>\n",
       "      <th>tipo</th>\n",
       "      <th>online</th>\n",
       "      <th>bairro</th>\n",
       "      <th>cidade</th>\n",
       "      <th>genero</th>\n",
       "      <th>escolaridade</th>\n",
       "      <th>situacao_ocupacional</th>\n",
       "      <th>IDADE</th>\n",
       "      <th>empresa</th>\n",
       "    </tr>\n",
       "  </thead>\n",
       "  <tbody>\n",
       "    <tr>\n",
       "      <th>1075</th>\n",
       "      <td>AUTOMACAO</td>\n",
       "      <td>1200</td>\n",
       "      <td>Tarde</td>\n",
       "      <td>Regimental</td>\n",
       "      <td>PF</td>\n",
       "      <td>Nao</td>\n",
       "      <td>Profipo</td>\n",
       "      <td>Joinville</td>\n",
       "      <td>M</td>\n",
       "      <td>Medio_I</td>\n",
       "      <td>Desempregado</td>\n",
       "      <td>17</td>\n",
       "      <td>N_D</td>\n",
       "    </tr>\n",
       "    <tr>\n",
       "      <th>1650</th>\n",
       "      <td>MECANICA</td>\n",
       "      <td>1360</td>\n",
       "      <td>Noite</td>\n",
       "      <td>Pago_PF</td>\n",
       "      <td>PF</td>\n",
       "      <td>Sim</td>\n",
       "      <td>Jardim_Paraiso</td>\n",
       "      <td>Joinville</td>\n",
       "      <td>M</td>\n",
       "      <td>Medio_I</td>\n",
       "      <td>Empregado</td>\n",
       "      <td>19</td>\n",
       "      <td>N_D</td>\n",
       "    </tr>\n",
       "    <tr>\n",
       "      <th>1861</th>\n",
       "      <td>AUTOMOTIVO</td>\n",
       "      <td>1280</td>\n",
       "      <td>Noite</td>\n",
       "      <td>Pago_PF</td>\n",
       "      <td>PF</td>\n",
       "      <td>Sim</td>\n",
       "      <td>Aventureiro</td>\n",
       "      <td>Joinville</td>\n",
       "      <td>M</td>\n",
       "      <td>Medio_C</td>\n",
       "      <td>Empregado</td>\n",
       "      <td>20</td>\n",
       "      <td>Embraco</td>\n",
       "    </tr>\n",
       "    <tr>\n",
       "      <th>941</th>\n",
       "      <td>PLASTICO</td>\n",
       "      <td>1200</td>\n",
       "      <td>Noite</td>\n",
       "      <td>Mista</td>\n",
       "      <td>PF</td>\n",
       "      <td>Nao</td>\n",
       "      <td>Paranaguamirim</td>\n",
       "      <td>Joinville</td>\n",
       "      <td>F</td>\n",
       "      <td>Medio_I</td>\n",
       "      <td>Empregado</td>\n",
       "      <td>18</td>\n",
       "      <td>EBOCAM</td>\n",
       "    </tr>\n",
       "    <tr>\n",
       "      <th>331</th>\n",
       "      <td>TEXTIL</td>\n",
       "      <td>1400</td>\n",
       "      <td>Noite</td>\n",
       "      <td>Sem_Gratuidade</td>\n",
       "      <td>PJ_PF</td>\n",
       "      <td>Nao</td>\n",
       "      <td>Aventureiro</td>\n",
       "      <td>Joinville</td>\n",
       "      <td>M</td>\n",
       "      <td>Medio_C</td>\n",
       "      <td>Empregado</td>\n",
       "      <td>32</td>\n",
       "      <td>MALHARIA</td>\n",
       "    </tr>\n",
       "    <tr>\n",
       "      <th>...</th>\n",
       "      <td>...</td>\n",
       "      <td>...</td>\n",
       "      <td>...</td>\n",
       "      <td>...</td>\n",
       "      <td>...</td>\n",
       "      <td>...</td>\n",
       "      <td>...</td>\n",
       "      <td>...</td>\n",
       "      <td>...</td>\n",
       "      <td>...</td>\n",
       "      <td>...</td>\n",
       "      <td>...</td>\n",
       "      <td>...</td>\n",
       "    </tr>\n",
       "    <tr>\n",
       "      <th>1281</th>\n",
       "      <td>QUIMICA</td>\n",
       "      <td>1200</td>\n",
       "      <td>Tarde</td>\n",
       "      <td>Pago_PJ</td>\n",
       "      <td>PF</td>\n",
       "      <td>Nao</td>\n",
       "      <td>America</td>\n",
       "      <td>Joinville</td>\n",
       "      <td>M</td>\n",
       "      <td>Medio_I</td>\n",
       "      <td>Desempregado</td>\n",
       "      <td>16</td>\n",
       "      <td>N_D</td>\n",
       "    </tr>\n",
       "    <tr>\n",
       "      <th>561</th>\n",
       "      <td>LOGISTICA</td>\n",
       "      <td>960</td>\n",
       "      <td>Noite</td>\n",
       "      <td>Mista</td>\n",
       "      <td>PF</td>\n",
       "      <td>Sim</td>\n",
       "      <td>Adhemar_Garcia</td>\n",
       "      <td>Joinville</td>\n",
       "      <td>M</td>\n",
       "      <td>Medio_C</td>\n",
       "      <td>Desempregado</td>\n",
       "      <td>21</td>\n",
       "      <td>N_D</td>\n",
       "    </tr>\n",
       "    <tr>\n",
       "      <th>909</th>\n",
       "      <td>INFORMATICA</td>\n",
       "      <td>1200</td>\n",
       "      <td>Noite</td>\n",
       "      <td>Sem_Gratuidade</td>\n",
       "      <td>PF</td>\n",
       "      <td>Nao</td>\n",
       "      <td>Anita_Garibaldi</td>\n",
       "      <td>Joinville</td>\n",
       "      <td>M</td>\n",
       "      <td>Medio_I</td>\n",
       "      <td>Desempregado</td>\n",
       "      <td>16</td>\n",
       "      <td>N_D</td>\n",
       "    </tr>\n",
       "    <tr>\n",
       "      <th>465</th>\n",
       "      <td>INFORMATICA</td>\n",
       "      <td>1200</td>\n",
       "      <td>Noite</td>\n",
       "      <td>Sem_Gratuidade</td>\n",
       "      <td>PF</td>\n",
       "      <td>Sim</td>\n",
       "      <td>Jardim_Paraiso</td>\n",
       "      <td>Joinville</td>\n",
       "      <td>M</td>\n",
       "      <td>Medio_C</td>\n",
       "      <td>Desempregado</td>\n",
       "      <td>18</td>\n",
       "      <td>N_D</td>\n",
       "    </tr>\n",
       "    <tr>\n",
       "      <th>588</th>\n",
       "      <td>ELETROMECANICA</td>\n",
       "      <td>1200</td>\n",
       "      <td>EAD</td>\n",
       "      <td>Sem_Gratuidade</td>\n",
       "      <td>PF</td>\n",
       "      <td>Sim</td>\n",
       "      <td>Pirabeiraba</td>\n",
       "      <td>Joinville</td>\n",
       "      <td>M</td>\n",
       "      <td>Medio_C</td>\n",
       "      <td>Empregado</td>\n",
       "      <td>24</td>\n",
       "      <td>N_D</td>\n",
       "    </tr>\n",
       "  </tbody>\n",
       "</table>\n",
       "<p>482 rows × 13 columns</p>\n",
       "</div>"
      ],
      "text/plain": [
       "     produto_educacao carga_horaria  turno gratuidade_turma   tipo online  \\\n",
       "1075        AUTOMACAO          1200  Tarde       Regimental     PF    Nao   \n",
       "1650         MECANICA          1360  Noite          Pago_PF     PF    Sim   \n",
       "1861       AUTOMOTIVO          1280  Noite          Pago_PF     PF    Sim   \n",
       "941          PLASTICO          1200  Noite            Mista     PF    Nao   \n",
       "331            TEXTIL          1400  Noite   Sem_Gratuidade  PJ_PF    Nao   \n",
       "...               ...           ...    ...              ...    ...    ...   \n",
       "1281          QUIMICA          1200  Tarde          Pago_PJ     PF    Nao   \n",
       "561         LOGISTICA           960  Noite            Mista     PF    Sim   \n",
       "909       INFORMATICA          1200  Noite   Sem_Gratuidade     PF    Nao   \n",
       "465       INFORMATICA          1200  Noite   Sem_Gratuidade     PF    Sim   \n",
       "588    ELETROMECANICA          1200    EAD   Sem_Gratuidade     PF    Sim   \n",
       "\n",
       "               bairro     cidade genero escolaridade situacao_ocupacional  \\\n",
       "1075          Profipo  Joinville      M      Medio_I         Desempregado   \n",
       "1650   Jardim_Paraiso  Joinville      M      Medio_I            Empregado   \n",
       "1861      Aventureiro  Joinville      M      Medio_C            Empregado   \n",
       "941    Paranaguamirim  Joinville      F      Medio_I            Empregado   \n",
       "331       Aventureiro  Joinville      M      Medio_C            Empregado   \n",
       "...               ...        ...    ...          ...                  ...   \n",
       "1281          America  Joinville      M      Medio_I         Desempregado   \n",
       "561    Adhemar_Garcia  Joinville      M      Medio_C         Desempregado   \n",
       "909   Anita_Garibaldi  Joinville      M      Medio_I         Desempregado   \n",
       "465    Jardim_Paraiso  Joinville      M      Medio_C         Desempregado   \n",
       "588       Pirabeiraba  Joinville      M      Medio_C            Empregado   \n",
       "\n",
       "      IDADE   empresa  \n",
       "1075     17       N_D  \n",
       "1650     19       N_D  \n",
       "1861     20   Embraco  \n",
       "941      18    EBOCAM  \n",
       "331      32  MALHARIA  \n",
       "...     ...       ...  \n",
       "1281     16       N_D  \n",
       "561      21       N_D  \n",
       "909      16       N_D  \n",
       "465      18       N_D  \n",
       "588      24       N_D  \n",
       "\n",
       "[482 rows x 13 columns]"
      ]
     },
     "execution_count": 10,
     "metadata": {},
     "output_type": "execute_result"
    }
   ],
   "source": [
    "X_validation"
   ]
  },
  {
   "cell_type": "code",
   "execution_count": 9,
   "id": "99c99a21",
   "metadata": {},
   "outputs": [],
   "source": [
    "modelCat = CatBoostClassifier(\n",
    "    custom_loss=[metrics.Accuracy()],\n",
    "    random_seed=42,\n",
    "    logging_level='Silent'\n",
    ")"
   ]
  },
  {
   "cell_type": "code",
   "execution_count": 12,
   "id": "0f84a123",
   "metadata": {},
   "outputs": [
    {
     "data": {
      "application/vnd.jupyter.widget-view+json": {
       "model_id": "643be4c6d7374d39a0b58ba7b182bee5",
       "version_major": 2,
       "version_minor": 0
      },
      "text/plain": [
       "MetricVisualizer(layout=Layout(align_self='stretch', height='500px'))"
      ]
     },
     "metadata": {},
     "output_type": "display_data"
    }
   ],
   "source": [
    "modelCat.fit(\n",
    "    X_train, y_train,\n",
    "    cat_features=categorical_features_indices,\n",
    "    eval_set=(X_validation, y_validation),\n",
    "#     logging_level='Verbose',  # you can uncomment this for text output\n",
    "    plot=True\n",
    ");"
   ]
  },
  {
   "cell_type": "code",
   "execution_count": 14,
   "id": "82bdea49",
   "metadata": {},
   "outputs": [
    {
     "data": {
      "application/vnd.jupyter.widget-view+json": {
       "model_id": "c91381903e434264b2e7af22be3a0015",
       "version_major": 2,
       "version_minor": 0
      },
      "text/plain": [
       "MetricVisualizer(layout=Layout(align_self='stretch', height='500px'))"
      ]
     },
     "metadata": {},
     "output_type": "display_data"
    }
   ],
   "source": [
    "cv_params = modelCat.get_params()\n",
    "cv_params.update({\n",
    "    'loss_function': metrics.Logloss()\n",
    "})\n",
    "cv_data = cv(\n",
    "    Pool(X, y, cat_features=categorical_features_indices),\n",
    "    cv_params,\n",
    "    plot=True\n",
    ")"
   ]
  },
  {
   "cell_type": "code",
   "execution_count": 15,
   "id": "ad9b94c6",
   "metadata": {},
   "outputs": [
    {
     "name": "stdout",
     "output_type": "stream",
     "text": [
      "Best validation accuracy score: 0.88±0.01 on step 514\n"
     ]
    }
   ],
   "source": [
    "print('Best validation accuracy score: {:.2f}±{:.2f} on step {}'.format(\n",
    "    np.max(cv_data['test-Accuracy-mean']),\n",
    "    cv_data['test-Accuracy-std'][np.argmax(cv_data['test-Accuracy-mean'])],\n",
    "    np.argmax(cv_data['test-Accuracy-mean'])\n",
    "))"
   ]
  },
  {
   "cell_type": "code",
   "execution_count": 16,
   "id": "50e84e03",
   "metadata": {},
   "outputs": [
    {
     "name": "stdout",
     "output_type": "stream",
     "text": [
      "Precise validation accuracy score: 0.8842028628699206\n"
     ]
    }
   ],
   "source": [
    "print('Precise validation accuracy score: {}'.format(np.max(cv_data['test-Accuracy-mean'])))"
   ]
  },
  {
   "cell_type": "code",
   "execution_count": 18,
   "id": "d663ead7",
   "metadata": {},
   "outputs": [
    {
     "name": "stdout",
     "output_type": "stream",
     "text": [
      "['Desistente' 'Desistente' 'Desistente' 'Desistente' 'Concluinte'\n",
      " 'Concluinte' 'Desistente' 'Desistente' 'Desistente' 'Concluinte']\n",
      "[[0.00369347 0.99630653]\n",
      " [0.00837246 0.99162754]\n",
      " [0.10622523 0.89377477]\n",
      " [0.01487341 0.98512659]\n",
      " [0.94614345 0.05385655]\n",
      " [0.81826717 0.18173283]\n",
      " [0.00284734 0.99715266]\n",
      " [0.3250672  0.6749328 ]\n",
      " [0.01531077 0.98468923]\n",
      " [0.85088401 0.14911599]]\n"
     ]
    }
   ],
   "source": [
    "predictions = modelCat.predict(X_validation)\n",
    "predictions_probs = modelCat.predict_proba(X_validation)\n",
    "print(predictions[:10])\n",
    "print(predictions_probs[:10])"
   ]
  },
  {
   "cell_type": "code",
   "execution_count": 20,
   "id": "f9ec8183",
   "metadata": {},
   "outputs": [],
   "source": [
    "# save the model to disk\n",
    "filename = 'modeloCat.sav'\n",
    "pickle.dump(modelCat, open(filename, 'wb'))"
   ]
  },
  {
   "cell_type": "code",
   "execution_count": null,
   "id": "a5abdd42",
   "metadata": {},
   "outputs": [],
   "source": []
  }
 ],
 "metadata": {
  "kernelspec": {
   "display_name": "Python 3 (ipykernel)",
   "language": "python",
   "name": "python3"
  },
  "language_info": {
   "codemirror_mode": {
    "name": "ipython",
    "version": 3
   },
   "file_extension": ".py",
   "mimetype": "text/x-python",
   "name": "python",
   "nbconvert_exporter": "python",
   "pygments_lexer": "ipython3",
   "version": "3.7.3"
  }
 },
 "nbformat": 4,
 "nbformat_minor": 5
}
