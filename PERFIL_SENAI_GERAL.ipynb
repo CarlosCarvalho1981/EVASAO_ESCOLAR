{
 "cells": [
  {
   "cell_type": "markdown",
   "metadata": {},
   "source": [
    "# Machine Learning pra Previsão de Evasão Escolar\n",
    "\n",
    "Neste trabalho será feita uma análise exploratória, limpeza de dados e teste de diversos algoritmos de classificação para prever a evasão escolar.  A acurácia mínima de 90% será buscada."
   ]
  },
  {
   "cell_type": "code",
   "execution_count": 1,
   "metadata": {},
   "outputs": [],
   "source": [
    "# Importação dos pacotes\n",
    "import pandas as pd\n",
    "import numpy as np\n",
    "import matplotlib.pyplot as plt\n",
    "import seaborn as sns"
   ]
  },
  {
   "cell_type": "code",
   "execution_count": 2,
   "metadata": {},
   "outputs": [],
   "source": [
    "# Carregando os dados\n",
    "dados2018 = pd.read_csv(\"Relatorio_matriculas_Fechado2018.csv\", encoding = 'latin-1', low_memory = False)\n",
    "dados2019 = pd.read_csv(\"Relatorio_matriculas_Fechado2019.csv\", encoding = 'latin-1', low_memory = False)\n",
    "dados2020 = pd.read_csv(\"Relatorio_matriculas_Fechado2020.csv\", encoding = 'latin-1', low_memory = False)"
   ]
  },
  {
   "cell_type": "markdown",
   "metadata": {},
   "source": [
    "## Limpeza e transformação dos dados.\n",
    "Observar, limpar e transformar os dados.\n",
    "Essa primeira limpeza deve ser feita para que quando o algoritmo receber as novas informações, ele receba apenas as colunas necessárias com os dados corretos."
   ]
  },
  {
   "cell_type": "code",
   "execution_count": 3,
   "metadata": {},
   "outputs": [],
   "source": [
    "# Criação de uma lista das colunas utilizadas\n",
    "colunas = ['cidade_realizacao_turma', 'modalidade', 'produto_educacao', 'carga_horaria', 'inicio', 'turno', 'gratuidade_turma', 'tipo', 'online', 'cpf', 'nascimento', 'bairro', 'cidade', 'genero', 'escolaridade', 'situacao_ocupacional', 'organizacao', 'situacao_matricula']"
   ]
  },
  {
   "cell_type": "code",
   "execution_count": 4,
   "metadata": {},
   "outputs": [],
   "source": [
    "Limpo2018 = dados2018[colunas]"
   ]
  },
  {
   "cell_type": "code",
   "execution_count": 5,
   "metadata": {},
   "outputs": [],
   "source": [
    "#dados = pd.DataFrame(Limpo2018)"
   ]
  },
  {
   "cell_type": "code",
   "execution_count": 6,
   "metadata": {},
   "outputs": [
    {
     "data": {
      "text/plain": [
       "cidade_realizacao_turma    object\n",
       "modalidade                 object\n",
       "produto_educacao           object\n",
       "carga_horaria               int64\n",
       "inicio                     object\n",
       "turno                      object\n",
       "gratuidade_turma           object\n",
       "tipo                       object\n",
       "online                     object\n",
       "cpf                         int64\n",
       "nascimento                 object\n",
       "bairro                     object\n",
       "cidade                     object\n",
       "genero                     object\n",
       "escolaridade               object\n",
       "situacao_ocupacional       object\n",
       "organizacao                object\n",
       "situacao_matricula         object\n",
       "dtype: object"
      ]
     },
     "execution_count": 6,
     "metadata": {},
     "output_type": "execute_result"
    }
   ],
   "source": [
    "Limpo2018.dtypes"
   ]
  },
  {
   "cell_type": "code",
   "execution_count": 7,
   "metadata": {},
   "outputs": [],
   "source": [
    "Limpo2019 = dados2019[colunas]"
   ]
  },
  {
   "cell_type": "code",
   "execution_count": 8,
   "metadata": {},
   "outputs": [
    {
     "data": {
      "text/plain": [
       "cidade_realizacao_turma     object\n",
       "modalidade                  object\n",
       "produto_educacao            object\n",
       "carga_horaria                int64\n",
       "inicio                      object\n",
       "turno                       object\n",
       "gratuidade_turma            object\n",
       "tipo                        object\n",
       "online                      object\n",
       "cpf                        float64\n",
       "nascimento                  object\n",
       "bairro                      object\n",
       "cidade                      object\n",
       "genero                      object\n",
       "escolaridade                object\n",
       "situacao_ocupacional        object\n",
       "organizacao                 object\n",
       "situacao_matricula          object\n",
       "dtype: object"
      ]
     },
     "execution_count": 8,
     "metadata": {},
     "output_type": "execute_result"
    }
   ],
   "source": [
    "Limpo2019.dtypes"
   ]
  },
  {
   "cell_type": "code",
   "execution_count": 9,
   "metadata": {},
   "outputs": [],
   "source": [
    "Limpo2020 = dados2020[colunas]"
   ]
  },
  {
   "cell_type": "code",
   "execution_count": 10,
   "metadata": {},
   "outputs": [
    {
     "data": {
      "text/plain": [
       "cidade_realizacao_turma     object\n",
       "modalidade                  object\n",
       "produto_educacao            object\n",
       "carga_horaria                int64\n",
       "inicio                      object\n",
       "turno                       object\n",
       "gratuidade_turma            object\n",
       "tipo                        object\n",
       "online                      object\n",
       "cpf                        float64\n",
       "nascimento                  object\n",
       "bairro                      object\n",
       "cidade                      object\n",
       "genero                      object\n",
       "escolaridade                object\n",
       "situacao_ocupacional        object\n",
       "organizacao                 object\n",
       "situacao_matricula          object\n",
       "dtype: object"
      ]
     },
     "execution_count": 10,
     "metadata": {},
     "output_type": "execute_result"
    }
   ],
   "source": [
    "Limpo2020.dtypes"
   ]
  },
  {
   "cell_type": "code",
   "execution_count": 11,
   "metadata": {},
   "outputs": [],
   "source": [
    "dados = [Limpo2018, Limpo2019, Limpo2020]"
   ]
  },
  {
   "cell_type": "code",
   "execution_count": 12,
   "metadata": {},
   "outputs": [],
   "source": [
    "dadosTotal = pd.concat(dados)"
   ]
  },
  {
   "cell_type": "code",
   "execution_count": 13,
   "metadata": {},
   "outputs": [
    {
     "data": {
      "text/plain": [
       "(324922, 18)"
      ]
     },
     "execution_count": 13,
     "metadata": {},
     "output_type": "execute_result"
    }
   ],
   "source": [
    "dadosTotal.shape"
   ]
  },
  {
   "cell_type": "code",
   "execution_count": 14,
   "metadata": {},
   "outputs": [
    {
     "data": {
      "text/html": [
       "<div>\n",
       "<style scoped>\n",
       "    .dataframe tbody tr th:only-of-type {\n",
       "        vertical-align: middle;\n",
       "    }\n",
       "\n",
       "    .dataframe tbody tr th {\n",
       "        vertical-align: top;\n",
       "    }\n",
       "\n",
       "    .dataframe thead th {\n",
       "        text-align: right;\n",
       "    }\n",
       "</style>\n",
       "<table border=\"1\" class=\"dataframe\">\n",
       "  <thead>\n",
       "    <tr style=\"text-align: right;\">\n",
       "      <th></th>\n",
       "      <th>cidade_realizacao_turma</th>\n",
       "      <th>modalidade</th>\n",
       "      <th>produto_educacao</th>\n",
       "      <th>carga_horaria</th>\n",
       "      <th>inicio</th>\n",
       "      <th>turno</th>\n",
       "      <th>gratuidade_turma</th>\n",
       "      <th>tipo</th>\n",
       "      <th>online</th>\n",
       "      <th>cpf</th>\n",
       "      <th>nascimento</th>\n",
       "      <th>bairro</th>\n",
       "      <th>cidade</th>\n",
       "      <th>genero</th>\n",
       "      <th>escolaridade</th>\n",
       "      <th>situacao_ocupacional</th>\n",
       "      <th>organizacao</th>\n",
       "      <th>situacao_matricula</th>\n",
       "    </tr>\n",
       "  </thead>\n",
       "  <tbody>\n",
       "    <tr>\n",
       "      <th>0</th>\n",
       "      <td>Concórdia</td>\n",
       "      <td>Ensino Médio</td>\n",
       "      <td>Ensino Médio</td>\n",
       "      <td>4960</td>\n",
       "      <td>2/6/2017</td>\n",
       "      <td>Manhã,Tarde</td>\n",
       "      <td>Sem Gratuidade</td>\n",
       "      <td>PF</td>\n",
       "      <td>Sim</td>\n",
       "      <td>1.070100e+10</td>\n",
       "      <td>9/26/2001</td>\n",
       "      <td>Interior</td>\n",
       "      <td>Concórdia</td>\n",
       "      <td>M</td>\n",
       "      <td>Fundamental/Completo</td>\n",
       "      <td>Busca do primeiro emprego</td>\n",
       "      <td>NaN</td>\n",
       "      <td>Evadido / Desistente</td>\n",
       "    </tr>\n",
       "    <tr>\n",
       "      <th>1</th>\n",
       "      <td>Concórdia</td>\n",
       "      <td>Ensino Médio</td>\n",
       "      <td>Ensino Médio</td>\n",
       "      <td>4960</td>\n",
       "      <td>2/6/2017</td>\n",
       "      <td>Manhã,Tarde</td>\n",
       "      <td>Sem Gratuidade</td>\n",
       "      <td>PF</td>\n",
       "      <td>Sim</td>\n",
       "      <td>7.608760e+09</td>\n",
       "      <td>3/22/2002</td>\n",
       "      <td>Centro</td>\n",
       "      <td>Concórdia</td>\n",
       "      <td>F</td>\n",
       "      <td>Fundamental/Completo</td>\n",
       "      <td>Busca do primeiro emprego</td>\n",
       "      <td>NaN</td>\n",
       "      <td>Evadido / Desistente</td>\n",
       "    </tr>\n",
       "    <tr>\n",
       "      <th>2</th>\n",
       "      <td>Concórdia</td>\n",
       "      <td>Ensino Médio</td>\n",
       "      <td>Ensino Médio</td>\n",
       "      <td>4960</td>\n",
       "      <td>2/1/2016</td>\n",
       "      <td>Manhã</td>\n",
       "      <td>Sem Gratuidade</td>\n",
       "      <td>PF</td>\n",
       "      <td>Sim</td>\n",
       "      <td>8.903923e+09</td>\n",
       "      <td>5/24/2001</td>\n",
       "      <td>Jardim</td>\n",
       "      <td>Concórdia</td>\n",
       "      <td>M</td>\n",
       "      <td>Médio/Incompleto</td>\n",
       "      <td>Busca do primeiro emprego</td>\n",
       "      <td>NaN</td>\n",
       "      <td>Evadido / Desistente</td>\n",
       "    </tr>\n",
       "    <tr>\n",
       "      <th>3</th>\n",
       "      <td>Concórdia</td>\n",
       "      <td>Ensino Médio</td>\n",
       "      <td>Ensino Médio</td>\n",
       "      <td>4960</td>\n",
       "      <td>2/1/2016</td>\n",
       "      <td>Manhã</td>\n",
       "      <td>Sem Gratuidade</td>\n",
       "      <td>PF</td>\n",
       "      <td>Não</td>\n",
       "      <td>1.135208e+10</td>\n",
       "      <td>8/17/2000</td>\n",
       "      <td>Cinquentenário</td>\n",
       "      <td>Concórdia</td>\n",
       "      <td>M</td>\n",
       "      <td>Fundamental/Completo</td>\n",
       "      <td>Busca do primeiro emprego</td>\n",
       "      <td>NaN</td>\n",
       "      <td>Evadido / Desistente</td>\n",
       "    </tr>\n",
       "    <tr>\n",
       "      <th>4</th>\n",
       "      <td>Concórdia</td>\n",
       "      <td>Ensino Médio</td>\n",
       "      <td>Ensino Médio</td>\n",
       "      <td>4960</td>\n",
       "      <td>2/6/2017</td>\n",
       "      <td>Manhã,Tarde</td>\n",
       "      <td>Sem Gratuidade</td>\n",
       "      <td>PF</td>\n",
       "      <td>Sim</td>\n",
       "      <td>6.527107e+09</td>\n",
       "      <td>5/12/2002</td>\n",
       "      <td>Santa Cruz</td>\n",
       "      <td>Concórdia</td>\n",
       "      <td>M</td>\n",
       "      <td>Médio/Incompleto</td>\n",
       "      <td>Busca do primeiro emprego</td>\n",
       "      <td>NaN</td>\n",
       "      <td>Evadido / Desistente</td>\n",
       "    </tr>\n",
       "    <tr>\n",
       "      <th>5</th>\n",
       "      <td>Concórdia</td>\n",
       "      <td>Ensino Médio</td>\n",
       "      <td>Ensino Médio</td>\n",
       "      <td>4960</td>\n",
       "      <td>2/14/2018</td>\n",
       "      <td>Manhã,Tarde</td>\n",
       "      <td>Sem Gratuidade</td>\n",
       "      <td>PF</td>\n",
       "      <td>Não</td>\n",
       "      <td>1.587387e+10</td>\n",
       "      <td>11/20/2000</td>\n",
       "      <td>Itaíba</td>\n",
       "      <td>Concórdia</td>\n",
       "      <td>M</td>\n",
       "      <td>Fundamental/Completo</td>\n",
       "      <td>Busca do primeiro emprego</td>\n",
       "      <td>NaN</td>\n",
       "      <td>Evadido / Desistente</td>\n",
       "    </tr>\n",
       "    <tr>\n",
       "      <th>6</th>\n",
       "      <td>Concórdia</td>\n",
       "      <td>Ensino Médio</td>\n",
       "      <td>Ensino Médio</td>\n",
       "      <td>4960</td>\n",
       "      <td>2/1/2016</td>\n",
       "      <td>Manhã</td>\n",
       "      <td>Sem Gratuidade</td>\n",
       "      <td>PF</td>\n",
       "      <td>Não</td>\n",
       "      <td>1.145876e+10</td>\n",
       "      <td>12/28/2000</td>\n",
       "      <td>Centro</td>\n",
       "      <td>Concórdia</td>\n",
       "      <td>F</td>\n",
       "      <td>Fundamental/Completo</td>\n",
       "      <td>Busca do primeiro emprego</td>\n",
       "      <td>NaN</td>\n",
       "      <td>Evadido / Desistente</td>\n",
       "    </tr>\n",
       "    <tr>\n",
       "      <th>7</th>\n",
       "      <td>Concórdia</td>\n",
       "      <td>Ensino Médio</td>\n",
       "      <td>Ensino Médio</td>\n",
       "      <td>4960</td>\n",
       "      <td>2/1/2016</td>\n",
       "      <td>Manhã</td>\n",
       "      <td>Sem Gratuidade</td>\n",
       "      <td>PF</td>\n",
       "      <td>Não</td>\n",
       "      <td>8.331868e+09</td>\n",
       "      <td>1/13/2000</td>\n",
       "      <td>Natureza</td>\n",
       "      <td>Concórdia</td>\n",
       "      <td>F</td>\n",
       "      <td>Médio/Incompleto</td>\n",
       "      <td>Busca do primeiro emprego</td>\n",
       "      <td>NaN</td>\n",
       "      <td>Evadido / Desistente</td>\n",
       "    </tr>\n",
       "    <tr>\n",
       "      <th>8</th>\n",
       "      <td>Concórdia</td>\n",
       "      <td>Ensino Médio</td>\n",
       "      <td>Ensino Médio</td>\n",
       "      <td>4960</td>\n",
       "      <td>2/1/2016</td>\n",
       "      <td>Manhã</td>\n",
       "      <td>Sem Gratuidade</td>\n",
       "      <td>PF</td>\n",
       "      <td>Não</td>\n",
       "      <td>1.281078e+10</td>\n",
       "      <td>2/21/2001</td>\n",
       "      <td>São Cristovão</td>\n",
       "      <td>Concórdia</td>\n",
       "      <td>F</td>\n",
       "      <td>Médio/Incompleto</td>\n",
       "      <td>Busca do primeiro emprego</td>\n",
       "      <td>NaN</td>\n",
       "      <td>Evadido / Eliminado</td>\n",
       "    </tr>\n",
       "    <tr>\n",
       "      <th>9</th>\n",
       "      <td>Concórdia</td>\n",
       "      <td>Ensino Médio</td>\n",
       "      <td>Ensino Médio</td>\n",
       "      <td>4960</td>\n",
       "      <td>2/14/2018</td>\n",
       "      <td>Manhã,Tarde</td>\n",
       "      <td>Sem Gratuidade</td>\n",
       "      <td>PF</td>\n",
       "      <td>Não</td>\n",
       "      <td>1.226954e+10</td>\n",
       "      <td>5/25/2003</td>\n",
       "      <td>Sunti</td>\n",
       "      <td>Concórdia</td>\n",
       "      <td>M</td>\n",
       "      <td>Fundamental/Completo</td>\n",
       "      <td>Busca do primeiro emprego</td>\n",
       "      <td>NaN</td>\n",
       "      <td>Evadido / Transferido de Curso</td>\n",
       "    </tr>\n",
       "  </tbody>\n",
       "</table>\n",
       "</div>"
      ],
      "text/plain": [
       "  cidade_realizacao_turma    modalidade produto_educacao  carga_horaria  \\\n",
       "0               Concórdia  Ensino Médio     Ensino Médio           4960   \n",
       "1               Concórdia  Ensino Médio     Ensino Médio           4960   \n",
       "2               Concórdia  Ensino Médio     Ensino Médio           4960   \n",
       "3               Concórdia  Ensino Médio     Ensino Médio           4960   \n",
       "4               Concórdia  Ensino Médio     Ensino Médio           4960   \n",
       "5               Concórdia  Ensino Médio     Ensino Médio           4960   \n",
       "6               Concórdia  Ensino Médio     Ensino Médio           4960   \n",
       "7               Concórdia  Ensino Médio     Ensino Médio           4960   \n",
       "8               Concórdia  Ensino Médio     Ensino Médio           4960   \n",
       "9               Concórdia  Ensino Médio     Ensino Médio           4960   \n",
       "\n",
       "      inicio        turno gratuidade_turma tipo online           cpf  \\\n",
       "0   2/6/2017  Manhã,Tarde   Sem Gratuidade   PF    Sim  1.070100e+10   \n",
       "1   2/6/2017  Manhã,Tarde   Sem Gratuidade   PF    Sim  7.608760e+09   \n",
       "2   2/1/2016        Manhã   Sem Gratuidade   PF    Sim  8.903923e+09   \n",
       "3   2/1/2016        Manhã   Sem Gratuidade   PF    Não  1.135208e+10   \n",
       "4   2/6/2017  Manhã,Tarde   Sem Gratuidade   PF    Sim  6.527107e+09   \n",
       "5  2/14/2018  Manhã,Tarde   Sem Gratuidade   PF    Não  1.587387e+10   \n",
       "6   2/1/2016        Manhã   Sem Gratuidade   PF    Não  1.145876e+10   \n",
       "7   2/1/2016        Manhã   Sem Gratuidade   PF    Não  8.331868e+09   \n",
       "8   2/1/2016        Manhã   Sem Gratuidade   PF    Não  1.281078e+10   \n",
       "9  2/14/2018  Manhã,Tarde   Sem Gratuidade   PF    Não  1.226954e+10   \n",
       "\n",
       "   nascimento          bairro     cidade genero          escolaridade  \\\n",
       "0   9/26/2001        Interior  Concórdia      M  Fundamental/Completo   \n",
       "1   3/22/2002          Centro  Concórdia      F  Fundamental/Completo   \n",
       "2   5/24/2001          Jardim  Concórdia      M      Médio/Incompleto   \n",
       "3   8/17/2000  Cinquentenário  Concórdia      M  Fundamental/Completo   \n",
       "4   5/12/2002      Santa Cruz  Concórdia      M      Médio/Incompleto   \n",
       "5  11/20/2000          Itaíba  Concórdia      M  Fundamental/Completo   \n",
       "6  12/28/2000          Centro  Concórdia      F  Fundamental/Completo   \n",
       "7   1/13/2000        Natureza  Concórdia      F      Médio/Incompleto   \n",
       "8   2/21/2001   São Cristovão  Concórdia      F      Médio/Incompleto   \n",
       "9   5/25/2003           Sunti  Concórdia      M  Fundamental/Completo   \n",
       "\n",
       "        situacao_ocupacional organizacao              situacao_matricula  \n",
       "0  Busca do primeiro emprego         NaN            Evadido / Desistente  \n",
       "1  Busca do primeiro emprego         NaN            Evadido / Desistente  \n",
       "2  Busca do primeiro emprego         NaN            Evadido / Desistente  \n",
       "3  Busca do primeiro emprego         NaN            Evadido / Desistente  \n",
       "4  Busca do primeiro emprego         NaN            Evadido / Desistente  \n",
       "5  Busca do primeiro emprego         NaN            Evadido / Desistente  \n",
       "6  Busca do primeiro emprego         NaN            Evadido / Desistente  \n",
       "7  Busca do primeiro emprego         NaN            Evadido / Desistente  \n",
       "8  Busca do primeiro emprego         NaN             Evadido / Eliminado  \n",
       "9  Busca do primeiro emprego         NaN  Evadido / Transferido de Curso  "
      ]
     },
     "execution_count": 14,
     "metadata": {},
     "output_type": "execute_result"
    }
   ],
   "source": [
    "dadosTotal.head(10)"
   ]
  },
  {
   "cell_type": "code",
   "execution_count": 15,
   "metadata": {},
   "outputs": [
    {
     "data": {
      "text/plain": [
       "cidade_realizacao_turma     object\n",
       "modalidade                  object\n",
       "produto_educacao            object\n",
       "carga_horaria                int64\n",
       "inicio                      object\n",
       "turno                       object\n",
       "gratuidade_turma            object\n",
       "tipo                        object\n",
       "online                      object\n",
       "cpf                        float64\n",
       "nascimento                  object\n",
       "bairro                      object\n",
       "cidade                      object\n",
       "genero                      object\n",
       "escolaridade                object\n",
       "situacao_ocupacional        object\n",
       "organizacao                 object\n",
       "situacao_matricula          object\n",
       "dtype: object"
      ]
     },
     "execution_count": 15,
     "metadata": {},
     "output_type": "execute_result"
    }
   ],
   "source": [
    "dadosTotal.dtypes"
   ]
  },
  {
   "cell_type": "code",
   "execution_count": null,
   "metadata": {},
   "outputs": [],
   "source": []
  },
  {
   "cell_type": "code",
   "execution_count": 16,
   "metadata": {},
   "outputs": [
    {
     "data": {
      "text/plain": [
       "1079"
      ]
     },
     "execution_count": 16,
     "metadata": {},
     "output_type": "execute_result"
    }
   ],
   "source": [
    "# Existem valores null na coluna cpf.  Isso significa que não será possível verificar se estes registros estão duplicados.\n",
    "# Então as linhas com valores null no cpf serão eliminadas.\n",
    "dadosTotal['cpf'].isna().sum()"
   ]
  },
  {
   "cell_type": "code",
   "execution_count": 17,
   "metadata": {},
   "outputs": [],
   "source": [
    "#dadosTotal['cpf'].dropna(axis = 0, how = 'any', inplace = True)\n",
    "dadosTotal.dropna(subset=['cpf'], axis = 0, how = 'any', inplace = True)"
   ]
  },
  {
   "cell_type": "code",
   "execution_count": 18,
   "metadata": {},
   "outputs": [
    {
     "data": {
      "text/plain": [
       "0"
      ]
     },
     "execution_count": 18,
     "metadata": {},
     "output_type": "execute_result"
    }
   ],
   "source": [
    "dadosTotal['cpf'].isna().sum()"
   ]
  },
  {
   "cell_type": "code",
   "execution_count": 19,
   "metadata": {},
   "outputs": [
    {
     "data": {
      "text/plain": [
       "0         10700995978\n",
       "1          7608759950\n",
       "2          8903922930\n",
       "3         11352076900\n",
       "4          6527107196\n",
       "             ...     \n",
       "111834    18549747858\n",
       "111835     9042493950\n",
       "111836     3419903294\n",
       "111837     2992143979\n",
       "111838    12416678965\n",
       "Name: cpf, Length: 323843, dtype: Int64"
      ]
     },
     "execution_count": 19,
     "metadata": {},
     "output_type": "execute_result"
    }
   ],
   "source": [
    "# Transformando a coluna cpf para valor inteiro\n",
    "#dadosTotal['cpf'] = dadosTotal.cpf.astype('int64')\n",
    "dadosTotal.cpf.astype(pd.Int64Dtype())"
   ]
  },
  {
   "cell_type": "markdown",
   "metadata": {},
   "source": [
    "#### Entendendo melhor como estão os registros duplicados."
   ]
  },
  {
   "cell_type": "code",
   "execution_count": 20,
   "metadata": {},
   "outputs": [
    {
     "data": {
      "text/plain": [
       "195791"
      ]
     },
     "execution_count": 20,
     "metadata": {},
     "output_type": "execute_result"
    }
   ],
   "source": [
    "# Observando os valores únicos de CPF. \n",
    "len(dadosTotal.cpf.unique())"
   ]
  },
  {
   "cell_type": "code",
   "execution_count": 21,
   "metadata": {},
   "outputs": [
    {
     "data": {
      "text/plain": [
       "Index(['cidade_realizacao_turma', 'modalidade', 'produto_educacao',\n",
       "       'carga_horaria', 'inicio', 'turno', 'gratuidade_turma', 'tipo',\n",
       "       'online', 'cpf', 'nascimento', 'bairro', 'cidade', 'genero',\n",
       "       'escolaridade', 'situacao_ocupacional', 'organizacao',\n",
       "       'situacao_matricula'],\n",
       "      dtype='object')"
      ]
     },
     "execution_count": 21,
     "metadata": {},
     "output_type": "execute_result"
    }
   ],
   "source": [
    "dadosTotal.columns"
   ]
  },
  {
   "cell_type": "code",
   "execution_count": 22,
   "metadata": {},
   "outputs": [],
   "source": [
    "for i in range(0,len(dadosTotal[\"produto_educacao\"])):\n",
    "    if dadosTotal.iloc[i,17] == \"Evadido / Eliminado\" or dadosTotal.iloc[i,17] == \"Evadido / Desistente\" or dadosTotal.iloc[i,17] == \"Evadido / Transferido de Curso\":\n",
    "        dadosTotal.iloc[i,17] = \"Desistente\"\n",
    "        \n",
    "for i in range(0,len(dadosTotal[\"produto_educacao\"])):\n",
    "    if dadosTotal.iloc[i,17] == \"Finalizado / Concluinte\" or dadosTotal.iloc[i,17] == \"Finalizado / Não Concluinte\":\n",
    "        dadosTotal.iloc[i,17] = \"Concluinte\"\n",
    "        \n",
    "for i in range(0,len(dadosTotal[\"produto_educacao\"])):\n",
    "    if dadosTotal.iloc[i,17] == \"Matriculado / Regular\" or dadosTotal.iloc[i,17] == \"Matriculado / Trancado\" :\n",
    "        dadosTotal.iloc[i,17] = \"Matriculado\""
   ]
  },
  {
   "cell_type": "code",
   "execution_count": 23,
   "metadata": {},
   "outputs": [],
   "source": [
    "# Salvando em um arquivo csv  - Versão 1 ********************************\n",
    "dadosTotal.to_csv(\"TECNICOS_Joinville1.csv\", encoding = \"latin-1\")"
   ]
  },
  {
   "cell_type": "code",
   "execution_count": 24,
   "metadata": {},
   "outputs": [],
   "source": [
    "alunosTotal = pd.read_csv(\"TECNICOS_Joinville1.csv\", encoding = 'latin-1', low_memory = False)\n",
    "alunosTotal.drop([\"Unnamed: 0\"], axis = 1, inplace = True)"
   ]
  },
  {
   "cell_type": "code",
   "execution_count": 25,
   "metadata": {},
   "outputs": [
    {
     "data": {
      "text/html": [
       "<div>\n",
       "<style scoped>\n",
       "    .dataframe tbody tr th:only-of-type {\n",
       "        vertical-align: middle;\n",
       "    }\n",
       "\n",
       "    .dataframe tbody tr th {\n",
       "        vertical-align: top;\n",
       "    }\n",
       "\n",
       "    .dataframe thead th {\n",
       "        text-align: right;\n",
       "    }\n",
       "</style>\n",
       "<table border=\"1\" class=\"dataframe\">\n",
       "  <thead>\n",
       "    <tr style=\"text-align: right;\">\n",
       "      <th></th>\n",
       "      <th>cidade_realizacao_turma</th>\n",
       "      <th>modalidade</th>\n",
       "      <th>produto_educacao</th>\n",
       "      <th>carga_horaria</th>\n",
       "      <th>inicio</th>\n",
       "      <th>turno</th>\n",
       "      <th>gratuidade_turma</th>\n",
       "      <th>tipo</th>\n",
       "      <th>online</th>\n",
       "      <th>cpf</th>\n",
       "      <th>nascimento</th>\n",
       "      <th>bairro</th>\n",
       "      <th>cidade</th>\n",
       "      <th>genero</th>\n",
       "      <th>escolaridade</th>\n",
       "      <th>situacao_ocupacional</th>\n",
       "      <th>organizacao</th>\n",
       "      <th>situacao_matricula</th>\n",
       "    </tr>\n",
       "  </thead>\n",
       "  <tbody>\n",
       "    <tr>\n",
       "      <th>0</th>\n",
       "      <td>Concórdia</td>\n",
       "      <td>Ensino Médio</td>\n",
       "      <td>Ensino Médio</td>\n",
       "      <td>4960</td>\n",
       "      <td>2/6/2017</td>\n",
       "      <td>Manhã,Tarde</td>\n",
       "      <td>Sem Gratuidade</td>\n",
       "      <td>PF</td>\n",
       "      <td>Sim</td>\n",
       "      <td>1.070100e+10</td>\n",
       "      <td>9/26/2001</td>\n",
       "      <td>Interior</td>\n",
       "      <td>Concórdia</td>\n",
       "      <td>M</td>\n",
       "      <td>Fundamental/Completo</td>\n",
       "      <td>Busca do primeiro emprego</td>\n",
       "      <td>NaN</td>\n",
       "      <td>Desistente</td>\n",
       "    </tr>\n",
       "    <tr>\n",
       "      <th>1</th>\n",
       "      <td>Concórdia</td>\n",
       "      <td>Ensino Médio</td>\n",
       "      <td>Ensino Médio</td>\n",
       "      <td>4960</td>\n",
       "      <td>2/6/2017</td>\n",
       "      <td>Manhã,Tarde</td>\n",
       "      <td>Sem Gratuidade</td>\n",
       "      <td>PF</td>\n",
       "      <td>Sim</td>\n",
       "      <td>7.608760e+09</td>\n",
       "      <td>3/22/2002</td>\n",
       "      <td>Centro</td>\n",
       "      <td>Concórdia</td>\n",
       "      <td>F</td>\n",
       "      <td>Fundamental/Completo</td>\n",
       "      <td>Busca do primeiro emprego</td>\n",
       "      <td>NaN</td>\n",
       "      <td>Desistente</td>\n",
       "    </tr>\n",
       "    <tr>\n",
       "      <th>2</th>\n",
       "      <td>Concórdia</td>\n",
       "      <td>Ensino Médio</td>\n",
       "      <td>Ensino Médio</td>\n",
       "      <td>4960</td>\n",
       "      <td>2/1/2016</td>\n",
       "      <td>Manhã</td>\n",
       "      <td>Sem Gratuidade</td>\n",
       "      <td>PF</td>\n",
       "      <td>Sim</td>\n",
       "      <td>8.903923e+09</td>\n",
       "      <td>5/24/2001</td>\n",
       "      <td>Jardim</td>\n",
       "      <td>Concórdia</td>\n",
       "      <td>M</td>\n",
       "      <td>Médio/Incompleto</td>\n",
       "      <td>Busca do primeiro emprego</td>\n",
       "      <td>NaN</td>\n",
       "      <td>Desistente</td>\n",
       "    </tr>\n",
       "    <tr>\n",
       "      <th>3</th>\n",
       "      <td>Concórdia</td>\n",
       "      <td>Ensino Médio</td>\n",
       "      <td>Ensino Médio</td>\n",
       "      <td>4960</td>\n",
       "      <td>2/1/2016</td>\n",
       "      <td>Manhã</td>\n",
       "      <td>Sem Gratuidade</td>\n",
       "      <td>PF</td>\n",
       "      <td>Não</td>\n",
       "      <td>1.135208e+10</td>\n",
       "      <td>8/17/2000</td>\n",
       "      <td>Cinquentenário</td>\n",
       "      <td>Concórdia</td>\n",
       "      <td>M</td>\n",
       "      <td>Fundamental/Completo</td>\n",
       "      <td>Busca do primeiro emprego</td>\n",
       "      <td>NaN</td>\n",
       "      <td>Desistente</td>\n",
       "    </tr>\n",
       "    <tr>\n",
       "      <th>4</th>\n",
       "      <td>Concórdia</td>\n",
       "      <td>Ensino Médio</td>\n",
       "      <td>Ensino Médio</td>\n",
       "      <td>4960</td>\n",
       "      <td>2/6/2017</td>\n",
       "      <td>Manhã,Tarde</td>\n",
       "      <td>Sem Gratuidade</td>\n",
       "      <td>PF</td>\n",
       "      <td>Sim</td>\n",
       "      <td>6.527107e+09</td>\n",
       "      <td>5/12/2002</td>\n",
       "      <td>Santa Cruz</td>\n",
       "      <td>Concórdia</td>\n",
       "      <td>M</td>\n",
       "      <td>Médio/Incompleto</td>\n",
       "      <td>Busca do primeiro emprego</td>\n",
       "      <td>NaN</td>\n",
       "      <td>Desistente</td>\n",
       "    </tr>\n",
       "  </tbody>\n",
       "</table>\n",
       "</div>"
      ],
      "text/plain": [
       "  cidade_realizacao_turma    modalidade produto_educacao  carga_horaria  \\\n",
       "0               Concórdia  Ensino Médio     Ensino Médio           4960   \n",
       "1               Concórdia  Ensino Médio     Ensino Médio           4960   \n",
       "2               Concórdia  Ensino Médio     Ensino Médio           4960   \n",
       "3               Concórdia  Ensino Médio     Ensino Médio           4960   \n",
       "4               Concórdia  Ensino Médio     Ensino Médio           4960   \n",
       "\n",
       "     inicio        turno gratuidade_turma tipo online           cpf  \\\n",
       "0  2/6/2017  Manhã,Tarde   Sem Gratuidade   PF    Sim  1.070100e+10   \n",
       "1  2/6/2017  Manhã,Tarde   Sem Gratuidade   PF    Sim  7.608760e+09   \n",
       "2  2/1/2016        Manhã   Sem Gratuidade   PF    Sim  8.903923e+09   \n",
       "3  2/1/2016        Manhã   Sem Gratuidade   PF    Não  1.135208e+10   \n",
       "4  2/6/2017  Manhã,Tarde   Sem Gratuidade   PF    Sim  6.527107e+09   \n",
       "\n",
       "  nascimento          bairro     cidade genero          escolaridade  \\\n",
       "0  9/26/2001        Interior  Concórdia      M  Fundamental/Completo   \n",
       "1  3/22/2002          Centro  Concórdia      F  Fundamental/Completo   \n",
       "2  5/24/2001          Jardim  Concórdia      M      Médio/Incompleto   \n",
       "3  8/17/2000  Cinquentenário  Concórdia      M  Fundamental/Completo   \n",
       "4  5/12/2002      Santa Cruz  Concórdia      M      Médio/Incompleto   \n",
       "\n",
       "        situacao_ocupacional organizacao situacao_matricula  \n",
       "0  Busca do primeiro emprego         NaN         Desistente  \n",
       "1  Busca do primeiro emprego         NaN         Desistente  \n",
       "2  Busca do primeiro emprego         NaN         Desistente  \n",
       "3  Busca do primeiro emprego         NaN         Desistente  \n",
       "4  Busca do primeiro emprego         NaN         Desistente  "
      ]
     },
     "execution_count": 25,
     "metadata": {},
     "output_type": "execute_result"
    }
   ],
   "source": [
    "alunosTotal.head()"
   ]
  },
  {
   "cell_type": "code",
   "execution_count": 26,
   "metadata": {},
   "outputs": [],
   "source": [
    "# Criar um dataframe apenas com estudantes que saíram do curso: finalizados ou desistentes\n",
    "finalizados = alunosTotal[alunosTotal[\"situacao_matricula\"] == \"Concluinte\"]\n",
    "desistentes = alunosTotal[alunosTotal[\"situacao_matricula\"] == \"Desistente\"]\n",
    "df = [finalizados, desistentes]\n",
    "alunosTotal = pd.concat(df)"
   ]
  },
  {
   "cell_type": "code",
   "execution_count": 27,
   "metadata": {},
   "outputs": [
    {
     "data": {
      "text/plain": [
       "array(['Concluinte', 'Desistente'], dtype=object)"
      ]
     },
     "execution_count": 27,
     "metadata": {},
     "output_type": "execute_result"
    }
   ],
   "source": [
    "alunosTotal[\"situacao_matricula\"].unique()"
   ]
  },
  {
   "cell_type": "code",
   "execution_count": 28,
   "metadata": {},
   "outputs": [
    {
     "data": {
      "text/plain": [
       "178915"
      ]
     },
     "execution_count": 28,
     "metadata": {},
     "output_type": "execute_result"
    }
   ],
   "source": [
    "len(alunosTotal.cpf.unique())"
   ]
  },
  {
   "cell_type": "code",
   "execution_count": 29,
   "metadata": {},
   "outputs": [],
   "source": [
    "# Removendo os registros duplicados, mantendo o último registro, para pegar os estudantes duplicados que se formaram.\n",
    "alunosTotal.drop_duplicates(subset =[\"cpf\"], keep = 'last', inplace = True)"
   ]
  },
  {
   "cell_type": "code",
   "execution_count": 30,
   "metadata": {},
   "outputs": [
    {
     "data": {
      "text/plain": [
       "(178915, 18)"
      ]
     },
     "execution_count": 30,
     "metadata": {},
     "output_type": "execute_result"
    }
   ],
   "source": [
    "# Agora temos apenas registros únicos de cada estudante\n",
    "alunosTotal.shape"
   ]
  },
  {
   "cell_type": "code",
   "execution_count": 31,
   "metadata": {},
   "outputs": [],
   "source": [
    "# Eliminar a coluna CPF\n",
    "alunosTotal.drop([\"cpf\"], axis = 1, inplace = True)"
   ]
  },
  {
   "cell_type": "code",
   "execution_count": 32,
   "metadata": {},
   "outputs": [],
   "source": [
    "# Converter a coluna INICIO para o tipo data e criar um série temporal\n",
    "data_inicio = pd.to_datetime(alunosTotal[\"inicio\"])"
   ]
  },
  {
   "cell_type": "code",
   "execution_count": 33,
   "metadata": {},
   "outputs": [],
   "source": [
    "# Adicionar a nova coluna ao dataframe\n",
    "alunosTotal[\"DATA_INICIO\"] = data_inicio"
   ]
  },
  {
   "cell_type": "code",
   "execution_count": 34,
   "metadata": {},
   "outputs": [],
   "source": [
    "# Extrair o ano da DATA_INICIO e criar uma nova coluna chamada ANO_INICIO\n",
    "alunosTotal[\"ANO_INICIO\"] = alunosTotal[\"DATA_INICIO\"].dt.year"
   ]
  },
  {
   "cell_type": "code",
   "execution_count": 35,
   "metadata": {},
   "outputs": [],
   "source": [
    "# Elminar a coluna INICIO\n",
    "alunosTotal.drop([\"inicio\"], axis = 1, inplace = True)"
   ]
  },
  {
   "cell_type": "code",
   "execution_count": 36,
   "metadata": {},
   "outputs": [],
   "source": [
    "# Converter a coluna NASCIMENTO para o tipo data e criar um série temporal\n",
    "data_nasc = pd.to_datetime(alunosTotal[\"nascimento\"])"
   ]
  },
  {
   "cell_type": "code",
   "execution_count": 37,
   "metadata": {},
   "outputs": [],
   "source": [
    "# Adicionar a nova coluna ao dataframe\n",
    "alunosTotal[\"DATA_NASC\"] = data_nasc"
   ]
  },
  {
   "cell_type": "code",
   "execution_count": 38,
   "metadata": {},
   "outputs": [],
   "source": [
    "# Extrair o ano da DATA_NASC e criar uma nova coluna chamada ANO_NASC\n",
    "alunosTotal[\"ANO_NASC\"] = alunosTotal[\"DATA_NASC\"].dt.year"
   ]
  },
  {
   "cell_type": "code",
   "execution_count": 39,
   "metadata": {},
   "outputs": [],
   "source": [
    "# Elminar as colunas NASCIMENTO e DATA_NASC\n",
    "alunosTotal.drop([\"nascimento\", \"DATA_NASC\"], axis = 1, inplace = True)"
   ]
  },
  {
   "cell_type": "code",
   "execution_count": 40,
   "metadata": {},
   "outputs": [],
   "source": [
    "# Cálculo da idade de cada estudante, considerando apenas o ano da matrícula e o ano de nascimento.\n",
    "alunosTotal[\"IDADE\"] = alunosTotal[\"ANO_INICIO\"] - alunosTotal[\"ANO_NASC\"]"
   ]
  },
  {
   "cell_type": "code",
   "execution_count": 41,
   "metadata": {},
   "outputs": [],
   "source": [
    "# Elminar as colunas extras\n",
    "alunosTotal.drop([\"DATA_INICIO\", \"ANO_INICIO\", \"ANO_NASC\"], axis = 1, inplace = True)"
   ]
  },
  {
   "cell_type": "code",
   "execution_count": 42,
   "metadata": {},
   "outputs": [
    {
     "data": {
      "text/plain": [
       "Joinville         12908\n",
       "Blumenau          12304\n",
       "Florianópolis     12215\n",
       "Jaraguá do Sul    11344\n",
       "Itajaí             9391\n",
       "                  ...  \n",
       "Entre Rios            4\n",
       "Nova Itaberaba        3\n",
       "José Boiteux          2\n",
       "Calmon                2\n",
       "Barra Velha           1\n",
       "Name: cidade_realizacao_turma, Length: 181, dtype: int64"
      ]
     },
     "execution_count": 42,
     "metadata": {},
     "output_type": "execute_result"
    }
   ],
   "source": [
    "alunosTotal['cidade_realizacao_turma'].value_counts()"
   ]
  },
  {
   "cell_type": "code",
   "execution_count": 43,
   "metadata": {},
   "outputs": [],
   "source": [
    "# Criando um dataframe apenas com as informações de Joinville\n",
    "joinville = alunosTotal[alunosTotal[\"cidade_realizacao_turma\"] == \"Joinville\"]\n",
    "alunosJoinville = pd.DataFrame(joinville)"
   ]
  },
  {
   "cell_type": "code",
   "execution_count": 44,
   "metadata": {},
   "outputs": [
    {
     "data": {
      "text/plain": [
       "array(['Ensino Médio', 'Qualificação / Aperfeiçoamento', 'Curso Técnico',\n",
       "       'Aprendizagem Industrial', 'Pós-Graduação', 'Graduação',\n",
       "       'Extensão Profissional', 'Educação de Jovens e Adultos',\n",
       "       'Educação Continuada', 'Educação Infantil'], dtype=object)"
      ]
     },
     "execution_count": 44,
     "metadata": {},
     "output_type": "execute_result"
    }
   ],
   "source": [
    "alunosJoinville['modalidade'].unique()"
   ]
  },
  {
   "cell_type": "code",
   "execution_count": 45,
   "metadata": {},
   "outputs": [],
   "source": [
    "# Criar um dataframe apenas com o curso técnico\n",
    "tecnico = alunosJoinville[alunosJoinville[\"modalidade\"] == \"Curso Técnico\"]\n",
    "tecnicoJoinville = pd.DataFrame(tecnico)"
   ]
  },
  {
   "cell_type": "code",
   "execution_count": 46,
   "metadata": {},
   "outputs": [],
   "source": [
    "# Elminar a coluna INICIO\n",
    "tecnicoJoinville.drop([\"modalidade\", \"cidade_realizacao_turma\"], axis = 1, inplace = True)"
   ]
  },
  {
   "cell_type": "code",
   "execution_count": 47,
   "metadata": {},
   "outputs": [],
   "source": [
    "# Salvando em um arquivo csv  - Versão 2 ********************************\n",
    "tecnicoJoinville.to_csv(\"TECNICOS_Joinville2.csv\", encoding = \"latin-1\")"
   ]
  },
  {
   "cell_type": "code",
   "execution_count": 48,
   "metadata": {},
   "outputs": [],
   "source": [
    "##############################################\n",
    "tecnicoJoinville = pd.read_csv(\"TECNICOS_Joinville2.csv\", encoding = 'latin-1', low_memory = False)\n",
    "tecnicoJoinville.drop([\"Unnamed: 0\"], axis = 1, inplace = True)"
   ]
  },
  {
   "cell_type": "markdown",
   "metadata": {},
   "source": [
    "### Verificar se existem valores faltantes nos resgistros (nan)."
   ]
  },
  {
   "cell_type": "code",
   "execution_count": 49,
   "metadata": {},
   "outputs": [
    {
     "data": {
      "text/plain": [
       "array(['Técnico em Automação Industrial',\n",
       "       'Técnico em Fabricação Mecânica', 'Técnico em Logística',\n",
       "       'Técnico em Mecânica', 'Técnico em Mecatrônica',\n",
       "       'Técnico em Informática para Internet',\n",
       "       'Técnico em Manutenção Automotiva', 'Técnico em Plástico',\n",
       "       'Técnico em Química', 'Técnico em Informática',\n",
       "       'Técnico em Produção de Moda', 'Técnico em Eletrotécnica',\n",
       "       'Técnico em Eletromecânica', 'Técnico em Têxtil',\n",
       "       'Técnico em Edificações', 'Técnico em Desenvolvimento de Sistemas',\n",
       "       'Técnico em Metalurgia', 'Técnico em Administração',\n",
       "       'Técnico em Segurança do Trabalho', 'Técnico em Qualidade',\n",
       "       'Técnico em Desenvolvimento de Sistemas - Integrado ao EM'],\n",
       "      dtype=object)"
      ]
     },
     "execution_count": 49,
     "metadata": {},
     "output_type": "execute_result"
    }
   ],
   "source": [
    "tecnicoJoinville[\"produto_educacao\"].unique()"
   ]
  },
  {
   "cell_type": "code",
   "execution_count": 50,
   "metadata": {},
   "outputs": [
    {
     "data": {
      "text/plain": [
       "Index(['produto_educacao', 'carga_horaria', 'turno', 'gratuidade_turma',\n",
       "       'tipo', 'online', 'bairro', 'cidade', 'genero', 'escolaridade',\n",
       "       'situacao_ocupacional', 'organizacao', 'situacao_matricula', 'IDADE'],\n",
       "      dtype='object')"
      ]
     },
     "execution_count": 50,
     "metadata": {},
     "output_type": "execute_result"
    }
   ],
   "source": [
    "tecnicoJoinville.columns"
   ]
  },
  {
   "cell_type": "code",
   "execution_count": 51,
   "metadata": {},
   "outputs": [
    {
     "data": {
      "text/html": [
       "<div>\n",
       "<style scoped>\n",
       "    .dataframe tbody tr th:only-of-type {\n",
       "        vertical-align: middle;\n",
       "    }\n",
       "\n",
       "    .dataframe tbody tr th {\n",
       "        vertical-align: top;\n",
       "    }\n",
       "\n",
       "    .dataframe thead th {\n",
       "        text-align: right;\n",
       "    }\n",
       "</style>\n",
       "<table border=\"1\" class=\"dataframe\">\n",
       "  <thead>\n",
       "    <tr style=\"text-align: right;\">\n",
       "      <th></th>\n",
       "      <th>produto_educacao</th>\n",
       "      <th>carga_horaria</th>\n",
       "      <th>turno</th>\n",
       "      <th>gratuidade_turma</th>\n",
       "      <th>tipo</th>\n",
       "      <th>online</th>\n",
       "      <th>bairro</th>\n",
       "      <th>cidade</th>\n",
       "      <th>genero</th>\n",
       "      <th>escolaridade</th>\n",
       "      <th>situacao_ocupacional</th>\n",
       "      <th>organizacao</th>\n",
       "      <th>situacao_matricula</th>\n",
       "      <th>IDADE</th>\n",
       "    </tr>\n",
       "  </thead>\n",
       "  <tbody>\n",
       "    <tr>\n",
       "      <th>0</th>\n",
       "      <td>Técnico em Automação Industrial</td>\n",
       "      <td>1200</td>\n",
       "      <td>Tarde</td>\n",
       "      <td>Mista</td>\n",
       "      <td>PF</td>\n",
       "      <td>Não</td>\n",
       "      <td>Aventureiro</td>\n",
       "      <td>Joinville</td>\n",
       "      <td>M</td>\n",
       "      <td>Médio/Completo</td>\n",
       "      <td>Empregado</td>\n",
       "      <td>{SCHULZ}</td>\n",
       "      <td>Concluinte</td>\n",
       "      <td>21</td>\n",
       "    </tr>\n",
       "    <tr>\n",
       "      <th>1</th>\n",
       "      <td>Técnico em Fabricação Mecânica</td>\n",
       "      <td>1600</td>\n",
       "      <td>Noite</td>\n",
       "      <td>Mista</td>\n",
       "      <td>NaN</td>\n",
       "      <td>Não</td>\n",
       "      <td>Jardim Paraíso</td>\n",
       "      <td>Joinville</td>\n",
       "      <td>M</td>\n",
       "      <td>Médio/Completo</td>\n",
       "      <td>Empregado</td>\n",
       "      <td>NaN</td>\n",
       "      <td>Concluinte</td>\n",
       "      <td>18</td>\n",
       "    </tr>\n",
       "    <tr>\n",
       "      <th>2</th>\n",
       "      <td>Técnico em Logística</td>\n",
       "      <td>1300</td>\n",
       "      <td>Noite</td>\n",
       "      <td>Mista</td>\n",
       "      <td>PF</td>\n",
       "      <td>Não</td>\n",
       "      <td>Vila da Glória</td>\n",
       "      <td>São Francisco do Sul</td>\n",
       "      <td>M</td>\n",
       "      <td>Médio/Completo</td>\n",
       "      <td>Empregado</td>\n",
       "      <td>{\"SENAI/SC - JOINVILLE SUL\"}</td>\n",
       "      <td>Concluinte</td>\n",
       "      <td>18</td>\n",
       "    </tr>\n",
       "    <tr>\n",
       "      <th>3</th>\n",
       "      <td>Técnico em Automação Industrial</td>\n",
       "      <td>1600</td>\n",
       "      <td>Tarde</td>\n",
       "      <td>Mista</td>\n",
       "      <td>NaN</td>\n",
       "      <td>Não</td>\n",
       "      <td>Aventureiro</td>\n",
       "      <td>Joinville</td>\n",
       "      <td>M</td>\n",
       "      <td>Médio/Completo</td>\n",
       "      <td>Busca do primeiro emprego</td>\n",
       "      <td>NaN</td>\n",
       "      <td>Concluinte</td>\n",
       "      <td>16</td>\n",
       "    </tr>\n",
       "    <tr>\n",
       "      <th>4</th>\n",
       "      <td>Técnico em Mecânica</td>\n",
       "      <td>1620</td>\n",
       "      <td>Tarde</td>\n",
       "      <td>Mista</td>\n",
       "      <td>PF</td>\n",
       "      <td>Não</td>\n",
       "      <td>Ulisses Guimarães</td>\n",
       "      <td>Joinville</td>\n",
       "      <td>M</td>\n",
       "      <td>Médio/Completo</td>\n",
       "      <td>Empregado</td>\n",
       "      <td>{SCHULZ}</td>\n",
       "      <td>Concluinte</td>\n",
       "      <td>17</td>\n",
       "    </tr>\n",
       "  </tbody>\n",
       "</table>\n",
       "</div>"
      ],
      "text/plain": [
       "                  produto_educacao  carga_horaria  turno gratuidade_turma  \\\n",
       "0  Técnico em Automação Industrial           1200  Tarde            Mista   \n",
       "1   Técnico em Fabricação Mecânica           1600  Noite            Mista   \n",
       "2             Técnico em Logística           1300  Noite            Mista   \n",
       "3  Técnico em Automação Industrial           1600  Tarde            Mista   \n",
       "4              Técnico em Mecânica           1620  Tarde            Mista   \n",
       "\n",
       "  tipo online             bairro                cidade genero    escolaridade  \\\n",
       "0   PF    Não        Aventureiro             Joinville      M  Médio/Completo   \n",
       "1  NaN    Não     Jardim Paraíso             Joinville      M  Médio/Completo   \n",
       "2   PF    Não     Vila da Glória  São Francisco do Sul      M  Médio/Completo   \n",
       "3  NaN    Não        Aventureiro             Joinville      M  Médio/Completo   \n",
       "4   PF    Não  Ulisses Guimarães             Joinville      M  Médio/Completo   \n",
       "\n",
       "        situacao_ocupacional                   organizacao situacao_matricula  \\\n",
       "0                  Empregado                      {SCHULZ}         Concluinte   \n",
       "1                  Empregado                           NaN         Concluinte   \n",
       "2                  Empregado  {\"SENAI/SC - JOINVILLE SUL\"}         Concluinte   \n",
       "3  Busca do primeiro emprego                           NaN         Concluinte   \n",
       "4                  Empregado                      {SCHULZ}         Concluinte   \n",
       "\n",
       "   IDADE  \n",
       "0     21  \n",
       "1     18  \n",
       "2     18  \n",
       "3     16  \n",
       "4     17  "
      ]
     },
     "execution_count": 51,
     "metadata": {},
     "output_type": "execute_result"
    }
   ],
   "source": [
    "tecnicoJoinville.head()"
   ]
  },
  {
   "cell_type": "code",
   "execution_count": 52,
   "metadata": {},
   "outputs": [],
   "source": [
    "# Limpeza nos nomes dos cursos para facilitar a visualização no gráfico\n",
    "for i in range(0,len(tecnicoJoinville[\"produto_educacao\"])):\n",
    "    if tecnicoJoinville.iloc[i,0] == \"Técnico em Automação Industrial\":\n",
    "        tecnicoJoinville.iloc[i,0] = \"AUTOMACAO\"\n",
    "        \n",
    "for i in range(0,len(tecnicoJoinville[\"produto_educacao\"])):\n",
    "    if tecnicoJoinville.iloc[i,0] == \"Segurança do Trabalho\":\n",
    "        tecnicoJoinville.iloc[i,0] = \"SEGURANCA\"\n",
    "        \n",
    "for i in range(0,len(tecnicoJoinville[\"produto_educacao\"])):\n",
    "    if tecnicoJoinville.iloc[i,0] == \"Técnico em Qualidade\":\n",
    "        tecnicoJoinville.iloc[i,0] = \"QUALIDADE\"\n",
    "        \n",
    "for i in range(0,len(tecnicoJoinville[\"produto_educacao\"])):\n",
    "    if tecnicoJoinville.iloc[i,0] == \"Técnico em Desenvolvimento de Sistemas - Integrado ao EM\":\n",
    "        tecnicoJoinville.iloc[i,0] = \"DESENVOLVIMENTO_EM\"\n",
    "\n",
    "for i in range(0,len(tecnicoJoinville[\"produto_educacao\"])):\n",
    "    if tecnicoJoinville.iloc[i,0] == \"Técnico em Administração\":\n",
    "        tecnicoJoinville.iloc[i,0] = \"ADMINISTRACAO\"\n",
    "\n",
    "for i in range(0,len(tecnicoJoinville[\"produto_educacao\"])):\n",
    "    if tecnicoJoinville.iloc[i,0] == \"Técnico em Fabricação Mecânica\":\n",
    "        tecnicoJoinville.iloc[i,0] = \"FABRICACAO\"\n",
    "\n",
    "for i in range(0,len(tecnicoJoinville[\"produto_educacao\"])):\n",
    "    if tecnicoJoinville.iloc[i,0] == \"Técnico em Mecânica\":\n",
    "        tecnicoJoinville.iloc[i,0] = \"MECANICA\"\n",
    "        \n",
    "for i in range(0,len(tecnicoJoinville[\"produto_educacao\"])):\n",
    "    if tecnicoJoinville.iloc[i,0] == \"Técnico em Mecatrônica\":\n",
    "        tecnicoJoinville.iloc[i,0] = \"MECATRONICA\"\n",
    "        \n",
    "for i in range(0,len(tecnicoJoinville[\"produto_educacao\"])):\n",
    "    if tecnicoJoinville.iloc[i,0] == \"Técnico em Plástico\":\n",
    "        tecnicoJoinville.iloc[i,0] = \"PLASTICO\"\n",
    "        \n",
    "for i in range(0,len(tecnicoJoinville[\"produto_educacao\"])):\n",
    "    if tecnicoJoinville.iloc[i,0] == \"Técnico em Informática\":\n",
    "        tecnicoJoinville.iloc[i,0] = \"INFORMATICA\"\n",
    "        \n",
    "for i in range(0,len(tecnicoJoinville[\"produto_educacao\"])):\n",
    "    if tecnicoJoinville.iloc[i,0] == \"Técnico em Produção de Moda\":\n",
    "        tecnicoJoinville.iloc[i,0] = \"MODA\"\n",
    "        \n",
    "for i in range(0,len(tecnicoJoinville[\"produto_educacao\"])):\n",
    "    if tecnicoJoinville.iloc[i,0] == \"Técnico em Eletrotécnica\":\n",
    "        tecnicoJoinville.iloc[i,0] = \"ELETROTECNICA\"\n",
    "        \n",
    "for i in range(0,len(tecnicoJoinville[\"produto_educacao\"])):\n",
    "    if tecnicoJoinville.iloc[i,0] == \"Técnico em Manutenção Automotiva\":\n",
    "        tecnicoJoinville.iloc[i,0] = \"AUTOMOTIVO\"\n",
    "        \n",
    "for i in range(0,len(tecnicoJoinville[\"produto_educacao\"])):\n",
    "    if tecnicoJoinville.iloc[i,0] == \"Técnico em Eletromecânica\":\n",
    "        tecnicoJoinville.iloc[i,0] = \"ELETROMECANICA\"\n",
    "        \n",
    "for i in range(0,len(tecnicoJoinville[\"produto_educacao\"])):\n",
    "    if tecnicoJoinville.iloc[i,0] == \"Técnico em Têxtil\":\n",
    "        tecnicoJoinville.iloc[i,0] = \"TEXTIL\"\n",
    "\n",
    "for i in range(0,len(tecnicoJoinville[\"produto_educacao\"])):\n",
    "    if tecnicoJoinville.iloc[i,0] == \"Técnico em Informática para Internet\":\n",
    "        tecnicoJoinville.iloc[i,0] = \"INTERNET\"\n",
    "        \n",
    "for i in range(0,len(tecnicoJoinville[\"produto_educacao\"])):\n",
    "    if tecnicoJoinville.iloc[i,0] == \"Técnico em Química\":\n",
    "        tecnicoJoinville.iloc[i,0] = \"QUIMICA\"\n",
    "        \n",
    "for i in range(0,len(tecnicoJoinville[\"produto_educacao\"])):\n",
    "    if tecnicoJoinville.iloc[i,0] == \"Técnico em Logística\":\n",
    "        tecnicoJoinville.iloc[i,0] = \"LOGISTICA\"\n",
    "\n",
    "for i in range(0,len(tecnicoJoinville[\"produto_educacao\"])):\n",
    "    if tecnicoJoinville.iloc[i,0] == \"Técnico em Edificações\":\n",
    "        tecnicoJoinville.iloc[i,0] = \"EDIFICACOES\"\n",
    "        \n",
    "for i in range(0,len(tecnicoJoinville[\"produto_educacao\"])):\n",
    "    if tecnicoJoinville.iloc[i,0] == \"Técnico em Desenvolvimento de Sistemas\":\n",
    "        tecnicoJoinville.iloc[i,0] = \"DESENVOLVIMENTO\"\n",
    "        \n",
    "for i in range(0,len(tecnicoJoinville[\"produto_educacao\"])):\n",
    "    if tecnicoJoinville.iloc[i,0] == \"Técnico em Metalurgia\":\n",
    "        tecnicoJoinville.iloc[i,0] = \"METALURGIA\""
   ]
  },
  {
   "cell_type": "code",
   "execution_count": 53,
   "metadata": {},
   "outputs": [
    {
     "data": {
      "text/plain": [
       "array(['AUTOMACAO', 'FABRICACAO', 'LOGISTICA', 'MECANICA', 'MECATRONICA',\n",
       "       'INTERNET', 'AUTOMOTIVO', 'PLASTICO', 'QUIMICA', 'INFORMATICA',\n",
       "       'MODA', 'ELETROTECNICA', 'ELETROMECANICA', 'TEXTIL', 'EDIFICACOES',\n",
       "       'DESENVOLVIMENTO', 'METALURGIA', 'ADMINISTRACAO',\n",
       "       'Técnico em Segurança do Trabalho', 'QUALIDADE',\n",
       "       'DESENVOLVIMENTO_EM'], dtype=object)"
      ]
     },
     "execution_count": 53,
     "metadata": {},
     "output_type": "execute_result"
    }
   ],
   "source": [
    "tecnicoJoinville[\"produto_educacao\"].unique()"
   ]
  },
  {
   "cell_type": "code",
   "execution_count": 54,
   "metadata": {},
   "outputs": [
    {
     "data": {
      "text/plain": [
       "array([1200, 1600, 1300, 1620, 1280, 1150,  900, 1570, 1400, 1360,  960,\n",
       "        800, 1000, 1320, 1800, 1520, 1440, 1250], dtype=int64)"
      ]
     },
     "execution_count": 54,
     "metadata": {},
     "output_type": "execute_result"
    }
   ],
   "source": [
    "tecnicoJoinville[\"carga_horaria\"].unique()"
   ]
  },
  {
   "cell_type": "code",
   "execution_count": 55,
   "metadata": {},
   "outputs": [
    {
     "data": {
      "text/plain": [
       "1200    830\n",
       "1280    262\n",
       "1000    179\n",
       "960      82\n",
       "1360     71\n",
       "1320     67\n",
       "1250     40\n",
       "800      35\n",
       "1600     34\n",
       "1150     28\n",
       "900      23\n",
       "1400     19\n",
       "1620     12\n",
       "1440     11\n",
       "1570      6\n",
       "1300      2\n",
       "1800      2\n",
       "1520      1\n",
       "Name: carga_horaria, dtype: int64"
      ]
     },
     "execution_count": 55,
     "metadata": {},
     "output_type": "execute_result"
    }
   ],
   "source": [
    "tecnicoJoinville[\"carga_horaria\"].value_counts()"
   ]
  },
  {
   "cell_type": "code",
   "execution_count": 56,
   "metadata": {},
   "outputs": [
    {
     "data": {
      "text/plain": [
       "array(['Tarde', 'Noite', 'Manhã', 'EAD'], dtype=object)"
      ]
     },
     "execution_count": 56,
     "metadata": {},
     "output_type": "execute_result"
    }
   ],
   "source": [
    "tecnicoJoinville[\"turno\"].unique()"
   ]
  },
  {
   "cell_type": "code",
   "execution_count": 57,
   "metadata": {},
   "outputs": [
    {
     "data": {
      "text/plain": [
       "Index(['produto_educacao', 'carga_horaria', 'turno', 'gratuidade_turma',\n",
       "       'tipo', 'online', 'bairro', 'cidade', 'genero', 'escolaridade',\n",
       "       'situacao_ocupacional', 'organizacao', 'situacao_matricula', 'IDADE'],\n",
       "      dtype='object')"
      ]
     },
     "execution_count": 57,
     "metadata": {},
     "output_type": "execute_result"
    }
   ],
   "source": [
    "tecnicoJoinville.columns"
   ]
  },
  {
   "cell_type": "code",
   "execution_count": 58,
   "metadata": {},
   "outputs": [],
   "source": [
    "for i in range(0, len(tecnicoJoinville[\"turno\"])):\n",
    "    if tecnicoJoinville.iloc[i, 2] == \"Manhã\":\n",
    "        tecnicoJoinville.iloc[i, 2] = \"Manha\""
   ]
  },
  {
   "cell_type": "code",
   "execution_count": 59,
   "metadata": {},
   "outputs": [
    {
     "data": {
      "text/plain": [
       "array(['Tarde', 'Noite', 'Manha', 'EAD'], dtype=object)"
      ]
     },
     "execution_count": 59,
     "metadata": {},
     "output_type": "execute_result"
    }
   ],
   "source": [
    "tecnicoJoinville[\"turno\"].unique()"
   ]
  },
  {
   "cell_type": "code",
   "execution_count": 60,
   "metadata": {},
   "outputs": [
    {
     "data": {
      "text/plain": [
       "array(['Mista', 'Sem Gratuidade', 'Regimental', 'Pago por Pessoa Física',\n",
       "       'Pago pela Empresa', 'PRONATEC', 'Bolsa de Estudo'], dtype=object)"
      ]
     },
     "execution_count": 60,
     "metadata": {},
     "output_type": "execute_result"
    }
   ],
   "source": [
    "tecnicoJoinville[\"gratuidade_turma\"].unique()"
   ]
  },
  {
   "cell_type": "code",
   "execution_count": 61,
   "metadata": {},
   "outputs": [
    {
     "data": {
      "text/plain": [
       "Sem Gratuidade            585\n",
       "Mista                     432\n",
       "Pago por Pessoa Física    337\n",
       "Regimental                260\n",
       "Pago pela Empresa          78\n",
       "PRONATEC                   11\n",
       "Bolsa de Estudo             1\n",
       "Name: gratuidade_turma, dtype: int64"
      ]
     },
     "execution_count": 61,
     "metadata": {},
     "output_type": "execute_result"
    }
   ],
   "source": [
    "tecnicoJoinville[\"gratuidade_turma\"].value_counts()"
   ]
  },
  {
   "cell_type": "code",
   "execution_count": 62,
   "metadata": {},
   "outputs": [],
   "source": [
    "for i in range(0, len(tecnicoJoinville[\"gratuidade_turma\"])):\n",
    "    if(tecnicoJoinville.iloc[i,3] == \"Sem Gratuidade\"):\n",
    "        tecnicoJoinville.iloc[i,3] = \"Sem_Gratuidade\"\n",
    "        \n",
    "    if(tecnicoJoinville.iloc[i,3] == \"Pago por Pessoa Física\"):\n",
    "        tecnicoJoinville.iloc[i,3] = \"Pago_PF\"\n",
    "        \n",
    "    if(tecnicoJoinville.iloc[i,3] == \"Pago pela Empresa\"):\n",
    "        tecnicoJoinville.iloc[i,3] = \"Pago_PJ\"\n",
    "        \n",
    "    if(tecnicoJoinville.iloc[i,3] == \"Bolsa de Estudo\"):\n",
    "        tecnicoJoinville.iloc[i,3] = \"Bolsa\""
   ]
  },
  {
   "cell_type": "code",
   "execution_count": 63,
   "metadata": {},
   "outputs": [
    {
     "data": {
      "text/plain": [
       "array(['PF', nan, 'PJ, PF', 'PF, PJ', 'PJ, PF, PJ', 'PF, PJ, PJ',\n",
       "       'PJ, PJ, PF', 'PJ'], dtype=object)"
      ]
     },
     "execution_count": 63,
     "metadata": {},
     "output_type": "execute_result"
    }
   ],
   "source": [
    "tecnicoJoinville[\"tipo\"].unique()"
   ]
  },
  {
   "cell_type": "code",
   "execution_count": 64,
   "metadata": {},
   "outputs": [
    {
     "data": {
      "text/plain": [
       "PF            1149\n",
       "PF, PJ          25\n",
       "PJ, PF          24\n",
       "PF, PJ, PJ      20\n",
       "PJ, PJ, PF      14\n",
       "PJ, PF, PJ      13\n",
       "PJ               3\n",
       "Name: tipo, dtype: int64"
      ]
     },
     "execution_count": 64,
     "metadata": {},
     "output_type": "execute_result"
    }
   ],
   "source": [
    "# Existem muito mais valores de pessoa física do que as outras ocorrências. \n",
    "tecnicoJoinville[\"tipo\"].value_counts()"
   ]
  },
  {
   "cell_type": "code",
   "execution_count": 65,
   "metadata": {},
   "outputs": [],
   "source": [
    "# Por isso, os valores NA na coluna TIPO serão convertidos para PF.\n",
    "tecnicoJoinville[\"tipo\"].fillna(value = \"PF\", inplace = True)"
   ]
  },
  {
   "cell_type": "code",
   "execution_count": 66,
   "metadata": {},
   "outputs": [],
   "source": [
    "for i in range(0, len(tecnicoJoinville[\"tipo\"])):\n",
    "    if tecnicoJoinville.iloc[i, 4] == \"PJ, PF\":\n",
    "        tecnicoJoinville.iloc[i, 4] = \"PJ_PF\"\n",
    "    if tecnicoJoinville.iloc[i, 4] == \"PF, PJ\":\n",
    "        tecnicoJoinville.iloc[i, 4] = \"PF_PJ\"\n",
    "    if tecnicoJoinville.iloc[i, 4] == \"PF, PJ, PJ\":\n",
    "        tecnicoJoinville.iloc[i, 4] = \"PF_PJ_PJ\"\n",
    "    if tecnicoJoinville.iloc[i, 4] == \"PJ, PJ, PF\":\n",
    "        tecnicoJoinville.iloc[i, 4] = \"PJ_PJ_PF\"\n",
    "    if tecnicoJoinville.iloc[i, 4] == \"PJ, PF, PJ\":\n",
    "        tecnicoJoinville.iloc[i, 4] = \"PJ_PF_PJ\""
   ]
  },
  {
   "cell_type": "code",
   "execution_count": 67,
   "metadata": {},
   "outputs": [
    {
     "data": {
      "text/plain": [
       "array(['Não', 'Sim'], dtype=object)"
      ]
     },
     "execution_count": 67,
     "metadata": {},
     "output_type": "execute_result"
    }
   ],
   "source": [
    "tecnicoJoinville[\"online\"].unique()"
   ]
  },
  {
   "cell_type": "code",
   "execution_count": 68,
   "metadata": {},
   "outputs": [
    {
     "data": {
      "text/plain": [
       "Não    1109\n",
       "Sim     595\n",
       "Name: online, dtype: int64"
      ]
     },
     "execution_count": 68,
     "metadata": {},
     "output_type": "execute_result"
    }
   ],
   "source": [
    "tecnicoJoinville[\"online\"].value_counts()"
   ]
  },
  {
   "cell_type": "code",
   "execution_count": 69,
   "metadata": {},
   "outputs": [],
   "source": [
    "for i in range(0, len(tecnicoJoinville['online'])):\n",
    "    if tecnicoJoinville.iloc[i, 5] == 'Não':\n",
    "        tecnicoJoinville.iloc[i, 5] = 'Nao'"
   ]
  },
  {
   "cell_type": "code",
   "execution_count": 70,
   "metadata": {},
   "outputs": [
    {
     "data": {
      "text/plain": [
       "array(['Aventureiro', 'Jardim Paraíso', 'Vila da Glória',\n",
       "       'Ulisses Guimarães', 'Jardim Sofia', 'Centro Norte',\n",
       "       'Santo Antônio', 'Saguaçu', 'Comasa', 'Itaum', 'Boehmerwaldt',\n",
       "       'Santa Catarina', 'América', 'Paranaguamirim', 'Boehmerwald',\n",
       "       'Pirabeiraba (Pirabeiraba)', 'Boa Vista', 'Garuva', 'Itinga',\n",
       "       'Petrópolis', 'Floresta', 'Jardim Iririú', 'Nova Brasília',\n",
       "       'Centro', 'João Costa', 'Vila Nova', 'jardim sofia',\n",
       "       'Costa e Silva', 'Parque Guarani', 'Rainha', 'Espinheiros',\n",
       "       'Bom Retiro', 'Czerniewicz', 'Guanabara', 'Anita Garibaldi',\n",
       "       'Rio Bonito (Pirabeiraba)', 'Jarivatuba', 'Iririú',\n",
       "       'Adhemar Garcia', 'São Marcos', 'Pinheiros ', 'São Cristovão',\n",
       "       'Morro do Meio', 'Vila nova', 'José Amandio', 'Atiradores',\n",
       "       'Zona Industrial Norte', 'Profipo', 'Glória',\n",
       "       'Dona Francisca (Pirabeiraba)', 'Vila Cubatão',\n",
       "       'Barra do Rio Cerro', 'Acaraí', 'Fátima', 'Salinas', 'Rio Bonito',\n",
       "       'SANTA CATARINA', 'Santa Lidia', 'Bucarein', 'Quiriri',\n",
       "       'Ulysses Guimarães', 'Jardim Paraiso', 'Ulisses guimaraes',\n",
       "       'Quinta dos Açorianos', 'Rio Bonito (Piraberaba)', 'Três Barras',\n",
       "       'Costeira', 'Itapema do Norte', 'PARANAGUAMIRIM', 'Vila Esperança',\n",
       "       'Centro (Pirabeiraba)', 'Rau', 'Pirabeiraba', 'Rio Gracioso',\n",
       "       'Porto Grande', 'ITAUM', 'Porto do Rei', 'Porto grande', 'itinga',\n",
       "       'tapera', 'IRIRIU', 'coroados', 'Vila Trevo', 'Itajuba',\n",
       "       'Jardim Iririu', 'JARDIM SOFIA', 'Caieiras', 'Araquari',\n",
       "       'Jardim Jurimar', 'Iririu', 'America', 'Cohapar', 'PIRABEIRABA',\n",
       "       'Caiobá', 'São Jorge', 'Ilha da Figueira', 'Itacorubi', 'itaum',\n",
       "       'Vale Despraiado', 'Enseada', 'Ponte do Imaruim', 'Petropolis',\n",
       "       'São Cristóvão', 'Serafim', '25 de Julho', 'Rio do Peixe',\n",
       "       'Marcílio Dias', 'Volta Redonda', 'Costa E Silva', 'Mina velha',\n",
       "       'Fatima', 'centro', 'Aventureiro ', 'Conquista'], dtype=object)"
      ]
     },
     "execution_count": 70,
     "metadata": {},
     "output_type": "execute_result"
    }
   ],
   "source": [
    "tecnicoJoinville[\"bairro\"].unique()"
   ]
  },
  {
   "cell_type": "code",
   "execution_count": 71,
   "metadata": {},
   "outputs": [
    {
     "data": {
      "text/plain": [
       "Aventureiro       134\n",
       "Vila Nova         116\n",
       "Costa e Silva     104\n",
       "Jardim Iririú      76\n",
       "Jardim Paraíso     66\n",
       "                 ... \n",
       "Porto do Rei        1\n",
       "Porto grande        1\n",
       "tapera              1\n",
       "IRIRIU              1\n",
       "Conquista           1\n",
       "Name: bairro, Length: 114, dtype: int64"
      ]
     },
     "execution_count": 71,
     "metadata": {},
     "output_type": "execute_result"
    }
   ],
   "source": [
    "tecnicoJoinville[\"bairro\"].value_counts()"
   ]
  },
  {
   "cell_type": "code",
   "execution_count": 72,
   "metadata": {},
   "outputs": [
    {
     "data": {
      "text/plain": [
       "Index(['produto_educacao', 'carga_horaria', 'turno', 'gratuidade_turma',\n",
       "       'tipo', 'online', 'bairro', 'cidade', 'genero', 'escolaridade',\n",
       "       'situacao_ocupacional', 'organizacao', 'situacao_matricula', 'IDADE'],\n",
       "      dtype='object')"
      ]
     },
     "execution_count": 72,
     "metadata": {},
     "output_type": "execute_result"
    }
   ],
   "source": [
    "tecnicoJoinville.columns"
   ]
  },
  {
   "cell_type": "code",
   "execution_count": 73,
   "metadata": {},
   "outputs": [],
   "source": [
    "for i in range(0, len(tecnicoJoinville[\"bairro\"])):\n",
    "    if tecnicoJoinville.iloc[i,7] != \"Joinville\":\n",
    "        tecnicoJoinville.iloc[i,6] = \"ForaJoinville\""
   ]
  },
  {
   "cell_type": "code",
   "execution_count": 74,
   "metadata": {},
   "outputs": [
    {
     "data": {
      "text/plain": [
       "Index(['produto_educacao', 'carga_horaria', 'turno', 'gratuidade_turma',\n",
       "       'tipo', 'online', 'bairro', 'cidade', 'genero', 'escolaridade',\n",
       "       'situacao_ocupacional', 'organizacao', 'situacao_matricula', 'IDADE'],\n",
       "      dtype='object')"
      ]
     },
     "execution_count": 74,
     "metadata": {},
     "output_type": "execute_result"
    }
   ],
   "source": [
    "tecnicoJoinville.columns"
   ]
  },
  {
   "cell_type": "code",
   "execution_count": 75,
   "metadata": {},
   "outputs": [
    {
     "data": {
      "text/plain": [
       "array(['Aventureiro', 'Jardim Paraíso', 'ForaJoinville',\n",
       "       'Ulisses Guimarães', 'Jardim Sofia', 'Santo Antônio', 'Saguaçu',\n",
       "       'Comasa', 'Itaum', 'Boehmerwaldt', 'Santa Catarina', 'América',\n",
       "       'Paranaguamirim', 'Boehmerwald', 'Pirabeiraba (Pirabeiraba)',\n",
       "       'Boa Vista', 'Itinga', 'Petrópolis', 'Floresta', 'Jardim Iririú',\n",
       "       'Nova Brasília', 'João Costa', 'Vila Nova', 'jardim sofia',\n",
       "       'Costa e Silva', 'Parque Guarani', 'Espinheiros', 'Bom Retiro',\n",
       "       'Guanabara', 'Anita Garibaldi', 'Rio Bonito (Pirabeiraba)',\n",
       "       'Jarivatuba', 'Iririú', 'Adhemar Garcia', 'São Marcos',\n",
       "       'Morro do Meio', 'Vila nova', 'Atiradores',\n",
       "       'Zona Industrial Norte', 'Profipo', 'Glória',\n",
       "       'Dona Francisca (Pirabeiraba)', 'Vila Cubatão', 'Fátima', 'Centro',\n",
       "       'Rio Bonito', 'SANTA CATARINA', 'Bucarein', 'Ulysses Guimarães',\n",
       "       'Jardim Paraiso', 'Ulisses guimaraes', 'Rio Bonito (Piraberaba)',\n",
       "       'PARANAGUAMIRIM', 'Centro (Pirabeiraba)', 'Pirabeiraba', 'ITAUM',\n",
       "       'IRIRIU', 'Jardim Iririu', 'JARDIM SOFIA', 'Iririu', 'America',\n",
       "       'PIRABEIRABA', 'itaum', 'Petropolis', 'Costa E Silva', 'Fatima',\n",
       "       'Aventureiro '], dtype=object)"
      ]
     },
     "execution_count": 75,
     "metadata": {},
     "output_type": "execute_result"
    }
   ],
   "source": [
    "tecnicoJoinville[\"bairro\"].unique()"
   ]
  },
  {
   "cell_type": "code",
   "execution_count": 76,
   "metadata": {},
   "outputs": [],
   "source": [
    "# Correção do bairro Itaum\n",
    "for i in range(0,len(tecnicoJoinville['bairro'])):\n",
    "    if tecnicoJoinville.iloc[i,6] == \"ITAUM\" or tecnicoJoinville.iloc[i,6] == \"itaum\":\n",
    "        tecnicoJoinville.iloc[i,6] = \"Itaum\""
   ]
  },
  {
   "cell_type": "code",
   "execution_count": 77,
   "metadata": {},
   "outputs": [],
   "source": [
    "# Correção do bairro Santa Catarina\n",
    "for i in range(0,len(tecnicoJoinville['bairro'])):\n",
    "    if tecnicoJoinville.iloc[i,6] == \"SANTA CATARINA\" or tecnicoJoinville.iloc[i,6] == \"Santa Catarina\":\n",
    "        tecnicoJoinville.iloc[i,6] = \"Santa_Catarina\""
   ]
  },
  {
   "cell_type": "code",
   "execution_count": 78,
   "metadata": {},
   "outputs": [],
   "source": [
    "# Correção do bairro Pirabeiraba\n",
    "for i in range(0,len(tecnicoJoinville['bairro'])):\n",
    "    if tecnicoJoinville.iloc[i,6] == \"Pirabeiraba (Pirabeiraba)\" or tecnicoJoinville.iloc[i,6] == \"Rio Bonito (Piraberaba)\" or tecnicoJoinville.iloc[i,6] == \"Dona Francisca (Pirabeiraba)\" or tecnicoJoinville.iloc[i,6] == \"Centro (Pirabeiraba)\" or tecnicoJoinville.iloc[i,6] == \"Rio Bonito\" or tecnicoJoinville.iloc[i,6] == \"PIRABEIRABA\" or tecnicoJoinville.iloc[i,6] == \"Rio Bonito (Pirabeiraba)\":\n",
    "        tecnicoJoinville.iloc[i,6] = \"Pirabeiraba\""
   ]
  },
  {
   "cell_type": "code",
   "execution_count": 79,
   "metadata": {},
   "outputs": [],
   "source": [
    "# Correção do bairro Centro\n",
    "for i in range(0,len(tecnicoJoinville['bairro'])):\n",
    "    if tecnicoJoinville.iloc[i,6] == \"centro\":\n",
    "        tecnicoJoinville.iloc[i,6] = \"Centro\""
   ]
  },
  {
   "cell_type": "code",
   "execution_count": 80,
   "metadata": {},
   "outputs": [],
   "source": [
    "# Correção do bairro Paranaguamirim\n",
    "for i in range(0,len(tecnicoJoinville['bairro'])):\n",
    "    if tecnicoJoinville.iloc[i,6] == \"PARANAGUAMIRIM\" or tecnicoJoinville.iloc[i,6] == \"Paraguaramirim\":\n",
    "        tecnicoJoinville.iloc[i,6] = \"Paranaguamirim\""
   ]
  },
  {
   "cell_type": "code",
   "execution_count": 81,
   "metadata": {},
   "outputs": [],
   "source": [
    "# Correção do bairro Costa e Silva\n",
    "for i in range(0,len(tecnicoJoinville['bairro'])):\n",
    "    if tecnicoJoinville.iloc[i,6] == \"Costa E Silva\" or tecnicoJoinville.iloc[i,6] == \"Costa e Silva\":\n",
    "        tecnicoJoinville.iloc[i,6] = \"Costa_e_Silva\""
   ]
  },
  {
   "cell_type": "code",
   "execution_count": 82,
   "metadata": {},
   "outputs": [],
   "source": [
    "# Correção do bairro Boa Vista\n",
    "for i in range(0,len(tecnicoJoinville['bairro'])):\n",
    "    if tecnicoJoinville.iloc[i,6] == \"BOA VISTA\" or tecnicoJoinville.iloc[i,6] == \"Boa Vista\":\n",
    "        tecnicoJoinville.iloc[i,6] = \"Boa_Vista\""
   ]
  },
  {
   "cell_type": "code",
   "execution_count": 83,
   "metadata": {},
   "outputs": [],
   "source": [
    "# Correção do bairro Água Branca\n",
    "for i in range(0,len(tecnicoJoinville['bairro'])):\n",
    "    if tecnicoJoinville.iloc[i,6] == \"Agua Branca \":\n",
    "        tecnicoJoinville.iloc[i,6] = \"Agua_Branca\""
   ]
  },
  {
   "cell_type": "code",
   "execution_count": 84,
   "metadata": {},
   "outputs": [],
   "source": [
    "# Correção do bairro Jardim Sofia\n",
    "for i in range(0,len(tecnicoJoinville['bairro'])):\n",
    "    if tecnicoJoinville.iloc[i,6] == \"jardim sofia\" or tecnicoJoinville.iloc[i,6] == \"JARDIM SOFIA\" or tecnicoJoinville.iloc[i, 6] == \"Jardim Sofia\":\n",
    "        tecnicoJoinville.iloc[i,6] = \"Jardim_Sofia\""
   ]
  },
  {
   "cell_type": "code",
   "execution_count": 85,
   "metadata": {},
   "outputs": [],
   "source": [
    "# Correção do bairro Jardim Paraíso\n",
    "for i in range(0,len(tecnicoJoinville['bairro'])):\n",
    "    if tecnicoJoinville.iloc[i,6] == \"Jardim Paraiso\" or tecnicoJoinville.iloc[i, 6] == \"Jardim Paraíso\":\n",
    "        tecnicoJoinville.iloc[i,6] = \"Jardim_Paraiso\""
   ]
  },
  {
   "cell_type": "code",
   "execution_count": 86,
   "metadata": {},
   "outputs": [],
   "source": [
    "# Correção do bairro Vila Nova\n",
    "for i in range(0,len(tecnicoJoinville['bairro'])):\n",
    "    if tecnicoJoinville.iloc[i,6] == \"Vila nova\" or tecnicoJoinville.iloc[i,6] == \"Vila Nova\":\n",
    "        tecnicoJoinville.iloc[i,6] = \"Vila_Nova\""
   ]
  },
  {
   "cell_type": "code",
   "execution_count": 87,
   "metadata": {},
   "outputs": [],
   "source": [
    "# Correção do bairro Jardim Iririú\n",
    "for i in range(0,len(tecnicoJoinville['bairro'])):\n",
    "    if tecnicoJoinville.iloc[i,6] == \"Jardim Iririu\" or tecnicoJoinville.iloc[i,6] == \"Jardim Iririú\":\n",
    "        tecnicoJoinville.iloc[i,6] = \"Jardim_Iririu\""
   ]
  },
  {
   "cell_type": "code",
   "execution_count": 88,
   "metadata": {},
   "outputs": [],
   "source": [
    "# Correção do bairro Ulysses Guimarães\n",
    "for i in range(0,len(tecnicoJoinville['bairro'])):\n",
    "    if tecnicoJoinville.iloc[i,6] == \"Ulisses guimaraes\" or tecnicoJoinville.iloc[i,6] == \"Ulisses Guimarães\" or tecnicoJoinville.iloc[i,6] == \"Ulysses Guimarães\":\n",
    "        tecnicoJoinville.iloc[i,6] = \"Ulysses_Guimaraes\""
   ]
  },
  {
   "cell_type": "code",
   "execution_count": 89,
   "metadata": {},
   "outputs": [],
   "source": [
    "# Correção do bairro Iririú\n",
    "for i in range(0,len(tecnicoJoinville['bairro'])):\n",
    "    if tecnicoJoinville.iloc[i,6] == 'Iririu' or tecnicoJoinville.iloc[i,6] == 'IRIRIU' or tecnicoJoinville.iloc[i,6] == 'Iririú':\n",
    "        tecnicoJoinville.iloc[i,6] = 'Iririu'"
   ]
  },
  {
   "cell_type": "code",
   "execution_count": 90,
   "metadata": {},
   "outputs": [],
   "source": [
    "# Correção do bairro Itinga\n",
    "for i in range(0,len(tecnicoJoinville['bairro'])):\n",
    "    if tecnicoJoinville.iloc[i,6] == 'itinga':\n",
    "        tecnicoJoinville.iloc[i,6] = 'Itinga'"
   ]
  },
  {
   "cell_type": "code",
   "execution_count": 91,
   "metadata": {},
   "outputs": [],
   "source": [
    "# Correção do bairro Aventureiro\n",
    "for i in range(0,len(tecnicoJoinville['bairro'])):\n",
    "    if tecnicoJoinville.iloc[i,6] == 'Aventureiro ':\n",
    "        tecnicoJoinville.iloc[i,6] = 'Aventureiro'"
   ]
  },
  {
   "cell_type": "code",
   "execution_count": 92,
   "metadata": {},
   "outputs": [],
   "source": [
    "# Correção do bairro Boehmerwald\n",
    "for i in range(0,len(tecnicoJoinville['bairro'])):\n",
    "    if tecnicoJoinville.iloc[i,6] == 'Boehmerwaldt':\n",
    "        tecnicoJoinville.iloc[i,6] = 'Boehmerwald'"
   ]
  },
  {
   "cell_type": "code",
   "execution_count": 93,
   "metadata": {},
   "outputs": [],
   "source": [
    "# Correção do bairro Santo Antônio\n",
    "for i in range(0,len(tecnicoJoinville['bairro'])):\n",
    "    if tecnicoJoinville.iloc[i,6] == 'Santo Antônio':\n",
    "        tecnicoJoinville.iloc[i,6] = 'Santo_Antonio'"
   ]
  },
  {
   "cell_type": "code",
   "execution_count": 94,
   "metadata": {},
   "outputs": [],
   "source": [
    "\n",
    "for i in range(0,len(tecnicoJoinville['bairro'])):\n",
    "    if tecnicoJoinville.iloc[i,6] == 'Saguaçu':\n",
    "        tecnicoJoinville.iloc[i,6] = 'Saguacu'\n",
    "        \n",
    "    if tecnicoJoinville.iloc[i,6] == 'América':\n",
    "        tecnicoJoinville.iloc[i,6] = 'America'\n",
    "        \n",
    "    if tecnicoJoinville.iloc[i,6] == 'Petrópolis':\n",
    "        tecnicoJoinville.iloc[i,6] = 'Petropolis'\n",
    "        \n",
    "    if tecnicoJoinville.iloc[i,6] == 'Nova Brasília':\n",
    "        tecnicoJoinville.iloc[i,6] = 'Nova_Brasilia'\n",
    "        \n",
    "    if tecnicoJoinville.iloc[i,6] == 'João Costa':\n",
    "        tecnicoJoinville.iloc[i,6] = 'Joao_Costa'\n",
    "        \n",
    "    if tecnicoJoinville.iloc[i,6] == 'Parque Guarani':\n",
    "        tecnicoJoinville.iloc[i,6] = 'Parque_Guarani'\n",
    "        \n",
    "    if tecnicoJoinville.iloc[i,6] == 'Bom Retiro':\n",
    "        tecnicoJoinville.iloc[i,6] = 'Bom_Retiro'\n",
    "        \n",
    "    if tecnicoJoinville.iloc[i,6] == 'Anita Garibaldi':\n",
    "        tecnicoJoinville.iloc[i,6] = 'Anita_Garibaldi'\n",
    "        \n",
    "    if tecnicoJoinville.iloc[i,6] == 'Adhemar Garcia':\n",
    "        tecnicoJoinville.iloc[i,6] = 'Adhemar_Garcia'\n",
    "        \n",
    "    if tecnicoJoinville.iloc[i,6] == 'São Marcos':\n",
    "        tecnicoJoinville.iloc[i,6] = 'Sao_Marcos'\n",
    "        \n",
    "    if tecnicoJoinville.iloc[i,6] == 'São Cristovão':\n",
    "        tecnicoJoinville.iloc[i,6] = 'Sao_Cristovao'\n",
    "        \n",
    "    if tecnicoJoinville.iloc[i,6] == 'Morro do Meio':\n",
    "        tecnicoJoinville.iloc[i,6] = 'Morro_Meio'\n",
    "        \n",
    "    if tecnicoJoinville.iloc[i,6] == 'José Amandio':\n",
    "        tecnicoJoinville.iloc[i,6] = 'Jose_Amandio'\n",
    "        \n",
    "    if tecnicoJoinville.iloc[i,6] == 'Zona Industrial Norte':\n",
    "        tecnicoJoinville.iloc[i,6] = 'Zona_Industrial_N'\n",
    "    \n",
    "    if tecnicoJoinville.iloc[i,6] == 'Glória':\n",
    "        tecnicoJoinville.iloc[i,6] = 'Gloria'\n",
    "        \n",
    "    if tecnicoJoinville.iloc[i,6] == 'Vila Cubatão':\n",
    "        tecnicoJoinville.iloc[i,6] = 'Vila_Cubatao'\n",
    "        \n",
    "    if tecnicoJoinville.iloc[i,6] == 'Fátima':\n",
    "        tecnicoJoinville.iloc[i,6] = 'Fatima'"
   ]
  },
  {
   "cell_type": "code",
   "execution_count": 95,
   "metadata": {},
   "outputs": [
    {
     "data": {
      "text/plain": [
       "array(['Aventureiro', 'Jardim_Paraiso', 'ForaJoinville',\n",
       "       'Ulysses_Guimaraes', 'Jardim_Sofia', 'Santo_Antonio', 'Saguacu',\n",
       "       'Comasa', 'Itaum', 'Boehmerwald', 'Santa_Catarina', 'America',\n",
       "       'Paranaguamirim', 'Pirabeiraba', 'Boa_Vista', 'Itinga',\n",
       "       'Petropolis', 'Floresta', 'Jardim_Iririu', 'Nova_Brasilia',\n",
       "       'Joao_Costa', 'Vila_Nova', 'Costa_e_Silva', 'Parque_Guarani',\n",
       "       'Espinheiros', 'Bom_Retiro', 'Guanabara', 'Anita_Garibaldi',\n",
       "       'Jarivatuba', 'Iririu', 'Adhemar_Garcia', 'Sao_Marcos',\n",
       "       'Morro_Meio', 'Atiradores', 'Zona_Industrial_N', 'Profipo',\n",
       "       'Gloria', 'Vila_Cubatao', 'Fatima', 'Centro', 'Bucarein'],\n",
       "      dtype=object)"
      ]
     },
     "execution_count": 95,
     "metadata": {},
     "output_type": "execute_result"
    }
   ],
   "source": [
    "tecnicoJoinville[\"bairro\"].unique()"
   ]
  },
  {
   "cell_type": "code",
   "execution_count": 96,
   "metadata": {},
   "outputs": [],
   "source": [
    "# Salvando em um arquivo csv  - Versão 3 ********************************\n",
    "tecnicoJoinville.to_csv(\"TECNICOS_Joinville3.csv\", encoding = \"latin-1\")"
   ]
  },
  {
   "cell_type": "code",
   "execution_count": 97,
   "metadata": {},
   "outputs": [],
   "source": [
    "##############################################\n",
    "tecnicoJoinville = pd.read_csv(\"TECNICOS_Joinville3.csv\", encoding = 'latin-1', low_memory = False)\n",
    "tecnicoJoinville.drop([\"Unnamed: 0\"], axis = 1, inplace = True)"
   ]
  },
  {
   "cell_type": "code",
   "execution_count": 98,
   "metadata": {},
   "outputs": [
    {
     "data": {
      "text/plain": [
       "Index(['produto_educacao', 'carga_horaria', 'turno', 'gratuidade_turma',\n",
       "       'tipo', 'online', 'bairro', 'cidade', 'genero', 'escolaridade',\n",
       "       'situacao_ocupacional', 'organizacao', 'situacao_matricula', 'IDADE'],\n",
       "      dtype='object')"
      ]
     },
     "execution_count": 98,
     "metadata": {},
     "output_type": "execute_result"
    }
   ],
   "source": [
    "tecnicoJoinville.columns"
   ]
  },
  {
   "cell_type": "code",
   "execution_count": 99,
   "metadata": {},
   "outputs": [
    {
     "data": {
      "text/plain": [
       "array(['Joinville', 'São Francisco do Sul', 'Schroeder', 'Garuva',\n",
       "       'Araquari', 'Jaraguá do Sul', 'Barra Velha',\n",
       "       'Balneário Barra do Sul', 'Concórdia', 'Bombinhas', 'Guaramirim',\n",
       "       'Pinheiro Preto', 'Penha', 'Guaratuba', 'Itapoá',\n",
       "       'Balneário Piçarras', 'Balneário Camboriú', 'Itajaí',\n",
       "       'São Bento do Sul', 'Matinhos', 'São Miguel do Oeste',\n",
       "       'Florianópolis', 'São Joaquim', 'Palhoça', 'Luiz Alves',\n",
       "       'Canoinhas'], dtype=object)"
      ]
     },
     "execution_count": 99,
     "metadata": {},
     "output_type": "execute_result"
    }
   ],
   "source": [
    "tecnicoJoinville[\"cidade\"].unique()"
   ]
  },
  {
   "cell_type": "code",
   "execution_count": 100,
   "metadata": {},
   "outputs": [],
   "source": [
    "for i in range(0, len(tecnicoJoinville[\"cidade\"])):\n",
    "    if tecnicoJoinville.iloc[i,7] == \"São Francisco do Sul\":\n",
    "        tecnicoJoinville.iloc[i,7] = \"SaoFrancisco_Sul\"\n",
    "    \n",
    "    if tecnicoJoinville.iloc[i,7] == \"Jaraguá do Sul\":\n",
    "        tecnicoJoinville.iloc[i,7] = \"Jaragua_Sul\"\n",
    "        \n",
    "    if tecnicoJoinville.iloc[i,7] == \"Barra Velha\":\n",
    "        tecnicoJoinville.iloc[i,7] = \"Barra_Velha\"\n",
    "        \n",
    "    if tecnicoJoinville.iloc[i,7] == \"Balneário Barra do Sul\":\n",
    "        tecnicoJoinville.iloc[i,7] = \"Bal_Barra_Sul\"\n",
    "        \n",
    "    if tecnicoJoinville.iloc[i,7] == \"Concórdia\":\n",
    "        tecnicoJoinville.iloc[i,7] = \"Concordia\"\n",
    "        \n",
    "    if tecnicoJoinville.iloc[i,7] == \"Pinheiro Preto\":\n",
    "        tecnicoJoinville.iloc[i,7] = \"Pinheiro_Preto\"\n",
    "        \n",
    "    if tecnicoJoinville.iloc[i,7] == \"Itapoá\":\n",
    "        tecnicoJoinville.iloc[i,7] = \"Itapoa\"\n",
    "        \n",
    "    if tecnicoJoinville.iloc[i,7] == \"Balneário Piçarras\":\n",
    "        tecnicoJoinville.iloc[i,7] = \"Bal_Picarras\"\n",
    "        \n",
    "    if tecnicoJoinville.iloc[i,7] == \"Balneário Camboriú\":\n",
    "        tecnicoJoinville.iloc[i,7] = \"Bal_Camboriu\"\n",
    "        \n",
    "    if tecnicoJoinville.iloc[i,7] == \"Itajaí\":\n",
    "        tecnicoJoinville.iloc[i,7] = \"Itajai\"\n",
    "        \n",
    "    if tecnicoJoinville.iloc[i,7] == \"São Bento do Sul\":\n",
    "        tecnicoJoinville.iloc[i,7] = \"Sao_Bento\"\n",
    "        \n",
    "    if tecnicoJoinville.iloc[i,7] == \"São Miguel do Oeste\":\n",
    "        tecnicoJoinville.iloc[i,7] = \"Sao_Miguel_Oeste\"\n",
    "        \n",
    "    if tecnicoJoinville.iloc[i,7] == \"Florianópolis\":\n",
    "        tecnicoJoinville.iloc[i,7] = \"Florianopolis\"\n",
    "        \n",
    "    if tecnicoJoinville.iloc[i,7] == \"São Joaquim\":\n",
    "        tecnicoJoinville.iloc[i,7] = \"Sao_Joaquim\"\n",
    "        \n",
    "    if tecnicoJoinville.iloc[i,7] == \"Palhoça\":\n",
    "        tecnicoJoinville.iloc[i,7] = \"Palhoca\"\n",
    "        \n",
    "    if tecnicoJoinville.iloc[i,7] == \"Luiz Alves\":\n",
    "        tecnicoJoinville.iloc[i,7] = \"Luiz_Alves\"\n",
    "        \n",
    "    if tecnicoJoinville.iloc[i,7] == \"Nova Trento\":\n",
    "        tecnicoJoinville.iloc[i,7] = \"Nova_Trento\"\n",
    "    \n",
    "    if tecnicoJoinville.iloc[i,7] == \"São João do Itaperiú\" or tecnicoJoinville.iloc[i,7] == \"Sao_Joao_Itaperiú\":\n",
    "        tecnicoJoinville.iloc[i,7] = \"Sao_Joao_Itaperiu\""
   ]
  },
  {
   "cell_type": "code",
   "execution_count": 101,
   "metadata": {},
   "outputs": [
    {
     "data": {
      "text/plain": [
       "array(['Joinville', 'SaoFrancisco_Sul', 'Schroeder', 'Garuva', 'Araquari',\n",
       "       'Jaragua_Sul', 'Barra_Velha', 'Bal_Barra_Sul', 'Concordia',\n",
       "       'Bombinhas', 'Guaramirim', 'Pinheiro_Preto', 'Penha', 'Guaratuba',\n",
       "       'Itapoa', 'Bal_Picarras', 'Bal_Camboriu', 'Itajai', 'Sao_Bento',\n",
       "       'Matinhos', 'Sao_Miguel_Oeste', 'Florianopolis', 'Sao_Joaquim',\n",
       "       'Palhoca', 'Luiz_Alves', 'Canoinhas'], dtype=object)"
      ]
     },
     "execution_count": 101,
     "metadata": {},
     "output_type": "execute_result"
    }
   ],
   "source": [
    "tecnicoJoinville[\"cidade\"].unique()"
   ]
  },
  {
   "cell_type": "code",
   "execution_count": 102,
   "metadata": {},
   "outputs": [
    {
     "data": {
      "text/plain": [
       "Joinville           1567\n",
       "Araquari              41\n",
       "Garuva                22\n",
       "Barra_Velha           17\n",
       "Bal_Barra_Sul         10\n",
       "Guaratuba              8\n",
       "Jaragua_Sul            6\n",
       "SaoFrancisco_Sul       6\n",
       "Itapoa                 5\n",
       "Sao_Bento              3\n",
       "Guaramirim             3\n",
       "Bal_Picarras           2\n",
       "Luiz_Alves             1\n",
       "Palhoca                1\n",
       "Sao_Joaquim            1\n",
       "Florianopolis          1\n",
       "Sao_Miguel_Oeste       1\n",
       "Matinhos               1\n",
       "Bal_Camboriu           1\n",
       "Itajai                 1\n",
       "Schroeder              1\n",
       "Penha                  1\n",
       "Pinheiro_Preto         1\n",
       "Bombinhas              1\n",
       "Concordia              1\n",
       "Canoinhas              1\n",
       "Name: cidade, dtype: int64"
      ]
     },
     "execution_count": 102,
     "metadata": {},
     "output_type": "execute_result"
    }
   ],
   "source": [
    "tecnicoJoinville[\"cidade\"].value_counts()"
   ]
  },
  {
   "cell_type": "code",
   "execution_count": 103,
   "metadata": {},
   "outputs": [
    {
     "data": {
      "text/plain": [
       "Index(['produto_educacao', 'carga_horaria', 'turno', 'gratuidade_turma',\n",
       "       'tipo', 'online', 'bairro', 'cidade', 'genero', 'escolaridade',\n",
       "       'situacao_ocupacional', 'organizacao', 'situacao_matricula', 'IDADE'],\n",
       "      dtype='object')"
      ]
     },
     "execution_count": 103,
     "metadata": {},
     "output_type": "execute_result"
    }
   ],
   "source": [
    "tecnicoJoinville.columns"
   ]
  },
  {
   "cell_type": "code",
   "execution_count": 104,
   "metadata": {},
   "outputs": [],
   "source": [
    "for i in range(0, len(tecnicoJoinville[\"escolaridade\"])):\n",
    "    if tecnicoJoinville.iloc[i,9] == \"Médio/Completo\":\n",
    "        tecnicoJoinville.iloc[i,9] = \"Medio_C\"\n",
    "        \n",
    "    if tecnicoJoinville.iloc[i,9] == \"Superior/Completo\":\n",
    "        tecnicoJoinville.iloc[i,9] = \"Superior_C\"\n",
    "        \n",
    "    if tecnicoJoinville.iloc[i,9] == \"Médio/Incompleto\":\n",
    "        tecnicoJoinville.iloc[i,9] = \"Medio_I\"\n",
    "        \n",
    "    if tecnicoJoinville.iloc[i,9] == \"Superior/Incompleto\":\n",
    "        tecnicoJoinville.iloc[i,9] = \"Superior_I\""
   ]
  },
  {
   "cell_type": "code",
   "execution_count": 105,
   "metadata": {},
   "outputs": [
    {
     "data": {
      "text/plain": [
       "array(['Medio_C', 'Superior_C', 'Medio_I', 'Superior_I'], dtype=object)"
      ]
     },
     "execution_count": 105,
     "metadata": {},
     "output_type": "execute_result"
    }
   ],
   "source": [
    "tecnicoJoinville[\"escolaridade\"].unique()"
   ]
  },
  {
   "cell_type": "code",
   "execution_count": 106,
   "metadata": {},
   "outputs": [
    {
     "data": {
      "text/plain": [
       "Medio_C       1390\n",
       "Medio_I        304\n",
       "Superior_C       7\n",
       "Superior_I       3\n",
       "Name: escolaridade, dtype: int64"
      ]
     },
     "execution_count": 106,
     "metadata": {},
     "output_type": "execute_result"
    }
   ],
   "source": [
    "tecnicoJoinville[\"escolaridade\"].value_counts()"
   ]
  },
  {
   "cell_type": "code",
   "execution_count": 107,
   "metadata": {},
   "outputs": [
    {
     "data": {
      "text/plain": [
       "array(['Empregado', 'Busca do primeiro emprego', 'Desempregado',\n",
       "       'Autônomo', 'Empregador', nan, 'Aposentado',\n",
       "       'Aprendiz com contrato'], dtype=object)"
      ]
     },
     "execution_count": 107,
     "metadata": {},
     "output_type": "execute_result"
    }
   ],
   "source": [
    "tecnicoJoinville[\"situacao_ocupacional\"].unique()"
   ]
  },
  {
   "cell_type": "code",
   "execution_count": 108,
   "metadata": {},
   "outputs": [
    {
     "data": {
      "text/plain": [
       "Empregado                    942\n",
       "Busca do primeiro emprego    662\n",
       "Desempregado                  75\n",
       "Autônomo                      14\n",
       "Aprendiz com contrato          4\n",
       "Empregador                     3\n",
       "Aposentado                     1\n",
       "Name: situacao_ocupacional, dtype: int64"
      ]
     },
     "execution_count": 108,
     "metadata": {},
     "output_type": "execute_result"
    }
   ],
   "source": [
    "tecnicoJoinville[\"situacao_ocupacional\"].value_counts()"
   ]
  },
  {
   "cell_type": "code",
   "execution_count": 109,
   "metadata": {},
   "outputs": [
    {
     "data": {
      "text/plain": [
       "3"
      ]
     },
     "execution_count": 109,
     "metadata": {},
     "output_type": "execute_result"
    }
   ],
   "source": [
    "# Apenas 3 valores nan.\n",
    "tecnicoJoinville[\"situacao_ocupacional\"].isna().sum()"
   ]
  },
  {
   "cell_type": "code",
   "execution_count": 110,
   "metadata": {},
   "outputs": [],
   "source": [
    "# Como a maioria dos valores da situação ocupacional é Empregado, os valores nan serão substituídos por esse valor.\n",
    "tecnicoJoinville[\"situacao_ocupacional\"].fillna(value = \"Empregado\", inplace = True)"
   ]
  },
  {
   "cell_type": "code",
   "execution_count": 111,
   "metadata": {},
   "outputs": [],
   "source": [
    "for i in range(0,len(tecnicoJoinville[\"situacao_ocupacional\"])):\n",
    "    if tecnicoJoinville.iloc[i,10] == \"Autônomo\":\n",
    "        tecnicoJoinville.iloc[i,10] = \"Empregado\""
   ]
  },
  {
   "cell_type": "code",
   "execution_count": 112,
   "metadata": {},
   "outputs": [],
   "source": [
    "for i in range(0,len(tecnicoJoinville[\"situacao_ocupacional\"])):\n",
    "    if tecnicoJoinville.iloc[i,10] == \"Aprendiz com contrato\" or tecnicoJoinville.iloc[i,10] == \"Autônomo/Conta Própria\" or tecnicoJoinville.iloc[i,10] == \"Empregador\":\n",
    "        tecnicoJoinville.iloc[i,10] = \"Empregado\""
   ]
  },
  {
   "cell_type": "code",
   "execution_count": 113,
   "metadata": {},
   "outputs": [],
   "source": [
    "for i in range(0,len(tecnicoJoinville[\"situacao_ocupacional\"])):\n",
    "    if tecnicoJoinville.iloc[i,10] == \"Busca do primeiro emprego\":\n",
    "        tecnicoJoinville.iloc[i,10] = \"Desempregado\""
   ]
  },
  {
   "cell_type": "code",
   "execution_count": 114,
   "metadata": {},
   "outputs": [
    {
     "data": {
      "text/plain": [
       "1210"
      ]
     },
     "execution_count": 114,
     "metadata": {},
     "output_type": "execute_result"
    }
   ],
   "source": [
    "# Ao todo, são 1365 valores missing.\n",
    "tecnicoJoinville[\"organizacao\"].isna().sum()"
   ]
  },
  {
   "cell_type": "code",
   "execution_count": 115,
   "metadata": {},
   "outputs": [],
   "source": [
    "# Os valores missing serão substituidos por NÃO DECLARADO.\n",
    "tecnicoJoinville[\"organizacao\"].fillna(value = \"N_D\", inplace = True)"
   ]
  },
  {
   "cell_type": "code",
   "execution_count": 116,
   "metadata": {},
   "outputs": [],
   "source": [
    "# Correção do nome das empresas para retirar caracteres estranhos.\n",
    "tecnicoJoinville[\"organizacao\"] = tecnicoJoinville[\"organizacao\"].map(lambda x: x.lstrip('{').rstrip(\"}\"))\n",
    "tecnicoJoinville[\"organizacao\"] = tecnicoJoinville[\"organizacao\"].map(lambda x: x.lstrip('\"').rstrip('\"'))"
   ]
  },
  {
   "cell_type": "code",
   "execution_count": 117,
   "metadata": {},
   "outputs": [
    {
     "data": {
      "text/plain": [
       "Index(['produto_educacao', 'carga_horaria', 'turno', 'gratuidade_turma',\n",
       "       'tipo', 'online', 'bairro', 'cidade', 'genero', 'escolaridade',\n",
       "       'situacao_ocupacional', 'organizacao', 'situacao_matricula', 'IDADE'],\n",
       "      dtype='object')"
      ]
     },
     "execution_count": 117,
     "metadata": {},
     "output_type": "execute_result"
    }
   ],
   "source": [
    "tecnicoJoinville.columns"
   ]
  },
  {
   "cell_type": "code",
   "execution_count": 118,
   "metadata": {},
   "outputs": [],
   "source": [
    "# Correção da empresa Embraco\n",
    "for i in range(0,len(tecnicoJoinville[\"organizacao\"])):\n",
    "    if tecnicoJoinville.iloc[i,11] == \"UNIDADE EMBRACO-COMPRESSORES E SOLUCOES DE REFRIGE\" or tecnicoJoinville.iloc[i,11] == \"Embraco S.a\" or tecnicoJoinville.iloc[i,11] == \"EMBRACO INDUSTRIA DE COMPRESSORES E SOLUCOES EM RE\" or tecnicoJoinville.iloc[i,11] == \"UNIDADE EMBRACO - COMPONENTES\":\n",
    "        tecnicoJoinville.iloc[i,11] = \"Embraco\"\n",
    "# Correção da empresa Tupy\n",
    "for i in range(0,len(tecnicoJoinville[\"organizacao\"])):\n",
    "    if tecnicoJoinville.iloc[i,11] == \"TUPY S/A\" or tecnicoJoinville.iloc[i,11] == \"Tupy Fundições Ltda.\" or tecnicoJoinville.iloc[i,11] == \"TUPY S.A.\" or tecnicoJoinville.iloc[i,11] == \"TUPY S/A - 84.683.374/0003-00\" or tecnicoJoinville.iloc[i,11] == \"Industria de Fundição Tupy\":\n",
    "        tecnicoJoinville.iloc[i,11] = \"TUPY\"\n",
    "        \n",
    "for i in range(0,len(tecnicoJoinville[\"organizacao\"])):\n",
    "    # Correção da empresa ****\n",
    "    if tecnicoJoinville.iloc[i,11] == \"****\" or tecnicoJoinville.iloc[i,11] == '***' or tecnicoJoinville.iloc[i,11] == \"NÃO DECLARADO\":\n",
    "        tecnicoJoinville.iloc[i,11] = \"N_D\""
   ]
  },
  {
   "cell_type": "code",
   "execution_count": null,
   "metadata": {},
   "outputs": [],
   "source": []
  },
  {
   "cell_type": "code",
   "execution_count": 119,
   "metadata": {},
   "outputs": [],
   "source": [
    "# Correção da empresa Ciser\n",
    "for i in range(0,len(tecnicoJoinville[\"organizacao\"])):\n",
    "    if tecnicoJoinville.iloc[i,11] == \"Cia Industrial H. Carlos Schneider (Ciser)\" or tecnicoJoinville.iloc[i,11] == \"CISER PARAFUSOS E PORCAS\" or tecnicoJoinville.iloc[i,11] == \"CIA. INDUSTRIAL H. CARLOS SCHNEIDER\" or tecnicoJoinville.iloc[i,11] == \"CISER\":\n",
    "        tecnicoJoinville.iloc[i,11] = \"Ciser\""
   ]
  },
  {
   "cell_type": "code",
   "execution_count": 120,
   "metadata": {},
   "outputs": [],
   "source": [
    "# Correção Britânia\n",
    "for i in range(0,len(tecnicoJoinville[\"organizacao\"])):\n",
    "    if tecnicoJoinville.iloc[i,11] == \"BRITANIA\" or tecnicoJoinville.iloc[i,11] == \"BRITÂNIA\" or tecnicoJoinville.iloc[i,11] == \"Britania Industria e Comercio Ltda.\":\n",
    "        tecnicoJoinville.iloc[i,11] = \"Britânia\"\n",
    "        \n",
    "# Correção da Whirlpool\n",
    "for i in range(0,len(tecnicoJoinville[\"organizacao\"])):\n",
    "    if tecnicoJoinville.iloc[i,11] == \"WHIRLPOOL S.A UNIDADE DE ELETRODOMESTICOS\" or tecnicoJoinville.iloc[i,11] == \"Whirlpool S/a - Unidade Embraco - Eletronicos\" or tecnicoJoinville.iloc[i,11] == \"UNIDADE DE ELETRODOMESTICOS\":\n",
    "        tecnicoJoinville.iloc[i,11] = \"Whirlpool\"\n",
    "\n",
    "# Correção da Wetzel\n",
    "for i in range(0,len(tecnicoJoinville[\"organizacao\"])):\n",
    "    if tecnicoJoinville.iloc[i,11] == \"WETZEL S.A - CORPORATIVO\" or tecnicoJoinville.iloc[i,11] == \"WETZEL S/A - ALUMÍNIO\" or tecnicoJoinville.iloc[i,11] == \"WETZEL S/A\":\n",
    "        tecnicoJoinville.iloc[i,11] = \"Wetzel\"\n",
    "\n",
    "# Correção da Schulz\n",
    "for i in range(0,len(tecnicoJoinville[\"organizacao\"])):\n",
    "    if tecnicoJoinville.iloc[i,11] == \"SCHULZ\" or tecnicoJoinville.iloc[i,11] == \"SCHULZ COMPRESSORES\":\n",
    "        tecnicoJoinville.iloc[i,11] = \"Schulz\"\n",
    "\n",
    "# Correção da Malharia Princesa\n",
    "for i in range(0,len(tecnicoJoinville[\"organizacao\"])):\n",
    "    if tecnicoJoinville.iloc[i,11] == \"MALHARIA PRINCESA S.A\":\n",
    "        tecnicoJoinville.iloc[i,11] = \"MALHARIA PRINCESA S.A.\"\n",
    "        \n",
    "# Correção da WEG\n",
    "for i in range(0,len(tecnicoJoinville[\"organizacao\"])):\n",
    "    if tecnicoJoinville.iloc[i,11] == \"DIVISAO AUTOMACAO - FABRICA - PARQUE FABRIL II\" or tecnicoJoinville.iloc[i,11] == \"DIVISAO AUTOMACAO - ESCRITORIO - PARQUE FABRIL II\" or tecnicoJoinville.iloc[i,11] == \"WEG DRIVES & CONTROLS - AUTOMACAO LTDA\":\n",
    "        tecnicoJoinville.iloc[i,11] = \"WEG\"\n",
    "        \n",
    "# Correção da Krona\n",
    "for i in range(0,len(tecnicoJoinville[\"organizacao\"])):\n",
    "    if tecnicoJoinville.iloc[i,11] == 'KRONA TUBOS E CONEXOES LTDA.' or tecnicoJoinville.iloc[i,11] == 'KRONA ACESSORIOS HIDRAULICOS LTDA':\n",
    "        tecnicoJoinville.iloc[i,11] = \"KRONA\"\n",
    "\n",
    "# Correção da Dohler\n",
    "for i in range(0,len(tecnicoJoinville[\"organizacao\"])):\n",
    "    if tecnicoJoinville.iloc[i,11] == 'DOHLER S.A.' or tecnicoJoinville.iloc[i,11] == 'DOHLER S/A':\n",
    "        tecnicoJoinville.iloc[i,11] = \"DOHLER\"\n",
    "# Correção da Tigre\n",
    "for i in range(0,len(tecnicoJoinville[\"organizacao\"])):\n",
    "    if tecnicoJoinville.iloc[i,11] == 'TIGRE MATERIAIS E SOLUÇÕES PARA CONSTRUÇÃO LTDA.' or tecnicoJoinville.iloc[i,11] == 'Tigre S/A Tubos e Conexões (joinville)' or tecnicoJoinville.iloc[i,11] == \"Tigre S.A - Tubos e Conexões\":\n",
    "        tecnicoJoinville.iloc[i,1] = \"TIGRE\"        \n",
    "\n",
    "# Correção Lepper\n",
    "for i in range(0,len(tecnicoJoinville[\"organizacao\"])):\n",
    "    if tecnicoJoinville.iloc[i,11] == 'Buschle & Lepper SA' or tecnicoJoinville.iloc[i,11] == 'CIA FABRIL LEPPER' or tecnicoJoinville.iloc[i,11] == 'LEPPER':\n",
    "        tecnicoJoinville.iloc[i,11] = \"Lepper\"  \n",
    "\n",
    "# Correção AB PLAST\n",
    "for i in range(0,len(tecnicoJoinville[\"organizacao\"])):\n",
    "    if tecnicoJoinville.iloc[i,11] == 'AB PLAST MANUFT. PLASTICOS LTDA':\n",
    "        tecnicoJoinville.iloc[i,11] = \"AB_PLAST\"  \n",
    "        \n",
    "# Correção AB PLAST\n",
    "for i in range(0,len(tecnicoJoinville[\"organizacao\"])):\n",
    "    if tecnicoJoinville.iloc[i,11] == 'Van Mar':\n",
    "        tecnicoJoinville.iloc[i,11] = \"VAN_MAR\"  \n",
    "        \n",
    "# Correção TRAPP\n",
    "for i in range(0,len(tecnicoJoinville[\"organizacao\"])):\n",
    "    if tecnicoJoinville.iloc[i,11] == 'Metalurgica Trapp Ltda':\n",
    "        tecnicoJoinville.iloc[i,11] = \"TRAPP\" \n",
    "        \n",
    "# Correção MADEIRAS TORQUATO\n",
    "for i in range(0,len(tecnicoJoinville[\"organizacao\"])):\n",
    "    if tecnicoJoinville.iloc[i,11] == 'MADEIRAS TORQUATO':\n",
    "        tecnicoJoinville.iloc[i,11] = \"TORQUATO\" \n",
    "        \n",
    "# Correção 62 BATALHAO DE INFANTARIA\n",
    "for i in range(0,len(tecnicoJoinville[\"organizacao\"])):\n",
    "    if tecnicoJoinville.iloc[i,11] == '62 BATALHAO DE INFANTARIA':\n",
    "        tecnicoJoinville.iloc[i,11] = \"BATALHAO\"\n",
    "        \n",
    "# Correção Componente Equipamentos Industriais Ltda Epp\n",
    "for i in range(0,len(tecnicoJoinville[\"organizacao\"])):\n",
    "    if tecnicoJoinville.iloc[i,11] == 'Componente Equipamentos Industriais Ltda Epp' or tecnicoJoinville.iloc[i,11] == 'Component Indústria e Comércio Ltda' :\n",
    "        tecnicoJoinville.iloc[i,11] = \"COMPONENT_EQUIPAMENTOS\"\n",
    "        \n",
    "# Correção AUTO ELETRICA COLZANI\n",
    "for i in range(0,len(tecnicoJoinville[\"organizacao\"])):\n",
    "    if tecnicoJoinville.iloc[i,11] == 'AUTO ELETRICA COLZANI':\n",
    "        tecnicoJoinville.iloc[i,11] = \"AUTO_ELETRICA_COLZANI\"\n",
    "        \n",
    "# Correção Auto Mecânica Nicoluzzi Ltda\n",
    "for i in range(0,len(tecnicoJoinville[\"organizacao\"])):\n",
    "    if tecnicoJoinville.iloc[i,11] == 'Auto Mecânica Nicoluzzi Ltda':\n",
    "        tecnicoJoinville.iloc[i,11] = \"AutoMecânica_Nicoluzzi\"        "
   ]
  },
  {
   "cell_type": "code",
   "execution_count": 121,
   "metadata": {},
   "outputs": [
    {
     "data": {
      "text/plain": [
       "array(['Schulz', 'N_D', 'SENAI/SC - JOINVILLE SUL', 'Embraco',\n",
       "       'SACARBI SERVICOS E PRODUTOS LTDA', 'SOLO INDUSTRIA E COMERCIO',\n",
       "       'AB_PLAST', 'VAN_MAR', 'SEW-EURODRIVE', 'BMW DO BRASIL LTDA',\n",
       "       'TUPY', 'TRAPP', 'DOCOL METAIS SANITARIOS LTDA. (ATIVA)',\n",
       "       'TOTAL CONEXOES', \"Kit's Brasil Fabricação de Produtos\",\n",
       "       'Franklin Electric Industria de Motobombas S.a.',\n",
       "       'Tigre S/A Tubos e Conexões (joinville)', 'WEG', 'FREMAX',\n",
       "       'COSMA DO BRASIL PRODUTOS E SERVICOS AUTOMOTIVOS LT', 'MILIUM',\n",
       "       'CRISTAL MASTER', 'Cadorin Ferramentaria e Usinagem Ltda',\n",
       "       'Britânia', 'GABIVEL VEICULOS', 'TORQUATO', 'NYCOLPLAST', 'Ciser',\n",
       "       'KRONA', 'COMPONENT_EQUIPAMENTOS', 'UNIPLAST',\n",
       "       'PLASBOHN INDÚSTRIA E COMÉRCIO LTDA',\n",
       "       'Plastibras Industria de Plasticos LTDA',\n",
       "       'DURIN INDUSTRIA DE PLASTICOS LTDA', 'TUV RHEINLAND',\n",
       "       'Garuva Abrasivos', 'GOMES MAQUINAS AGRICOLA', 'ILPEA',\n",
       "       'Whirlpool', 'BATALHAO', 'PONTEIRAS RODRIGUES', 'Copper',\n",
       "       'ANDRESA CONFECCOES', 'CCP INDUSTRIA E COMERCIO',\n",
       "       'Comfio - Companhia Catarinense de Fiação', 'DOHLER', 'INCASA S/A',\n",
       "       'MALHARIA PRINCESA S.A.', 'PARANA EQUIPAMENTOS S A', 'PAVILOCHE',\n",
       "       'TAF INDUSTRIAS DE PLASTICOS LTDA',\n",
       "       'FORTLEV INDUSTRIA E COMERCIO DE PLASTICOS LTDA',\n",
       "       'ERZINGER INDUSTRIA MECANICA LTDA', 'AB PLAST',\n",
       "       'TECELAGEM NORTE CATARINENSE', 'LINKPLAS IND DE PLASTICOS LTDA',\n",
       "       'SULBRAS MOLDES E PLASTICOS LTDA', 'TOTVS',\n",
       "       'SCHERER SA COMERCIO DE AUTOPECAS', 'SCHULZE ADVOGADOS ASSOCIADOS',\n",
       "       'EMBALE COMERCIAL DE EMBALAGENS LTDA',\n",
       "       'Cr - Ind. e Com. de Resistências Elétricas Ltda',\n",
       "       'LUNELLI COLORS',\n",
       "       'IBT INDÚSTRIA E COMÉRCIO DE TERMOPLÁSTICOS LTDA',\n",
       "       'BK SUL FERRAMENTARIA', 'KONARDI', 'Coltex Industria Textil Ltda',\n",
       "       '3JM FERRAMENTARIA',\n",
       "       'LEAR DO BRASIL INDUSTRIA E COMERCIO DE INTERIORES ', 'Wetzel',\n",
       "       'SINTEX INDUSTRIAL DE PLASTICOS LTDA',\n",
       "       'CARIBOR TECNOLOGIA DA BORRACHA LTDA', 'BOREAL PECAS & SISTEMAS',\n",
       "       'AUTO_ELETRICA_COLZANI', 'BENTELER', 'AutoMecânica_Nicoluzzi',\n",
       "       'Mecanica Meier', 'LUZVILLE',\n",
       "       'ITAYA ENGENHARIA,CONSTRUCAO E MANUTENCAO LTDA',\n",
       "       'Manfer Ferramentaria e Usinagem Ltda',\n",
       "       'ELKEM SILICONES BRASIL LTDA.', 'ROGGA CONSTRUTORA',\n",
       "       'ESTRIBO INDUSTRIA E COMERCIO LTDA',\n",
       "       'VIQUA INDÚSTRIA DE PLÁSTICOS LTDA', 'INPLAVEL', 'LEAS',\n",
       "       'IC Industria e Comercio de Moldes e Matrizes Ltda',\n",
       "       'ARCELORMITTAL BRASIL S.A.', 'TECNOPERFIL PLASTICOS LTDA',\n",
       "       'Lepper', 'Tigre S.A - Tubos e Conexões', 'PLASTICOVILLE',\n",
       "       'POLYEX INDUSTRIA DE PRODUTOS TERMOPLASTICOS LTDA',\n",
       "       'MARCEGAGLIA DO BRASIL LTDA', 'Plasticos Shalom Ltda - Me',\n",
       "       'HYOSUNG BRASIL', 'Colley Embalagens Ltda',\n",
       "       'Techtools Ferramentaria - EPP', 'EBOCAM SUPER FLUTUADORES LTDA',\n",
       "       'MEXICHEM BRASIL INDUSTRIA DE TRANSFORMACAO PLASTIC', 'BMW',\n",
       "       'MILBRA FABRICAÇÃO DE MAQUINAS, FERRAMENTAS, PEÇAS',\n",
       "       'Havan Lojas de Departamentos Ltda', 'CORETRANS COMERCIAL LTDA',\n",
       "       'BRASCOLA LTDA - EM RECUPERAÇÃO JUDICIAL', 'TRANSPETRO', 'DYNAMIK',\n",
       "       'DIKLATEX INDUSTRIA TEXTIL', 'FIBRASCA QUIMICA E TEXTIL LTDA',\n",
       "       'Rebarba Acabamento', 'METRONORTE COMERCIAL DE VEICULOS LTDA',\n",
       "       'Proelt Engenharia Ltda', 'GENERAL MOTORS DO BRASIL LTDA',\n",
       "       'PC PINTURAS TECNICAS LTDA', 'MINIPA DO BRASIL LTDA', 'FORTLEV',\n",
       "       'SIGOSTA TÉXTIL', 'Emplajoi', 'BUSSCAR',\n",
       "       'Plaslini Industria e Comercio de Injecao de Plasti',\n",
       "       'Agemed Saúde SA', 'Fast Parts Prototipos Ltda', 'GRANACO',\n",
       "       'Fgm Produtos Odontológicos Ltda', 'FRICASA',\n",
       "       'Refrex Evaporadores do Brasil S/a', 'CONDOR SUPER CENTER LTDA',\n",
       "       '3JG INDUSTRIA LTDA', 'CATARINENSE PHARMA',\n",
       "       'Refratek Indústria e Comercio',\n",
       "       'Modelação Leoni Industrial Eireli - EPP',\n",
       "       'Prime Eletrodomesticos Ltda.', 'Fibrasca',\n",
       "       'PONTES DISTRIBUIDORA DE MAQUINAS E EQUIPAMENTOS LT',\n",
       "       'TOOL MACHINE DEVELOPMENT'], dtype=object)"
      ]
     },
     "execution_count": 121,
     "metadata": {},
     "output_type": "execute_result"
    }
   ],
   "source": [
    "tecnicoJoinville[\"organizacao\"].unique()"
   ]
  },
  {
   "cell_type": "code",
   "execution_count": 122,
   "metadata": {},
   "outputs": [],
   "source": [
    "empresa = []\n",
    "for i in range(0, len(tecnicoJoinville[\"organizacao\"])):\n",
    "               empresa.append(tecnicoJoinville[\"organizacao\"][i].split(\" \")[0])"
   ]
  },
  {
   "cell_type": "code",
   "execution_count": 123,
   "metadata": {},
   "outputs": [],
   "source": [
    "tecnicoJoinville[\"empresa\"] = empresa"
   ]
  },
  {
   "cell_type": "code",
   "execution_count": 124,
   "metadata": {},
   "outputs": [
    {
     "data": {
      "text/html": [
       "<div>\n",
       "<style scoped>\n",
       "    .dataframe tbody tr th:only-of-type {\n",
       "        vertical-align: middle;\n",
       "    }\n",
       "\n",
       "    .dataframe tbody tr th {\n",
       "        vertical-align: top;\n",
       "    }\n",
       "\n",
       "    .dataframe thead th {\n",
       "        text-align: right;\n",
       "    }\n",
       "</style>\n",
       "<table border=\"1\" class=\"dataframe\">\n",
       "  <thead>\n",
       "    <tr style=\"text-align: right;\">\n",
       "      <th></th>\n",
       "      <th>produto_educacao</th>\n",
       "      <th>carga_horaria</th>\n",
       "      <th>turno</th>\n",
       "      <th>gratuidade_turma</th>\n",
       "      <th>tipo</th>\n",
       "      <th>online</th>\n",
       "      <th>bairro</th>\n",
       "      <th>cidade</th>\n",
       "      <th>genero</th>\n",
       "      <th>escolaridade</th>\n",
       "      <th>situacao_ocupacional</th>\n",
       "      <th>organizacao</th>\n",
       "      <th>situacao_matricula</th>\n",
       "      <th>IDADE</th>\n",
       "      <th>empresa</th>\n",
       "    </tr>\n",
       "  </thead>\n",
       "  <tbody>\n",
       "    <tr>\n",
       "      <th>0</th>\n",
       "      <td>AUTOMACAO</td>\n",
       "      <td>1200</td>\n",
       "      <td>Tarde</td>\n",
       "      <td>Mista</td>\n",
       "      <td>PF</td>\n",
       "      <td>Nao</td>\n",
       "      <td>Aventureiro</td>\n",
       "      <td>Joinville</td>\n",
       "      <td>M</td>\n",
       "      <td>Medio_C</td>\n",
       "      <td>Empregado</td>\n",
       "      <td>Schulz</td>\n",
       "      <td>Concluinte</td>\n",
       "      <td>21</td>\n",
       "      <td>Schulz</td>\n",
       "    </tr>\n",
       "    <tr>\n",
       "      <th>1</th>\n",
       "      <td>FABRICACAO</td>\n",
       "      <td>1600</td>\n",
       "      <td>Noite</td>\n",
       "      <td>Mista</td>\n",
       "      <td>PF</td>\n",
       "      <td>Nao</td>\n",
       "      <td>Jardim_Paraiso</td>\n",
       "      <td>Joinville</td>\n",
       "      <td>M</td>\n",
       "      <td>Medio_C</td>\n",
       "      <td>Empregado</td>\n",
       "      <td>N_D</td>\n",
       "      <td>Concluinte</td>\n",
       "      <td>18</td>\n",
       "      <td>N_D</td>\n",
       "    </tr>\n",
       "    <tr>\n",
       "      <th>2</th>\n",
       "      <td>LOGISTICA</td>\n",
       "      <td>1300</td>\n",
       "      <td>Noite</td>\n",
       "      <td>Mista</td>\n",
       "      <td>PF</td>\n",
       "      <td>Nao</td>\n",
       "      <td>ForaJoinville</td>\n",
       "      <td>SaoFrancisco_Sul</td>\n",
       "      <td>M</td>\n",
       "      <td>Medio_C</td>\n",
       "      <td>Empregado</td>\n",
       "      <td>SENAI/SC - JOINVILLE SUL</td>\n",
       "      <td>Concluinte</td>\n",
       "      <td>18</td>\n",
       "      <td>SENAI/SC</td>\n",
       "    </tr>\n",
       "    <tr>\n",
       "      <th>3</th>\n",
       "      <td>AUTOMACAO</td>\n",
       "      <td>1600</td>\n",
       "      <td>Tarde</td>\n",
       "      <td>Mista</td>\n",
       "      <td>PF</td>\n",
       "      <td>Nao</td>\n",
       "      <td>Aventureiro</td>\n",
       "      <td>Joinville</td>\n",
       "      <td>M</td>\n",
       "      <td>Medio_C</td>\n",
       "      <td>Desempregado</td>\n",
       "      <td>N_D</td>\n",
       "      <td>Concluinte</td>\n",
       "      <td>16</td>\n",
       "      <td>N_D</td>\n",
       "    </tr>\n",
       "    <tr>\n",
       "      <th>4</th>\n",
       "      <td>MECANICA</td>\n",
       "      <td>1620</td>\n",
       "      <td>Tarde</td>\n",
       "      <td>Mista</td>\n",
       "      <td>PF</td>\n",
       "      <td>Nao</td>\n",
       "      <td>Ulysses_Guimaraes</td>\n",
       "      <td>Joinville</td>\n",
       "      <td>M</td>\n",
       "      <td>Medio_C</td>\n",
       "      <td>Empregado</td>\n",
       "      <td>Schulz</td>\n",
       "      <td>Concluinte</td>\n",
       "      <td>17</td>\n",
       "      <td>Schulz</td>\n",
       "    </tr>\n",
       "  </tbody>\n",
       "</table>\n",
       "</div>"
      ],
      "text/plain": [
       "  produto_educacao carga_horaria  turno gratuidade_turma tipo online  \\\n",
       "0        AUTOMACAO          1200  Tarde            Mista   PF    Nao   \n",
       "1       FABRICACAO          1600  Noite            Mista   PF    Nao   \n",
       "2        LOGISTICA          1300  Noite            Mista   PF    Nao   \n",
       "3        AUTOMACAO          1600  Tarde            Mista   PF    Nao   \n",
       "4         MECANICA          1620  Tarde            Mista   PF    Nao   \n",
       "\n",
       "              bairro            cidade genero escolaridade  \\\n",
       "0        Aventureiro         Joinville      M      Medio_C   \n",
       "1     Jardim_Paraiso         Joinville      M      Medio_C   \n",
       "2      ForaJoinville  SaoFrancisco_Sul      M      Medio_C   \n",
       "3        Aventureiro         Joinville      M      Medio_C   \n",
       "4  Ulysses_Guimaraes         Joinville      M      Medio_C   \n",
       "\n",
       "  situacao_ocupacional               organizacao situacao_matricula  IDADE  \\\n",
       "0            Empregado                    Schulz         Concluinte     21   \n",
       "1            Empregado                       N_D         Concluinte     18   \n",
       "2            Empregado  SENAI/SC - JOINVILLE SUL         Concluinte     18   \n",
       "3         Desempregado                       N_D         Concluinte     16   \n",
       "4            Empregado                    Schulz         Concluinte     17   \n",
       "\n",
       "    empresa  \n",
       "0    Schulz  \n",
       "1       N_D  \n",
       "2  SENAI/SC  \n",
       "3       N_D  \n",
       "4    Schulz  "
      ]
     },
     "execution_count": 124,
     "metadata": {},
     "output_type": "execute_result"
    }
   ],
   "source": [
    "tecnicoJoinville.head()"
   ]
  },
  {
   "cell_type": "code",
   "execution_count": 125,
   "metadata": {},
   "outputs": [
    {
     "data": {
      "text/plain": [
       "Index(['produto_educacao', 'carga_horaria', 'turno', 'gratuidade_turma',\n",
       "       'tipo', 'online', 'bairro', 'cidade', 'genero', 'escolaridade',\n",
       "       'situacao_ocupacional', 'organizacao', 'situacao_matricula', 'IDADE',\n",
       "       'empresa'],\n",
       "      dtype='object')"
      ]
     },
     "execution_count": 125,
     "metadata": {},
     "output_type": "execute_result"
    }
   ],
   "source": [
    "tecnicoJoinville.columns"
   ]
  },
  {
   "cell_type": "code",
   "execution_count": 126,
   "metadata": {},
   "outputs": [
    {
     "data": {
      "text/plain": [
       "array(['Schulz', 'N_D', 'SENAI/SC', 'Embraco', 'SACARBI', 'SOLO',\n",
       "       'AB_PLAST', 'VAN_MAR', 'SEW-EURODRIVE', 'BMW', 'TUPY', 'TRAPP',\n",
       "       'DOCOL', 'TOTAL', \"Kit's\", 'Franklin', 'Tigre', 'WEG', 'FREMAX',\n",
       "       'COSMA', 'MILIUM', 'CRISTAL', 'Cadorin', 'Britânia', 'GABIVEL',\n",
       "       'TORQUATO', 'NYCOLPLAST', 'Ciser', 'KRONA',\n",
       "       'COMPONENT_EQUIPAMENTOS', 'UNIPLAST', 'PLASBOHN', 'Plastibras',\n",
       "       'DURIN', 'TUV', 'Garuva', 'GOMES', 'ILPEA', 'Whirlpool',\n",
       "       'BATALHAO', 'PONTEIRAS', 'Copper', 'ANDRESA', 'CCP', 'Comfio',\n",
       "       'DOHLER', 'INCASA', 'MALHARIA', 'PARANA', 'PAVILOCHE', 'TAF',\n",
       "       'FORTLEV', 'ERZINGER', 'AB', 'TECELAGEM', 'LINKPLAS', 'SULBRAS',\n",
       "       'TOTVS', 'SCHERER', 'SCHULZE', 'EMBALE', 'Cr', 'LUNELLI', 'IBT',\n",
       "       'BK', 'KONARDI', 'Coltex', '3JM', 'LEAR', 'Wetzel', 'SINTEX',\n",
       "       'CARIBOR', 'BOREAL', 'AUTO_ELETRICA_COLZANI', 'BENTELER',\n",
       "       'AutoMecânica_Nicoluzzi', 'Mecanica', 'LUZVILLE', 'ITAYA',\n",
       "       'Manfer', 'ELKEM', 'ROGGA', 'ESTRIBO', 'VIQUA', 'INPLAVEL', 'LEAS',\n",
       "       'IC', 'ARCELORMITTAL', 'TECNOPERFIL', 'Lepper', 'PLASTICOVILLE',\n",
       "       'POLYEX', 'MARCEGAGLIA', 'Plasticos', 'HYOSUNG', 'Colley',\n",
       "       'Techtools', 'EBOCAM', 'MEXICHEM', 'MILBRA', 'Havan', 'CORETRANS',\n",
       "       'BRASCOLA', 'TRANSPETRO', 'DYNAMIK', 'DIKLATEX', 'FIBRASCA',\n",
       "       'Rebarba', 'METRONORTE', 'Proelt', 'GENERAL', 'PC', 'MINIPA',\n",
       "       'SIGOSTA', 'Emplajoi', 'BUSSCAR', 'Plaslini', 'Agemed', 'Fast',\n",
       "       'GRANACO', 'Fgm', 'FRICASA', 'Refrex', 'CONDOR', '3JG',\n",
       "       'CATARINENSE', 'Refratek', 'Modelação', 'Prime', 'Fibrasca',\n",
       "       'PONTES', 'TOOL'], dtype=object)"
      ]
     },
     "execution_count": 126,
     "metadata": {},
     "output_type": "execute_result"
    }
   ],
   "source": [
    "tecnicoJoinville[\"empresa\"].unique()"
   ]
  },
  {
   "cell_type": "code",
   "execution_count": 127,
   "metadata": {},
   "outputs": [],
   "source": [
    "# Correção Sigosta Ltda\n",
    "for i in range(0,len(tecnicoJoinville[\"organizacao\"])):\n",
    "    if tecnicoJoinville.iloc[i,11] == 'SIGOSTA' or tecnicoJoinville.iloc[i,11] == 'SIGOSTA TÉXTIL':\n",
    "        tecnicoJoinville.iloc[i,11] = \"Sigosta\"\n",
    "        \n",
    "# Correção Modelação\n",
    "for i in range(0,len(tecnicoJoinville[\"empresa\"])):\n",
    "    if tecnicoJoinville.iloc[i,14] == 'Modelação':\n",
    "        tecnicoJoinville.iloc[i,14] = \"Modelacao\""
   ]
  },
  {
   "cell_type": "code",
   "execution_count": 128,
   "metadata": {},
   "outputs": [
    {
     "data": {
      "text/html": [
       "<div>\n",
       "<style scoped>\n",
       "    .dataframe tbody tr th:only-of-type {\n",
       "        vertical-align: middle;\n",
       "    }\n",
       "\n",
       "    .dataframe tbody tr th {\n",
       "        vertical-align: top;\n",
       "    }\n",
       "\n",
       "    .dataframe thead th {\n",
       "        text-align: right;\n",
       "    }\n",
       "</style>\n",
       "<table border=\"1\" class=\"dataframe\">\n",
       "  <thead>\n",
       "    <tr style=\"text-align: right;\">\n",
       "      <th></th>\n",
       "      <th>produto_educacao</th>\n",
       "      <th>carga_horaria</th>\n",
       "      <th>turno</th>\n",
       "      <th>gratuidade_turma</th>\n",
       "      <th>tipo</th>\n",
       "      <th>online</th>\n",
       "      <th>bairro</th>\n",
       "      <th>cidade</th>\n",
       "      <th>genero</th>\n",
       "      <th>escolaridade</th>\n",
       "      <th>situacao_ocupacional</th>\n",
       "      <th>organizacao</th>\n",
       "      <th>situacao_matricula</th>\n",
       "      <th>IDADE</th>\n",
       "      <th>empresa</th>\n",
       "    </tr>\n",
       "  </thead>\n",
       "  <tbody>\n",
       "    <tr>\n",
       "      <th>0</th>\n",
       "      <td>AUTOMACAO</td>\n",
       "      <td>1200</td>\n",
       "      <td>Tarde</td>\n",
       "      <td>Mista</td>\n",
       "      <td>PF</td>\n",
       "      <td>Nao</td>\n",
       "      <td>Aventureiro</td>\n",
       "      <td>Joinville</td>\n",
       "      <td>M</td>\n",
       "      <td>Medio_C</td>\n",
       "      <td>Empregado</td>\n",
       "      <td>Schulz</td>\n",
       "      <td>Concluinte</td>\n",
       "      <td>21</td>\n",
       "      <td>Schulz</td>\n",
       "    </tr>\n",
       "    <tr>\n",
       "      <th>1</th>\n",
       "      <td>FABRICACAO</td>\n",
       "      <td>1600</td>\n",
       "      <td>Noite</td>\n",
       "      <td>Mista</td>\n",
       "      <td>PF</td>\n",
       "      <td>Nao</td>\n",
       "      <td>Jardim_Paraiso</td>\n",
       "      <td>Joinville</td>\n",
       "      <td>M</td>\n",
       "      <td>Medio_C</td>\n",
       "      <td>Empregado</td>\n",
       "      <td>N_D</td>\n",
       "      <td>Concluinte</td>\n",
       "      <td>18</td>\n",
       "      <td>N_D</td>\n",
       "    </tr>\n",
       "    <tr>\n",
       "      <th>2</th>\n",
       "      <td>LOGISTICA</td>\n",
       "      <td>1300</td>\n",
       "      <td>Noite</td>\n",
       "      <td>Mista</td>\n",
       "      <td>PF</td>\n",
       "      <td>Nao</td>\n",
       "      <td>ForaJoinville</td>\n",
       "      <td>SaoFrancisco_Sul</td>\n",
       "      <td>M</td>\n",
       "      <td>Medio_C</td>\n",
       "      <td>Empregado</td>\n",
       "      <td>SENAI/SC - JOINVILLE SUL</td>\n",
       "      <td>Concluinte</td>\n",
       "      <td>18</td>\n",
       "      <td>SENAI/SC</td>\n",
       "    </tr>\n",
       "    <tr>\n",
       "      <th>3</th>\n",
       "      <td>AUTOMACAO</td>\n",
       "      <td>1600</td>\n",
       "      <td>Tarde</td>\n",
       "      <td>Mista</td>\n",
       "      <td>PF</td>\n",
       "      <td>Nao</td>\n",
       "      <td>Aventureiro</td>\n",
       "      <td>Joinville</td>\n",
       "      <td>M</td>\n",
       "      <td>Medio_C</td>\n",
       "      <td>Desempregado</td>\n",
       "      <td>N_D</td>\n",
       "      <td>Concluinte</td>\n",
       "      <td>16</td>\n",
       "      <td>N_D</td>\n",
       "    </tr>\n",
       "    <tr>\n",
       "      <th>4</th>\n",
       "      <td>MECANICA</td>\n",
       "      <td>1620</td>\n",
       "      <td>Tarde</td>\n",
       "      <td>Mista</td>\n",
       "      <td>PF</td>\n",
       "      <td>Nao</td>\n",
       "      <td>Ulysses_Guimaraes</td>\n",
       "      <td>Joinville</td>\n",
       "      <td>M</td>\n",
       "      <td>Medio_C</td>\n",
       "      <td>Empregado</td>\n",
       "      <td>Schulz</td>\n",
       "      <td>Concluinte</td>\n",
       "      <td>17</td>\n",
       "      <td>Schulz</td>\n",
       "    </tr>\n",
       "  </tbody>\n",
       "</table>\n",
       "</div>"
      ],
      "text/plain": [
       "  produto_educacao carga_horaria  turno gratuidade_turma tipo online  \\\n",
       "0        AUTOMACAO          1200  Tarde            Mista   PF    Nao   \n",
       "1       FABRICACAO          1600  Noite            Mista   PF    Nao   \n",
       "2        LOGISTICA          1300  Noite            Mista   PF    Nao   \n",
       "3        AUTOMACAO          1600  Tarde            Mista   PF    Nao   \n",
       "4         MECANICA          1620  Tarde            Mista   PF    Nao   \n",
       "\n",
       "              bairro            cidade genero escolaridade  \\\n",
       "0        Aventureiro         Joinville      M      Medio_C   \n",
       "1     Jardim_Paraiso         Joinville      M      Medio_C   \n",
       "2      ForaJoinville  SaoFrancisco_Sul      M      Medio_C   \n",
       "3        Aventureiro         Joinville      M      Medio_C   \n",
       "4  Ulysses_Guimaraes         Joinville      M      Medio_C   \n",
       "\n",
       "  situacao_ocupacional               organizacao situacao_matricula  IDADE  \\\n",
       "0            Empregado                    Schulz         Concluinte     21   \n",
       "1            Empregado                       N_D         Concluinte     18   \n",
       "2            Empregado  SENAI/SC - JOINVILLE SUL         Concluinte     18   \n",
       "3         Desempregado                       N_D         Concluinte     16   \n",
       "4            Empregado                    Schulz         Concluinte     17   \n",
       "\n",
       "    empresa  \n",
       "0    Schulz  \n",
       "1       N_D  \n",
       "2  SENAI/SC  \n",
       "3       N_D  \n",
       "4    Schulz  "
      ]
     },
     "execution_count": 128,
     "metadata": {},
     "output_type": "execute_result"
    }
   ],
   "source": [
    "tecnicoJoinville.head()"
   ]
  },
  {
   "cell_type": "code",
   "execution_count": 129,
   "metadata": {},
   "outputs": [],
   "source": [
    "tecnicoJoinville.drop([\"organizacao\"], axis = 1, inplace = True)"
   ]
  },
  {
   "cell_type": "code",
   "execution_count": 130,
   "metadata": {},
   "outputs": [],
   "source": [
    "# Salvando em um arquivo csv ###############################################################3\n",
    "tecnicoJoinville.to_csv(\"TECNICOS_Joinville4.csv\", encoding = \"latin-1\")"
   ]
  },
  {
   "cell_type": "code",
   "execution_count": 131,
   "metadata": {},
   "outputs": [],
   "source": [
    "tecnicoJoinville = pd.read_csv(\"TECNICOS_Joinville4.csv\", encoding = 'latin-1', low_memory = False)\n",
    "tecnicoJoinville.drop([\"Unnamed: 0\"], axis = 1, inplace = True)"
   ]
  },
  {
   "cell_type": "code",
   "execution_count": 132,
   "metadata": {},
   "outputs": [
    {
     "data": {
      "text/html": [
       "<div>\n",
       "<style scoped>\n",
       "    .dataframe tbody tr th:only-of-type {\n",
       "        vertical-align: middle;\n",
       "    }\n",
       "\n",
       "    .dataframe tbody tr th {\n",
       "        vertical-align: top;\n",
       "    }\n",
       "\n",
       "    .dataframe thead th {\n",
       "        text-align: right;\n",
       "    }\n",
       "</style>\n",
       "<table border=\"1\" class=\"dataframe\">\n",
       "  <thead>\n",
       "    <tr style=\"text-align: right;\">\n",
       "      <th></th>\n",
       "      <th>produto_educacao</th>\n",
       "      <th>carga_horaria</th>\n",
       "      <th>turno</th>\n",
       "      <th>gratuidade_turma</th>\n",
       "      <th>tipo</th>\n",
       "      <th>online</th>\n",
       "      <th>bairro</th>\n",
       "      <th>cidade</th>\n",
       "      <th>genero</th>\n",
       "      <th>escolaridade</th>\n",
       "      <th>situacao_ocupacional</th>\n",
       "      <th>situacao_matricula</th>\n",
       "      <th>IDADE</th>\n",
       "      <th>empresa</th>\n",
       "    </tr>\n",
       "  </thead>\n",
       "  <tbody>\n",
       "    <tr>\n",
       "      <th>0</th>\n",
       "      <td>AUTOMACAO</td>\n",
       "      <td>1200</td>\n",
       "      <td>Tarde</td>\n",
       "      <td>Mista</td>\n",
       "      <td>PF</td>\n",
       "      <td>Nao</td>\n",
       "      <td>Aventureiro</td>\n",
       "      <td>Joinville</td>\n",
       "      <td>M</td>\n",
       "      <td>Medio_C</td>\n",
       "      <td>Empregado</td>\n",
       "      <td>Concluinte</td>\n",
       "      <td>21</td>\n",
       "      <td>Schulz</td>\n",
       "    </tr>\n",
       "    <tr>\n",
       "      <th>1</th>\n",
       "      <td>FABRICACAO</td>\n",
       "      <td>1600</td>\n",
       "      <td>Noite</td>\n",
       "      <td>Mista</td>\n",
       "      <td>PF</td>\n",
       "      <td>Nao</td>\n",
       "      <td>Jardim_Paraiso</td>\n",
       "      <td>Joinville</td>\n",
       "      <td>M</td>\n",
       "      <td>Medio_C</td>\n",
       "      <td>Empregado</td>\n",
       "      <td>Concluinte</td>\n",
       "      <td>18</td>\n",
       "      <td>N_D</td>\n",
       "    </tr>\n",
       "    <tr>\n",
       "      <th>2</th>\n",
       "      <td>LOGISTICA</td>\n",
       "      <td>1300</td>\n",
       "      <td>Noite</td>\n",
       "      <td>Mista</td>\n",
       "      <td>PF</td>\n",
       "      <td>Nao</td>\n",
       "      <td>ForaJoinville</td>\n",
       "      <td>SaoFrancisco_Sul</td>\n",
       "      <td>M</td>\n",
       "      <td>Medio_C</td>\n",
       "      <td>Empregado</td>\n",
       "      <td>Concluinte</td>\n",
       "      <td>18</td>\n",
       "      <td>SENAI/SC</td>\n",
       "    </tr>\n",
       "    <tr>\n",
       "      <th>3</th>\n",
       "      <td>AUTOMACAO</td>\n",
       "      <td>1600</td>\n",
       "      <td>Tarde</td>\n",
       "      <td>Mista</td>\n",
       "      <td>PF</td>\n",
       "      <td>Nao</td>\n",
       "      <td>Aventureiro</td>\n",
       "      <td>Joinville</td>\n",
       "      <td>M</td>\n",
       "      <td>Medio_C</td>\n",
       "      <td>Desempregado</td>\n",
       "      <td>Concluinte</td>\n",
       "      <td>16</td>\n",
       "      <td>N_D</td>\n",
       "    </tr>\n",
       "    <tr>\n",
       "      <th>4</th>\n",
       "      <td>MECANICA</td>\n",
       "      <td>1620</td>\n",
       "      <td>Tarde</td>\n",
       "      <td>Mista</td>\n",
       "      <td>PF</td>\n",
       "      <td>Nao</td>\n",
       "      <td>Ulysses_Guimaraes</td>\n",
       "      <td>Joinville</td>\n",
       "      <td>M</td>\n",
       "      <td>Medio_C</td>\n",
       "      <td>Empregado</td>\n",
       "      <td>Concluinte</td>\n",
       "      <td>17</td>\n",
       "      <td>Schulz</td>\n",
       "    </tr>\n",
       "  </tbody>\n",
       "</table>\n",
       "</div>"
      ],
      "text/plain": [
       "  produto_educacao carga_horaria  turno gratuidade_turma tipo online  \\\n",
       "0        AUTOMACAO          1200  Tarde            Mista   PF    Nao   \n",
       "1       FABRICACAO          1600  Noite            Mista   PF    Nao   \n",
       "2        LOGISTICA          1300  Noite            Mista   PF    Nao   \n",
       "3        AUTOMACAO          1600  Tarde            Mista   PF    Nao   \n",
       "4         MECANICA          1620  Tarde            Mista   PF    Nao   \n",
       "\n",
       "              bairro            cidade genero escolaridade  \\\n",
       "0        Aventureiro         Joinville      M      Medio_C   \n",
       "1     Jardim_Paraiso         Joinville      M      Medio_C   \n",
       "2      ForaJoinville  SaoFrancisco_Sul      M      Medio_C   \n",
       "3        Aventureiro         Joinville      M      Medio_C   \n",
       "4  Ulysses_Guimaraes         Joinville      M      Medio_C   \n",
       "\n",
       "  situacao_ocupacional situacao_matricula  IDADE   empresa  \n",
       "0            Empregado         Concluinte     21    Schulz  \n",
       "1            Empregado         Concluinte     18       N_D  \n",
       "2            Empregado         Concluinte     18  SENAI/SC  \n",
       "3         Desempregado         Concluinte     16       N_D  \n",
       "4            Empregado         Concluinte     17    Schulz  "
      ]
     },
     "execution_count": 132,
     "metadata": {},
     "output_type": "execute_result"
    }
   ],
   "source": [
    "tecnicoJoinville.head()"
   ]
  },
  {
   "cell_type": "code",
   "execution_count": 133,
   "metadata": {},
   "outputs": [
    {
     "data": {
      "text/plain": [
       "<bound method Series.unique of 0       Concluinte\n",
       "1       Concluinte\n",
       "2       Concluinte\n",
       "3       Concluinte\n",
       "4       Concluinte\n",
       "           ...    \n",
       "1699    Desistente\n",
       "1700    Desistente\n",
       "1701    Desistente\n",
       "1702    Desistente\n",
       "1703    Desistente\n",
       "Name: situacao_matricula, Length: 1704, dtype: object>"
      ]
     },
     "execution_count": 133,
     "metadata": {},
     "output_type": "execute_result"
    }
   ],
   "source": [
    "tecnicoJoinville[\"situacao_matricula\"].unique"
   ]
  },
  {
   "cell_type": "markdown",
   "metadata": {},
   "source": [
    "## Teste dos algoritmos de classificação"
   ]
  },
  {
   "cell_type": "code",
   "execution_count": 134,
   "metadata": {},
   "outputs": [],
   "source": [
    "# Salvando em um arquivo csv ###############################################################\n",
    "tecnicoJoinville.to_csv(\"TECNICOS_Joinville5.csv\", encoding = \"latin-1\")"
   ]
  },
  {
   "cell_type": "code",
   "execution_count": 135,
   "metadata": {},
   "outputs": [],
   "source": [
    "# Salvando em um arquivo csv ###############################################################\n",
    "tecnicoJoinville.to_csv(\"TECNICO_PERFIL.csv\", encoding = \"latin-1\")"
   ]
  },
  {
   "cell_type": "code",
   "execution_count": null,
   "metadata": {},
   "outputs": [],
   "source": []
  }
 ],
 "metadata": {
  "kernelspec": {
   "display_name": "Python 3 (ipykernel)",
   "language": "python",
   "name": "python3"
  },
  "language_info": {
   "codemirror_mode": {
    "name": "ipython",
    "version": 3
   },
   "file_extension": ".py",
   "mimetype": "text/x-python",
   "name": "python",
   "nbconvert_exporter": "python",
   "pygments_lexer": "ipython3",
   "version": "3.7.3"
  }
 },
 "nbformat": 4,
 "nbformat_minor": 4
}
