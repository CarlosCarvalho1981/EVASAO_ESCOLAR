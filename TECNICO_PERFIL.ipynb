{
 "cells": [
  {
   "cell_type": "markdown",
   "metadata": {},
   "source": [
    "# Perfil do aluno dos cursos técnicos do Senai Joinville\n",
    "Neste trabalho será feita uma análise exploratória para identificar o perfil do estudante dos cursos técnicos do Senai Joinville."
   ]
  },
  {
   "cell_type": "code",
   "execution_count": 1,
   "metadata": {},
   "outputs": [],
   "source": [
    "# Importação dos pacotes\n",
    "import pandas as pd\n",
    "import numpy as np\n",
    "import matplotlib.pyplot as plt\n",
    "import seaborn as sns"
   ]
  },
  {
   "cell_type": "code",
   "execution_count": 2,
   "metadata": {},
   "outputs": [],
   "source": [
    "# Carregando os dados\n",
    "dados1 = pd.read_csv(\"TECNICO_PERFIL.csv\", encoding = 'latin-1')\n",
    "dados1.drop([\"Unnamed: 0\"], axis = 1, inplace = True)"
   ]
  },
  {
   "cell_type": "code",
   "execution_count": 3,
   "metadata": {},
   "outputs": [
    {
     "data": {
      "text/html": [
       "<div>\n",
       "<style scoped>\n",
       "    .dataframe tbody tr th:only-of-type {\n",
       "        vertical-align: middle;\n",
       "    }\n",
       "\n",
       "    .dataframe tbody tr th {\n",
       "        vertical-align: top;\n",
       "    }\n",
       "\n",
       "    .dataframe thead th {\n",
       "        text-align: right;\n",
       "    }\n",
       "</style>\n",
       "<table border=\"1\" class=\"dataframe\">\n",
       "  <thead>\n",
       "    <tr style=\"text-align: right;\">\n",
       "      <th></th>\n",
       "      <th>produto_educacao</th>\n",
       "      <th>carga_horaria</th>\n",
       "      <th>turno</th>\n",
       "      <th>gratuidade_turma</th>\n",
       "      <th>tipo</th>\n",
       "      <th>online</th>\n",
       "      <th>bairro</th>\n",
       "      <th>cidade</th>\n",
       "      <th>genero</th>\n",
       "      <th>escolaridade</th>\n",
       "      <th>situacao_ocupacional</th>\n",
       "      <th>situacao_matricula</th>\n",
       "      <th>IDADE</th>\n",
       "      <th>empresa</th>\n",
       "    </tr>\n",
       "  </thead>\n",
       "  <tbody>\n",
       "    <tr>\n",
       "      <th>0</th>\n",
       "      <td>AUTOMACAO</td>\n",
       "      <td>1200</td>\n",
       "      <td>Tarde</td>\n",
       "      <td>Mista</td>\n",
       "      <td>PF</td>\n",
       "      <td>Nao</td>\n",
       "      <td>Aventureiro</td>\n",
       "      <td>Joinville</td>\n",
       "      <td>M</td>\n",
       "      <td>Medio_C</td>\n",
       "      <td>Empregado</td>\n",
       "      <td>Concluinte</td>\n",
       "      <td>21</td>\n",
       "      <td>Schulz</td>\n",
       "    </tr>\n",
       "    <tr>\n",
       "      <th>1</th>\n",
       "      <td>FABRICACAO</td>\n",
       "      <td>1600</td>\n",
       "      <td>Noite</td>\n",
       "      <td>Mista</td>\n",
       "      <td>PF</td>\n",
       "      <td>Nao</td>\n",
       "      <td>Jardim_Paraiso</td>\n",
       "      <td>Joinville</td>\n",
       "      <td>M</td>\n",
       "      <td>Medio_C</td>\n",
       "      <td>Empregado</td>\n",
       "      <td>Concluinte</td>\n",
       "      <td>18</td>\n",
       "      <td>N_D</td>\n",
       "    </tr>\n",
       "    <tr>\n",
       "      <th>2</th>\n",
       "      <td>LOGISTICA</td>\n",
       "      <td>1300</td>\n",
       "      <td>Noite</td>\n",
       "      <td>Mista</td>\n",
       "      <td>PF</td>\n",
       "      <td>Nao</td>\n",
       "      <td>ForaJoinville</td>\n",
       "      <td>SaoFrancisco_Sul</td>\n",
       "      <td>M</td>\n",
       "      <td>Medio_C</td>\n",
       "      <td>Empregado</td>\n",
       "      <td>Concluinte</td>\n",
       "      <td>18</td>\n",
       "      <td>SENAI/SC</td>\n",
       "    </tr>\n",
       "    <tr>\n",
       "      <th>3</th>\n",
       "      <td>AUTOMACAO</td>\n",
       "      <td>1600</td>\n",
       "      <td>Tarde</td>\n",
       "      <td>Mista</td>\n",
       "      <td>PF</td>\n",
       "      <td>Nao</td>\n",
       "      <td>Aventureiro</td>\n",
       "      <td>Joinville</td>\n",
       "      <td>M</td>\n",
       "      <td>Medio_C</td>\n",
       "      <td>Desempregado</td>\n",
       "      <td>Concluinte</td>\n",
       "      <td>16</td>\n",
       "      <td>N_D</td>\n",
       "    </tr>\n",
       "    <tr>\n",
       "      <th>4</th>\n",
       "      <td>MECANICA</td>\n",
       "      <td>1620</td>\n",
       "      <td>Tarde</td>\n",
       "      <td>Mista</td>\n",
       "      <td>PF</td>\n",
       "      <td>Nao</td>\n",
       "      <td>Ulysses_Guimaraes</td>\n",
       "      <td>Joinville</td>\n",
       "      <td>M</td>\n",
       "      <td>Medio_C</td>\n",
       "      <td>Empregado</td>\n",
       "      <td>Concluinte</td>\n",
       "      <td>17</td>\n",
       "      <td>Schulz</td>\n",
       "    </tr>\n",
       "    <tr>\n",
       "      <th>...</th>\n",
       "      <td>...</td>\n",
       "      <td>...</td>\n",
       "      <td>...</td>\n",
       "      <td>...</td>\n",
       "      <td>...</td>\n",
       "      <td>...</td>\n",
       "      <td>...</td>\n",
       "      <td>...</td>\n",
       "      <td>...</td>\n",
       "      <td>...</td>\n",
       "      <td>...</td>\n",
       "      <td>...</td>\n",
       "      <td>...</td>\n",
       "      <td>...</td>\n",
       "    </tr>\n",
       "    <tr>\n",
       "      <th>1699</th>\n",
       "      <td>TEXTIL</td>\n",
       "      <td>1800</td>\n",
       "      <td>Noite</td>\n",
       "      <td>Mista</td>\n",
       "      <td>PF</td>\n",
       "      <td>Nao</td>\n",
       "      <td>Morro_Meio</td>\n",
       "      <td>Joinville</td>\n",
       "      <td>M</td>\n",
       "      <td>Medio_C</td>\n",
       "      <td>Empregado</td>\n",
       "      <td>Desistente</td>\n",
       "      <td>25</td>\n",
       "      <td>Lepper</td>\n",
       "    </tr>\n",
       "    <tr>\n",
       "      <th>1700</th>\n",
       "      <td>QUALIDADE</td>\n",
       "      <td>800</td>\n",
       "      <td>Noite</td>\n",
       "      <td>Pago_PF</td>\n",
       "      <td>PF</td>\n",
       "      <td>Nao</td>\n",
       "      <td>Vila_Nova</td>\n",
       "      <td>Joinville</td>\n",
       "      <td>M</td>\n",
       "      <td>Medio_C</td>\n",
       "      <td>Empregado</td>\n",
       "      <td>Desistente</td>\n",
       "      <td>26</td>\n",
       "      <td>N_D</td>\n",
       "    </tr>\n",
       "    <tr>\n",
       "      <th>1701</th>\n",
       "      <td>QUALIDADE</td>\n",
       "      <td>800</td>\n",
       "      <td>Noite</td>\n",
       "      <td>Pago_PF</td>\n",
       "      <td>PF</td>\n",
       "      <td>Nao</td>\n",
       "      <td>Pirabeiraba</td>\n",
       "      <td>Joinville</td>\n",
       "      <td>M</td>\n",
       "      <td>Medio_C</td>\n",
       "      <td>Empregado</td>\n",
       "      <td>Desistente</td>\n",
       "      <td>23</td>\n",
       "      <td>FIBRASCA</td>\n",
       "    </tr>\n",
       "    <tr>\n",
       "      <th>1702</th>\n",
       "      <td>DESENVOLVIMENTO</td>\n",
       "      <td>1000</td>\n",
       "      <td>Noite</td>\n",
       "      <td>Pago_PF</td>\n",
       "      <td>PF</td>\n",
       "      <td>Nao</td>\n",
       "      <td>Adhemar_Garcia</td>\n",
       "      <td>Joinville</td>\n",
       "      <td>F</td>\n",
       "      <td>Medio_C</td>\n",
       "      <td>Empregado</td>\n",
       "      <td>Desistente</td>\n",
       "      <td>20</td>\n",
       "      <td>N_D</td>\n",
       "    </tr>\n",
       "    <tr>\n",
       "      <th>1703</th>\n",
       "      <td>PLASTICO</td>\n",
       "      <td>1250</td>\n",
       "      <td>Manha</td>\n",
       "      <td>Pago_PF</td>\n",
       "      <td>PF</td>\n",
       "      <td>Nao</td>\n",
       "      <td>Iririu</td>\n",
       "      <td>Joinville</td>\n",
       "      <td>M</td>\n",
       "      <td>Medio_C</td>\n",
       "      <td>Empregado</td>\n",
       "      <td>Desistente</td>\n",
       "      <td>27</td>\n",
       "      <td>LINKPLAS</td>\n",
       "    </tr>\n",
       "  </tbody>\n",
       "</table>\n",
       "<p>1704 rows × 14 columns</p>\n",
       "</div>"
      ],
      "text/plain": [
       "     produto_educacao carga_horaria  turno gratuidade_turma tipo online  \\\n",
       "0           AUTOMACAO          1200  Tarde            Mista   PF    Nao   \n",
       "1          FABRICACAO          1600  Noite            Mista   PF    Nao   \n",
       "2           LOGISTICA          1300  Noite            Mista   PF    Nao   \n",
       "3           AUTOMACAO          1600  Tarde            Mista   PF    Nao   \n",
       "4            MECANICA          1620  Tarde            Mista   PF    Nao   \n",
       "...               ...           ...    ...              ...  ...    ...   \n",
       "1699           TEXTIL          1800  Noite            Mista   PF    Nao   \n",
       "1700        QUALIDADE           800  Noite          Pago_PF   PF    Nao   \n",
       "1701        QUALIDADE           800  Noite          Pago_PF   PF    Nao   \n",
       "1702  DESENVOLVIMENTO          1000  Noite          Pago_PF   PF    Nao   \n",
       "1703         PLASTICO          1250  Manha          Pago_PF   PF    Nao   \n",
       "\n",
       "                 bairro            cidade genero escolaridade  \\\n",
       "0           Aventureiro         Joinville      M      Medio_C   \n",
       "1        Jardim_Paraiso         Joinville      M      Medio_C   \n",
       "2         ForaJoinville  SaoFrancisco_Sul      M      Medio_C   \n",
       "3           Aventureiro         Joinville      M      Medio_C   \n",
       "4     Ulysses_Guimaraes         Joinville      M      Medio_C   \n",
       "...                 ...               ...    ...          ...   \n",
       "1699         Morro_Meio         Joinville      M      Medio_C   \n",
       "1700          Vila_Nova         Joinville      M      Medio_C   \n",
       "1701        Pirabeiraba         Joinville      M      Medio_C   \n",
       "1702     Adhemar_Garcia         Joinville      F      Medio_C   \n",
       "1703             Iririu         Joinville      M      Medio_C   \n",
       "\n",
       "     situacao_ocupacional situacao_matricula  IDADE   empresa  \n",
       "0               Empregado         Concluinte     21    Schulz  \n",
       "1               Empregado         Concluinte     18       N_D  \n",
       "2               Empregado         Concluinte     18  SENAI/SC  \n",
       "3            Desempregado         Concluinte     16       N_D  \n",
       "4               Empregado         Concluinte     17    Schulz  \n",
       "...                   ...                ...    ...       ...  \n",
       "1699            Empregado         Desistente     25    Lepper  \n",
       "1700            Empregado         Desistente     26       N_D  \n",
       "1701            Empregado         Desistente     23  FIBRASCA  \n",
       "1702            Empregado         Desistente     20       N_D  \n",
       "1703            Empregado         Desistente     27  LINKPLAS  \n",
       "\n",
       "[1704 rows x 14 columns]"
      ]
     },
     "execution_count": 3,
     "metadata": {},
     "output_type": "execute_result"
    }
   ],
   "source": [
    "dados1"
   ]
  },
  {
   "cell_type": "code",
   "execution_count": 4,
   "metadata": {},
   "outputs": [
    {
     "data": {
      "text/plain": [
       "Index(['produto_educacao', 'carga_horaria', 'turno', 'gratuidade_turma',\n",
       "       'tipo', 'online', 'bairro', 'cidade', 'genero', 'escolaridade',\n",
       "       'situacao_ocupacional', 'situacao_matricula', 'IDADE', 'empresa'],\n",
       "      dtype='object')"
      ]
     },
     "execution_count": 4,
     "metadata": {},
     "output_type": "execute_result"
    }
   ],
   "source": [
    "# Verificando o nome de todas as colunas\n",
    "dados1.columns"
   ]
  },
  {
   "cell_type": "markdown",
   "metadata": {},
   "source": [
    "## Limpeza e transformação dos dados.\n",
    "Observar, limpar e transformar os dados."
   ]
  },
  {
   "cell_type": "code",
   "execution_count": 5,
   "metadata": {},
   "outputs": [
    {
     "data": {
      "text/plain": [
       "(1704, 14)"
      ]
     },
     "execution_count": 5,
     "metadata": {},
     "output_type": "execute_result"
    }
   ],
   "source": [
    "# Verificando o tamanho total do dataframe (4221 linhas e 16 colunas)\n",
    "dados1.shape"
   ]
  },
  {
   "cell_type": "code",
   "execution_count": 6,
   "metadata": {},
   "outputs": [
    {
     "data": {
      "text/plain": [
       "array(['Concluinte', 'Desistente'], dtype=object)"
      ]
     },
     "execution_count": 6,
     "metadata": {},
     "output_type": "execute_result"
    }
   ],
   "source": [
    "dados1[\"situacao_matricula\"].unique()"
   ]
  },
  {
   "cell_type": "code",
   "execution_count": 7,
   "metadata": {},
   "outputs": [],
   "source": [
    "for i in range(0,len(dados1[\"tipo\"])):\n",
    "    if dados1.iloc[i,11] == \"Evadido / Eliminado\" or dados1.iloc[i,11] == \"Matriculado / Trancado\" or dados1.iloc[i,11] == \"Evadido / Desistente\" or dados1.iloc[i,11] == \"Evadido / Transferido de Curso\":\n",
    "        dados1.iloc[i,11] = \"Desistente\"\n",
    "        \n",
    "for i in range(0,len(dados1[\"tipo\"])):\n",
    "    if dados1.iloc[i,11] == \"Finalizado / Concluinte\" or dados1.iloc[i,11] == \"Finalizado / Não Concluinte\":\n",
    "        dados1.iloc[i,11] = \"Concluinte\"\n",
    "        \n",
    "for i in range(0,len(dados1[\"tipo\"])):\n",
    "    if dados1.iloc[i,11] == \"Matriculado / Regular\":\n",
    "        dados1.iloc[i,11] = \"Matriculado\""
   ]
  },
  {
   "cell_type": "code",
   "execution_count": 8,
   "metadata": {},
   "outputs": [
    {
     "data": {
      "text/html": [
       "<div>\n",
       "<style scoped>\n",
       "    .dataframe tbody tr th:only-of-type {\n",
       "        vertical-align: middle;\n",
       "    }\n",
       "\n",
       "    .dataframe tbody tr th {\n",
       "        vertical-align: top;\n",
       "    }\n",
       "\n",
       "    .dataframe thead th {\n",
       "        text-align: right;\n",
       "    }\n",
       "</style>\n",
       "<table border=\"1\" class=\"dataframe\">\n",
       "  <thead>\n",
       "    <tr style=\"text-align: right;\">\n",
       "      <th></th>\n",
       "      <th>produto_educacao</th>\n",
       "      <th>carga_horaria</th>\n",
       "      <th>turno</th>\n",
       "      <th>gratuidade_turma</th>\n",
       "      <th>tipo</th>\n",
       "      <th>online</th>\n",
       "      <th>bairro</th>\n",
       "      <th>cidade</th>\n",
       "      <th>genero</th>\n",
       "      <th>escolaridade</th>\n",
       "      <th>situacao_ocupacional</th>\n",
       "      <th>situacao_matricula</th>\n",
       "      <th>IDADE</th>\n",
       "      <th>empresa</th>\n",
       "    </tr>\n",
       "  </thead>\n",
       "  <tbody>\n",
       "    <tr>\n",
       "      <th>0</th>\n",
       "      <td>AUTOMACAO</td>\n",
       "      <td>1200</td>\n",
       "      <td>Tarde</td>\n",
       "      <td>Mista</td>\n",
       "      <td>PF</td>\n",
       "      <td>Nao</td>\n",
       "      <td>Aventureiro</td>\n",
       "      <td>Joinville</td>\n",
       "      <td>M</td>\n",
       "      <td>Medio_C</td>\n",
       "      <td>Empregado</td>\n",
       "      <td>Concluinte</td>\n",
       "      <td>21</td>\n",
       "      <td>Schulz</td>\n",
       "    </tr>\n",
       "    <tr>\n",
       "      <th>1</th>\n",
       "      <td>FABRICACAO</td>\n",
       "      <td>1600</td>\n",
       "      <td>Noite</td>\n",
       "      <td>Mista</td>\n",
       "      <td>PF</td>\n",
       "      <td>Nao</td>\n",
       "      <td>Jardim_Paraiso</td>\n",
       "      <td>Joinville</td>\n",
       "      <td>M</td>\n",
       "      <td>Medio_C</td>\n",
       "      <td>Empregado</td>\n",
       "      <td>Concluinte</td>\n",
       "      <td>18</td>\n",
       "      <td>N_D</td>\n",
       "    </tr>\n",
       "    <tr>\n",
       "      <th>2</th>\n",
       "      <td>LOGISTICA</td>\n",
       "      <td>1300</td>\n",
       "      <td>Noite</td>\n",
       "      <td>Mista</td>\n",
       "      <td>PF</td>\n",
       "      <td>Nao</td>\n",
       "      <td>ForaJoinville</td>\n",
       "      <td>SaoFrancisco_Sul</td>\n",
       "      <td>M</td>\n",
       "      <td>Medio_C</td>\n",
       "      <td>Empregado</td>\n",
       "      <td>Concluinte</td>\n",
       "      <td>18</td>\n",
       "      <td>SENAI/SC</td>\n",
       "    </tr>\n",
       "    <tr>\n",
       "      <th>3</th>\n",
       "      <td>AUTOMACAO</td>\n",
       "      <td>1600</td>\n",
       "      <td>Tarde</td>\n",
       "      <td>Mista</td>\n",
       "      <td>PF</td>\n",
       "      <td>Nao</td>\n",
       "      <td>Aventureiro</td>\n",
       "      <td>Joinville</td>\n",
       "      <td>M</td>\n",
       "      <td>Medio_C</td>\n",
       "      <td>Desempregado</td>\n",
       "      <td>Concluinte</td>\n",
       "      <td>16</td>\n",
       "      <td>N_D</td>\n",
       "    </tr>\n",
       "    <tr>\n",
       "      <th>4</th>\n",
       "      <td>MECANICA</td>\n",
       "      <td>1620</td>\n",
       "      <td>Tarde</td>\n",
       "      <td>Mista</td>\n",
       "      <td>PF</td>\n",
       "      <td>Nao</td>\n",
       "      <td>Ulysses_Guimaraes</td>\n",
       "      <td>Joinville</td>\n",
       "      <td>M</td>\n",
       "      <td>Medio_C</td>\n",
       "      <td>Empregado</td>\n",
       "      <td>Concluinte</td>\n",
       "      <td>17</td>\n",
       "      <td>Schulz</td>\n",
       "    </tr>\n",
       "  </tbody>\n",
       "</table>\n",
       "</div>"
      ],
      "text/plain": [
       "  produto_educacao carga_horaria  turno gratuidade_turma tipo online  \\\n",
       "0        AUTOMACAO          1200  Tarde            Mista   PF    Nao   \n",
       "1       FABRICACAO          1600  Noite            Mista   PF    Nao   \n",
       "2        LOGISTICA          1300  Noite            Mista   PF    Nao   \n",
       "3        AUTOMACAO          1600  Tarde            Mista   PF    Nao   \n",
       "4         MECANICA          1620  Tarde            Mista   PF    Nao   \n",
       "\n",
       "              bairro            cidade genero escolaridade  \\\n",
       "0        Aventureiro         Joinville      M      Medio_C   \n",
       "1     Jardim_Paraiso         Joinville      M      Medio_C   \n",
       "2      ForaJoinville  SaoFrancisco_Sul      M      Medio_C   \n",
       "3        Aventureiro         Joinville      M      Medio_C   \n",
       "4  Ulysses_Guimaraes         Joinville      M      Medio_C   \n",
       "\n",
       "  situacao_ocupacional situacao_matricula  IDADE   empresa  \n",
       "0            Empregado         Concluinte     21    Schulz  \n",
       "1            Empregado         Concluinte     18       N_D  \n",
       "2            Empregado         Concluinte     18  SENAI/SC  \n",
       "3         Desempregado         Concluinte     16       N_D  \n",
       "4            Empregado         Concluinte     17    Schulz  "
      ]
     },
     "execution_count": 8,
     "metadata": {},
     "output_type": "execute_result"
    }
   ],
   "source": [
    "dados1.head()"
   ]
  },
  {
   "cell_type": "code",
   "execution_count": 9,
   "metadata": {},
   "outputs": [],
   "source": [
    "# Criar um dataframe apenas com estudantes que saíram do curso: finalizados ou desistentes\n",
    "finalizados = dados1[dados1[\"situacao_matricula\"] == \"Concluinte\"]\n",
    "desistentes = dados1[dados1[\"situacao_matricula\"] == \"Desistente\"]\n",
    "df = [finalizados, desistentes]\n",
    "alunosTotal = pd.concat(df)"
   ]
  },
  {
   "cell_type": "code",
   "execution_count": 10,
   "metadata": {},
   "outputs": [
    {
     "data": {
      "text/plain": [
       "(1704, 14)"
      ]
     },
     "execution_count": 10,
     "metadata": {},
     "output_type": "execute_result"
    }
   ],
   "source": [
    "alunosTotal.shape"
   ]
  },
  {
   "cell_type": "code",
   "execution_count": 11,
   "metadata": {},
   "outputs": [
    {
     "data": {
      "text/plain": [
       "produto_educacao        object\n",
       "carga_horaria           object\n",
       "turno                   object\n",
       "gratuidade_turma        object\n",
       "tipo                    object\n",
       "online                  object\n",
       "bairro                  object\n",
       "cidade                  object\n",
       "genero                  object\n",
       "escolaridade            object\n",
       "situacao_ocupacional    object\n",
       "situacao_matricula      object\n",
       "IDADE                    int64\n",
       "empresa                 object\n",
       "dtype: object"
      ]
     },
     "execution_count": 11,
     "metadata": {},
     "output_type": "execute_result"
    }
   ],
   "source": [
    "# Verificando os tipos de dados do dataframe:\n",
    "alunosTotal.dtypes"
   ]
  },
  {
   "cell_type": "code",
   "execution_count": 12,
   "metadata": {},
   "outputs": [
    {
     "data": {
      "text/plain": [
       "0    17\n",
       "dtype: int64"
      ]
     },
     "execution_count": 12,
     "metadata": {},
     "output_type": "execute_result"
    }
   ],
   "source": [
    "# Algumas medidas estatísticas em relação à idade dos estudantes do CT:\n",
    "alunosTotal[\"IDADE\"].mode()"
   ]
  },
  {
   "cell_type": "code",
   "execution_count": 13,
   "metadata": {},
   "outputs": [
    {
     "data": {
      "text/plain": [
       "count    1704.000000\n",
       "mean       23.068662\n",
       "std         7.499343\n",
       "min        15.000000\n",
       "25%        17.000000\n",
       "50%        20.000000\n",
       "75%        26.000000\n",
       "max        63.000000\n",
       "Name: IDADE, dtype: float64"
      ]
     },
     "execution_count": 13,
     "metadata": {},
     "output_type": "execute_result"
    }
   ],
   "source": [
    "# É possível notar que 75% dos estudantes matriculados têm idade até 26 anos.\n",
    "alunosTotal[\"IDADE\"].describe()"
   ]
  },
  {
   "cell_type": "code",
   "execution_count": 14,
   "metadata": {},
   "outputs": [
    {
     "data": {
      "text/plain": [
       "<AxesSubplot:>"
      ]
     },
     "execution_count": 14,
     "metadata": {},
     "output_type": "execute_result"
    },
    {
     "data": {
      "image/png": "[encoded data removed]",
      "text/plain": [
       "<Figure size 432x288 with 1 Axes>"
      ]
     },
     "metadata": {
      "needs_background": "light"
     },
     "output_type": "display_data"
    }
   ],
   "source": [
    "alunosTotal[\"IDADE\"].hist(bins = 30)"
   ]
  },
  {
   "cell_type": "markdown",
   "metadata": {},
   "source": [
    "### Verificar se existem valores faltantes nos resgistros (nan)."
   ]
  },
  {
   "cell_type": "code",
   "execution_count": 15,
   "metadata": {},
   "outputs": [
    {
     "data": {
      "text/plain": [
       "array(['PF', 'PJ_PF', 'PF_PJ', 'PJ_PF_PJ', 'PF_PJ_PJ', 'PJ_PJ_PF', 'PJ'],\n",
       "      dtype=object)"
      ]
     },
     "execution_count": 15,
     "metadata": {},
     "output_type": "execute_result"
    }
   ],
   "source": [
    "alunosTotal[\"tipo\"].unique()"
   ]
  },
  {
   "cell_type": "code",
   "execution_count": 16,
   "metadata": {},
   "outputs": [
    {
     "data": {
      "text/plain": [
       "PF          1605\n",
       "PF_PJ         25\n",
       "PJ_PF         24\n",
       "PF_PJ_PJ      20\n",
       "PJ_PJ_PF      14\n",
       "PJ_PF_PJ      13\n",
       "PJ             3\n",
       "Name: tipo, dtype: int64"
      ]
     },
     "execution_count": 16,
     "metadata": {},
     "output_type": "execute_result"
    }
   ],
   "source": [
    "# Existem muito mais valores de pessoa física do que as outras ocorrências. \n",
    "alunosTotal[\"tipo\"].value_counts()"
   ]
  },
  {
   "cell_type": "code",
   "execution_count": 17,
   "metadata": {},
   "outputs": [
    {
     "data": {
      "text/plain": [
       "array(['1200', '1600', '1300', '1620', '1280', '1150', '900', 'TIGRE',\n",
       "       '1570', '1400', '1360', '960', '800', '1000', '1320', '1800',\n",
       "       '1520', '1440', '1250'], dtype=object)"
      ]
     },
     "execution_count": 17,
     "metadata": {},
     "output_type": "execute_result"
    }
   ],
   "source": [
    "# Não existem valores nan na carga horária.\n",
    "alunosTotal[\"carga_horaria\"].unique()"
   ]
  },
  {
   "cell_type": "code",
   "execution_count": 18,
   "metadata": {},
   "outputs": [
    {
     "data": {
      "text/plain": [
       "array(['AUTOMACAO', 'FABRICACAO', 'LOGISTICA', 'MECANICA', 'MECATRONICA',\n",
       "       'INTERNET', 'AUTOMOTIVO', 'PLASTICO', 'QUIMICA', 'INFORMATICA',\n",
       "       'MODA', 'ELETROTECNICA', 'ELETROMECANICA', 'TEXTIL', 'EDIFICACOES',\n",
       "       'DESENVOLVIMENTO', 'METALURGIA', 'ADMINISTRACAO',\n",
       "       'Técnico em Segurança do Trabalho', 'QUALIDADE',\n",
       "       'DESENVOLVIMENTO_EM'], dtype=object)"
      ]
     },
     "execution_count": 18,
     "metadata": {},
     "output_type": "execute_result"
    }
   ],
   "source": [
    "# Não existem valores faltantes na colua CURSO\n",
    "alunosTotal[\"produto_educacao\"].unique()"
   ]
  },
  {
   "cell_type": "code",
   "execution_count": 19,
   "metadata": {},
   "outputs": [],
   "source": [
    "# Extração dos registros apenas de estudantes que finalizaram o curos\n",
    "alunosFinal = alunosTotal[(alunosTotal[\"situacao_matricula\"] == \"Concluinte\")]\n"
   ]
  },
  {
   "cell_type": "code",
   "execution_count": 20,
   "metadata": {},
   "outputs": [],
   "source": [
    "alunosFinal = pd.DataFrame(alunosFinal)"
   ]
  },
  {
   "cell_type": "code",
   "execution_count": 21,
   "metadata": {},
   "outputs": [
    {
     "data": {
      "text/html": [
       "<div>\n",
       "<style scoped>\n",
       "    .dataframe tbody tr th:only-of-type {\n",
       "        vertical-align: middle;\n",
       "    }\n",
       "\n",
       "    .dataframe tbody tr th {\n",
       "        vertical-align: top;\n",
       "    }\n",
       "\n",
       "    .dataframe thead th {\n",
       "        text-align: right;\n",
       "    }\n",
       "</style>\n",
       "<table border=\"1\" class=\"dataframe\">\n",
       "  <thead>\n",
       "    <tr style=\"text-align: right;\">\n",
       "      <th></th>\n",
       "      <th>produto_educacao</th>\n",
       "      <th>carga_horaria</th>\n",
       "      <th>turno</th>\n",
       "      <th>gratuidade_turma</th>\n",
       "      <th>tipo</th>\n",
       "      <th>online</th>\n",
       "      <th>bairro</th>\n",
       "      <th>cidade</th>\n",
       "      <th>genero</th>\n",
       "      <th>escolaridade</th>\n",
       "      <th>situacao_ocupacional</th>\n",
       "      <th>situacao_matricula</th>\n",
       "      <th>IDADE</th>\n",
       "      <th>empresa</th>\n",
       "    </tr>\n",
       "  </thead>\n",
       "  <tbody>\n",
       "    <tr>\n",
       "      <th>0</th>\n",
       "      <td>AUTOMACAO</td>\n",
       "      <td>1200</td>\n",
       "      <td>Tarde</td>\n",
       "      <td>Mista</td>\n",
       "      <td>PF</td>\n",
       "      <td>Nao</td>\n",
       "      <td>Aventureiro</td>\n",
       "      <td>Joinville</td>\n",
       "      <td>M</td>\n",
       "      <td>Medio_C</td>\n",
       "      <td>Empregado</td>\n",
       "      <td>Concluinte</td>\n",
       "      <td>21</td>\n",
       "      <td>Schulz</td>\n",
       "    </tr>\n",
       "    <tr>\n",
       "      <th>1</th>\n",
       "      <td>FABRICACAO</td>\n",
       "      <td>1600</td>\n",
       "      <td>Noite</td>\n",
       "      <td>Mista</td>\n",
       "      <td>PF</td>\n",
       "      <td>Nao</td>\n",
       "      <td>Jardim_Paraiso</td>\n",
       "      <td>Joinville</td>\n",
       "      <td>M</td>\n",
       "      <td>Medio_C</td>\n",
       "      <td>Empregado</td>\n",
       "      <td>Concluinte</td>\n",
       "      <td>18</td>\n",
       "      <td>N_D</td>\n",
       "    </tr>\n",
       "    <tr>\n",
       "      <th>2</th>\n",
       "      <td>LOGISTICA</td>\n",
       "      <td>1300</td>\n",
       "      <td>Noite</td>\n",
       "      <td>Mista</td>\n",
       "      <td>PF</td>\n",
       "      <td>Nao</td>\n",
       "      <td>ForaJoinville</td>\n",
       "      <td>SaoFrancisco_Sul</td>\n",
       "      <td>M</td>\n",
       "      <td>Medio_C</td>\n",
       "      <td>Empregado</td>\n",
       "      <td>Concluinte</td>\n",
       "      <td>18</td>\n",
       "      <td>SENAI/SC</td>\n",
       "    </tr>\n",
       "    <tr>\n",
       "      <th>3</th>\n",
       "      <td>AUTOMACAO</td>\n",
       "      <td>1600</td>\n",
       "      <td>Tarde</td>\n",
       "      <td>Mista</td>\n",
       "      <td>PF</td>\n",
       "      <td>Nao</td>\n",
       "      <td>Aventureiro</td>\n",
       "      <td>Joinville</td>\n",
       "      <td>M</td>\n",
       "      <td>Medio_C</td>\n",
       "      <td>Desempregado</td>\n",
       "      <td>Concluinte</td>\n",
       "      <td>16</td>\n",
       "      <td>N_D</td>\n",
       "    </tr>\n",
       "    <tr>\n",
       "      <th>4</th>\n",
       "      <td>MECANICA</td>\n",
       "      <td>1620</td>\n",
       "      <td>Tarde</td>\n",
       "      <td>Mista</td>\n",
       "      <td>PF</td>\n",
       "      <td>Nao</td>\n",
       "      <td>Ulysses_Guimaraes</td>\n",
       "      <td>Joinville</td>\n",
       "      <td>M</td>\n",
       "      <td>Medio_C</td>\n",
       "      <td>Empregado</td>\n",
       "      <td>Concluinte</td>\n",
       "      <td>17</td>\n",
       "      <td>Schulz</td>\n",
       "    </tr>\n",
       "  </tbody>\n",
       "</table>\n",
       "</div>"
      ],
      "text/plain": [
       "  produto_educacao carga_horaria  turno gratuidade_turma tipo online  \\\n",
       "0        AUTOMACAO          1200  Tarde            Mista   PF    Nao   \n",
       "1       FABRICACAO          1600  Noite            Mista   PF    Nao   \n",
       "2        LOGISTICA          1300  Noite            Mista   PF    Nao   \n",
       "3        AUTOMACAO          1600  Tarde            Mista   PF    Nao   \n",
       "4         MECANICA          1620  Tarde            Mista   PF    Nao   \n",
       "\n",
       "              bairro            cidade genero escolaridade  \\\n",
       "0        Aventureiro         Joinville      M      Medio_C   \n",
       "1     Jardim_Paraiso         Joinville      M      Medio_C   \n",
       "2      ForaJoinville  SaoFrancisco_Sul      M      Medio_C   \n",
       "3        Aventureiro         Joinville      M      Medio_C   \n",
       "4  Ulysses_Guimaraes         Joinville      M      Medio_C   \n",
       "\n",
       "  situacao_ocupacional situacao_matricula  IDADE   empresa  \n",
       "0            Empregado         Concluinte     21    Schulz  \n",
       "1            Empregado         Concluinte     18       N_D  \n",
       "2            Empregado         Concluinte     18  SENAI/SC  \n",
       "3         Desempregado         Concluinte     16       N_D  \n",
       "4            Empregado         Concluinte     17    Schulz  "
      ]
     },
     "execution_count": 21,
     "metadata": {},
     "output_type": "execute_result"
    }
   ],
   "source": [
    "alunosFinal.head()"
   ]
  },
  {
   "cell_type": "code",
   "execution_count": 22,
   "metadata": {},
   "outputs": [
    {
     "data": {
      "text/plain": [
       "(755, 14)"
      ]
     },
     "execution_count": 22,
     "metadata": {},
     "output_type": "execute_result"
    }
   ],
   "source": [
    "alunosFinal.shape"
   ]
  },
  {
   "cell_type": "markdown",
   "metadata": {},
   "source": [
    "## Análise do perfil dos estudantes finalizados de todos os cursos técnicos do Senai Joinville\n",
    "Com os dados limpos, temos agora 898 estudantes que finalizaram.\n",
    "Vamos fazer algumas medidas e tentar identificar o perfil desses estudantes."
   ]
  },
  {
   "cell_type": "code",
   "execution_count": 23,
   "metadata": {},
   "outputs": [
    {
     "data": {
      "text/plain": [
       "count      755\n",
       "unique      15\n",
       "top       1200\n",
       "freq       431\n",
       "Name: carga_horaria, dtype: object"
      ]
     },
     "execution_count": 23,
     "metadata": {},
     "output_type": "execute_result"
    }
   ],
   "source": [
    "alunosFinal[\"carga_horaria\"].describe()"
   ]
  },
  {
   "cell_type": "code",
   "execution_count": 24,
   "metadata": {},
   "outputs": [
    {
     "data": {
      "text/plain": [
       "53.67483296213808"
      ]
     },
     "execution_count": 24,
     "metadata": {},
     "output_type": "execute_result"
    }
   ],
   "source": [
    "482*100/898"
   ]
  },
  {
   "cell_type": "code",
   "execution_count": 25,
   "metadata": {},
   "outputs": [
    {
     "data": {
      "text/plain": [
       "11.35857461024499"
      ]
     },
     "execution_count": 25,
     "metadata": {},
     "output_type": "execute_result"
    }
   ],
   "source": [
    "102*100/898"
   ]
  },
  {
   "cell_type": "code",
   "execution_count": 26,
   "metadata": {},
   "outputs": [
    {
     "data": {
      "text/plain": [
       "8.240534521158128"
      ]
     },
     "execution_count": 26,
     "metadata": {},
     "output_type": "execute_result"
    }
   ],
   "source": [
    "74*100/898"
   ]
  },
  {
   "cell_type": "code",
   "execution_count": 27,
   "metadata": {},
   "outputs": [
    {
     "data": {
      "image/png": "[encoded data removed]",
      "text/plain": [
       "<Figure size 720x576 with 1 Axes>"
      ]
     },
     "metadata": {
      "needs_background": "light"
     },
     "output_type": "display_data"
    }
   ],
   "source": [
    "plt.figure(figsize=(10, 8))\n",
    "sns.set_context(\"talk\")\n",
    "sns.set_style(\"whitegrid\")\n",
    "\n",
    "grafCargaHoraria = sns.countplot(x = alunosFinal['carga_horaria'], palette=\"deep\")\n",
    "grafCargaHoraria.set_xticklabels(grafCargaHoraria.get_xticklabels(), rotation=30, ha=\"right\")\n",
    "plt.tight_layout()\n",
    "plt.savefig(\"carga_horaria.png\")\n",
    "plt.show()"
   ]
  },
  {
   "cell_type": "code",
   "execution_count": 28,
   "metadata": {},
   "outputs": [
    {
     "data": {
      "text/plain": [
       "AUTOMOTIVO         105\n",
       "PLASTICO            94\n",
       "MECATRONICA         86\n",
       "INFORMATICA         72\n",
       "MECANICA            62\n",
       "METALURGIA          53\n",
       "FABRICACAO          48\n",
       "LOGISTICA           34\n",
       "QUIMICA             31\n",
       "INTERNET            27\n",
       "DESENVOLVIMENTO     26\n",
       "AUTOMACAO           25\n",
       "MODA                25\n",
       "TEXTIL              19\n",
       "ELETROTECNICA       18\n",
       "ADMINISTRACAO       14\n",
       "ELETROMECANICA       8\n",
       "EDIFICACOES          8\n",
       "Name: produto_educacao, dtype: int64"
      ]
     },
     "execution_count": 28,
     "metadata": {},
     "output_type": "execute_result"
    }
   ],
   "source": [
    "alunosFinal[\"produto_educacao\"].value_counts()"
   ]
  },
  {
   "cell_type": "code",
   "execution_count": 29,
   "metadata": {},
   "outputs": [
    {
     "data": {
      "image/png": "[encoded data removed]",
      "text/plain": [
       "<Figure size 720x576 with 1 Axes>"
      ]
     },
     "metadata": {},
     "output_type": "display_data"
    }
   ],
   "source": [
    "plt.figure(figsize=(10, 8))\n",
    "grafCurso = sns.countplot(x = alunosFinal['produto_educacao'], palette=\"deep\")\n",
    "grafCurso.set_xticklabels(grafCurso.get_xticklabels(), rotation=30, ha=\"right\")\n",
    "plt.tight_layout()\n",
    "plt.savefig(\"curso.png\")\n",
    "plt.show()"
   ]
  },
  {
   "cell_type": "code",
   "execution_count": 30,
   "metadata": {},
   "outputs": [],
   "source": [
    "valores = alunosFinal[\"produto_educacao\"].value_counts()"
   ]
  },
  {
   "cell_type": "code",
   "execution_count": 31,
   "metadata": {},
   "outputs": [
    {
     "data": {
      "text/plain": [
       "18"
      ]
     },
     "execution_count": 31,
     "metadata": {},
     "output_type": "execute_result"
    }
   ],
   "source": [
    "len(valores)"
   ]
  },
  {
   "cell_type": "code",
   "execution_count": 32,
   "metadata": {},
   "outputs": [
    {
     "name": "stdout",
     "output_type": "stream",
     "text": [
      "AUTOMOTIVO 11.692650334075724\n",
      "PLASTICO 10.46770601336303\n",
      "MECATRONICA 9.57683741648107\n",
      "INFORMATICA 8.017817371937639\n",
      "MECANICA 6.904231625835189\n",
      "METALURGIA 5.902004454342984\n",
      "FABRICACAO 5.3452115812917596\n",
      "LOGISTICA 3.7861915367483294\n",
      "QUIMICA 3.4521158129175946\n",
      "INTERNET 3.0066815144766146\n",
      "DESENVOLVIMENTO 2.89532293986637\n",
      "AUTOMACAO 2.7839643652561246\n",
      "MODA 2.7839643652561246\n",
      "TEXTIL 2.115812917594655\n",
      "ELETROTECNICA 2.0044543429844097\n",
      "ADMINISTRACAO 1.55902004454343\n",
      "ELETROMECANICA 0.89086859688196\n",
      "EDIFICACOES 0.89086859688196\n"
     ]
    }
   ],
   "source": [
    "for i in range(0,len(valores)):\n",
    "    p = (valores[i]*100)/898\n",
    "    print(valores.index[i], p)"
   ]
  },
  {
   "cell_type": "markdown",
   "metadata": {},
   "source": [
    "### Informática: 11,69%\n",
    "### Plástico: 10,46% cada\n",
    "### Mecatrônica: 9,57%"
   ]
  },
  {
   "cell_type": "code",
   "execution_count": 33,
   "metadata": {},
   "outputs": [
    {
     "data": {
      "text/plain": [
       "Noite    464\n",
       "Tarde    206\n",
       "Manha     79\n",
       "EAD        6\n",
       "Name: turno, dtype: int64"
      ]
     },
     "execution_count": 33,
     "metadata": {},
     "output_type": "execute_result"
    }
   ],
   "source": [
    "alunosFinal[\"turno\"].value_counts()"
   ]
  },
  {
   "cell_type": "code",
   "execution_count": 34,
   "metadata": {},
   "outputs": [
    {
     "data": {
      "image/png": "[encoded data removed]",
      "text/plain": [
       "<Figure size 720x576 with 1 Axes>"
      ]
     },
     "metadata": {},
     "output_type": "display_data"
    }
   ],
   "source": [
    "plt.figure(figsize=(10, 8))\n",
    "sns.countplot(x = alunosFinal['turno'], palette=\"deep\")\n",
    "plt.savefig(\"turno.png\")"
   ]
  },
  {
   "cell_type": "code",
   "execution_count": 35,
   "metadata": {},
   "outputs": [
    {
     "name": "stdout",
     "output_type": "stream",
     "text": [
      "Noite 51.670378619153674\n",
      "Tarde 22.93986636971047\n",
      "Manha 8.797327394209354\n",
      "EAD 0.6681514476614699\n"
     ]
    }
   ],
   "source": [
    "# Cálculos\n",
    "valores = alunosFinal[\"turno\"].value_counts()\n",
    "for i in range(0,len(valores)):\n",
    "    p = (valores[i]*100)/898\n",
    "    print(valores.index[i], p)"
   ]
  },
  {
   "cell_type": "markdown",
   "metadata": {},
   "source": [
    "### Noite: 51,7%\n",
    "### Tarde: 22,9%\n",
    "### Manhã: 8,8%\n",
    "### EaD: 0,67%"
   ]
  },
  {
   "cell_type": "code",
   "execution_count": 36,
   "metadata": {},
   "outputs": [
    {
     "data": {
      "text/plain": [
       "PF          1605\n",
       "PF_PJ         25\n",
       "PJ_PF         24\n",
       "PF_PJ_PJ      20\n",
       "PJ_PJ_PF      14\n",
       "PJ_PF_PJ      13\n",
       "PJ             3\n",
       "Name: tipo, dtype: int64"
      ]
     },
     "execution_count": 36,
     "metadata": {},
     "output_type": "execute_result"
    }
   ],
   "source": [
    "alunosTotal[\"tipo\"].value_counts()"
   ]
  },
  {
   "cell_type": "code",
   "execution_count": 37,
   "metadata": {},
   "outputs": [
    {
     "name": "stdout",
     "output_type": "stream",
     "text": [
      "PF 74.72160356347439\n",
      "PF_PJ 2.4498886414253898\n",
      "PJ_PF 2.2271714922048997\n",
      "PF_PJ_PJ 1.78173719376392\n",
      "PJ_PF_PJ 1.447661469933185\n",
      "PJ_PJ_PF 1.447661469933185\n"
     ]
    }
   ],
   "source": [
    "# Cálculos\n",
    "valores = alunosFinal[\"tipo\"].value_counts()\n",
    "for i in range(0,len(valores)):\n",
    "    p = (valores[i]*100)/898\n",
    "    print(valores.index[i], p)\n"
   ]
  },
  {
   "cell_type": "markdown",
   "metadata": {},
   "source": [
    "### PF: 74,72%\n",
    "### PJ, PF: 2,22%\n",
    "### PF, PJ: 2,44%\n",
    "### PF, PJ, PJ: 1,78%\n",
    "### PJ, PF, PJ: 1,45%\n",
    "### PJ, PJ, PF: 1,45%"
   ]
  },
  {
   "cell_type": "code",
   "execution_count": 38,
   "metadata": {},
   "outputs": [
    {
     "data": {
      "image/png": "[encoded data removed]",
      "text/plain": [
       "<Figure size 720x576 with 1 Axes>"
      ]
     },
     "metadata": {},
     "output_type": "display_data"
    }
   ],
   "source": [
    "plt.figure(figsize=(10, 8))\n",
    "sns.countplot(x = alunosFinal['tipo'], palette=\"deep\")\n",
    "plt.savefig(\"tipo.png\")"
   ]
  },
  {
   "cell_type": "code",
   "execution_count": 39,
   "metadata": {},
   "outputs": [
    {
     "name": "stdout",
     "output_type": "stream",
     "text": [
      "Joinville 78.50779510022272\n",
      "Araquari 1.55902004454343\n",
      "Garuva 1.1135857461024499\n",
      "SaoFrancisco_Sul 0.44543429844098\n",
      "Barra_Velha 0.44543429844098\n",
      "Bal_Barra_Sul 0.44543429844098\n",
      "Jaragua_Sul 0.33407572383073497\n",
      "Itapoa 0.33407572383073497\n",
      "Guaratuba 0.22271714922049\n",
      "Schroeder 0.111358574610245\n",
      "Concordia 0.111358574610245\n",
      "Bombinhas 0.111358574610245\n",
      "Guaramirim 0.111358574610245\n",
      "Pinheiro_Preto 0.111358574610245\n",
      "Penha 0.111358574610245\n"
     ]
    }
   ],
   "source": [
    "# Cálculos\n",
    "valores = alunosFinal[\"cidade\"].value_counts()\n",
    "for i in range(0,len(valores)):\n",
    "    p = (valores[i]*100)/898\n",
    "    print(valores.index[i], p)"
   ]
  },
  {
   "cell_type": "markdown",
   "metadata": {},
   "source": [
    "### Joinville: 78,51%\n",
    "### Araquari: 1,55%\n",
    "### Garuva: 1,11%\n",
    "### São Francisco do Sul: 0,44%"
   ]
  },
  {
   "cell_type": "code",
   "execution_count": 40,
   "metadata": {},
   "outputs": [],
   "source": [
    "# Fazer um dataset apenas com as cidades que tem mais do que 10 ocorrências.\n",
    "# Extração dos registros de estudantes que estão cursando\n",
    "joinville = alunosFinal[(alunosFinal[\"cidade\"] == \"Joinville\")]\n",
    "araquari = alunosFinal[(alunosFinal[\"cidade\"] == \"Araquari\")]\n",
    "garuva = alunosFinal[(alunosFinal[\"cidade\"] == \"Garuva\")]\n",
    "\n",
    "grupoCidades = [joinville, araquari, garuva]\n",
    "Cidades = pd.concat(grupoCidades)"
   ]
  },
  {
   "cell_type": "markdown",
   "metadata": {},
   "source": [
    "### Gráfico com as cidades que têm mais do que 1 registro."
   ]
  },
  {
   "cell_type": "code",
   "execution_count": 41,
   "metadata": {},
   "outputs": [
    {
     "data": {
      "image/png": "[encoded data removed]",
      "text/plain": [
       "<Figure size 720x576 with 1 Axes>"
      ]
     },
     "metadata": {},
     "output_type": "display_data"
    }
   ],
   "source": [
    "plt.figure(figsize=(10, 8))\n",
    "sns.countplot(x = Cidades['cidade'], palette=\"deep\")\n",
    "plt.savefig(\"cidade.png\")"
   ]
  },
  {
   "cell_type": "code",
   "execution_count": 42,
   "metadata": {},
   "outputs": [
    {
     "data": {
      "image/png": "[encoded data removed]",
      "text/plain": [
       "<Figure size 720x576 with 1 Axes>"
      ]
     },
     "metadata": {},
     "output_type": "display_data"
    }
   ],
   "source": [
    "plt.figure(figsize=(10, 8))\n",
    "grafCurso = sns.countplot(x = alunosFinal['cidade'], palette=\"deep\")\n",
    "grafCurso.set_xticklabels(grafCurso.get_xticklabels(), rotation=30, ha=\"right\")\n",
    "plt.tight_layout()\n",
    "plt.savefig(\"cidade2.png\")\n",
    "plt.show()"
   ]
  },
  {
   "cell_type": "code",
   "execution_count": 43,
   "metadata": {},
   "outputs": [],
   "source": [
    "# Extração dos registros de estudantes que moravam em Joinville no momento da matrícula, para pegar apenas os bairros de Joinville.\n",
    "bairrosJoinville = alunosFinal[(alunosFinal[\"cidade\"] == \"Joinville\")]"
   ]
  },
  {
   "cell_type": "code",
   "execution_count": 44,
   "metadata": {},
   "outputs": [
    {
     "data": {
      "text/plain": [
       "(705, 14)"
      ]
     },
     "execution_count": 44,
     "metadata": {},
     "output_type": "execute_result"
    }
   ],
   "source": [
    "bairrosJoinville.shape"
   ]
  },
  {
   "cell_type": "code",
   "execution_count": 45,
   "metadata": {},
   "outputs": [
    {
     "data": {
      "text/plain": [
       "Aventureiro          58\n",
       "Vila_Nova            56\n",
       "Costa_e_Silva        46\n",
       "Pirabeiraba          42\n",
       "Jardim_Iririu        35\n",
       "Boehmerwald          33\n",
       "Jardim_Paraiso       30\n",
       "Comasa               29\n",
       "Floresta             27\n",
       "Paranaguamirim       26\n",
       "Bom_Retiro           23\n",
       "Iririu               20\n",
       "Joao_Costa           20\n",
       "Boa_Vista            20\n",
       "Petropolis           17\n",
       "Itaum                16\n",
       "Espinheiros          16\n",
       "Nova_Brasilia        15\n",
       "Morro_Meio           15\n",
       "Guanabara            14\n",
       "Adhemar_Garcia       14\n",
       "Saguacu              13\n",
       "Santo_Antonio        13\n",
       "America              12\n",
       "Parque_Guarani       10\n",
       "Jarivatuba           10\n",
       "Gloria                9\n",
       "Fatima                9\n",
       "Ulysses_Guimaraes     9\n",
       "Jardim_Sofia          9\n",
       "Itinga                8\n",
       "Santa_Catarina        8\n",
       "Sao_Marcos            4\n",
       "Vila_Cubatao          4\n",
       "Anita_Garibaldi       3\n",
       "Zona_Industrial_N     3\n",
       "Profipo               3\n",
       "Bucarein              3\n",
       "Centro                2\n",
       "Atiradores            1\n",
       "Name: bairro, dtype: int64"
      ]
     },
     "execution_count": 45,
     "metadata": {},
     "output_type": "execute_result"
    }
   ],
   "source": [
    "bairrosJoinville[\"bairro\"].value_counts()"
   ]
  },
  {
   "cell_type": "code",
   "execution_count": 46,
   "metadata": {},
   "outputs": [
    {
     "name": "stdout",
     "output_type": "stream",
     "text": [
      "Aventureiro 7.22291407222914\n",
      "Vila_Nova 6.973848069738481\n",
      "Costa_e_Silva 5.72851805728518\n",
      "Pirabeiraba 5.23038605230386\n",
      "Jardim_Iririu 4.35865504358655\n",
      "Boehmerwald 4.109589041095891\n",
      "Jardim_Paraiso 3.7359900373599\n",
      "Comasa 3.61145703611457\n",
      "Floresta 3.3623910336239105\n",
      "Paranaguamirim 3.2378580323785804\n",
      "Bom_Retiro 2.86425902864259\n",
      "Iririu 2.4906600249066004\n",
      "Joao_Costa 2.4906600249066004\n",
      "Boa_Vista 2.4906600249066004\n",
      "Petropolis 2.1170610211706102\n",
      "Itaum 1.9925280199252802\n",
      "Espinheiros 1.9925280199252802\n",
      "Nova_Brasilia 1.86799501867995\n",
      "Morro_Meio 1.86799501867995\n",
      "Guanabara 1.7434620174346203\n",
      "Adhemar_Garcia 1.7434620174346203\n",
      "Saguacu 1.6189290161892902\n",
      "Santo_Antonio 1.6189290161892902\n",
      "America 1.4943960149439601\n",
      "Parque_Guarani 1.2453300124533002\n",
      "Jarivatuba 1.2453300124533002\n",
      "Gloria 1.1207970112079702\n",
      "Fatima 1.1207970112079702\n",
      "Ulysses_Guimaraes 1.1207970112079702\n",
      "Jardim_Sofia 1.1207970112079702\n",
      "Itinga 0.9962640099626401\n",
      "Santa_Catarina 0.9962640099626401\n",
      "Sao_Marcos 0.49813200498132004\n",
      "Vila_Cubatao 0.49813200498132004\n",
      "Anita_Garibaldi 0.37359900373599003\n",
      "Zona_Industrial_N 0.37359900373599003\n",
      "Profipo 0.37359900373599003\n",
      "Bucarein 0.37359900373599003\n",
      "Centro 0.24906600249066002\n",
      "Atiradores 0.12453300124533001\n"
     ]
    }
   ],
   "source": [
    "# Cálculos\n",
    "valores = bairrosJoinville[\"bairro\"].value_counts()\n",
    "for i in range(0,len(valores)):\n",
    "    p = (valores[i]*100)/803\n",
    "    print(valores.index[i], p)"
   ]
  },
  {
   "cell_type": "markdown",
   "metadata": {},
   "source": [
    "### Costa e Silva:  5,72%\n",
    "### Aventureiro: 7,22%\n",
    "### Vila Nova: 6,97%\n",
    "### Pirabeiraba: 5,23%\n"
   ]
  },
  {
   "cell_type": "code",
   "execution_count": 47,
   "metadata": {},
   "outputs": [],
   "source": [
    "# Fazer um dataset apenas com os bairros de Joinville que tem 30 ou mais ocorrências\n",
    "# Extração dos registros de estudantes que estão cursando\n",
    "costaESilva = alunosFinal[(alunosFinal[\"bairro\"] == \"Costa_e_Silva\")]\n",
    "aventureiro = alunosFinal[(alunosFinal[\"bairro\"] == \"Aventureiro\")]\n",
    "vilaNova = alunosFinal[(alunosFinal[\"bairro\"] == \"Vila_Nova\")]\n",
    "pirabeiraba = alunosFinal[(alunosFinal[\"bairro\"] == \"Pirabeiraba\")]\n",
    "jardimIririu = alunosFinal[(alunosFinal[\"bairro\"] == \"Jardim_Iririu\")]\n",
    "jardimParaiso = alunosFinal[(alunosFinal[\"bairro\"] == \"Jardim_Paraiso\")]\n",
    "boehmerwald = alunosFinal[(alunosFinal[\"bairro\"] == \"Boehmerwald\")]\n",
    "\n",
    "grupoBairros = [costaESilva, aventureiro, vilaNova, pirabeiraba, jardimIririu, jardimParaiso, boehmerwald]\n",
    "Bairros = pd.concat(grupoBairros)"
   ]
  },
  {
   "cell_type": "markdown",
   "metadata": {},
   "source": [
    "### Considerando apenas os bairros de Joinville, gráfico dos bairros que tem 30 ou mais registros."
   ]
  },
  {
   "cell_type": "code",
   "execution_count": 48,
   "metadata": {},
   "outputs": [
    {
     "data": {
      "image/png": "[encoded data removed]",
      "text/plain": [
       "<Figure size 720x576 with 1 Axes>"
      ]
     },
     "metadata": {},
     "output_type": "display_data"
    }
   ],
   "source": [
    "plt.figure(figsize=(10, 8))\n",
    "grafCurso = sns.countplot(x = Bairros['bairro'], palette=\"deep\")\n",
    "grafCurso.set_xticklabels(grafCurso.get_xticklabels(), rotation=30, ha=\"right\")\n",
    "plt.tight_layout()\n",
    "plt.savefig(\"bairro.png\")\n",
    "plt.show()"
   ]
  },
  {
   "cell_type": "code",
   "execution_count": 49,
   "metadata": {},
   "outputs": [
    {
     "data": {
      "text/plain": [
       "M    631\n",
       "F    124\n",
       "Name: genero, dtype: int64"
      ]
     },
     "execution_count": 49,
     "metadata": {},
     "output_type": "execute_result"
    }
   ],
   "source": [
    "alunosFinal[\"genero\"].value_counts()"
   ]
  },
  {
   "cell_type": "code",
   "execution_count": 50,
   "metadata": {},
   "outputs": [
    {
     "name": "stdout",
     "output_type": "stream",
     "text": [
      "M 70.26726057906458\n",
      "F 13.808463251670378\n"
     ]
    }
   ],
   "source": [
    "# Cálculos\n",
    "valores = alunosFinal[\"genero\"].value_counts()\n",
    "for i in range(0,len(valores)):\n",
    "    p = (valores[i]*100)/898\n",
    "    print(valores.index[i], p)"
   ]
  },
  {
   "cell_type": "markdown",
   "metadata": {},
   "source": [
    "### Do total de estudantes que se formaram, 70,26% são homens e 13,81% são mulheres."
   ]
  },
  {
   "cell_type": "code",
   "execution_count": 51,
   "metadata": {},
   "outputs": [
    {
     "data": {
      "text/plain": [
       "Medio_C       749\n",
       "Superior_C      3\n",
       "Medio_I         2\n",
       "Superior_I      1\n",
       "Name: escolaridade, dtype: int64"
      ]
     },
     "execution_count": 51,
     "metadata": {},
     "output_type": "execute_result"
    }
   ],
   "source": [
    "# Todos os estudantes formados no técnico em mecatrônica nos registros tinham apenas o ensino médio completo.\n",
    "alunosFinal[\"escolaridade\"].value_counts()"
   ]
  },
  {
   "cell_type": "code",
   "execution_count": 52,
   "metadata": {},
   "outputs": [
    {
     "name": "stdout",
     "output_type": "stream",
     "text": [
      "Medio_C 83.4075723830735\n",
      "Superior_C 0.33407572383073497\n",
      "Medio_I 0.22271714922049\n",
      "Superior_I 0.111358574610245\n"
     ]
    }
   ],
   "source": [
    "# Cálculos\n",
    "valores = alunosFinal[\"escolaridade\"].value_counts()\n",
    "for i in range(0,len(valores)):\n",
    "    p = (valores[i]*100)/898\n",
    "    print(valores.index[i], p)"
   ]
  },
  {
   "cell_type": "markdown",
   "metadata": {},
   "source": [
    "### Estudantes formados que tem o ensino médio completo em 99,1% dos registros.\n",
    "### Estudante com Superior incompleto são 0,44% dos casos."
   ]
  },
  {
   "cell_type": "code",
   "execution_count": 53,
   "metadata": {},
   "outputs": [
    {
     "data": {
      "image/png": "[encoded data removed]",
      "text/plain": [
       "<Figure size 720x576 with 1 Axes>"
      ]
     },
     "metadata": {},
     "output_type": "display_data"
    }
   ],
   "source": [
    "plt.figure(figsize=(10, 8))\n",
    "grafEscolaridade = sns.countplot(x = alunosFinal['escolaridade'], palette=\"deep\")\n",
    "grafEscolaridade.set_xticklabels(grafEscolaridade.get_xticklabels(), rotation=30, ha=\"right\")\n",
    "plt.tight_layout()\n",
    "plt.savefig(\"escolaridade.png\")\n",
    "plt.show()"
   ]
  },
  {
   "cell_type": "code",
   "execution_count": 54,
   "metadata": {},
   "outputs": [
    {
     "data": {
      "image/png": "[encoded data removed]",
      "text/plain": [
       "<Figure size 720x576 with 1 Axes>"
      ]
     },
     "metadata": {},
     "output_type": "display_data"
    }
   ],
   "source": [
    "plt.figure(figsize=(10, 8))\n",
    "sns.countplot(x = alunosFinal['genero'], palette=\"deep\")\n",
    "plt.savefig(\"genero.png\")"
   ]
  },
  {
   "cell_type": "code",
   "execution_count": 55,
   "metadata": {},
   "outputs": [
    {
     "data": {
      "text/plain": [
       "Index(['produto_educacao', 'carga_horaria', 'turno', 'gratuidade_turma',\n",
       "       'tipo', 'online', 'bairro', 'cidade', 'genero', 'escolaridade',\n",
       "       'situacao_ocupacional', 'situacao_matricula', 'IDADE', 'empresa'],\n",
       "      dtype='object')"
      ]
     },
     "execution_count": 55,
     "metadata": {},
     "output_type": "execute_result"
    }
   ],
   "source": [
    "alunosFinal.columns"
   ]
  },
  {
   "cell_type": "code",
   "execution_count": 56,
   "metadata": {},
   "outputs": [
    {
     "data": {
      "text/plain": [
       "Empregado       424\n",
       "Desempregado    331\n",
       "Name: situacao_ocupacional, dtype: int64"
      ]
     },
     "execution_count": 56,
     "metadata": {},
     "output_type": "execute_result"
    }
   ],
   "source": [
    "alunosFinal[\"situacao_ocupacional\"].value_counts()"
   ]
  },
  {
   "cell_type": "code",
   "execution_count": 57,
   "metadata": {},
   "outputs": [
    {
     "name": "stdout",
     "output_type": "stream",
     "text": [
      "Empregado 47.216035634743875\n",
      "Desempregado 36.85968819599109\n"
     ]
    }
   ],
   "source": [
    "# Cálculos\n",
    "valores = alunosFinal[\"situacao_ocupacional\"].value_counts()\n",
    "for i in range(0,len(valores)):\n",
    "    p = (valores[i]*100)/898\n",
    "    print(valores.index[i], p)"
   ]
  },
  {
   "cell_type": "markdown",
   "metadata": {},
   "source": [
    "### Os estudantes que estavam desempregados no momento da matrícula e finalizaram são 50,78% do total.\n",
    "### Empregados somam 49,22%."
   ]
  },
  {
   "cell_type": "code",
   "execution_count": 58,
   "metadata": {},
   "outputs": [
    {
     "data": {
      "image/png": "[encoded data removed]",
      "text/plain": [
       "<Figure size 720x576 with 1 Axes>"
      ]
     },
     "metadata": {},
     "output_type": "display_data"
    }
   ],
   "source": [
    "plt.figure(figsize=(10, 8))\n",
    "sns.countplot(x = alunosFinal['situacao_ocupacional'], palette=\"deep\")\n",
    "plt.savefig(\"sit_ocupacional.png\")"
   ]
  },
  {
   "cell_type": "code",
   "execution_count": 59,
   "metadata": {},
   "outputs": [
    {
     "data": {
      "text/plain": [
       "N_D          486\n",
       "TUPY          61\n",
       "TAF           27\n",
       "DOHLER        16\n",
       "Embraco       13\n",
       "            ... \n",
       "AB_PLAST       1\n",
       "AB             1\n",
       "TECELAGEM      1\n",
       "SOLO           1\n",
       "LEAS           1\n",
       "Name: empresa, Length: 86, dtype: int64"
      ]
     },
     "execution_count": 59,
     "metadata": {},
     "output_type": "execute_result"
    }
   ],
   "source": [
    "alunosFinal[\"empresa\"].value_counts()"
   ]
  },
  {
   "cell_type": "code",
   "execution_count": 60,
   "metadata": {},
   "outputs": [],
   "source": [
    "# Como existem muitos registros de empresas não declaradas, vamos criar um data frame só com os registros que tem empresas.\n",
    "empresas = alunosFinal[(alunosFinal[\"empresa\"] != \"N_DECLARADO\")]"
   ]
  },
  {
   "cell_type": "code",
   "execution_count": 61,
   "metadata": {},
   "outputs": [],
   "source": [
    "EmpresasDF = pd.DataFrame(empresas)"
   ]
  },
  {
   "cell_type": "code",
   "execution_count": 62,
   "metadata": {},
   "outputs": [
    {
     "data": {
      "text/html": [
       "<div>\n",
       "<style scoped>\n",
       "    .dataframe tbody tr th:only-of-type {\n",
       "        vertical-align: middle;\n",
       "    }\n",
       "\n",
       "    .dataframe tbody tr th {\n",
       "        vertical-align: top;\n",
       "    }\n",
       "\n",
       "    .dataframe thead th {\n",
       "        text-align: right;\n",
       "    }\n",
       "</style>\n",
       "<table border=\"1\" class=\"dataframe\">\n",
       "  <thead>\n",
       "    <tr style=\"text-align: right;\">\n",
       "      <th></th>\n",
       "      <th>produto_educacao</th>\n",
       "      <th>carga_horaria</th>\n",
       "      <th>turno</th>\n",
       "      <th>gratuidade_turma</th>\n",
       "      <th>tipo</th>\n",
       "      <th>online</th>\n",
       "      <th>bairro</th>\n",
       "      <th>cidade</th>\n",
       "      <th>genero</th>\n",
       "      <th>escolaridade</th>\n",
       "      <th>situacao_ocupacional</th>\n",
       "      <th>situacao_matricula</th>\n",
       "      <th>IDADE</th>\n",
       "      <th>empresa</th>\n",
       "    </tr>\n",
       "  </thead>\n",
       "  <tbody>\n",
       "    <tr>\n",
       "      <th>0</th>\n",
       "      <td>AUTOMACAO</td>\n",
       "      <td>1200</td>\n",
       "      <td>Tarde</td>\n",
       "      <td>Mista</td>\n",
       "      <td>PF</td>\n",
       "      <td>Nao</td>\n",
       "      <td>Aventureiro</td>\n",
       "      <td>Joinville</td>\n",
       "      <td>M</td>\n",
       "      <td>Medio_C</td>\n",
       "      <td>Empregado</td>\n",
       "      <td>Concluinte</td>\n",
       "      <td>21</td>\n",
       "      <td>Schulz</td>\n",
       "    </tr>\n",
       "    <tr>\n",
       "      <th>1</th>\n",
       "      <td>FABRICACAO</td>\n",
       "      <td>1600</td>\n",
       "      <td>Noite</td>\n",
       "      <td>Mista</td>\n",
       "      <td>PF</td>\n",
       "      <td>Nao</td>\n",
       "      <td>Jardim_Paraiso</td>\n",
       "      <td>Joinville</td>\n",
       "      <td>M</td>\n",
       "      <td>Medio_C</td>\n",
       "      <td>Empregado</td>\n",
       "      <td>Concluinte</td>\n",
       "      <td>18</td>\n",
       "      <td>N_D</td>\n",
       "    </tr>\n",
       "    <tr>\n",
       "      <th>2</th>\n",
       "      <td>LOGISTICA</td>\n",
       "      <td>1300</td>\n",
       "      <td>Noite</td>\n",
       "      <td>Mista</td>\n",
       "      <td>PF</td>\n",
       "      <td>Nao</td>\n",
       "      <td>ForaJoinville</td>\n",
       "      <td>SaoFrancisco_Sul</td>\n",
       "      <td>M</td>\n",
       "      <td>Medio_C</td>\n",
       "      <td>Empregado</td>\n",
       "      <td>Concluinte</td>\n",
       "      <td>18</td>\n",
       "      <td>SENAI/SC</td>\n",
       "    </tr>\n",
       "    <tr>\n",
       "      <th>3</th>\n",
       "      <td>AUTOMACAO</td>\n",
       "      <td>1600</td>\n",
       "      <td>Tarde</td>\n",
       "      <td>Mista</td>\n",
       "      <td>PF</td>\n",
       "      <td>Nao</td>\n",
       "      <td>Aventureiro</td>\n",
       "      <td>Joinville</td>\n",
       "      <td>M</td>\n",
       "      <td>Medio_C</td>\n",
       "      <td>Desempregado</td>\n",
       "      <td>Concluinte</td>\n",
       "      <td>16</td>\n",
       "      <td>N_D</td>\n",
       "    </tr>\n",
       "    <tr>\n",
       "      <th>4</th>\n",
       "      <td>MECANICA</td>\n",
       "      <td>1620</td>\n",
       "      <td>Tarde</td>\n",
       "      <td>Mista</td>\n",
       "      <td>PF</td>\n",
       "      <td>Nao</td>\n",
       "      <td>Ulysses_Guimaraes</td>\n",
       "      <td>Joinville</td>\n",
       "      <td>M</td>\n",
       "      <td>Medio_C</td>\n",
       "      <td>Empregado</td>\n",
       "      <td>Concluinte</td>\n",
       "      <td>17</td>\n",
       "      <td>Schulz</td>\n",
       "    </tr>\n",
       "    <tr>\n",
       "      <th>...</th>\n",
       "      <td>...</td>\n",
       "      <td>...</td>\n",
       "      <td>...</td>\n",
       "      <td>...</td>\n",
       "      <td>...</td>\n",
       "      <td>...</td>\n",
       "      <td>...</td>\n",
       "      <td>...</td>\n",
       "      <td>...</td>\n",
       "      <td>...</td>\n",
       "      <td>...</td>\n",
       "      <td>...</td>\n",
       "      <td>...</td>\n",
       "      <td>...</td>\n",
       "    </tr>\n",
       "    <tr>\n",
       "      <th>750</th>\n",
       "      <td>MECATRONICA</td>\n",
       "      <td>1200</td>\n",
       "      <td>Noite</td>\n",
       "      <td>Mista</td>\n",
       "      <td>PF</td>\n",
       "      <td>Sim</td>\n",
       "      <td>ForaJoinville</td>\n",
       "      <td>Araquari</td>\n",
       "      <td>M</td>\n",
       "      <td>Medio_C</td>\n",
       "      <td>Empregado</td>\n",
       "      <td>Concluinte</td>\n",
       "      <td>19</td>\n",
       "      <td>N_D</td>\n",
       "    </tr>\n",
       "    <tr>\n",
       "      <th>751</th>\n",
       "      <td>METALURGIA</td>\n",
       "      <td>1320</td>\n",
       "      <td>Manha</td>\n",
       "      <td>Pago_PJ</td>\n",
       "      <td>PF</td>\n",
       "      <td>Nao</td>\n",
       "      <td>Espinheiros</td>\n",
       "      <td>Joinville</td>\n",
       "      <td>M</td>\n",
       "      <td>Medio_C</td>\n",
       "      <td>Empregado</td>\n",
       "      <td>Concluinte</td>\n",
       "      <td>32</td>\n",
       "      <td>TUPY</td>\n",
       "    </tr>\n",
       "    <tr>\n",
       "      <th>752</th>\n",
       "      <td>METALURGIA</td>\n",
       "      <td>1320</td>\n",
       "      <td>Tarde</td>\n",
       "      <td>Regimental</td>\n",
       "      <td>PF</td>\n",
       "      <td>Nao</td>\n",
       "      <td>Santa_Catarina</td>\n",
       "      <td>Joinville</td>\n",
       "      <td>M</td>\n",
       "      <td>Medio_C</td>\n",
       "      <td>Empregado</td>\n",
       "      <td>Concluinte</td>\n",
       "      <td>24</td>\n",
       "      <td>TUPY</td>\n",
       "    </tr>\n",
       "    <tr>\n",
       "      <th>753</th>\n",
       "      <td>METALURGIA</td>\n",
       "      <td>1320</td>\n",
       "      <td>Tarde</td>\n",
       "      <td>Regimental</td>\n",
       "      <td>PF</td>\n",
       "      <td>Nao</td>\n",
       "      <td>Paranaguamirim</td>\n",
       "      <td>Joinville</td>\n",
       "      <td>M</td>\n",
       "      <td>Medio_C</td>\n",
       "      <td>Empregado</td>\n",
       "      <td>Concluinte</td>\n",
       "      <td>29</td>\n",
       "      <td>TUPY</td>\n",
       "    </tr>\n",
       "    <tr>\n",
       "      <th>754</th>\n",
       "      <td>INTERNET</td>\n",
       "      <td>1000</td>\n",
       "      <td>Tarde</td>\n",
       "      <td>Pago_PF</td>\n",
       "      <td>PF</td>\n",
       "      <td>Nao</td>\n",
       "      <td>Boehmerwald</td>\n",
       "      <td>Joinville</td>\n",
       "      <td>M</td>\n",
       "      <td>Medio_C</td>\n",
       "      <td>Desempregado</td>\n",
       "      <td>Concluinte</td>\n",
       "      <td>17</td>\n",
       "      <td>N_D</td>\n",
       "    </tr>\n",
       "  </tbody>\n",
       "</table>\n",
       "<p>755 rows × 14 columns</p>\n",
       "</div>"
      ],
      "text/plain": [
       "    produto_educacao carga_horaria  turno gratuidade_turma tipo online  \\\n",
       "0          AUTOMACAO          1200  Tarde            Mista   PF    Nao   \n",
       "1         FABRICACAO          1600  Noite            Mista   PF    Nao   \n",
       "2          LOGISTICA          1300  Noite            Mista   PF    Nao   \n",
       "3          AUTOMACAO          1600  Tarde            Mista   PF    Nao   \n",
       "4           MECANICA          1620  Tarde            Mista   PF    Nao   \n",
       "..               ...           ...    ...              ...  ...    ...   \n",
       "750      MECATRONICA          1200  Noite            Mista   PF    Sim   \n",
       "751       METALURGIA          1320  Manha          Pago_PJ   PF    Nao   \n",
       "752       METALURGIA          1320  Tarde       Regimental   PF    Nao   \n",
       "753       METALURGIA          1320  Tarde       Regimental   PF    Nao   \n",
       "754         INTERNET          1000  Tarde          Pago_PF   PF    Nao   \n",
       "\n",
       "                bairro            cidade genero escolaridade  \\\n",
       "0          Aventureiro         Joinville      M      Medio_C   \n",
       "1       Jardim_Paraiso         Joinville      M      Medio_C   \n",
       "2        ForaJoinville  SaoFrancisco_Sul      M      Medio_C   \n",
       "3          Aventureiro         Joinville      M      Medio_C   \n",
       "4    Ulysses_Guimaraes         Joinville      M      Medio_C   \n",
       "..                 ...               ...    ...          ...   \n",
       "750      ForaJoinville          Araquari      M      Medio_C   \n",
       "751        Espinheiros         Joinville      M      Medio_C   \n",
       "752     Santa_Catarina         Joinville      M      Medio_C   \n",
       "753     Paranaguamirim         Joinville      M      Medio_C   \n",
       "754        Boehmerwald         Joinville      M      Medio_C   \n",
       "\n",
       "    situacao_ocupacional situacao_matricula  IDADE   empresa  \n",
       "0              Empregado         Concluinte     21    Schulz  \n",
       "1              Empregado         Concluinte     18       N_D  \n",
       "2              Empregado         Concluinte     18  SENAI/SC  \n",
       "3           Desempregado         Concluinte     16       N_D  \n",
       "4              Empregado         Concluinte     17    Schulz  \n",
       "..                   ...                ...    ...       ...  \n",
       "750            Empregado         Concluinte     19       N_D  \n",
       "751            Empregado         Concluinte     32      TUPY  \n",
       "752            Empregado         Concluinte     24      TUPY  \n",
       "753            Empregado         Concluinte     29      TUPY  \n",
       "754         Desempregado         Concluinte     17       N_D  \n",
       "\n",
       "[755 rows x 14 columns]"
      ]
     },
     "execution_count": 62,
     "metadata": {},
     "output_type": "execute_result"
    }
   ],
   "source": [
    "EmpresasDF"
   ]
  },
  {
   "cell_type": "code",
   "execution_count": 63,
   "metadata": {},
   "outputs": [
    {
     "name": "stdout",
     "output_type": "stream",
     "text": [
      "N_D 164.1891891891892\n",
      "TUPY 20.60810810810811\n",
      "TAF 9.121621621621621\n",
      "DOHLER 5.405405405405405\n",
      "Embraco 4.391891891891892\n",
      "KRONA 3.0405405405405403\n",
      "Tigre 2.7027027027027026\n",
      "CRISTAL 2.364864864864865\n",
      "Schulz 2.364864864864865\n",
      "Whirlpool 2.027027027027027\n",
      "DOCOL 2.027027027027027\n",
      "PLASBOHN 1.6891891891891893\n",
      "UNIPLAST 1.3513513513513513\n",
      "Comfio 1.3513513513513513\n",
      "Britânia 1.3513513513513513\n",
      "SULBRAS 1.3513513513513513\n",
      "DURIN 1.3513513513513513\n",
      "Garuva 1.0135135135135136\n",
      "COMPONENT_EQUIPAMENTOS 1.0135135135135136\n",
      "SEW-EURODRIVE 1.0135135135135136\n",
      "ILPEA 0.6756756756756757\n",
      "Wetzel 0.6756756756756757\n",
      "PONTEIRAS 0.6756756756756757\n",
      "LINKPLAS 0.6756756756756757\n",
      "ERZINGER 0.6756756756756757\n",
      "INCASA 0.6756756756756757\n",
      "MALHARIA 0.6756756756756757\n",
      "CCP 0.6756756756756757\n",
      "MILIUM 0.6756756756756757\n",
      "Ciser 0.33783783783783783\n",
      "BOREAL 0.33783783783783783\n",
      "EMBALE 0.33783783783783783\n",
      "Cr 0.33783783783783783\n",
      "LUNELLI 0.33783783783783783\n",
      "IBT 0.33783783783783783\n",
      "BK 0.33783783783783783\n",
      "KONARDI 0.33783783783783783\n",
      "Coltex 0.33783783783783783\n",
      "3JM 0.33783783783783783\n",
      "LEAR 0.33783783783783783\n",
      "SENAI/SC 0.33783783783783783\n",
      "SINTEX 0.33783783783783783\n",
      "CARIBOR 0.33783783783783783\n",
      "AUTO_ELETRICA_COLZANI 0.33783783783783783\n",
      "SCHERER 0.33783783783783783\n",
      "BENTELER 0.33783783783783783\n",
      "AutoMecânica_Nicoluzzi 0.33783783783783783\n",
      "Mecanica 0.33783783783783783\n",
      "LUZVILLE 0.33783783783783783\n",
      "ITAYA 0.33783783783783783\n",
      "Manfer 0.33783783783783783\n",
      "ELKEM 0.33783783783783783\n",
      "ROGGA 0.33783783783783783\n",
      "ESTRIBO 0.33783783783783783\n",
      "VIQUA 0.33783783783783783\n",
      "INPLAVEL 0.33783783783783783\n",
      "SCHULZE 0.33783783783783783\n",
      "TOTVS 0.33783783783783783\n",
      "NYCOLPLAST 0.33783783783783783\n",
      "SACARBI 0.33783783783783783\n",
      "TORQUATO 0.33783783783783783\n",
      "GABIVEL 0.33783783783783783\n",
      "Plastibras 0.33783783783783783\n",
      "Cadorin 0.33783783783783783\n",
      "TUV 0.33783783783783783\n",
      "GOMES 0.33783783783783783\n",
      "COSMA 0.33783783783783783\n",
      "FREMAX 0.33783783783783783\n",
      "BATALHAO 0.33783783783783783\n",
      "WEG 0.33783783783783783\n",
      "Copper 0.33783783783783783\n",
      "ANDRESA 0.33783783783783783\n",
      "Franklin 0.33783783783783783\n",
      "Kit's 0.33783783783783783\n",
      "TOTAL 0.33783783783783783\n",
      "TRAPP 0.33783783783783783\n",
      "BMW 0.33783783783783783\n",
      "PARANA 0.33783783783783783\n",
      "PAVILOCHE 0.33783783783783783\n",
      "VAN_MAR 0.33783783783783783\n",
      "FORTLEV 0.33783783783783783\n",
      "AB_PLAST 0.33783783783783783\n",
      "AB 0.33783783783783783\n",
      "TECELAGEM 0.33783783783783783\n",
      "SOLO 0.33783783783783783\n",
      "LEAS 0.33783783783783783\n"
     ]
    }
   ],
   "source": [
    "# Cálculos\n",
    "valores = EmpresasDF[\"empresa\"].value_counts()\n",
    "for i in range(0,len(valores)):\n",
    "    p = (valores[i]*100)/296\n",
    "    print(valores.index[i], p)"
   ]
  },
  {
   "cell_type": "markdown",
   "metadata": {},
   "source": [
    "## Dos registros declarados das empresas\n",
    "### Tupy: 20,60%\n",
    "### TAF: 9,12%\n",
    "### Dohler: 5,40%\n",
    "### Embraco: 4,39%\n",
    "### KRONA: 3,04%"
   ]
  },
  {
   "cell_type": "code",
   "execution_count": 64,
   "metadata": {},
   "outputs": [],
   "source": [
    "# Fazer um gráfico apenas com as 5 empresas com mais registros.\n",
    "# Extração dos registros de estudantes que estão cursando\n",
    "tupy = EmpresasDF[(EmpresasDF[\"empresa\"] == \"TUPY\")]\n",
    "taf = EmpresasDF[(EmpresasDF[\"empresa\"] == \"TAF\")]\n",
    "dohler = EmpresasDF[(EmpresasDF[\"empresa\"] == \"DOHLER\")]\n",
    "embraco = EmpresasDF[(EmpresasDF[\"empresa\"] == \"Embraco\")]\n",
    "krona = EmpresasDF[(EmpresasDF[\"empresa\"] == \"KRONA\")]\n",
    "\n",
    "grupoEmpresas = [tupy,taf, dohler, embraco, krona]\n",
    "Empresas = pd.concat(grupoEmpresas)"
   ]
  },
  {
   "cell_type": "code",
   "execution_count": 65,
   "metadata": {},
   "outputs": [
    {
     "data": {
      "image/png": "[encoded data removed]",
      "text/plain": [
       "<Figure size 720x576 with 1 Axes>"
      ]
     },
     "metadata": {},
     "output_type": "display_data"
    }
   ],
   "source": [
    "# Agora fazer um gráfico com as empresas:\n",
    "plt.figure(figsize=(10, 8))\n",
    "grafEmpresas = sns.countplot(x = Empresas['empresa'], palette=\"deep\")\n",
    "grafEmpresas.set_xticklabels(grafEmpresas.get_xticklabels(), rotation=30, ha=\"right\")\n",
    "plt.tight_layout()\n",
    "plt.savefig(\"empresa.png\")\n",
    "plt.show()\n"
   ]
  },
  {
   "cell_type": "code",
   "execution_count": 66,
   "metadata": {},
   "outputs": [
    {
     "data": {
      "text/plain": [
       "Index(['produto_educacao', 'carga_horaria', 'turno', 'gratuidade_turma',\n",
       "       'tipo', 'online', 'bairro', 'cidade', 'genero', 'escolaridade',\n",
       "       'situacao_ocupacional', 'situacao_matricula', 'IDADE', 'empresa'],\n",
       "      dtype='object')"
      ]
     },
     "execution_count": 66,
     "metadata": {},
     "output_type": "execute_result"
    }
   ],
   "source": [
    "alunosFinal.columns"
   ]
  },
  {
   "cell_type": "code",
   "execution_count": 67,
   "metadata": {},
   "outputs": [],
   "source": [
    "# Correção do tipo de desconto\n",
    "for i in range(0,len(alunosFinal[\"tipo\"])):\n",
    "    if alunosFinal.iloc[i,10] == \"Trabalhador Indústria\":\n",
    "        alunosFinal.iloc[i,10] = \"Trabalhador da Indústria\""
   ]
  },
  {
   "cell_type": "code",
   "execution_count": 68,
   "metadata": {},
   "outputs": [
    {
     "data": {
      "text/plain": [
       "count    755.000000\n",
       "mean      23.184106\n",
       "std        7.754472\n",
       "min       15.000000\n",
       "25%       17.000000\n",
       "50%       20.000000\n",
       "75%       28.000000\n",
       "max       54.000000\n",
       "Name: IDADE, dtype: float64"
      ]
     },
     "execution_count": 68,
     "metadata": {},
     "output_type": "execute_result"
    }
   ],
   "source": [
    "alunosFinal[\"IDADE\"].describe()"
   ]
  },
  {
   "cell_type": "code",
   "execution_count": 69,
   "metadata": {},
   "outputs": [
    {
     "data": {
      "text/plain": [
       "0    17\n",
       "dtype: int64"
      ]
     },
     "execution_count": 69,
     "metadata": {},
     "output_type": "execute_result"
    }
   ],
   "source": [
    "alunosFinal[\"IDADE\"].mode()"
   ]
  },
  {
   "cell_type": "markdown",
   "metadata": {},
   "source": [
    "### Pode-se ver que a média de idade dos estudantes que se formaram  fica em torno de 22,45 anos.\n",
    "### E 75% dos estudantes formados tem menos do que 26 anos."
   ]
  },
  {
   "cell_type": "code",
   "execution_count": 70,
   "metadata": {},
   "outputs": [
    {
     "data": {
      "text/plain": [
       "<AxesSubplot:>"
      ]
     },
     "execution_count": 70,
     "metadata": {},
     "output_type": "execute_result"
    },
    {
     "data": {
      "image/png": "[encoded data removed]",
      "text/plain": [
       "<Figure size 432x288 with 1 Axes>"
      ]
     },
     "metadata": {},
     "output_type": "display_data"
    }
   ],
   "source": [
    "alunosFinal[\"IDADE\"].hist()"
   ]
  },
  {
   "cell_type": "code",
   "execution_count": 71,
   "metadata": {},
   "outputs": [
    {
     "data": {
      "image/png": "[encoded data removed]",
      "text/plain": [
       "<Figure size 720x576 with 1 Axes>"
      ]
     },
     "metadata": {},
     "output_type": "display_data"
    }
   ],
   "source": [
    "# Agora fazer um gráfico com as idades:\n",
    "plt.figure(figsize=(10, 8))\n",
    "sns.histplot(data=alunosFinal, x=\"IDADE\")\n",
    "plt.savefig(\"idade.png\")"
   ]
  },
  {
   "cell_type": "code",
   "execution_count": null,
   "metadata": {},
   "outputs": [],
   "source": []
  }
 ],
 "metadata": {
  "kernelspec": {
   "display_name": "Python 3 (ipykernel)",
   "language": "python",
   "name": "python3"
  },
  "language_info": {
   "codemirror_mode": {
    "name": "ipython",
    "version": 3
   },
   "file_extension": ".py",
   "mimetype": "text/x-python",
   "name": "python",
   "nbconvert_exporter": "python",
   "pygments_lexer": "ipython3",
   "version": "3.7.3"
  }
 },
 "nbformat": 4,
 "nbformat_minor": 4
}
